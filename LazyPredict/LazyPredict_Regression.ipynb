{
 "cells": [
  {
   "cell_type": "markdown",
   "metadata": {},
   "source": [
    "# Lazy Predict for regression"
   ]
  },
  {
   "cell_type": "code",
   "execution_count": 4,
   "metadata": {},
   "outputs": [
    {
     "name": "stdout",
     "output_type": "stream",
     "text": [
      "\u001b[33mWARNING: The directory '/home/jovyan/.cache/pip' or its parent directory is not owned or is not writable by the current user. The cache has been disabled. Check the permissions and owner of that directory. If executing pip with sudo, you should use sudo's -H flag.\u001b[0m\u001b[33m\n",
      "\u001b[0mCollecting lazypredict\n",
      "  Downloading lazypredict-0.2.13-py2.py3-none-any.whl (12 kB)\n",
      "Collecting xgboost\n",
      "  Downloading xgboost-2.1.2-py3-none-manylinux_2_28_x86_64.whl (153.9 MB)\n",
      "\u001b[2K     \u001b[90m━━━━━━━━━━━━━━━━━━━━━━━━━━━━━━━━━━━━━━\u001b[0m \u001b[32m153.9/153.9 MB\u001b[0m \u001b[31m11.3 MB/s\u001b[0m eta \u001b[36m0:00:00\u001b[0m00:01\u001b[0m00:01\u001b[0m\n",
      "\u001b[?25hCollecting lightgbm\n",
      "  Downloading lightgbm-4.5.0-py3-none-manylinux_2_28_x86_64.whl (3.6 MB)\n",
      "\u001b[2K     \u001b[90m━━━━━━━━━━━━━━━━━━━━━━━━━━━━━━━━━━━━━━━━\u001b[0m \u001b[32m3.6/3.6 MB\u001b[0m \u001b[31m10.2 MB/s\u001b[0m eta \u001b[36m0:00:00\u001b[0ma \u001b[36m0:00:01\u001b[0m\n",
      "\u001b[?25hRequirement already satisfied: joblib in /opt/conda/lib/python3.10/site-packages (from lazypredict) (1.1.0)\n",
      "Requirement already satisfied: scikit-learn in /opt/conda/lib/python3.10/site-packages (from lazypredict) (1.1.2)\n",
      "Requirement already satisfied: pandas in /opt/conda/lib/python3.10/site-packages (from lazypredict) (1.4.4)\n",
      "Requirement already satisfied: tqdm in /opt/conda/lib/python3.10/site-packages (from lazypredict) (4.64.1)\n",
      "Requirement already satisfied: click in /opt/conda/lib/python3.10/site-packages (from lazypredict) (8.1.3)\n",
      "Requirement already satisfied: scipy in /opt/conda/lib/python3.10/site-packages (from lightgbm->lazypredict) (1.9.1)\n",
      "Requirement already satisfied: numpy>=1.17.0 in /opt/conda/lib/python3.10/site-packages (from lightgbm->lazypredict) (1.22.4)\n",
      "Requirement already satisfied: python-dateutil>=2.8.1 in /opt/conda/lib/python3.10/site-packages (from pandas->lazypredict) (2.8.2)\n",
      "Requirement already satisfied: pytz>=2020.1 in /opt/conda/lib/python3.10/site-packages (from pandas->lazypredict) (2022.2.1)\n",
      "Requirement already satisfied: threadpoolctl>=2.0.0 in /opt/conda/lib/python3.10/site-packages (from scikit-learn->lazypredict) (3.1.0)\n",
      "Requirement already satisfied: nvidia-nccl-cu12 in /opt/conda/lib/python3.10/site-packages (from xgboost->lazypredict) (2.18.1)\n",
      "Requirement already satisfied: six>=1.5 in /opt/conda/lib/python3.10/site-packages (from python-dateutil>=2.8.1->pandas->lazypredict) (1.16.0)\n",
      "Installing collected packages: xgboost, lightgbm, lazypredict\n",
      "Successfully installed lazypredict-0.2.13 lightgbm-4.5.0 xgboost-2.1.2\n",
      "\u001b[33mWARNING: Running pip as the 'root' user can result in broken permissions and conflicting behaviour with the system package manager. It is recommended to use a virtual environment instead: https://pip.pypa.io/warnings/venv\u001b[0m\u001b[33m\n",
      "\u001b[0m"
     ]
    }
   ],
   "source": [
    "#!pip install lazypredict"
   ]
  },
  {
   "cell_type": "code",
   "execution_count": 1,
   "metadata": {},
   "outputs": [
    {
     "name": "stderr",
     "output_type": "stream",
     "text": [
      "2024-11-10 17:47:47.133001: I tensorflow/core/util/util.cc:169] oneDNN custom operations are on. You may see slightly different numerical results due to floating-point round-off errors from different computation orders. To turn them off, set the environment variable `TF_ENABLE_ONEDNN_OPTS=0`.\n",
      "/opt/conda/lib/python3.10/site-packages/pandas/core/computation/expressions.py:21: UserWarning: Pandas requires version '2.8.4' or newer of 'numexpr' (version '2.8.3' currently installed).\n",
      "  from pandas.core.computation.check import NUMEXPR_INSTALLED\n",
      "/opt/conda/lib/python3.10/site-packages/pandas/core/arrays/masked.py:60: UserWarning: Pandas requires version '1.3.6' or newer of 'bottleneck' (version '1.3.5' currently installed).\n",
      "  from pandas.core import (\n"
     ]
    }
   ],
   "source": [
    "# Imports\n",
    "import tensorflow as tf\n",
    "import os\n",
    "import pandas as pd\n",
    "from sklearn.model_selection import train_test_split\n",
    "from lazypredict.Supervised import LazyRegressor\n",
    "import numpy as np\n",
    "import lazypredict\n",
    "import matplotlib.pyplot as plt\n",
    "import seaborn as sns\n",
    "import random\n",
    "\n",
    "#from sklearn.metrics import accuracy_score, balanced_accuracy_score, roc_auc_score, f1_score"
   ]
  },
  {
   "cell_type": "markdown",
   "metadata": {},
   "source": [
    "## Set random seed for reproducibility"
   ]
  },
  {
   "cell_type": "code",
   "execution_count": 2,
   "metadata": {},
   "outputs": [],
   "source": [
    "SEED = 64\n",
    "\n",
    "#torch.backends.cudnn.deterministic = True\n",
    "#torch.backends.cudnn.benchmark = False\n",
    "os.environ['PYTHONHASHSEED']=str(SEED)\n",
    "random.seed(SEED)\n",
    "np.random.seed(SEED)\n",
    "tf.random.set_seed(SEED)"
   ]
  },
  {
   "cell_type": "markdown",
   "metadata": {},
   "source": [
    "## Data Loading"
   ]
  },
  {
   "cell_type": "code",
   "execution_count": 3,
   "metadata": {},
   "outputs": [],
   "source": [
    "# Only modify this\n",
    "file_name = \"DIS_lab_LoS_8\""
   ]
  },
  {
   "cell_type": "code",
   "execution_count": 4,
   "metadata": {},
   "outputs": [],
   "source": [
    "df = pd.read_csv(f'../Datasets_benchmark/Regression/{file_name}.csv')"
   ]
  },
  {
   "cell_type": "code",
   "execution_count": 5,
   "metadata": {},
   "outputs": [
    {
     "data": {
      "text/plain": [
       "(252004, 1602)"
      ]
     },
     "execution_count": 5,
     "metadata": {},
     "output_type": "execute_result"
    }
   ],
   "source": [
    "df.shape"
   ]
  },
  {
   "cell_type": "code",
   "execution_count": 6,
   "metadata": {},
   "outputs": [
    {
     "name": "stdout",
     "output_type": "stream",
     "text": [
      "   Antenna1Subcarrier1Module  Antenna1Subcarrier1Angle  \\\n",
      "0                       0.28                      3.14   \n",
      "1                       0.31                      2.97   \n",
      "2                       0.32                      2.75   \n",
      "3                       0.34                      2.54   \n",
      "4                       0.35                      2.49   \n",
      "\n",
      "   Antenna1Subcarrier2Module  Antenna1Subcarrier2Angle  \\\n",
      "0                       0.27                      3.02   \n",
      "1                       0.31                      2.83   \n",
      "2                       0.32                      2.71   \n",
      "3                       0.33                      2.55   \n",
      "4                       0.34                      2.47   \n",
      "\n",
      "   Antenna1Subcarrier3Module  Antenna1Subcarrier3Angle  \\\n",
      "0                       0.27                      3.05   \n",
      "1                       0.30                      2.91   \n",
      "2                       0.33                      2.72   \n",
      "3                       0.36                      2.55   \n",
      "4                       0.36                      2.40   \n",
      "\n",
      "   Antenna1Subcarrier4Module  Antenna1Subcarrier4Angle  \\\n",
      "0                       0.28                      3.00   \n",
      "1                       0.34                      2.78   \n",
      "2                       0.35                      2.67   \n",
      "3                       0.37                      2.47   \n",
      "4                       0.37                      2.38   \n",
      "\n",
      "   Antenna1Subcarrier5Module  Antenna1Subcarrier5Angle  ...  \\\n",
      "0                       0.28                      2.99  ...   \n",
      "1                       0.31                      2.74  ...   \n",
      "2                       0.33                      2.63  ...   \n",
      "3                       0.35                      2.44  ...   \n",
      "4                       0.37                      2.32  ...   \n",
      "\n",
      "   Antenna8Subcarrier97Module  Antenna8Subcarrier97Angle  \\\n",
      "0                        0.27                       0.69   \n",
      "1                        0.28                       0.71   \n",
      "2                        0.35                       0.71   \n",
      "3                        0.38                       0.66   \n",
      "4                        0.45                       0.68   \n",
      "\n",
      "   Antenna8Subcarrier98Module  Antenna8Subcarrier98Angle  \\\n",
      "0                        0.27                       0.64   \n",
      "1                        0.30                       0.68   \n",
      "2                        0.34                       0.67   \n",
      "3                        0.38                       0.66   \n",
      "4                        0.41                       0.67   \n",
      "\n",
      "   Antenna8Subcarrier99Module  Antenna8Subcarrier99Angle  \\\n",
      "0                        0.29                       0.68   \n",
      "1                        0.29                       0.70   \n",
      "2                        0.37                       0.70   \n",
      "3                        0.41                       0.73   \n",
      "4                        0.46                       0.70   \n",
      "\n",
      "   Antenna8Subcarrier100Module  Antenna8Subcarrier100Angle  PositionX  \\\n",
      "0                         0.28                        0.67      -1437   \n",
      "1                         0.29                        0.73      -1437   \n",
      "2                         0.35                        0.71      -1437   \n",
      "3                         0.38                        0.68      -1437   \n",
      "4                         0.43                        0.71      -1437   \n",
      "\n",
      "   PositionY  \n",
      "0       1155  \n",
      "1       1160  \n",
      "2       1165  \n",
      "3       1170  \n",
      "4       1175  \n",
      "\n",
      "[5 rows x 1602 columns]\n",
      "<class 'pandas.core.frame.DataFrame'>\n",
      "RangeIndex: 252004 entries, 0 to 252003\n",
      "Columns: 1602 entries, Antenna1Subcarrier1Module to PositionY\n",
      "dtypes: float64(1600), int64(2)\n",
      "memory usage: 3.0 GB\n",
      "None\n",
      "Number of rows: 252004\n",
      "Number of columns: 1602\n"
     ]
    }
   ],
   "source": [
    "# Display the first few rows of the dataframe\n",
    "print(df.head())\n",
    "\n",
    "# Display the dataframe's information (column types, non-null values, etc.)\n",
    "print(df.info())\n",
    "\n",
    "# Get the number of rows and columns\n",
    "print(\"Number of rows:\", df.shape[0])\n",
    "print(\"Number of columns:\", df.shape[1])"
   ]
  },
  {
   "cell_type": "code",
   "execution_count": null,
   "metadata": {},
   "outputs": [],
   "source": [
    "# Summary statistics for numerical columns\n",
    "print(df.describe())\n",
    "\n",
    "# For categorical columns if any\n",
    "#print(df.describe(include='object'))"
   ]
  },
  {
   "cell_type": "code",
   "execution_count": null,
   "metadata": {},
   "outputs": [],
   "source": [
    "# Check for missing values\n",
    "print(df.isnull().sum())"
   ]
  },
  {
   "cell_type": "code",
   "execution_count": null,
   "metadata": {},
   "outputs": [],
   "source": [
    "# Histograms for numerical data\n",
    "df.hist(bins=15, figsize=(15, 10))\n",
    "plt.tight_layout()  # Adjusts subplot params so that subplots are nicely fit in the figure.\n",
    "plt.show()"
   ]
  },
  {
   "cell_type": "markdown",
   "metadata": {},
   "source": [
    "## Data Preprocessing"
   ]
  },
  {
   "cell_type": "code",
   "execution_count": 7,
   "metadata": {},
   "outputs": [
    {
     "data": {
      "text/html": [
       "<div>\n",
       "<style scoped>\n",
       "    .dataframe tbody tr th:only-of-type {\n",
       "        vertical-align: middle;\n",
       "    }\n",
       "\n",
       "    .dataframe tbody tr th {\n",
       "        vertical-align: top;\n",
       "    }\n",
       "\n",
       "    .dataframe thead th {\n",
       "        text-align: right;\n",
       "    }\n",
       "</style>\n",
       "<table border=\"1\" class=\"dataframe\">\n",
       "  <thead>\n",
       "    <tr style=\"text-align: right;\">\n",
       "      <th></th>\n",
       "      <th>Antenna1Subcarrier1Module</th>\n",
       "      <th>Antenna1Subcarrier1Angle</th>\n",
       "      <th>Antenna1Subcarrier2Module</th>\n",
       "      <th>Antenna1Subcarrier2Angle</th>\n",
       "      <th>Antenna1Subcarrier3Module</th>\n",
       "      <th>Antenna1Subcarrier3Angle</th>\n",
       "      <th>Antenna1Subcarrier4Module</th>\n",
       "      <th>Antenna1Subcarrier4Angle</th>\n",
       "      <th>Antenna1Subcarrier5Module</th>\n",
       "      <th>Antenna1Subcarrier5Angle</th>\n",
       "      <th>...</th>\n",
       "      <th>Antenna8Subcarrier96Module</th>\n",
       "      <th>Antenna8Subcarrier96Angle</th>\n",
       "      <th>Antenna8Subcarrier97Module</th>\n",
       "      <th>Antenna8Subcarrier97Angle</th>\n",
       "      <th>Antenna8Subcarrier98Module</th>\n",
       "      <th>Antenna8Subcarrier98Angle</th>\n",
       "      <th>Antenna8Subcarrier99Module</th>\n",
       "      <th>Antenna8Subcarrier99Angle</th>\n",
       "      <th>Antenna8Subcarrier100Module</th>\n",
       "      <th>Antenna8Subcarrier100Angle</th>\n",
       "    </tr>\n",
       "  </thead>\n",
       "  <tbody>\n",
       "    <tr>\n",
       "      <th>0</th>\n",
       "      <td>0.28</td>\n",
       "      <td>3.14</td>\n",
       "      <td>0.27</td>\n",
       "      <td>3.02</td>\n",
       "      <td>0.27</td>\n",
       "      <td>3.05</td>\n",
       "      <td>0.28</td>\n",
       "      <td>3.00</td>\n",
       "      <td>0.28</td>\n",
       "      <td>2.99</td>\n",
       "      <td>...</td>\n",
       "      <td>0.27</td>\n",
       "      <td>0.56</td>\n",
       "      <td>0.27</td>\n",
       "      <td>0.69</td>\n",
       "      <td>0.27</td>\n",
       "      <td>0.64</td>\n",
       "      <td>0.29</td>\n",
       "      <td>0.68</td>\n",
       "      <td>0.28</td>\n",
       "      <td>0.67</td>\n",
       "    </tr>\n",
       "    <tr>\n",
       "      <th>1</th>\n",
       "      <td>0.31</td>\n",
       "      <td>2.97</td>\n",
       "      <td>0.31</td>\n",
       "      <td>2.83</td>\n",
       "      <td>0.30</td>\n",
       "      <td>2.91</td>\n",
       "      <td>0.34</td>\n",
       "      <td>2.78</td>\n",
       "      <td>0.31</td>\n",
       "      <td>2.74</td>\n",
       "      <td>...</td>\n",
       "      <td>0.30</td>\n",
       "      <td>0.57</td>\n",
       "      <td>0.28</td>\n",
       "      <td>0.71</td>\n",
       "      <td>0.30</td>\n",
       "      <td>0.68</td>\n",
       "      <td>0.29</td>\n",
       "      <td>0.70</td>\n",
       "      <td>0.29</td>\n",
       "      <td>0.73</td>\n",
       "    </tr>\n",
       "    <tr>\n",
       "      <th>2</th>\n",
       "      <td>0.32</td>\n",
       "      <td>2.75</td>\n",
       "      <td>0.32</td>\n",
       "      <td>2.71</td>\n",
       "      <td>0.33</td>\n",
       "      <td>2.72</td>\n",
       "      <td>0.35</td>\n",
       "      <td>2.67</td>\n",
       "      <td>0.33</td>\n",
       "      <td>2.63</td>\n",
       "      <td>...</td>\n",
       "      <td>0.35</td>\n",
       "      <td>0.56</td>\n",
       "      <td>0.35</td>\n",
       "      <td>0.71</td>\n",
       "      <td>0.34</td>\n",
       "      <td>0.67</td>\n",
       "      <td>0.37</td>\n",
       "      <td>0.70</td>\n",
       "      <td>0.35</td>\n",
       "      <td>0.71</td>\n",
       "    </tr>\n",
       "    <tr>\n",
       "      <th>3</th>\n",
       "      <td>0.34</td>\n",
       "      <td>2.54</td>\n",
       "      <td>0.33</td>\n",
       "      <td>2.55</td>\n",
       "      <td>0.36</td>\n",
       "      <td>2.55</td>\n",
       "      <td>0.37</td>\n",
       "      <td>2.47</td>\n",
       "      <td>0.35</td>\n",
       "      <td>2.44</td>\n",
       "      <td>...</td>\n",
       "      <td>0.39</td>\n",
       "      <td>0.64</td>\n",
       "      <td>0.38</td>\n",
       "      <td>0.66</td>\n",
       "      <td>0.38</td>\n",
       "      <td>0.66</td>\n",
       "      <td>0.41</td>\n",
       "      <td>0.73</td>\n",
       "      <td>0.38</td>\n",
       "      <td>0.68</td>\n",
       "    </tr>\n",
       "    <tr>\n",
       "      <th>4</th>\n",
       "      <td>0.35</td>\n",
       "      <td>2.49</td>\n",
       "      <td>0.34</td>\n",
       "      <td>2.47</td>\n",
       "      <td>0.36</td>\n",
       "      <td>2.40</td>\n",
       "      <td>0.37</td>\n",
       "      <td>2.38</td>\n",
       "      <td>0.37</td>\n",
       "      <td>2.32</td>\n",
       "      <td>...</td>\n",
       "      <td>0.42</td>\n",
       "      <td>0.65</td>\n",
       "      <td>0.45</td>\n",
       "      <td>0.68</td>\n",
       "      <td>0.41</td>\n",
       "      <td>0.67</td>\n",
       "      <td>0.46</td>\n",
       "      <td>0.70</td>\n",
       "      <td>0.43</td>\n",
       "      <td>0.71</td>\n",
       "    </tr>\n",
       "    <tr>\n",
       "      <th>...</th>\n",
       "      <td>...</td>\n",
       "      <td>...</td>\n",
       "      <td>...</td>\n",
       "      <td>...</td>\n",
       "      <td>...</td>\n",
       "      <td>...</td>\n",
       "      <td>...</td>\n",
       "      <td>...</td>\n",
       "      <td>...</td>\n",
       "      <td>...</td>\n",
       "      <td>...</td>\n",
       "      <td>...</td>\n",
       "      <td>...</td>\n",
       "      <td>...</td>\n",
       "      <td>...</td>\n",
       "      <td>...</td>\n",
       "      <td>...</td>\n",
       "      <td>...</td>\n",
       "      <td>...</td>\n",
       "      <td>...</td>\n",
       "      <td>...</td>\n",
       "    </tr>\n",
       "    <tr>\n",
       "      <th>251999</th>\n",
       "      <td>0.39</td>\n",
       "      <td>0.01</td>\n",
       "      <td>0.40</td>\n",
       "      <td>0.00</td>\n",
       "      <td>0.41</td>\n",
       "      <td>-0.06</td>\n",
       "      <td>0.42</td>\n",
       "      <td>-0.17</td>\n",
       "      <td>0.41</td>\n",
       "      <td>-0.20</td>\n",
       "      <td>...</td>\n",
       "      <td>0.55</td>\n",
       "      <td>-1.64</td>\n",
       "      <td>0.55</td>\n",
       "      <td>-1.68</td>\n",
       "      <td>0.56</td>\n",
       "      <td>-1.66</td>\n",
       "      <td>0.55</td>\n",
       "      <td>-1.62</td>\n",
       "      <td>0.55</td>\n",
       "      <td>-1.61</td>\n",
       "    </tr>\n",
       "    <tr>\n",
       "      <th>252000</th>\n",
       "      <td>0.33</td>\n",
       "      <td>-0.25</td>\n",
       "      <td>0.37</td>\n",
       "      <td>-0.21</td>\n",
       "      <td>0.39</td>\n",
       "      <td>-0.28</td>\n",
       "      <td>0.39</td>\n",
       "      <td>-0.39</td>\n",
       "      <td>0.41</td>\n",
       "      <td>-0.41</td>\n",
       "      <td>...</td>\n",
       "      <td>0.56</td>\n",
       "      <td>-1.83</td>\n",
       "      <td>0.54</td>\n",
       "      <td>-1.84</td>\n",
       "      <td>0.56</td>\n",
       "      <td>-1.88</td>\n",
       "      <td>0.56</td>\n",
       "      <td>-1.84</td>\n",
       "      <td>0.54</td>\n",
       "      <td>-1.84</td>\n",
       "    </tr>\n",
       "    <tr>\n",
       "      <th>252001</th>\n",
       "      <td>0.33</td>\n",
       "      <td>-0.45</td>\n",
       "      <td>0.35</td>\n",
       "      <td>-0.49</td>\n",
       "      <td>0.36</td>\n",
       "      <td>-0.59</td>\n",
       "      <td>0.37</td>\n",
       "      <td>-0.66</td>\n",
       "      <td>0.38</td>\n",
       "      <td>-0.66</td>\n",
       "      <td>...</td>\n",
       "      <td>0.56</td>\n",
       "      <td>-2.06</td>\n",
       "      <td>0.53</td>\n",
       "      <td>-2.10</td>\n",
       "      <td>0.56</td>\n",
       "      <td>-2.13</td>\n",
       "      <td>0.56</td>\n",
       "      <td>-2.09</td>\n",
       "      <td>0.55</td>\n",
       "      <td>-2.11</td>\n",
       "    </tr>\n",
       "    <tr>\n",
       "      <th>252002</th>\n",
       "      <td>0.32</td>\n",
       "      <td>-0.80</td>\n",
       "      <td>0.33</td>\n",
       "      <td>-0.86</td>\n",
       "      <td>0.33</td>\n",
       "      <td>-0.86</td>\n",
       "      <td>0.33</td>\n",
       "      <td>-0.98</td>\n",
       "      <td>0.35</td>\n",
       "      <td>-0.97</td>\n",
       "      <td>...</td>\n",
       "      <td>0.55</td>\n",
       "      <td>-2.36</td>\n",
       "      <td>0.54</td>\n",
       "      <td>-2.34</td>\n",
       "      <td>0.58</td>\n",
       "      <td>-2.34</td>\n",
       "      <td>0.54</td>\n",
       "      <td>-2.36</td>\n",
       "      <td>0.53</td>\n",
       "      <td>-2.36</td>\n",
       "    </tr>\n",
       "    <tr>\n",
       "      <th>252003</th>\n",
       "      <td>0.31</td>\n",
       "      <td>-1.12</td>\n",
       "      <td>0.32</td>\n",
       "      <td>-1.11</td>\n",
       "      <td>0.31</td>\n",
       "      <td>-1.17</td>\n",
       "      <td>0.35</td>\n",
       "      <td>-1.27</td>\n",
       "      <td>0.37</td>\n",
       "      <td>-1.27</td>\n",
       "      <td>...</td>\n",
       "      <td>0.54</td>\n",
       "      <td>-2.59</td>\n",
       "      <td>0.51</td>\n",
       "      <td>-2.63</td>\n",
       "      <td>0.56</td>\n",
       "      <td>-2.64</td>\n",
       "      <td>0.55</td>\n",
       "      <td>-2.59</td>\n",
       "      <td>0.53</td>\n",
       "      <td>-2.61</td>\n",
       "    </tr>\n",
       "  </tbody>\n",
       "</table>\n",
       "<p>252004 rows × 1600 columns</p>\n",
       "</div>"
      ],
      "text/plain": [
       "        Antenna1Subcarrier1Module  Antenna1Subcarrier1Angle  \\\n",
       "0                            0.28                      3.14   \n",
       "1                            0.31                      2.97   \n",
       "2                            0.32                      2.75   \n",
       "3                            0.34                      2.54   \n",
       "4                            0.35                      2.49   \n",
       "...                           ...                       ...   \n",
       "251999                       0.39                      0.01   \n",
       "252000                       0.33                     -0.25   \n",
       "252001                       0.33                     -0.45   \n",
       "252002                       0.32                     -0.80   \n",
       "252003                       0.31                     -1.12   \n",
       "\n",
       "        Antenna1Subcarrier2Module  Antenna1Subcarrier2Angle  \\\n",
       "0                            0.27                      3.02   \n",
       "1                            0.31                      2.83   \n",
       "2                            0.32                      2.71   \n",
       "3                            0.33                      2.55   \n",
       "4                            0.34                      2.47   \n",
       "...                           ...                       ...   \n",
       "251999                       0.40                      0.00   \n",
       "252000                       0.37                     -0.21   \n",
       "252001                       0.35                     -0.49   \n",
       "252002                       0.33                     -0.86   \n",
       "252003                       0.32                     -1.11   \n",
       "\n",
       "        Antenna1Subcarrier3Module  Antenna1Subcarrier3Angle  \\\n",
       "0                            0.27                      3.05   \n",
       "1                            0.30                      2.91   \n",
       "2                            0.33                      2.72   \n",
       "3                            0.36                      2.55   \n",
       "4                            0.36                      2.40   \n",
       "...                           ...                       ...   \n",
       "251999                       0.41                     -0.06   \n",
       "252000                       0.39                     -0.28   \n",
       "252001                       0.36                     -0.59   \n",
       "252002                       0.33                     -0.86   \n",
       "252003                       0.31                     -1.17   \n",
       "\n",
       "        Antenna1Subcarrier4Module  Antenna1Subcarrier4Angle  \\\n",
       "0                            0.28                      3.00   \n",
       "1                            0.34                      2.78   \n",
       "2                            0.35                      2.67   \n",
       "3                            0.37                      2.47   \n",
       "4                            0.37                      2.38   \n",
       "...                           ...                       ...   \n",
       "251999                       0.42                     -0.17   \n",
       "252000                       0.39                     -0.39   \n",
       "252001                       0.37                     -0.66   \n",
       "252002                       0.33                     -0.98   \n",
       "252003                       0.35                     -1.27   \n",
       "\n",
       "        Antenna1Subcarrier5Module  Antenna1Subcarrier5Angle  ...  \\\n",
       "0                            0.28                      2.99  ...   \n",
       "1                            0.31                      2.74  ...   \n",
       "2                            0.33                      2.63  ...   \n",
       "3                            0.35                      2.44  ...   \n",
       "4                            0.37                      2.32  ...   \n",
       "...                           ...                       ...  ...   \n",
       "251999                       0.41                     -0.20  ...   \n",
       "252000                       0.41                     -0.41  ...   \n",
       "252001                       0.38                     -0.66  ...   \n",
       "252002                       0.35                     -0.97  ...   \n",
       "252003                       0.37                     -1.27  ...   \n",
       "\n",
       "        Antenna8Subcarrier96Module  Antenna8Subcarrier96Angle  \\\n",
       "0                             0.27                       0.56   \n",
       "1                             0.30                       0.57   \n",
       "2                             0.35                       0.56   \n",
       "3                             0.39                       0.64   \n",
       "4                             0.42                       0.65   \n",
       "...                            ...                        ...   \n",
       "251999                        0.55                      -1.64   \n",
       "252000                        0.56                      -1.83   \n",
       "252001                        0.56                      -2.06   \n",
       "252002                        0.55                      -2.36   \n",
       "252003                        0.54                      -2.59   \n",
       "\n",
       "        Antenna8Subcarrier97Module  Antenna8Subcarrier97Angle  \\\n",
       "0                             0.27                       0.69   \n",
       "1                             0.28                       0.71   \n",
       "2                             0.35                       0.71   \n",
       "3                             0.38                       0.66   \n",
       "4                             0.45                       0.68   \n",
       "...                            ...                        ...   \n",
       "251999                        0.55                      -1.68   \n",
       "252000                        0.54                      -1.84   \n",
       "252001                        0.53                      -2.10   \n",
       "252002                        0.54                      -2.34   \n",
       "252003                        0.51                      -2.63   \n",
       "\n",
       "        Antenna8Subcarrier98Module  Antenna8Subcarrier98Angle  \\\n",
       "0                             0.27                       0.64   \n",
       "1                             0.30                       0.68   \n",
       "2                             0.34                       0.67   \n",
       "3                             0.38                       0.66   \n",
       "4                             0.41                       0.67   \n",
       "...                            ...                        ...   \n",
       "251999                        0.56                      -1.66   \n",
       "252000                        0.56                      -1.88   \n",
       "252001                        0.56                      -2.13   \n",
       "252002                        0.58                      -2.34   \n",
       "252003                        0.56                      -2.64   \n",
       "\n",
       "        Antenna8Subcarrier99Module  Antenna8Subcarrier99Angle  \\\n",
       "0                             0.29                       0.68   \n",
       "1                             0.29                       0.70   \n",
       "2                             0.37                       0.70   \n",
       "3                             0.41                       0.73   \n",
       "4                             0.46                       0.70   \n",
       "...                            ...                        ...   \n",
       "251999                        0.55                      -1.62   \n",
       "252000                        0.56                      -1.84   \n",
       "252001                        0.56                      -2.09   \n",
       "252002                        0.54                      -2.36   \n",
       "252003                        0.55                      -2.59   \n",
       "\n",
       "        Antenna8Subcarrier100Module  Antenna8Subcarrier100Angle  \n",
       "0                              0.28                        0.67  \n",
       "1                              0.29                        0.73  \n",
       "2                              0.35                        0.71  \n",
       "3                              0.38                        0.68  \n",
       "4                              0.43                        0.71  \n",
       "...                             ...                         ...  \n",
       "251999                         0.55                       -1.61  \n",
       "252000                         0.54                       -1.84  \n",
       "252001                         0.55                       -2.11  \n",
       "252002                         0.53                       -2.36  \n",
       "252003                         0.53                       -2.61  \n",
       "\n",
       "[252004 rows x 1600 columns]"
      ]
     },
     "execution_count": 7,
     "metadata": {},
     "output_type": "execute_result"
    }
   ],
   "source": [
    "X = df.iloc[:,:-2]\n",
    "X"
   ]
  },
  {
   "cell_type": "code",
   "execution_count": 8,
   "metadata": {},
   "outputs": [
    {
     "data": {
      "text/plain": [
       "0         1155\n",
       "1         1160\n",
       "2         1165\n",
       "3         1170\n",
       "4         1175\n",
       "          ... \n",
       "251999    4009\n",
       "252000    4014\n",
       "252001    4019\n",
       "252002    4024\n",
       "252003    4029\n",
       "Name: PositionY, Length: 252004, dtype: int64"
      ]
     },
     "execution_count": 8,
     "metadata": {},
     "output_type": "execute_result"
    }
   ],
   "source": [
    "y = df.iloc[:,-1]\n",
    "y"
   ]
  },
  {
   "cell_type": "code",
   "execution_count": 9,
   "metadata": {},
   "outputs": [],
   "source": [
    "X_train, X_val, y_train, y_val = train_test_split(X, y, test_size = 0.20, random_state = SEED)\n",
    "X_val, X_test, y_val, y_test = train_test_split(X_val, y_val, test_size = 0.50, random_state = SEED)"
   ]
  },
  {
   "cell_type": "code",
   "execution_count": 10,
   "metadata": {},
   "outputs": [],
   "source": [
    "from sklearn.preprocessing import MinMaxScaler\n",
    "# Create a MinMaxScaler object\n",
    "scaler = MinMaxScaler()"
   ]
  },
  {
   "cell_type": "code",
   "execution_count": 11,
   "metadata": {},
   "outputs": [],
   "source": [
    "# Scale numerical data\n",
    "X_train = pd.DataFrame(scaler.fit_transform(X_train), columns=X_train.columns)\n",
    "X_val = pd.DataFrame(scaler.transform(X_val), columns=X_val.columns)\n",
    "X_test = pd.DataFrame(scaler.transform(X_test), columns=X_test.columns)\n"
   ]
  },
  {
   "cell_type": "markdown",
   "metadata": {},
   "source": [
    "## Model Architecture (Lazy Predict)"
   ]
  },
  {
   "cell_type": "code",
   "execution_count": 12,
   "metadata": {},
   "outputs": [
    {
     "data": {
      "text/plain": [
       "[('AdaBoostRegressor', sklearn.ensemble._weight_boosting.AdaBoostRegressor),\n",
       " ('BaggingRegressor', sklearn.ensemble._bagging.BaggingRegressor),\n",
       " ('BayesianRidge', sklearn.linear_model._bayes.BayesianRidge),\n",
       " ('DecisionTreeRegressor', sklearn.tree._classes.DecisionTreeRegressor),\n",
       " ('DummyRegressor', sklearn.dummy.DummyRegressor),\n",
       " ('ElasticNet', sklearn.linear_model._coordinate_descent.ElasticNet),\n",
       " ('ElasticNetCV', sklearn.linear_model._coordinate_descent.ElasticNetCV),\n",
       " ('ExtraTreeRegressor', sklearn.tree._classes.ExtraTreeRegressor),\n",
       " ('ExtraTreesRegressor', sklearn.ensemble._forest.ExtraTreesRegressor),\n",
       " ('GammaRegressor', sklearn.linear_model._glm.glm.GammaRegressor),\n",
       " ('GaussianProcessRegressor',\n",
       "  sklearn.gaussian_process._gpr.GaussianProcessRegressor),\n",
       " ('GradientBoostingRegressor', sklearn.ensemble._gb.GradientBoostingRegressor),\n",
       " ('HistGradientBoostingRegressor',\n",
       "  sklearn.ensemble._hist_gradient_boosting.gradient_boosting.HistGradientBoostingRegressor),\n",
       " ('HuberRegressor', sklearn.linear_model._huber.HuberRegressor),\n",
       " ('KNeighborsRegressor', sklearn.neighbors._regression.KNeighborsRegressor),\n",
       " ('KernelRidge', sklearn.kernel_ridge.KernelRidge),\n",
       " ('Lars', sklearn.linear_model._least_angle.Lars),\n",
       " ('LarsCV', sklearn.linear_model._least_angle.LarsCV),\n",
       " ('Lasso', sklearn.linear_model._coordinate_descent.Lasso),\n",
       " ('LassoCV', sklearn.linear_model._coordinate_descent.LassoCV),\n",
       " ('LassoLars', sklearn.linear_model._least_angle.LassoLars),\n",
       " ('LassoLarsCV', sklearn.linear_model._least_angle.LassoLarsCV),\n",
       " ('LassoLarsIC', sklearn.linear_model._least_angle.LassoLarsIC),\n",
       " ('LinearRegression', sklearn.linear_model._base.LinearRegression),\n",
       " ('LinearSVR', sklearn.svm._classes.LinearSVR),\n",
       " ('MLPRegressor', sklearn.neural_network._multilayer_perceptron.MLPRegressor),\n",
       " ('NuSVR', sklearn.svm._classes.NuSVR),\n",
       " ('OrthogonalMatchingPursuit',\n",
       "  sklearn.linear_model._omp.OrthogonalMatchingPursuit),\n",
       " ('OrthogonalMatchingPursuitCV',\n",
       "  sklearn.linear_model._omp.OrthogonalMatchingPursuitCV),\n",
       " ('PassiveAggressiveRegressor',\n",
       "  sklearn.linear_model._passive_aggressive.PassiveAggressiveRegressor),\n",
       " ('PoissonRegressor', sklearn.linear_model._glm.glm.PoissonRegressor),\n",
       " ('QuantileRegressor', sklearn.linear_model._quantile.QuantileRegressor),\n",
       " ('RANSACRegressor', sklearn.linear_model._ransac.RANSACRegressor),\n",
       " ('RandomForestRegressor', sklearn.ensemble._forest.RandomForestRegressor),\n",
       " ('Ridge', sklearn.linear_model._ridge.Ridge),\n",
       " ('RidgeCV', sklearn.linear_model._ridge.RidgeCV),\n",
       " ('SGDRegressor', sklearn.linear_model._stochastic_gradient.SGDRegressor),\n",
       " ('SVR', sklearn.svm._classes.SVR),\n",
       " ('TransformedTargetRegressor',\n",
       "  sklearn.compose._target.TransformedTargetRegressor),\n",
       " ('TweedieRegressor', sklearn.linear_model._glm.glm.TweedieRegressor),\n",
       " ('XGBRegressor', xgboost.sklearn.XGBRegressor),\n",
       " ('LGBMRegressor', lightgbm.sklearn.LGBMRegressor)]"
      ]
     },
     "execution_count": 12,
     "metadata": {},
     "output_type": "execute_result"
    }
   ],
   "source": [
    "#lazypredict.Supervised.REGRESSORS = lazypredict.supervised.REGRESSORS[33:36]\n",
    "lazypredict.Supervised.REGRESSORS"
   ]
  },
  {
   "cell_type": "code",
   "execution_count": null,
   "metadata": {},
   "outputs": [],
   "source": [
    "# Exclude specific regressors for the MIMO dataset due to its large size\n",
    "# Define indices of regressors to be excluded\n",
    "#excluded_indices = {10, 15, 26, 31, 32, 33, 37}\n",
    "#\n",
    "## Update the REGRESSORS list by keeping elements that are not in the excluded indices\n",
    "#lazypredict.Supervised.REGRESSORS = [\n",
    "#    model for i, model in enumerate(lazypredict.Supervised.REGRESSORS) if i not in excluded_indices\n",
    "#]"
   ]
  },
  {
   "cell_type": "code",
   "execution_count": 14,
   "metadata": {},
   "outputs": [
    {
     "data": {
      "text/plain": [
       "[('AdaBoostRegressor', sklearn.ensemble._weight_boosting.AdaBoostRegressor),\n",
       " ('BaggingRegressor', sklearn.ensemble._bagging.BaggingRegressor),\n",
       " ('BayesianRidge', sklearn.linear_model._bayes.BayesianRidge),\n",
       " ('DecisionTreeRegressor', sklearn.tree._classes.DecisionTreeRegressor),\n",
       " ('DummyRegressor', sklearn.dummy.DummyRegressor),\n",
       " ('ElasticNet', sklearn.linear_model._coordinate_descent.ElasticNet),\n",
       " ('ElasticNetCV', sklearn.linear_model._coordinate_descent.ElasticNetCV),\n",
       " ('ExtraTreeRegressor', sklearn.tree._classes.ExtraTreeRegressor),\n",
       " ('ExtraTreesRegressor', sklearn.ensemble._forest.ExtraTreesRegressor),\n",
       " ('GammaRegressor', sklearn.linear_model._glm.glm.GammaRegressor),\n",
       " ('GradientBoostingRegressor', sklearn.ensemble._gb.GradientBoostingRegressor),\n",
       " ('HistGradientBoostingRegressor',\n",
       "  sklearn.ensemble._hist_gradient_boosting.gradient_boosting.HistGradientBoostingRegressor),\n",
       " ('HuberRegressor', sklearn.linear_model._huber.HuberRegressor),\n",
       " ('KNeighborsRegressor', sklearn.neighbors._regression.KNeighborsRegressor),\n",
       " ('Lars', sklearn.linear_model._least_angle.Lars),\n",
       " ('LarsCV', sklearn.linear_model._least_angle.LarsCV),\n",
       " ('Lasso', sklearn.linear_model._coordinate_descent.Lasso),\n",
       " ('LassoCV', sklearn.linear_model._coordinate_descent.LassoCV),\n",
       " ('LassoLars', sklearn.linear_model._least_angle.LassoLars),\n",
       " ('LassoLarsCV', sklearn.linear_model._least_angle.LassoLarsCV),\n",
       " ('LassoLarsIC', sklearn.linear_model._least_angle.LassoLarsIC),\n",
       " ('LinearRegression', sklearn.linear_model._base.LinearRegression),\n",
       " ('LinearSVR', sklearn.svm._classes.LinearSVR),\n",
       " ('MLPRegressor', sklearn.neural_network._multilayer_perceptron.MLPRegressor),\n",
       " ('OrthogonalMatchingPursuit',\n",
       "  sklearn.linear_model._omp.OrthogonalMatchingPursuit),\n",
       " ('OrthogonalMatchingPursuitCV',\n",
       "  sklearn.linear_model._omp.OrthogonalMatchingPursuitCV),\n",
       " ('PassiveAggressiveRegressor',\n",
       "  sklearn.linear_model._passive_aggressive.PassiveAggressiveRegressor),\n",
       " ('PoissonRegressor', sklearn.linear_model._glm.glm.PoissonRegressor),\n",
       " ('Ridge', sklearn.linear_model._ridge.Ridge),\n",
       " ('RidgeCV', sklearn.linear_model._ridge.RidgeCV),\n",
       " ('SGDRegressor', sklearn.linear_model._stochastic_gradient.SGDRegressor),\n",
       " ('TransformedTargetRegressor',\n",
       "  sklearn.compose._target.TransformedTargetRegressor),\n",
       " ('TweedieRegressor', sklearn.linear_model._glm.glm.TweedieRegressor),\n",
       " ('XGBRegressor', xgboost.sklearn.XGBRegressor),\n",
       " ('LGBMRegressor', lightgbm.sklearn.LGBMRegressor)]"
      ]
     },
     "execution_count": 14,
     "metadata": {},
     "output_type": "execute_result"
    }
   ],
   "source": [
    "lazypredict.Supervised.REGRESSORS"
   ]
  },
  {
   "cell_type": "code",
   "execution_count": 15,
   "metadata": {},
   "outputs": [],
   "source": [
    "clf = LazyRegressor(verbose=2, ignore_warnings=True, custom_metric=None)"
   ]
  },
  {
   "cell_type": "markdown",
   "metadata": {},
   "source": [
    "## Model Training"
   ]
  },
  {
   "cell_type": "code",
   "execution_count": 16,
   "metadata": {},
   "outputs": [],
   "source": [
    "from sklearn.model_selection import cross_validate\n",
    "from sklearn.metrics import r2_score"
   ]
  },
  {
   "cell_type": "code",
   "execution_count": 17,
   "metadata": {},
   "outputs": [
    {
     "name": "stderr",
     "output_type": "stream",
     "text": [
      "  3%|▎         | 1/35 [51:11<29:00:21, 3071.22s/it]"
     ]
    },
    {
     "name": "stdout",
     "output_type": "stream",
     "text": [
      "{'Model': 'AdaBoostRegressor', 'R-Squared': 0.5356563022991652, 'Adjusted R-Squared': 0.5041753736414814, 'RMSE': 603.307111119831, 'Time taken': 3071.2200407981873}\n"
     ]
    },
    {
     "name": "stderr",
     "output_type": "stream",
     "text": [
      "  6%|▌         | 2/35 [2:04:49<35:25:04, 3863.77s/it]"
     ]
    },
    {
     "name": "stdout",
     "output_type": "stream",
     "text": [
      "{'Model': 'BaggingRegressor', 'R-Squared': 0.8971241160377775, 'Adjusted R-Squared': 0.8901494798369489, 'RMSE': 283.9719584046848, 'Time taken': 4418.545289516449}\n"
     ]
    },
    {
     "name": "stderr",
     "output_type": "stream",
     "text": [
      "  9%|▊         | 3/35 [2:05:24<18:48:15, 2115.47s/it]"
     ]
    },
    {
     "name": "stdout",
     "output_type": "stream",
     "text": [
      "{'Model': 'BayesianRidge', 'R-Squared': 0.760592238634259, 'Adjusted R-Squared': 0.7443612039653951, 'RMSE': 433.19933318058463, 'Time taken': 34.99801325798035}\n"
     ]
    },
    {
     "name": "stderr",
     "output_type": "stream",
     "text": [
      " 11%|█▏        | 4/35 [2:15:55<13:10:06, 1529.23s/it]"
     ]
    },
    {
     "name": "stdout",
     "output_type": "stream",
     "text": [
      "{'Model': 'DecisionTreeRegressor', 'R-Squared': 0.755169848239952, 'Adjusted R-Squared': 0.7385711938833386, 'RMSE': 438.0776709125366, 'Time taken': 630.5205833911896}\n"
     ]
    },
    {
     "name": "stderr",
     "output_type": "stream",
     "text": [
      " 14%|█▍        | 5/35 [2:16:06<8:10:58, 981.94s/it]  "
     ]
    },
    {
     "name": "stdout",
     "output_type": "stream",
     "text": [
      "{'Model': 'DummyRegressor', 'R-Squared': -3.811717960822136e-05, 'Adjusted R-Squared': -0.06783731156466644, 'RMSE': 885.3743653152842, 'Time taken': 11.534931182861328}\n"
     ]
    },
    {
     "name": "stderr",
     "output_type": "stream",
     "text": [
      " 17%|█▋        | 6/35 [2:17:11<5:23:47, 669.92s/it]"
     ]
    },
    {
     "name": "stdout",
     "output_type": "stream",
     "text": [
      "{'Model': 'ElasticNet', 'R-Squared': 0.6227831670428474, 'Adjusted R-Squared': 0.5972091444694811, 'RMSE': 543.7686917385848, 'Time taken': 64.2419126033783}\n"
     ]
    },
    {
     "name": "stderr",
     "output_type": "stream",
     "text": [
      " 20%|██        | 7/35 [2:19:44<3:53:52, 501.15s/it]"
     ]
    },
    {
     "name": "stdout",
     "output_type": "stream",
     "text": [
      "{'Model': 'ElasticNetCV', 'R-Squared': 0.6242018678896035, 'Adjusted R-Squared': 0.5987240284244919, 'RMSE': 542.7451798636415, 'Time taken': 153.6794731616974}\n"
     ]
    },
    {
     "name": "stderr",
     "output_type": "stream",
     "text": [
      " 23%|██▎       | 8/35 [2:21:33<2:49:19, 376.29s/it]"
     ]
    },
    {
     "name": "stdout",
     "output_type": "stream",
     "text": [
      "{'Model': 'ExtraTreeRegressor', 'R-Squared': 0.775757512185631, 'Adjusted R-Squared': 0.7605546316558434, 'RMSE': 419.25438932293713, 'Time taken': 108.950350522995}\n"
     ]
    },
    {
     "name": "stderr",
     "output_type": "stream",
     "text": [
      " 26%|██▌       | 9/35 [5:03:23<23:47:30, 3294.24s/it]"
     ]
    },
    {
     "name": "stdout",
     "output_type": "stream",
     "text": [
      "{'Model': 'ExtraTreesRegressor', 'R-Squared': 0.95510114701224, 'Adjusted R-Squared': 0.9520571569791716, 'RMSE': 187.60149277211465, 'Time taken': 9710.273380279541}\n"
     ]
    },
    {
     "name": "stderr",
     "output_type": "stream",
     "text": [
      " 29%|██▊       | 10/35 [5:03:40<15:50:56, 2282.25s/it]"
     ]
    },
    {
     "name": "stdout",
     "output_type": "stream",
     "text": [
      "{'Model': 'GammaRegressor', 'R-Squared': 0.6014961759864589, 'Adjusted R-Squared': 0.5744789675787612, 'RMSE': 558.9010341490982, 'Time taken': 16.23776364326477}\n"
     ]
    },
    {
     "name": "stderr",
     "output_type": "stream",
     "text": [
      " 31%|███▏      | 11/35 [7:14:41<26:35:54, 3989.76s/it]"
     ]
    },
    {
     "name": "stdout",
     "output_type": "stream",
     "text": [
      "{'Model': 'GradientBoostingRegressor', 'R-Squared': 0.7286646503579315, 'Adjusted R-Squared': 0.7102690334330455, 'RMSE': 461.1814764201545, 'Time taken': 7861.406818628311}\n"
     ]
    },
    {
     "name": "stderr",
     "output_type": "stream",
     "text": [
      " 34%|███▍      | 12/35 [7:15:35<17:50:24, 2792.39s/it]"
     ]
    },
    {
     "name": "stdout",
     "output_type": "stream",
     "text": [
      "{'Model': 'HistGradientBoostingRegressor', 'R-Squared': 0.8358834003225494, 'Adjusted R-Squared': 0.8247568511918748, 'RMSE': 358.6698917654643, 'Time taken': 53.74887561798096}\n"
     ]
    },
    {
     "name": "stderr",
     "output_type": "stream",
     "text": [
      " 37%|███▋      | 13/35 [7:19:45<12:21:29, 2022.25s/it]"
     ]
    },
    {
     "name": "stdout",
     "output_type": "stream",
     "text": [
      "{'Model': 'HuberRegressor', 'R-Squared': 0.732360721962398, 'Adjusted R-Squared': 0.7142156861632385, 'RMSE': 458.02964894226045, 'Time taken': 250.12253499031067}\n"
     ]
    },
    {
     "name": "stderr",
     "output_type": "stream",
     "text": [
      " 40%|████      | 14/35 [7:20:10<8:16:36, 1418.88s/it] "
     ]
    },
    {
     "name": "stdout",
     "output_type": "stream",
     "text": [
      "{'Model': 'KNeighborsRegressor', 'R-Squared': 0.9994521326419012, 'Adjusted R-Squared': 0.9994149890921996, 'RMSE': 20.723179060917694, 'Time taken': 24.661972045898438}\n"
     ]
    },
    {
     "name": "stderr",
     "output_type": "stream",
     "text": [
      " 43%|████▎     | 15/35 [7:20:25<5:31:55, 995.79s/it] "
     ]
    },
    {
     "name": "stdout",
     "output_type": "stream",
     "text": [
      "{'Model': 'Lars', 'R-Squared': -6578.082362149426, 'Adjusted R-Squared': -7024.121844329049, 'RMSE': 71812.71201801658, 'Time taken': 15.262139081954956}\n"
     ]
    },
    {
     "name": "stderr",
     "output_type": "stream",
     "text": [
      " 46%|████▌     | 16/35 [7:21:03<3:44:00, 707.37s/it]"
     ]
    },
    {
     "name": "stdout",
     "output_type": "stream",
     "text": [
      "{'Model': 'LarsCV', 'R-Squared': 0.3213884536707069, 'Adjusted R-Squared': 0.2753808912077039, 'RMSE': 729.3387509829897, 'Time taken': 37.58641004562378}\n"
     ]
    },
    {
     "name": "stderr",
     "output_type": "stream",
     "text": [
      " 49%|████▊     | 17/35 [7:22:36<2:36:49, 522.72s/it]"
     ]
    },
    {
     "name": "stdout",
     "output_type": "stream",
     "text": [
      "{'Model': 'Lasso', 'R-Squared': 0.7118344413200534, 'Adjusted R-Squared': 0.6922977932739552, 'RMSE': 475.2692356015117, 'Time taken': 93.3164975643158}\n"
     ]
    },
    {
     "name": "stderr",
     "output_type": "stream",
     "text": [
      " 51%|█████▏    | 18/35 [7:25:46<1:59:45, 422.66s/it]"
     ]
    },
    {
     "name": "stdout",
     "output_type": "stream",
     "text": [
      "{'Model': 'LassoCV', 'R-Squared': 0.7411743643400948, 'Adjusted R-Squared': 0.7236268636173893, 'RMSE': 450.4248174864578, 'Time taken': 189.71834635734558}\n"
     ]
    },
    {
     "name": "stderr",
     "output_type": "stream",
     "text": [
      " 54%|█████▍    | 19/35 [7:26:00<1:20:03, 300.19s/it]"
     ]
    },
    {
     "name": "stdout",
     "output_type": "stream",
     "text": [
      "{'Model': 'LassoLars', 'R-Squared': 0.7102933331246786, 'Adjusted R-Squared': 0.6906522031670297, 'RMSE': 476.53840991563527, 'Time taken': 14.902300596237183}\n"
     ]
    },
    {
     "name": "stderr",
     "output_type": "stream",
     "text": [
      " 57%|█████▋    | 20/35 [7:26:39<55:25, 221.71s/it]  "
     ]
    },
    {
     "name": "stdout",
     "output_type": "stream",
     "text": [
      "{'Model': 'LassoLarsCV', 'R-Squared': 0.7399866047982888, 'Adjusted R-Squared': 0.7223585780049524, 'RMSE': 451.4571418130005, 'Time taken': 38.78149056434631}\n"
     ]
    },
    {
     "name": "stderr",
     "output_type": "stream",
     "text": [
      " 60%|██████    | 21/35 [7:27:10<38:22, 164.45s/it]"
     ]
    },
    {
     "name": "stdout",
     "output_type": "stream",
     "text": [
      "{'Model': 'LassoLarsIC', 'R-Squared': 0.7399866047982888, 'Adjusted R-Squared': 0.7223585780049524, 'RMSE': 451.4571418130005, 'Time taken': 30.95286202430725}\n"
     ]
    },
    {
     "name": "stderr",
     "output_type": "stream",
     "text": [
      " 63%|██████▎   | 22/35 [7:27:36<26:36, 122.82s/it]"
     ]
    },
    {
     "name": "stdout",
     "output_type": "stream",
     "text": [
      "{'Model': 'LinearRegression', 'R-Squared': 0.7605230557896436, 'Adjusted R-Squared': 0.744287330758433, 'RMSE': 433.2619205360544, 'Time taken': 25.747642517089844}\n"
     ]
    },
    {
     "name": "stderr",
     "output_type": "stream",
     "text": [
      " 66%|██████▌   | 23/35 [7:28:36<20:49, 104.10s/it]"
     ]
    },
    {
     "name": "stdout",
     "output_type": "stream",
     "text": [
      "{'Model': 'LinearSVR', 'R-Squared': 0.7432524327900116, 'Adjusted R-Squared': 0.7258458180639107, 'RMSE': 448.61298004048285, 'Time taken': 60.42904043197632}\n"
     ]
    },
    {
     "name": "stderr",
     "output_type": "stream",
     "text": [
      " 69%|██████▊   | 24/35 [7:55:15<1:41:17, 552.52s/it]"
     ]
    },
    {
     "name": "stdout",
     "output_type": "stream",
     "text": [
      "{'Model': 'MLPRegressor', 'R-Squared': 0.9242758565326036, 'Adjusted R-Squared': 0.9191420162975259, 'RMSE': 243.63285326921334, 'Time taken': 1598.5466742515564}\n"
     ]
    },
    {
     "name": "stderr",
     "output_type": "stream",
     "text": [
      " 71%|███████▏  | 25/35 [7:55:30<1:05:11, 391.11s/it]"
     ]
    },
    {
     "name": "stdout",
     "output_type": "stream",
     "text": [
      "{'Model': 'OrthogonalMatchingPursuit', 'R-Squared': 0.7318978632459187, 'Adjusted R-Squared': 0.7137214471947945, 'RMSE': 458.4255389550779, 'Time taken': 14.559746742248535}\n"
     ]
    },
    {
     "name": "stderr",
     "output_type": "stream",
     "text": [
      " 74%|███████▍  | 26/35 [7:56:43<44:21, 295.73s/it]  "
     ]
    },
    {
     "name": "stdout",
     "output_type": "stream",
     "text": [
      "{'Model': 'OrthogonalMatchingPursuitCV', 'R-Squared': 0.7318978632459187, 'Adjusted R-Squared': 0.7137214471947945, 'RMSE': 458.4255389550779, 'Time taken': 73.21498799324036}\n"
     ]
    },
    {
     "name": "stderr",
     "output_type": "stream",
     "text": [
      " 77%|███████▋  | 27/35 [7:57:25<29:18, 219.81s/it]"
     ]
    },
    {
     "name": "stdout",
     "output_type": "stream",
     "text": [
      "{'Model': 'PassiveAggressiveRegressor', 'R-Squared': 0.5793634506999339, 'Adjusted R-Squared': 0.5508457185439972, 'RMSE': 574.2118749020027, 'Time taken': 42.67089223861694}\n"
     ]
    },
    {
     "name": "stderr",
     "output_type": "stream",
     "text": [
      " 80%|████████  | 28/35 [7:57:48<18:44, 160.61s/it]"
     ]
    },
    {
     "name": "stdout",
     "output_type": "stream",
     "text": [
      "{'Model': 'PoissonRegressor', 'R-Squared': 0.7167597383211027, 'Adjusted R-Squared': 0.6975570087157538, 'RMSE': 471.19010325210047, 'Time taken': 22.481600761413574}\n"
     ]
    },
    {
     "name": "stderr",
     "output_type": "stream",
     "text": [
      " 83%|████████▎ | 29/35 [7:58:03<11:41, 116.94s/it]"
     ]
    },
    {
     "name": "stdout",
     "output_type": "stream",
     "text": [
      "{'Model': 'Ridge', 'R-Squared': 0.7605307210998951, 'Adjusted R-Squared': 0.7442955157507354, 'RMSE': 433.2549864371827, 'Time taken': 15.053633213043213}\n"
     ]
    },
    {
     "name": "stderr",
     "output_type": "stream",
     "text": [
      " 86%|████████▌ | 30/35 [7:58:47<07:55, 95.04s/it] "
     ]
    },
    {
     "name": "stdout",
     "output_type": "stream",
     "text": [
      "{'Model': 'RidgeCV', 'R-Squared': 0.760578533847905, 'Adjusted R-Squared': 0.7443465700409833, 'RMSE': 433.2117321506821, 'Time taken': 43.93590044975281}\n"
     ]
    },
    {
     "name": "stderr",
     "output_type": "stream",
     "text": [
      " 89%|████████▊ | 31/35 [8:09:30<17:17, 259.41s/it]"
     ]
    },
    {
     "name": "stdout",
     "output_type": "stream",
     "text": [
      "{'Model': 'SGDRegressor', 'R-Squared': 0.7322062192846215, 'Adjusted R-Squared': 0.7140507087276466, 'RMSE': 458.1618354390835, 'Time taken': 642.9411799907684}\n"
     ]
    },
    {
     "name": "stderr",
     "output_type": "stream",
     "text": [
      " 91%|█████████▏| 32/35 [8:09:56<09:28, 189.36s/it]"
     ]
    },
    {
     "name": "stdout",
     "output_type": "stream",
     "text": [
      "{'Model': 'TransformedTargetRegressor', 'R-Squared': 0.7605230557896436, 'Adjusted R-Squared': 0.744287330758433, 'RMSE': 433.2619205360544, 'Time taken': 25.895464658737183}\n"
     ]
    },
    {
     "name": "stderr",
     "output_type": "stream",
     "text": [
      " 94%|█████████▍| 33/35 [8:10:17<04:37, 138.85s/it]"
     ]
    },
    {
     "name": "stdout",
     "output_type": "stream",
     "text": [
      "{'Model': 'TweedieRegressor', 'R-Squared': 0.6178249323911105, 'Adjusted R-Squared': 0.5919147583159314, 'RMSE': 547.3307422929265, 'Time taken': 20.98958683013916}\n"
     ]
    },
    {
     "name": "stderr",
     "output_type": "stream",
     "text": [
      " 97%|█████████▋| 34/35 [8:11:02<01:50, 110.75s/it]"
     ]
    },
    {
     "name": "stdout",
     "output_type": "stream",
     "text": [
      "{'Model': 'XGBRegressor', 'R-Squared': 0.9033320546150208, 'Adjusted R-Squared': 0.8967782956058696, 'RMSE': 275.2706890475414, 'Time taken': 45.180272579193115}\n",
      "[LightGBM] [Info] Auto-choosing col-wise multi-threading, the overhead of testing was 0.631167 seconds.\n",
      "You can set `force_col_wise=true` to remove the overhead.\n",
      "[LightGBM] [Info] Total Bins 408000\n",
      "[LightGBM] [Info] Number of data points in the train set: 201603, number of used features: 1600\n",
      "[LightGBM] [Info] Start training from score 2592.445405\n"
     ]
    },
    {
     "name": "stderr",
     "output_type": "stream",
     "text": [
      "100%|██████████| 35/35 [8:11:41<00:00, 842.90s/it]"
     ]
    },
    {
     "name": "stdout",
     "output_type": "stream",
     "text": [
      "{'Model': 'LGBMRegressor', 'R-Squared': 0.8357662978216989, 'Adjusted R-Squared': 0.8246318095384242, 'RMSE': 358.79783023045417, 'Time taken': 39.11084794998169}\n"
     ]
    },
    {
     "name": "stderr",
     "output_type": "stream",
     "text": [
      "\n"
     ]
    }
   ],
   "source": [
    "models, predictions = clf.fit(X_train, X_test, y_train, y_test)"
   ]
  },
  {
   "cell_type": "markdown",
   "metadata": {},
   "source": [
    "## Model Evaluation"
   ]
  },
  {
   "cell_type": "code",
   "execution_count": 18,
   "metadata": {},
   "outputs": [
    {
     "data": {
      "text/html": [
       "<div>\n",
       "<style scoped>\n",
       "    .dataframe tbody tr th:only-of-type {\n",
       "        vertical-align: middle;\n",
       "    }\n",
       "\n",
       "    .dataframe tbody tr th {\n",
       "        vertical-align: top;\n",
       "    }\n",
       "\n",
       "    .dataframe thead th {\n",
       "        text-align: right;\n",
       "    }\n",
       "</style>\n",
       "<table border=\"1\" class=\"dataframe\">\n",
       "  <thead>\n",
       "    <tr style=\"text-align: right;\">\n",
       "      <th></th>\n",
       "      <th>Adjusted R-Squared</th>\n",
       "      <th>R-Squared</th>\n",
       "      <th>RMSE</th>\n",
       "      <th>Time Taken</th>\n",
       "    </tr>\n",
       "    <tr>\n",
       "      <th>Model</th>\n",
       "      <th></th>\n",
       "      <th></th>\n",
       "      <th></th>\n",
       "      <th></th>\n",
       "    </tr>\n",
       "  </thead>\n",
       "  <tbody>\n",
       "    <tr>\n",
       "      <th>KNeighborsRegressor</th>\n",
       "      <td>1.00</td>\n",
       "      <td>1.00</td>\n",
       "      <td>20.72</td>\n",
       "      <td>24.66</td>\n",
       "    </tr>\n",
       "    <tr>\n",
       "      <th>ExtraTreesRegressor</th>\n",
       "      <td>0.95</td>\n",
       "      <td>0.96</td>\n",
       "      <td>187.60</td>\n",
       "      <td>9710.27</td>\n",
       "    </tr>\n",
       "    <tr>\n",
       "      <th>MLPRegressor</th>\n",
       "      <td>0.92</td>\n",
       "      <td>0.92</td>\n",
       "      <td>243.63</td>\n",
       "      <td>1598.55</td>\n",
       "    </tr>\n",
       "    <tr>\n",
       "      <th>XGBRegressor</th>\n",
       "      <td>0.90</td>\n",
       "      <td>0.90</td>\n",
       "      <td>275.27</td>\n",
       "      <td>45.18</td>\n",
       "    </tr>\n",
       "    <tr>\n",
       "      <th>BaggingRegressor</th>\n",
       "      <td>0.89</td>\n",
       "      <td>0.90</td>\n",
       "      <td>283.97</td>\n",
       "      <td>4418.55</td>\n",
       "    </tr>\n",
       "    <tr>\n",
       "      <th>HistGradientBoostingRegressor</th>\n",
       "      <td>0.82</td>\n",
       "      <td>0.84</td>\n",
       "      <td>358.67</td>\n",
       "      <td>53.75</td>\n",
       "    </tr>\n",
       "    <tr>\n",
       "      <th>LGBMRegressor</th>\n",
       "      <td>0.82</td>\n",
       "      <td>0.84</td>\n",
       "      <td>358.80</td>\n",
       "      <td>39.11</td>\n",
       "    </tr>\n",
       "    <tr>\n",
       "      <th>ExtraTreeRegressor</th>\n",
       "      <td>0.76</td>\n",
       "      <td>0.78</td>\n",
       "      <td>419.25</td>\n",
       "      <td>108.95</td>\n",
       "    </tr>\n",
       "    <tr>\n",
       "      <th>BayesianRidge</th>\n",
       "      <td>0.74</td>\n",
       "      <td>0.76</td>\n",
       "      <td>433.20</td>\n",
       "      <td>35.00</td>\n",
       "    </tr>\n",
       "    <tr>\n",
       "      <th>RidgeCV</th>\n",
       "      <td>0.74</td>\n",
       "      <td>0.76</td>\n",
       "      <td>433.21</td>\n",
       "      <td>43.94</td>\n",
       "    </tr>\n",
       "    <tr>\n",
       "      <th>Ridge</th>\n",
       "      <td>0.74</td>\n",
       "      <td>0.76</td>\n",
       "      <td>433.25</td>\n",
       "      <td>15.05</td>\n",
       "    </tr>\n",
       "    <tr>\n",
       "      <th>TransformedTargetRegressor</th>\n",
       "      <td>0.74</td>\n",
       "      <td>0.76</td>\n",
       "      <td>433.26</td>\n",
       "      <td>25.90</td>\n",
       "    </tr>\n",
       "    <tr>\n",
       "      <th>LinearRegression</th>\n",
       "      <td>0.74</td>\n",
       "      <td>0.76</td>\n",
       "      <td>433.26</td>\n",
       "      <td>25.75</td>\n",
       "    </tr>\n",
       "    <tr>\n",
       "      <th>DecisionTreeRegressor</th>\n",
       "      <td>0.74</td>\n",
       "      <td>0.76</td>\n",
       "      <td>438.08</td>\n",
       "      <td>630.52</td>\n",
       "    </tr>\n",
       "    <tr>\n",
       "      <th>LinearSVR</th>\n",
       "      <td>0.73</td>\n",
       "      <td>0.74</td>\n",
       "      <td>448.61</td>\n",
       "      <td>60.43</td>\n",
       "    </tr>\n",
       "    <tr>\n",
       "      <th>LassoCV</th>\n",
       "      <td>0.72</td>\n",
       "      <td>0.74</td>\n",
       "      <td>450.42</td>\n",
       "      <td>189.72</td>\n",
       "    </tr>\n",
       "    <tr>\n",
       "      <th>LassoLarsCV</th>\n",
       "      <td>0.72</td>\n",
       "      <td>0.74</td>\n",
       "      <td>451.46</td>\n",
       "      <td>38.78</td>\n",
       "    </tr>\n",
       "    <tr>\n",
       "      <th>LassoLarsIC</th>\n",
       "      <td>0.72</td>\n",
       "      <td>0.74</td>\n",
       "      <td>451.46</td>\n",
       "      <td>30.95</td>\n",
       "    </tr>\n",
       "    <tr>\n",
       "      <th>HuberRegressor</th>\n",
       "      <td>0.71</td>\n",
       "      <td>0.73</td>\n",
       "      <td>458.03</td>\n",
       "      <td>250.12</td>\n",
       "    </tr>\n",
       "    <tr>\n",
       "      <th>SGDRegressor</th>\n",
       "      <td>0.71</td>\n",
       "      <td>0.73</td>\n",
       "      <td>458.16</td>\n",
       "      <td>642.94</td>\n",
       "    </tr>\n",
       "    <tr>\n",
       "      <th>OrthogonalMatchingPursuitCV</th>\n",
       "      <td>0.71</td>\n",
       "      <td>0.73</td>\n",
       "      <td>458.43</td>\n",
       "      <td>73.21</td>\n",
       "    </tr>\n",
       "    <tr>\n",
       "      <th>OrthogonalMatchingPursuit</th>\n",
       "      <td>0.71</td>\n",
       "      <td>0.73</td>\n",
       "      <td>458.43</td>\n",
       "      <td>14.56</td>\n",
       "    </tr>\n",
       "    <tr>\n",
       "      <th>GradientBoostingRegressor</th>\n",
       "      <td>0.71</td>\n",
       "      <td>0.73</td>\n",
       "      <td>461.18</td>\n",
       "      <td>7861.41</td>\n",
       "    </tr>\n",
       "    <tr>\n",
       "      <th>PoissonRegressor</th>\n",
       "      <td>0.70</td>\n",
       "      <td>0.72</td>\n",
       "      <td>471.19</td>\n",
       "      <td>22.48</td>\n",
       "    </tr>\n",
       "    <tr>\n",
       "      <th>Lasso</th>\n",
       "      <td>0.69</td>\n",
       "      <td>0.71</td>\n",
       "      <td>475.27</td>\n",
       "      <td>93.32</td>\n",
       "    </tr>\n",
       "    <tr>\n",
       "      <th>LassoLars</th>\n",
       "      <td>0.69</td>\n",
       "      <td>0.71</td>\n",
       "      <td>476.54</td>\n",
       "      <td>14.90</td>\n",
       "    </tr>\n",
       "    <tr>\n",
       "      <th>ElasticNetCV</th>\n",
       "      <td>0.60</td>\n",
       "      <td>0.62</td>\n",
       "      <td>542.75</td>\n",
       "      <td>153.68</td>\n",
       "    </tr>\n",
       "    <tr>\n",
       "      <th>ElasticNet</th>\n",
       "      <td>0.60</td>\n",
       "      <td>0.62</td>\n",
       "      <td>543.77</td>\n",
       "      <td>64.24</td>\n",
       "    </tr>\n",
       "    <tr>\n",
       "      <th>TweedieRegressor</th>\n",
       "      <td>0.59</td>\n",
       "      <td>0.62</td>\n",
       "      <td>547.33</td>\n",
       "      <td>20.99</td>\n",
       "    </tr>\n",
       "    <tr>\n",
       "      <th>GammaRegressor</th>\n",
       "      <td>0.57</td>\n",
       "      <td>0.60</td>\n",
       "      <td>558.90</td>\n",
       "      <td>16.24</td>\n",
       "    </tr>\n",
       "    <tr>\n",
       "      <th>PassiveAggressiveRegressor</th>\n",
       "      <td>0.55</td>\n",
       "      <td>0.58</td>\n",
       "      <td>574.21</td>\n",
       "      <td>42.67</td>\n",
       "    </tr>\n",
       "    <tr>\n",
       "      <th>AdaBoostRegressor</th>\n",
       "      <td>0.50</td>\n",
       "      <td>0.54</td>\n",
       "      <td>603.31</td>\n",
       "      <td>3071.22</td>\n",
       "    </tr>\n",
       "    <tr>\n",
       "      <th>LarsCV</th>\n",
       "      <td>0.28</td>\n",
       "      <td>0.32</td>\n",
       "      <td>729.34</td>\n",
       "      <td>37.59</td>\n",
       "    </tr>\n",
       "    <tr>\n",
       "      <th>DummyRegressor</th>\n",
       "      <td>-0.07</td>\n",
       "      <td>-0.00</td>\n",
       "      <td>885.37</td>\n",
       "      <td>11.53</td>\n",
       "    </tr>\n",
       "    <tr>\n",
       "      <th>Lars</th>\n",
       "      <td>-7024.12</td>\n",
       "      <td>-6578.08</td>\n",
       "      <td>71812.71</td>\n",
       "      <td>15.26</td>\n",
       "    </tr>\n",
       "  </tbody>\n",
       "</table>\n",
       "</div>"
      ],
      "text/plain": [
       "                               Adjusted R-Squared  R-Squared     RMSE  \\\n",
       "Model                                                                   \n",
       "KNeighborsRegressor                          1.00       1.00    20.72   \n",
       "ExtraTreesRegressor                          0.95       0.96   187.60   \n",
       "MLPRegressor                                 0.92       0.92   243.63   \n",
       "XGBRegressor                                 0.90       0.90   275.27   \n",
       "BaggingRegressor                             0.89       0.90   283.97   \n",
       "HistGradientBoostingRegressor                0.82       0.84   358.67   \n",
       "LGBMRegressor                                0.82       0.84   358.80   \n",
       "ExtraTreeRegressor                           0.76       0.78   419.25   \n",
       "BayesianRidge                                0.74       0.76   433.20   \n",
       "RidgeCV                                      0.74       0.76   433.21   \n",
       "Ridge                                        0.74       0.76   433.25   \n",
       "TransformedTargetRegressor                   0.74       0.76   433.26   \n",
       "LinearRegression                             0.74       0.76   433.26   \n",
       "DecisionTreeRegressor                        0.74       0.76   438.08   \n",
       "LinearSVR                                    0.73       0.74   448.61   \n",
       "LassoCV                                      0.72       0.74   450.42   \n",
       "LassoLarsCV                                  0.72       0.74   451.46   \n",
       "LassoLarsIC                                  0.72       0.74   451.46   \n",
       "HuberRegressor                               0.71       0.73   458.03   \n",
       "SGDRegressor                                 0.71       0.73   458.16   \n",
       "OrthogonalMatchingPursuitCV                  0.71       0.73   458.43   \n",
       "OrthogonalMatchingPursuit                    0.71       0.73   458.43   \n",
       "GradientBoostingRegressor                    0.71       0.73   461.18   \n",
       "PoissonRegressor                             0.70       0.72   471.19   \n",
       "Lasso                                        0.69       0.71   475.27   \n",
       "LassoLars                                    0.69       0.71   476.54   \n",
       "ElasticNetCV                                 0.60       0.62   542.75   \n",
       "ElasticNet                                   0.60       0.62   543.77   \n",
       "TweedieRegressor                             0.59       0.62   547.33   \n",
       "GammaRegressor                               0.57       0.60   558.90   \n",
       "PassiveAggressiveRegressor                   0.55       0.58   574.21   \n",
       "AdaBoostRegressor                            0.50       0.54   603.31   \n",
       "LarsCV                                       0.28       0.32   729.34   \n",
       "DummyRegressor                              -0.07      -0.00   885.37   \n",
       "Lars                                     -7024.12   -6578.08 71812.71   \n",
       "\n",
       "                               Time Taken  \n",
       "Model                                      \n",
       "KNeighborsRegressor                 24.66  \n",
       "ExtraTreesRegressor               9710.27  \n",
       "MLPRegressor                      1598.55  \n",
       "XGBRegressor                        45.18  \n",
       "BaggingRegressor                  4418.55  \n",
       "HistGradientBoostingRegressor       53.75  \n",
       "LGBMRegressor                       39.11  \n",
       "ExtraTreeRegressor                 108.95  \n",
       "BayesianRidge                       35.00  \n",
       "RidgeCV                             43.94  \n",
       "Ridge                               15.05  \n",
       "TransformedTargetRegressor          25.90  \n",
       "LinearRegression                    25.75  \n",
       "DecisionTreeRegressor              630.52  \n",
       "LinearSVR                           60.43  \n",
       "LassoCV                            189.72  \n",
       "LassoLarsCV                         38.78  \n",
       "LassoLarsIC                         30.95  \n",
       "HuberRegressor                     250.12  \n",
       "SGDRegressor                       642.94  \n",
       "OrthogonalMatchingPursuitCV         73.21  \n",
       "OrthogonalMatchingPursuit           14.56  \n",
       "GradientBoostingRegressor         7861.41  \n",
       "PoissonRegressor                    22.48  \n",
       "Lasso                               93.32  \n",
       "LassoLars                           14.90  \n",
       "ElasticNetCV                       153.68  \n",
       "ElasticNet                          64.24  \n",
       "TweedieRegressor                    20.99  \n",
       "GammaRegressor                      16.24  \n",
       "PassiveAggressiveRegressor          42.67  \n",
       "AdaBoostRegressor                 3071.22  \n",
       "LarsCV                              37.59  \n",
       "DummyRegressor                      11.53  \n",
       "Lars                                15.26  "
      ]
     },
     "execution_count": 18,
     "metadata": {},
     "output_type": "execute_result"
    }
   ],
   "source": [
    "models"
   ]
  },
  {
   "cell_type": "code",
   "execution_count": 19,
   "metadata": {},
   "outputs": [],
   "source": [
    "# Convert results into a DataFrame\n",
    "test_results = pd.DataFrame(models)"
   ]
  },
  {
   "cell_type": "code",
   "execution_count": 20,
   "metadata": {},
   "outputs": [],
   "source": [
    "# Create the 'model_results' directory if it doesn't exist\n",
    "if not os.path.exists('model_results'):\n",
    "    os.mkdir('model_results')\n",
    "\n",
    "# Save to a text file\n",
    "test_results.to_csv(f'model_results/{file_name}/{file_name}_results_test_Y.txt', index=True)"
   ]
  },
  {
   "cell_type": "code",
   "execution_count": null,
   "metadata": {},
   "outputs": [],
   "source": []
  }
 ],
 "metadata": {
  "kernelspec": {
   "display_name": "Python 3 (ipykernel)",
   "language": "python",
   "name": "python3"
  },
  "language_info": {
   "codemirror_mode": {
    "name": "ipython",
    "version": 3
   },
   "file_extension": ".py",
   "mimetype": "text/x-python",
   "name": "python",
   "nbconvert_exporter": "python",
   "pygments_lexer": "ipython3",
   "version": "3.10.6"
  }
 },
 "nbformat": 4,
 "nbformat_minor": 4
}
