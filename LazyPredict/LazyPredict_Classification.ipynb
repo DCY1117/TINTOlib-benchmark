{
 "cells": [
  {
   "cell_type": "markdown",
   "metadata": {},
   "source": [
    "# Lazy Predict for classification"
   ]
  },
  {
   "cell_type": "code",
   "execution_count": 22,
   "metadata": {},
   "outputs": [
    {
     "name": "stdout",
     "output_type": "stream",
     "text": [
      "Requirement already satisfied: lazypredict in c:\\users\\jiayu\\anaconda3\\envs\\tinto-hnn\\lib\\site-packages (0.2.12)\n",
      "Requirement already satisfied: click in c:\\users\\jiayu\\appdata\\roaming\\python\\python311\\site-packages (from lazypredict) (8.1.7)\n",
      "Requirement already satisfied: scikit-learn in c:\\users\\jiayu\\anaconda3\\envs\\tinto-hnn\\lib\\site-packages (from lazypredict) (1.4.0)\n",
      "Requirement already satisfied: pandas in c:\\users\\jiayu\\anaconda3\\envs\\tinto-hnn\\lib\\site-packages (from lazypredict) (2.2.0)\n",
      "Requirement already satisfied: tqdm in c:\\users\\jiayu\\appdata\\roaming\\python\\python311\\site-packages (from lazypredict) (4.66.1)\n",
      "Requirement already satisfied: joblib in c:\\users\\jiayu\\anaconda3\\envs\\tinto-hnn\\lib\\site-packages (from lazypredict) (1.3.2)\n",
      "Requirement already satisfied: lightgbm in c:\\users\\jiayu\\anaconda3\\envs\\tinto-hnn\\lib\\site-packages (from lazypredict) (4.3.0)\n",
      "Requirement already satisfied: xgboost in c:\\users\\jiayu\\anaconda3\\envs\\tinto-hnn\\lib\\site-packages (from lazypredict) (2.0.3)\n",
      "Requirement already satisfied: colorama in c:\\users\\jiayu\\appdata\\roaming\\python\\python311\\site-packages (from click->lazypredict) (0.4.6)\n",
      "Requirement already satisfied: numpy in c:\\users\\jiayu\\anaconda3\\envs\\tinto-hnn\\lib\\site-packages (from lightgbm->lazypredict) (1.24.3)\n",
      "Requirement already satisfied: scipy in c:\\users\\jiayu\\appdata\\roaming\\python\\python311\\site-packages (from lightgbm->lazypredict) (1.11.2)\n",
      "Requirement already satisfied: python-dateutil>=2.8.2 in c:\\users\\jiayu\\anaconda3\\envs\\tinto-hnn\\lib\\site-packages (from pandas->lazypredict) (2.8.2)\n",
      "Requirement already satisfied: pytz>=2020.1 in c:\\users\\jiayu\\anaconda3\\envs\\tinto-hnn\\lib\\site-packages (from pandas->lazypredict) (2023.4)\n",
      "Requirement already satisfied: tzdata>=2022.7 in c:\\users\\jiayu\\anaconda3\\envs\\tinto-hnn\\lib\\site-packages (from pandas->lazypredict) (2023.4)\n",
      "Requirement already satisfied: threadpoolctl>=2.0.0 in c:\\users\\jiayu\\anaconda3\\envs\\tinto-hnn\\lib\\site-packages (from scikit-learn->lazypredict) (3.2.0)\n",
      "Requirement already satisfied: six>=1.5 in c:\\users\\jiayu\\anaconda3\\envs\\tinto-hnn\\lib\\site-packages (from python-dateutil>=2.8.2->pandas->lazypredict) (1.16.0)\n"
     ]
    }
   ],
   "source": [
    "!pip install lazypredict"
   ]
  },
  {
   "cell_type": "code",
   "execution_count": 4,
   "metadata": {},
   "outputs": [],
   "source": [
    "# Imports\n",
    "import tensorflow as tf\n",
    "import os\n",
    "import pandas as pd\n",
    "from sklearn.model_selection import train_test_split\n",
    "from lazypredict.Supervised import LazyClassifier\n",
    "import numpy as np\n",
    "import lazypredict\n",
    "import matplotlib.pyplot as plt\n",
    "import seaborn as sns\n",
    "import random\n",
    "\n",
    "#from sklearn.metrics import accuracy_score, balanced_accuracy_score, roc_auc_score, f1_score"
   ]
  },
  {
   "cell_type": "markdown",
   "metadata": {},
   "source": [
    "## Set random seed for reproducibility"
   ]
  },
  {
   "cell_type": "code",
   "execution_count": 5,
   "metadata": {},
   "outputs": [],
   "source": [
    "SEED = 64\n",
    "\n",
    "#torch.backends.cudnn.deterministic = True\n",
    "#torch.backends.cudnn.benchmark = False\n",
    "os.environ['PYTHONHASHSEED']=str(SEED)\n",
    "random.seed(SEED)\n",
    "np.random.seed(SEED)\n",
    "tf.random.set_seed(SEED)"
   ]
  },
  {
   "cell_type": "markdown",
   "metadata": {},
   "source": [
    "## Data Loading"
   ]
  },
  {
   "cell_type": "code",
   "execution_count": 30,
   "metadata": {},
   "outputs": [],
   "source": [
    "# Only modify this\n",
    "file_name = \"covtype\""
   ]
  },
  {
   "cell_type": "code",
   "execution_count": 31,
   "metadata": {},
   "outputs": [],
   "source": [
    "df = pd.read_csv(f'../Datasets/{file_name}.csv')"
   ]
  },
  {
   "cell_type": "code",
   "execution_count": 32,
   "metadata": {},
   "outputs": [
    {
     "name": "stdout",
     "output_type": "stream",
     "text": [
      "      0    1   2    3    4     5    6    7    8     9  ...  45  46  47  48  \\\n",
      "0  2596   51   3  258    0   510  221  232  148  6279  ...   0   0   0   0   \n",
      "1  2590   56   2  212   -6   390  220  235  151  6225  ...   0   0   0   0   \n",
      "2  2804  139   9  268   65  3180  234  238  135  6121  ...   0   0   0   0   \n",
      "3  2785  155  18  242  118  3090  238  238  122  6211  ...   0   0   0   0   \n",
      "4  2595   45   2  153   -1   391  220  234  150  6172  ...   0   0   0   0   \n",
      "\n",
      "   49  50  51  52  53  54  \n",
      "0   0   0   0   0   0   5  \n",
      "1   0   0   0   0   0   5  \n",
      "2   0   0   0   0   0   2  \n",
      "3   0   0   0   0   0   2  \n",
      "4   0   0   0   0   0   5  \n",
      "\n",
      "[5 rows x 55 columns]\n",
      "<class 'pandas.core.frame.DataFrame'>\n",
      "RangeIndex: 581012 entries, 0 to 581011\n",
      "Data columns (total 55 columns):\n",
      " #   Column  Non-Null Count   Dtype\n",
      "---  ------  --------------   -----\n",
      " 0   0       581012 non-null  int64\n",
      " 1   1       581012 non-null  int64\n",
      " 2   2       581012 non-null  int64\n",
      " 3   3       581012 non-null  int64\n",
      " 4   4       581012 non-null  int64\n",
      " 5   5       581012 non-null  int64\n",
      " 6   6       581012 non-null  int64\n",
      " 7   7       581012 non-null  int64\n",
      " 8   8       581012 non-null  int64\n",
      " 9   9       581012 non-null  int64\n",
      " 10  10      581012 non-null  int64\n",
      " 11  11      581012 non-null  int64\n",
      " 12  12      581012 non-null  int64\n",
      " 13  13      581012 non-null  int64\n",
      " 14  14      581012 non-null  int64\n",
      " 15  15      581012 non-null  int64\n",
      " 16  16      581012 non-null  int64\n",
      " 17  17      581012 non-null  int64\n",
      " 18  18      581012 non-null  int64\n",
      " 19  19      581012 non-null  int64\n",
      " 20  20      581012 non-null  int64\n",
      " 21  21      581012 non-null  int64\n",
      " 22  22      581012 non-null  int64\n",
      " 23  23      581012 non-null  int64\n",
      " 24  24      581012 non-null  int64\n",
      " 25  25      581012 non-null  int64\n",
      " 26  26      581012 non-null  int64\n",
      " 27  27      581012 non-null  int64\n",
      " 28  28      581012 non-null  int64\n",
      " 29  29      581012 non-null  int64\n",
      " 30  30      581012 non-null  int64\n",
      " 31  31      581012 non-null  int64\n",
      " 32  32      581012 non-null  int64\n",
      " 33  33      581012 non-null  int64\n",
      " 34  34      581012 non-null  int64\n",
      " 35  35      581012 non-null  int64\n",
      " 36  36      581012 non-null  int64\n",
      " 37  37      581012 non-null  int64\n",
      " 38  38      581012 non-null  int64\n",
      " 39  39      581012 non-null  int64\n",
      " 40  40      581012 non-null  int64\n",
      " 41  41      581012 non-null  int64\n",
      " 42  42      581012 non-null  int64\n",
      " 43  43      581012 non-null  int64\n",
      " 44  44      581012 non-null  int64\n",
      " 45  45      581012 non-null  int64\n",
      " 46  46      581012 non-null  int64\n",
      " 47  47      581012 non-null  int64\n",
      " 48  48      581012 non-null  int64\n",
      " 49  49      581012 non-null  int64\n",
      " 50  50      581012 non-null  int64\n",
      " 51  51      581012 non-null  int64\n",
      " 52  52      581012 non-null  int64\n",
      " 53  53      581012 non-null  int64\n",
      " 54  54      581012 non-null  int64\n",
      "dtypes: int64(55)\n",
      "memory usage: 243.8 MB\n",
      "None\n",
      "Number of rows: 581012\n",
      "Number of columns: 55\n"
     ]
    }
   ],
   "source": [
    "# Display the first few rows of the dataframe\n",
    "print(df.head())\n",
    "\n",
    "# Display the dataframe's information (column types, non-null values, etc.)\n",
    "print(df.info())\n",
    "\n",
    "# Get the number of rows and columns\n",
    "print(\"Number of rows:\", df.shape[0])\n",
    "print(\"Number of columns:\", df.shape[1])"
   ]
  },
  {
   "cell_type": "code",
   "execution_count": 33,
   "metadata": {},
   "outputs": [
    {
     "name": "stdout",
     "output_type": "stream",
     "text": [
      "              0         1         2         3         4         5         6  \\\n",
      "count 581012.00 581012.00 581012.00 581012.00 581012.00 581012.00 581012.00   \n",
      "mean    2959.37    155.66     14.10    269.43     46.42   2350.15    212.15   \n",
      "std      279.98    111.91      7.49    212.55     58.30   1559.25     26.77   \n",
      "min     1859.00      0.00      0.00      0.00   -173.00      0.00      0.00   \n",
      "25%     2809.00     58.00      9.00    108.00      7.00   1106.00    198.00   \n",
      "50%     2996.00    127.00     13.00    218.00     30.00   1997.00    218.00   \n",
      "75%     3163.00    260.00     18.00    384.00     69.00   3328.00    231.00   \n",
      "max     3858.00    360.00     66.00   1397.00    601.00   7117.00    254.00   \n",
      "\n",
      "              7         8         9  ...        45        46        47  \\\n",
      "count 581012.00 581012.00 581012.00  ... 581012.00 581012.00 581012.00   \n",
      "mean     223.32    142.53   1980.29  ...      0.09      0.08      0.00   \n",
      "std       19.77     38.27   1324.20  ...      0.29      0.27      0.05   \n",
      "min        0.00      0.00      0.00  ...      0.00      0.00      0.00   \n",
      "25%      213.00    119.00   1024.00  ...      0.00      0.00      0.00   \n",
      "50%      226.00    143.00   1710.00  ...      0.00      0.00      0.00   \n",
      "75%      237.00    168.00   2550.00  ...      0.00      0.00      0.00   \n",
      "max      254.00    254.00   7173.00  ...      1.00      1.00      1.00   \n",
      "\n",
      "             48        49        50        51        52        53        54  \n",
      "count 581012.00 581012.00 581012.00 581012.00 581012.00 581012.00 581012.00  \n",
      "mean       0.00      0.00      0.00      0.03      0.02      0.02      2.05  \n",
      "std        0.06      0.01      0.02      0.16      0.15      0.12      1.40  \n",
      "min        0.00      0.00      0.00      0.00      0.00      0.00      1.00  \n",
      "25%        0.00      0.00      0.00      0.00      0.00      0.00      1.00  \n",
      "50%        0.00      0.00      0.00      0.00      0.00      0.00      2.00  \n",
      "75%        0.00      0.00      0.00      0.00      0.00      0.00      2.00  \n",
      "max        1.00      1.00      1.00      1.00      1.00      1.00      7.00  \n",
      "\n",
      "[8 rows x 55 columns]\n"
     ]
    }
   ],
   "source": [
    "# Summary statistics for numerical columns\n",
    "print(df.describe())\n",
    "\n",
    "# For categorical columns if any\n",
    "#print(df.describe(include='object'))"
   ]
  },
  {
   "cell_type": "code",
   "execution_count": 34,
   "metadata": {},
   "outputs": [
    {
     "name": "stdout",
     "output_type": "stream",
     "text": [
      "0     0\n",
      "1     0\n",
      "2     0\n",
      "3     0\n",
      "4     0\n",
      "5     0\n",
      "6     0\n",
      "7     0\n",
      "8     0\n",
      "9     0\n",
      "10    0\n",
      "11    0\n",
      "12    0\n",
      "13    0\n",
      "14    0\n",
      "15    0\n",
      "16    0\n",
      "17    0\n",
      "18    0\n",
      "19    0\n",
      "20    0\n",
      "21    0\n",
      "22    0\n",
      "23    0\n",
      "24    0\n",
      "25    0\n",
      "26    0\n",
      "27    0\n",
      "28    0\n",
      "29    0\n",
      "30    0\n",
      "31    0\n",
      "32    0\n",
      "33    0\n",
      "34    0\n",
      "35    0\n",
      "36    0\n",
      "37    0\n",
      "38    0\n",
      "39    0\n",
      "40    0\n",
      "41    0\n",
      "42    0\n",
      "43    0\n",
      "44    0\n",
      "45    0\n",
      "46    0\n",
      "47    0\n",
      "48    0\n",
      "49    0\n",
      "50    0\n",
      "51    0\n",
      "52    0\n",
      "53    0\n",
      "54    0\n",
      "dtype: int64\n"
     ]
    }
   ],
   "source": [
    "# Check for missing values\n",
    "print(df.isnull().sum())"
   ]
  },
  {
   "cell_type": "code",
   "execution_count": 35,
   "metadata": {},
   "outputs": [
    {
     "data": {
      "image/png": "[encoded data removed]",
      "text/plain": [
       "<Figure size 1500x1000 with 56 Axes>"
      ]
     },
     "metadata": {},
     "output_type": "display_data"
    }
   ],
   "source": [
    "# Histograms for numerical data\n",
    "df.hist(bins=15, figsize=(15, 10))\n",
    "plt.tight_layout()  # Adjusts subplot params so that subplots are nicely fit in the figure.\n",
    "plt.show()"
   ]
  },
  {
   "cell_type": "markdown",
   "metadata": {},
   "source": [
    "## Data Preprocessing"
   ]
  },
  {
   "cell_type": "code",
   "execution_count": 36,
   "metadata": {},
   "outputs": [
    {
     "data": {
      "text/plain": [
       "array([[-1.29780509, -0.93515698, -1.48281978, ..., -0.16595612,\n",
       "        -0.15601398, -0.12365355],\n",
       "       [-1.31923485, -0.89047967, -1.61636259, ..., -0.16595612,\n",
       "        -0.15601398, -0.12365355],\n",
       "       [-0.5549068 , -0.14883628, -0.68156292, ..., -0.16595612,\n",
       "        -0.15601398, -0.12365355],\n",
       "       ...,\n",
       "       [-2.04784663,  0.02987297,  0.38677957, ..., -0.16595612,\n",
       "        -0.15601398, -0.12365355],\n",
       "       [-2.05498988,  0.12816306,  0.11969395, ..., -0.16595612,\n",
       "        -0.15601398, -0.12365355],\n",
       "       [-2.05856151,  0.08348575, -0.14739167, ..., -0.16595612,\n",
       "        -0.15601398, -0.12365355]])"
      ]
     },
     "execution_count": 36,
     "metadata": {},
     "output_type": "execute_result"
    }
   ],
   "source": [
    "from sklearn.preprocessing import StandardScaler\n",
    "scaler = StandardScaler()\n",
    "X = df.iloc[:,:-1]\n",
    "\n",
    "X = scaler.fit_transform(X)\n",
    "X"
   ]
  },
  {
   "cell_type": "code",
   "execution_count": 37,
   "metadata": {},
   "outputs": [
    {
     "data": {
      "text/plain": [
       "0         5\n",
       "1         5\n",
       "2         2\n",
       "3         2\n",
       "4         5\n",
       "         ..\n",
       "581007    3\n",
       "581008    3\n",
       "581009    3\n",
       "581010    3\n",
       "581011    3\n",
       "Name: 54, Length: 581012, dtype: int64"
      ]
     },
     "execution_count": 37,
     "metadata": {},
     "output_type": "execute_result"
    }
   ],
   "source": [
    "y = df.iloc[:,-1]\n",
    "y"
   ]
  },
  {
   "cell_type": "code",
   "execution_count": 38,
   "metadata": {},
   "outputs": [
    {
     "data": {
      "text/plain": [
       "array([5, 2, 1, 7, 3, 6, 4], dtype=int64)"
      ]
     },
     "execution_count": 38,
     "metadata": {},
     "output_type": "execute_result"
    }
   ],
   "source": [
    "y.unique()"
   ]
  },
  {
   "cell_type": "code",
   "execution_count": 39,
   "metadata": {},
   "outputs": [],
   "source": [
    "X_train, X_val, y_train, y_val = train_test_split(X, y, test_size = 0.40, random_state = 123)\n",
    "X_val, X_test, y_val, y_test = train_test_split(X_val, y_val, test_size = 0.50, random_state = 123)"
   ]
  },
  {
   "cell_type": "code",
   "execution_count": 40,
   "metadata": {},
   "outputs": [
    {
     "data": {
      "text/plain": [
       "208012    1\n",
       "152006    1\n",
       "307374    2\n",
       "486928    2\n",
       "26749     2\n",
       "         ..\n",
       "435561    1\n",
       "212919    1\n",
       "26483     2\n",
       "45810     2\n",
       "161296    2\n",
       "Name: 54, Length: 116202, dtype: int64"
      ]
     },
     "execution_count": 40,
     "metadata": {},
     "output_type": "execute_result"
    }
   ],
   "source": [
    "y_val"
   ]
  },
  {
   "cell_type": "markdown",
   "metadata": {},
   "source": [
    "## Model Architecture (Lazy Predict)"
   ]
  },
  {
   "cell_type": "code",
   "execution_count": 41,
   "metadata": {},
   "outputs": [],
   "source": [
    "#lazypredict.supervised.REGRESSORS = lazypredict.supervised.REGRESSORS[33:36]\n",
    "#lazypredict.supervised.REGRESSORS"
   ]
  },
  {
   "cell_type": "code",
   "execution_count": 42,
   "metadata": {},
   "outputs": [
    {
     "data": {
      "text/plain": [
       "lazypredict.Supervised.LazyClassifier"
      ]
     },
     "execution_count": 42,
     "metadata": {},
     "output_type": "execute_result"
    }
   ],
   "source": [
    "LazyClassifier"
   ]
  },
  {
   "cell_type": "code",
   "execution_count": 43,
   "metadata": {},
   "outputs": [],
   "source": [
    "clf = LazyClassifier(verbose=2, ignore_warnings=True, custom_metric=None)"
   ]
  },
  {
   "cell_type": "markdown",
   "metadata": {},
   "source": [
    "## Model Training"
   ]
  },
  {
   "cell_type": "code",
   "execution_count": 44,
   "metadata": {},
   "outputs": [
    {
     "name": "stderr",
     "output_type": "stream",
     "text": [
      "  3%|▎         | 1/29 [00:35<16:23, 35.12s/it]"
     ]
    },
    {
     "name": "stdout",
     "output_type": "stream",
     "text": [
      "{'Model': 'AdaBoostClassifier', 'Accuracy': 0.5627355811431817, 'Balanced Accuracy': 0.3369436535454187, 'ROC AUC': None, 'F1 Score': 0.5815052006516493, 'Time taken': 35.118467569351196}\n"
     ]
    },
    {
     "name": "stderr",
     "output_type": "stream",
     "text": [
      "  7%|▋         | 2/29 [01:12<16:16, 36.18s/it]"
     ]
    },
    {
     "name": "stdout",
     "output_type": "stream",
     "text": [
      "{'Model': 'BaggingClassifier', 'Accuracy': 0.9552933684446051, 'Balanced Accuracy': 0.9080516735454273, 'ROC AUC': None, 'F1 Score': 0.9551174165892738, 'Time taken': 36.918155908584595}\n"
     ]
    },
    {
     "name": "stderr",
     "output_type": "stream",
     "text": [
      " 10%|█         | 3/29 [01:12<08:42, 20.09s/it]"
     ]
    },
    {
     "name": "stdout",
     "output_type": "stream",
     "text": [
      "{'Model': 'BernoulliNB', 'Accuracy': 0.6376396275451369, 'Balanced Accuracy': 0.5258081099793207, 'ROC AUC': None, 'F1 Score': 0.6389024590010631, 'Time taken': 0.9381647109985352}\n"
     ]
    },
    {
     "name": "stderr",
     "output_type": "stream",
     "text": [
      " 14%|█▍        | 4/29 [06:48<1:00:15, 144.62s/it]"
     ]
    },
    {
     "name": "stdout",
     "output_type": "stream",
     "text": [
      "{'Model': 'CalibratedClassifierCV', 'Accuracy': 0.7128534792860708, 'Balanced Accuracy': 0.4742894905904044, 'ROC AUC': None, 'F1 Score': 0.7019746511560057, 'Time taken': 335.51866817474365}\n"
     ]
    },
    {
     "name": "stderr",
     "output_type": "stream",
     "text": [
      " 21%|██        | 6/29 [06:54<24:11, 63.09s/it]   "
     ]
    },
    {
     "name": "stdout",
     "output_type": "stream",
     "text": [
      "{'Model': 'DecisionTreeClassifier', 'Accuracy': 0.9305691812533348, 'Balanced Accuracy': 0.8878363720355001, 'ROC AUC': None, 'F1 Score': 0.9305516030928409, 'Time taken': 5.66883397102356}\n"
     ]
    },
    {
     "name": "stderr",
     "output_type": "stream",
     "text": [
      " 24%|██▍       | 7/29 [06:55<15:39, 42.71s/it]"
     ]
    },
    {
     "name": "stdout",
     "output_type": "stream",
     "text": [
      "{'Model': 'DummyClassifier', 'Accuracy': 0.48833066556513655, 'Balanced Accuracy': 0.14285714285714285, 'ROC AUC': None, 'F1 Score': 0.32044873420751646, 'Time taken': 0.7558610439300537}\n"
     ]
    },
    {
     "name": "stderr",
     "output_type": "stream",
     "text": [
      " 28%|██▊       | 8/29 [06:58<10:33, 30.15s/it]"
     ]
    },
    {
     "name": "stdout",
     "output_type": "stream",
     "text": [
      "{'Model': 'ExtraTreeClassifier', 'Accuracy': 0.8539267826715548, 'Balanced Accuracy': 0.7783962366740855, 'ROC AUC': None, 'F1 Score': 0.8540338921863344, 'Time taken': 3.2672200202941895}\n"
     ]
    },
    {
     "name": "stderr",
     "output_type": "stream",
     "text": [
      " 31%|███       | 9/29 [08:22<15:39, 46.96s/it]"
     ]
    },
    {
     "name": "stdout",
     "output_type": "stream",
     "text": [
      "{'Model': 'ExtraTreesClassifier', 'Accuracy': 0.9472212182234385, 'Balanced Accuracy': 0.8966965359436666, 'ROC AUC': None, 'F1 Score': 0.9469451647292414, 'Time taken': 83.90317440032959}\n"
     ]
    },
    {
     "name": "stderr",
     "output_type": "stream",
     "text": [
      " 34%|███▍      | 10/29 [08:24<10:25, 32.90s/it]"
     ]
    },
    {
     "name": "stdout",
     "output_type": "stream",
     "text": [
      "{'Model': 'GaussianNB', 'Accuracy': 0.08832033872050395, 'Balanced Accuracy': 0.44777296668408345, 'ROC AUC': None, 'F1 Score': 0.056149990596903766, 'Time taken': 1.415442705154419}\n"
     ]
    },
    {
     "name": "stderr",
     "output_type": "stream",
     "text": [
      " 38%|███▊      | 11/29 [09:04<10:32, 35.14s/it]"
     ]
    },
    {
     "name": "stdout",
     "output_type": "stream",
     "text": [
      "{'Model': 'KNeighborsClassifier', 'Accuracy': 0.9209480043372748, 'Balanced Accuracy': 0.8491326603327882, 'ROC AUC': None, 'F1 Score': 0.9206990812231707, 'Time taken': 40.218883991241455}\n"
     ]
    },
    {
     "name": "stderr",
     "output_type": "stream",
     "text": [
      " 48%|████▊     | 14/29 [09:08<03:15, 13.06s/it]"
     ]
    },
    {
     "name": "stdout",
     "output_type": "stream",
     "text": [
      "{'Model': 'LinearDiscriminantAnalysis', 'Accuracy': 0.6808230495172201, 'Balanced Accuracy': 0.5768478848416053, 'ROC AUC': None, 'F1 Score': 0.6838056859608672, 'Time taken': 3.1309010982513428}\n"
     ]
    },
    {
     "name": "stderr",
     "output_type": "stream",
     "text": [
      " 52%|█████▏    | 15/29 [18:51<43:05, 184.68s/it]"
     ]
    },
    {
     "name": "stdout",
     "output_type": "stream",
     "text": [
      "{'Model': 'LinearSVC', 'Accuracy': 0.7123629541660212, 'Balanced Accuracy': 0.44540754490605367, 'ROC AUC': None, 'F1 Score': 0.6964572325550353, 'Time taken': 582.4117338657379}\n"
     ]
    },
    {
     "name": "stderr",
     "output_type": "stream",
     "text": [
      " 55%|█████▌    | 16/29 [19:01<28:37, 132.14s/it]"
     ]
    },
    {
     "name": "stdout",
     "output_type": "stream",
     "text": [
      "{'Model': 'LogisticRegression', 'Accuracy': 0.7247637734290288, 'Balanced Accuracy': 0.5017190917129998, 'ROC AUC': None, 'F1 Score': 0.714563204588976, 'Time taken': 10.121096134185791}\n"
     ]
    },
    {
     "name": "stderr",
     "output_type": "stream",
     "text": [
      " 59%|█████▊    | 17/29 [19:02<18:31, 92.66s/it] "
     ]
    },
    {
     "name": "stdout",
     "output_type": "stream",
     "text": [
      "{'Model': 'NearestCentroid', 'Accuracy': 0.5485619868849073, 'Balanced Accuracy': 0.5945893590911554, 'ROC AUC': None, 'F1 Score': 0.5830266520095034, 'Time taken': 0.8421759605407715}\n"
     ]
    },
    {
     "name": "stderr",
     "output_type": "stream",
     "text": [
      " 66%|██████▌   | 19/29 [19:07<07:48, 46.81s/it]"
     ]
    },
    {
     "name": "stdout",
     "output_type": "stream",
     "text": [
      "{'Model': 'PassiveAggressiveClassifier', 'Accuracy': 0.6598509492091358, 'Balanced Accuracy': 0.4467713289225241, 'ROC AUC': None, 'F1 Score': 0.6545614498504657, 'Time taken': 4.410583972930908}\n"
     ]
    },
    {
     "name": "stderr",
     "output_type": "stream",
     "text": [
      " 69%|██████▉   | 20/29 [19:12<05:09, 34.39s/it]"
     ]
    },
    {
     "name": "stdout",
     "output_type": "stream",
     "text": [
      "{'Model': 'Perceptron', 'Accuracy': 0.6312111667613294, 'Balanced Accuracy': 0.3992959925164632, 'ROC AUC': None, 'F1 Score': 0.636166946266822, 'Time taken': 5.440777063369751}\n"
     ]
    },
    {
     "name": "stderr",
     "output_type": "stream",
     "text": [
      " 72%|███████▏  | 21/29 [19:14<03:17, 24.73s/it]"
     ]
    },
    {
     "name": "stdout",
     "output_type": "stream",
     "text": [
      "{'Model': 'QuadraticDiscriminantAnalysis', 'Accuracy': 0.08258893994939846, 'Balanced Accuracy': 0.42100055392405233, 'ROC AUC': None, 'F1 Score': 0.04260453025982928, 'Time taken': 2.1969194412231445}\n"
     ]
    },
    {
     "name": "stderr",
     "output_type": "stream",
     "text": [
      " 76%|███████▌  | 22/29 [20:20<04:19, 37.12s/it]"
     ]
    },
    {
     "name": "stdout",
     "output_type": "stream",
     "text": [
      "{'Model': 'RandomForestClassifier', 'Accuracy': 0.9488907247723791, 'Balanced Accuracy': 0.8933827428339708, 'ROC AUC': None, 'F1 Score': 0.9485607706858171, 'Time taken': 66.02747678756714}\n"
     ]
    },
    {
     "name": "stderr",
     "output_type": "stream",
     "text": [
      " 79%|███████▉  | 23/29 [20:21<02:37, 26.30s/it]"
     ]
    },
    {
     "name": "stdout",
     "output_type": "stream",
     "text": [
      "{'Model': 'RidgeClassifier', 'Accuracy': 0.7007194368427394, 'Balanced Accuracy': 0.37129220661157575, 'ROC AUC': None, 'F1 Score': 0.6781149189781702, 'Time taken': 1.0480849742889404}\n"
     ]
    },
    {
     "name": "stderr",
     "output_type": "stream",
     "text": [
      " 83%|████████▎ | 24/29 [20:24<01:36, 19.28s/it]"
     ]
    },
    {
     "name": "stdout",
     "output_type": "stream",
     "text": [
      "{'Model': 'RidgeClassifierCV', 'Accuracy': 0.7007366482504604, 'Balanced Accuracy': 0.3712989697201709, 'ROC AUC': None, 'F1 Score': 0.6781313629998166, 'Time taken': 2.9099485874176025}\n"
     ]
    },
    {
     "name": "stderr",
     "output_type": "stream",
     "text": [
      " 86%|████████▌ | 25/29 [20:33<01:04, 16.01s/it]"
     ]
    },
    {
     "name": "stdout",
     "output_type": "stream",
     "text": [
      "{'Model': 'SGDClassifier', 'Accuracy': 0.7131460732173285, 'Balanced Accuracy': 0.4369715345919965, 'ROC AUC': None, 'F1 Score': 0.6997188804328809, 'Time taken': 8.383768796920776}\n"
     ]
    },
    {
     "name": "stderr",
     "output_type": "stream",
     "text": [
      " 90%|████████▉ | 26/29 [3:48:51<3:08:03, 3761.13s/it]"
     ]
    },
    {
     "name": "stdout",
     "output_type": "stream",
     "text": [
      "{'Model': 'SVC', 'Accuracy': 0.7904511109963684, 'Balanced Accuracy': 0.5966510803924511, 'ROC AUC': None, 'F1 Score': 0.7837607217532708, 'Time taken': 12498.577402591705}\n"
     ]
    },
    {
     "name": "stderr",
     "output_type": "stream",
     "text": [
      " 97%|█████████▋| 28/29 [3:48:52<33:45, 2025.32s/it]  "
     ]
    },
    {
     "name": "stdout",
     "output_type": "stream",
     "text": [
      "[LightGBM] [Info] Auto-choosing row-wise multi-threading, the overhead of testing was 0.015887 seconds.\n",
      "You can set `force_row_wise=true` to remove the overhead.\n",
      "And if memory is not enough, you can set `force_col_wise=true`.\n",
      "[LightGBM] [Info] Total Bins 2145\n",
      "[LightGBM] [Info] Number of data points in the train set: 348607, number of used features: 53\n",
      "[LightGBM] [Info] Start training from score -1.008326\n",
      "[LightGBM] [Info] Start training from score -0.717935\n",
      "[LightGBM] [Info] Start training from score -2.784730\n",
      "[LightGBM] [Info] Start training from score -5.391470\n",
      "[LightGBM] [Info] Start training from score -4.107357\n",
      "[LightGBM] [Info] Start training from score -3.519571\n",
      "[LightGBM] [Info] Start training from score -3.351035\n"
     ]
    },
    {
     "name": "stderr",
     "output_type": "stream",
     "text": [
      "100%|██████████| 29/29 [3:48:59<00:00, 473.76s/it] "
     ]
    },
    {
     "name": "stdout",
     "output_type": "stream",
     "text": [
      "{'Model': 'LGBMClassifier', 'Accuracy': 0.8524982358307086, 'Balanced Accuracy': 0.8018043108856231, 'ROC AUC': None, 'F1 Score': 0.8518458713180316, 'Time taken': 6.567655324935913}\n"
     ]
    },
    {
     "name": "stderr",
     "output_type": "stream",
     "text": [
      "\n"
     ]
    }
   ],
   "source": [
    "models, predictions = clf.fit(X_train, X_val, y_train, y_val)"
   ]
  },
  {
   "cell_type": "markdown",
   "metadata": {},
   "source": [
    "## Model Evaluation"
   ]
  },
  {
   "cell_type": "code",
   "execution_count": 45,
   "metadata": {},
   "outputs": [
    {
     "data": {
      "text/html": [
       "<div>\n",
       "<style scoped>\n",
       "    .dataframe tbody tr th:only-of-type {\n",
       "        vertical-align: middle;\n",
       "    }\n",
       "\n",
       "    .dataframe tbody tr th {\n",
       "        vertical-align: top;\n",
       "    }\n",
       "\n",
       "    .dataframe thead th {\n",
       "        text-align: right;\n",
       "    }\n",
       "</style>\n",
       "<table border=\"1\" class=\"dataframe\">\n",
       "  <thead>\n",
       "    <tr style=\"text-align: right;\">\n",
       "      <th></th>\n",
       "      <th>Accuracy</th>\n",
       "      <th>Balanced Accuracy</th>\n",
       "      <th>ROC AUC</th>\n",
       "      <th>F1 Score</th>\n",
       "      <th>Time Taken</th>\n",
       "    </tr>\n",
       "    <tr>\n",
       "      <th>Model</th>\n",
       "      <th></th>\n",
       "      <th></th>\n",
       "      <th></th>\n",
       "      <th></th>\n",
       "      <th></th>\n",
       "    </tr>\n",
       "  </thead>\n",
       "  <tbody>\n",
       "    <tr>\n",
       "      <th>BaggingClassifier</th>\n",
       "      <td>0.96</td>\n",
       "      <td>0.91</td>\n",
       "      <td>None</td>\n",
       "      <td>0.96</td>\n",
       "      <td>36.92</td>\n",
       "    </tr>\n",
       "    <tr>\n",
       "      <th>ExtraTreesClassifier</th>\n",
       "      <td>0.95</td>\n",
       "      <td>0.90</td>\n",
       "      <td>None</td>\n",
       "      <td>0.95</td>\n",
       "      <td>83.90</td>\n",
       "    </tr>\n",
       "    <tr>\n",
       "      <th>RandomForestClassifier</th>\n",
       "      <td>0.95</td>\n",
       "      <td>0.89</td>\n",
       "      <td>None</td>\n",
       "      <td>0.95</td>\n",
       "      <td>66.03</td>\n",
       "    </tr>\n",
       "    <tr>\n",
       "      <th>DecisionTreeClassifier</th>\n",
       "      <td>0.93</td>\n",
       "      <td>0.89</td>\n",
       "      <td>None</td>\n",
       "      <td>0.93</td>\n",
       "      <td>5.67</td>\n",
       "    </tr>\n",
       "    <tr>\n",
       "      <th>KNeighborsClassifier</th>\n",
       "      <td>0.92</td>\n",
       "      <td>0.85</td>\n",
       "      <td>None</td>\n",
       "      <td>0.92</td>\n",
       "      <td>40.22</td>\n",
       "    </tr>\n",
       "    <tr>\n",
       "      <th>LGBMClassifier</th>\n",
       "      <td>0.85</td>\n",
       "      <td>0.80</td>\n",
       "      <td>None</td>\n",
       "      <td>0.85</td>\n",
       "      <td>6.57</td>\n",
       "    </tr>\n",
       "    <tr>\n",
       "      <th>ExtraTreeClassifier</th>\n",
       "      <td>0.85</td>\n",
       "      <td>0.78</td>\n",
       "      <td>None</td>\n",
       "      <td>0.85</td>\n",
       "      <td>3.27</td>\n",
       "    </tr>\n",
       "    <tr>\n",
       "      <th>SVC</th>\n",
       "      <td>0.79</td>\n",
       "      <td>0.60</td>\n",
       "      <td>None</td>\n",
       "      <td>0.78</td>\n",
       "      <td>12498.58</td>\n",
       "    </tr>\n",
       "    <tr>\n",
       "      <th>NearestCentroid</th>\n",
       "      <td>0.55</td>\n",
       "      <td>0.59</td>\n",
       "      <td>None</td>\n",
       "      <td>0.58</td>\n",
       "      <td>0.84</td>\n",
       "    </tr>\n",
       "    <tr>\n",
       "      <th>LinearDiscriminantAnalysis</th>\n",
       "      <td>0.68</td>\n",
       "      <td>0.58</td>\n",
       "      <td>None</td>\n",
       "      <td>0.68</td>\n",
       "      <td>3.13</td>\n",
       "    </tr>\n",
       "    <tr>\n",
       "      <th>BernoulliNB</th>\n",
       "      <td>0.64</td>\n",
       "      <td>0.53</td>\n",
       "      <td>None</td>\n",
       "      <td>0.64</td>\n",
       "      <td>0.94</td>\n",
       "    </tr>\n",
       "    <tr>\n",
       "      <th>LogisticRegression</th>\n",
       "      <td>0.72</td>\n",
       "      <td>0.50</td>\n",
       "      <td>None</td>\n",
       "      <td>0.71</td>\n",
       "      <td>10.12</td>\n",
       "    </tr>\n",
       "    <tr>\n",
       "      <th>CalibratedClassifierCV</th>\n",
       "      <td>0.71</td>\n",
       "      <td>0.47</td>\n",
       "      <td>None</td>\n",
       "      <td>0.70</td>\n",
       "      <td>335.52</td>\n",
       "    </tr>\n",
       "    <tr>\n",
       "      <th>GaussianNB</th>\n",
       "      <td>0.09</td>\n",
       "      <td>0.45</td>\n",
       "      <td>None</td>\n",
       "      <td>0.06</td>\n",
       "      <td>1.42</td>\n",
       "    </tr>\n",
       "    <tr>\n",
       "      <th>PassiveAggressiveClassifier</th>\n",
       "      <td>0.66</td>\n",
       "      <td>0.45</td>\n",
       "      <td>None</td>\n",
       "      <td>0.65</td>\n",
       "      <td>4.41</td>\n",
       "    </tr>\n",
       "    <tr>\n",
       "      <th>LinearSVC</th>\n",
       "      <td>0.71</td>\n",
       "      <td>0.45</td>\n",
       "      <td>None</td>\n",
       "      <td>0.70</td>\n",
       "      <td>582.41</td>\n",
       "    </tr>\n",
       "    <tr>\n",
       "      <th>SGDClassifier</th>\n",
       "      <td>0.71</td>\n",
       "      <td>0.44</td>\n",
       "      <td>None</td>\n",
       "      <td>0.70</td>\n",
       "      <td>8.38</td>\n",
       "    </tr>\n",
       "    <tr>\n",
       "      <th>QuadraticDiscriminantAnalysis</th>\n",
       "      <td>0.08</td>\n",
       "      <td>0.42</td>\n",
       "      <td>None</td>\n",
       "      <td>0.04</td>\n",
       "      <td>2.20</td>\n",
       "    </tr>\n",
       "    <tr>\n",
       "      <th>Perceptron</th>\n",
       "      <td>0.63</td>\n",
       "      <td>0.40</td>\n",
       "      <td>None</td>\n",
       "      <td>0.64</td>\n",
       "      <td>5.44</td>\n",
       "    </tr>\n",
       "    <tr>\n",
       "      <th>RidgeClassifierCV</th>\n",
       "      <td>0.70</td>\n",
       "      <td>0.37</td>\n",
       "      <td>None</td>\n",
       "      <td>0.68</td>\n",
       "      <td>2.91</td>\n",
       "    </tr>\n",
       "    <tr>\n",
       "      <th>RidgeClassifier</th>\n",
       "      <td>0.70</td>\n",
       "      <td>0.37</td>\n",
       "      <td>None</td>\n",
       "      <td>0.68</td>\n",
       "      <td>1.05</td>\n",
       "    </tr>\n",
       "    <tr>\n",
       "      <th>AdaBoostClassifier</th>\n",
       "      <td>0.56</td>\n",
       "      <td>0.34</td>\n",
       "      <td>None</td>\n",
       "      <td>0.58</td>\n",
       "      <td>35.12</td>\n",
       "    </tr>\n",
       "    <tr>\n",
       "      <th>DummyClassifier</th>\n",
       "      <td>0.49</td>\n",
       "      <td>0.14</td>\n",
       "      <td>None</td>\n",
       "      <td>0.32</td>\n",
       "      <td>0.76</td>\n",
       "    </tr>\n",
       "  </tbody>\n",
       "</table>\n",
       "</div>"
      ],
      "text/plain": [
       "                               Accuracy  Balanced Accuracy ROC AUC  F1 Score  \\\n",
       "Model                                                                          \n",
       "BaggingClassifier                  0.96               0.91    None      0.96   \n",
       "ExtraTreesClassifier               0.95               0.90    None      0.95   \n",
       "RandomForestClassifier             0.95               0.89    None      0.95   \n",
       "DecisionTreeClassifier             0.93               0.89    None      0.93   \n",
       "KNeighborsClassifier               0.92               0.85    None      0.92   \n",
       "LGBMClassifier                     0.85               0.80    None      0.85   \n",
       "ExtraTreeClassifier                0.85               0.78    None      0.85   \n",
       "SVC                                0.79               0.60    None      0.78   \n",
       "NearestCentroid                    0.55               0.59    None      0.58   \n",
       "LinearDiscriminantAnalysis         0.68               0.58    None      0.68   \n",
       "BernoulliNB                        0.64               0.53    None      0.64   \n",
       "LogisticRegression                 0.72               0.50    None      0.71   \n",
       "CalibratedClassifierCV             0.71               0.47    None      0.70   \n",
       "GaussianNB                         0.09               0.45    None      0.06   \n",
       "PassiveAggressiveClassifier        0.66               0.45    None      0.65   \n",
       "LinearSVC                          0.71               0.45    None      0.70   \n",
       "SGDClassifier                      0.71               0.44    None      0.70   \n",
       "QuadraticDiscriminantAnalysis      0.08               0.42    None      0.04   \n",
       "Perceptron                         0.63               0.40    None      0.64   \n",
       "RidgeClassifierCV                  0.70               0.37    None      0.68   \n",
       "RidgeClassifier                    0.70               0.37    None      0.68   \n",
       "AdaBoostClassifier                 0.56               0.34    None      0.58   \n",
       "DummyClassifier                    0.49               0.14    None      0.32   \n",
       "\n",
       "                               Time Taken  \n",
       "Model                                      \n",
       "BaggingClassifier                   36.92  \n",
       "ExtraTreesClassifier                83.90  \n",
       "RandomForestClassifier              66.03  \n",
       "DecisionTreeClassifier               5.67  \n",
       "KNeighborsClassifier                40.22  \n",
       "LGBMClassifier                       6.57  \n",
       "ExtraTreeClassifier                  3.27  \n",
       "SVC                              12498.58  \n",
       "NearestCentroid                      0.84  \n",
       "LinearDiscriminantAnalysis           3.13  \n",
       "BernoulliNB                          0.94  \n",
       "LogisticRegression                  10.12  \n",
       "CalibratedClassifierCV             335.52  \n",
       "GaussianNB                           1.42  \n",
       "PassiveAggressiveClassifier          4.41  \n",
       "LinearSVC                          582.41  \n",
       "SGDClassifier                        8.38  \n",
       "QuadraticDiscriminantAnalysis        2.20  \n",
       "Perceptron                           5.44  \n",
       "RidgeClassifierCV                    2.91  \n",
       "RidgeClassifier                      1.05  \n",
       "AdaBoostClassifier                  35.12  \n",
       "DummyClassifier                      0.76  "
      ]
     },
     "execution_count": 45,
     "metadata": {},
     "output_type": "execute_result"
    }
   ],
   "source": [
    "models"
   ]
  },
  {
   "cell_type": "code",
   "execution_count": 46,
   "metadata": {},
   "outputs": [],
   "source": [
    "# Convert results into a DataFrame\n",
    "test_results = pd.DataFrame(models)"
   ]
  },
  {
   "cell_type": "code",
   "execution_count": 47,
   "metadata": {},
   "outputs": [],
   "source": [
    "# Save to a text file\n",
    "test_results.to_csv(f'model_results/{file_name}_results_val.txt', index=True)"
   ]
  },
  {
   "cell_type": "code",
   "execution_count": null,
   "metadata": {},
   "outputs": [],
   "source": []
  }
 ],
 "metadata": {
  "kernelspec": {
   "display_name": "Python 3",
   "language": "python",
   "name": "python3"
  },
  "language_info": {
   "codemirror_mode": {
    "name": "ipython",
    "version": 3
   },
   "file_extension": ".py",
   "mimetype": "text/x-python",
   "name": "python",
   "nbconvert_exporter": "python",
   "pygments_lexer": "ipython3",
   "version": "3.11.7"
  }
 },
 "nbformat": 4,
 "nbformat_minor": 2
}
