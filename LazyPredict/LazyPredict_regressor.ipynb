{
 "cells": [
  {
   "cell_type": "markdown",
   "metadata": {},
   "source": [
    "# Lazy Predict for regression"
   ]
  },
  {
   "cell_type": "code",
   "execution_count": 1,
   "metadata": {},
   "outputs": [
    {
     "name": "stdout",
     "output_type": "stream",
     "text": [
      "Requirement already satisfied: lazypredict in c:\\users\\jiayu\\anaconda3\\envs\\tinto-hnn\\lib\\site-packages (0.2.12)\n",
      "Requirement already satisfied: click in c:\\users\\jiayu\\appdata\\roaming\\python\\python311\\site-packages (from lazypredict) (8.1.7)\n",
      "Requirement already satisfied: scikit-learn in c:\\users\\jiayu\\anaconda3\\envs\\tinto-hnn\\lib\\site-packages (from lazypredict) (1.4.0)\n",
      "Requirement already satisfied: pandas in c:\\users\\jiayu\\anaconda3\\envs\\tinto-hnn\\lib\\site-packages (from lazypredict) (2.2.0)\n",
      "Requirement already satisfied: tqdm in c:\\users\\jiayu\\appdata\\roaming\\python\\python311\\site-packages (from lazypredict) (4.66.1)\n",
      "Requirement already satisfied: joblib in c:\\users\\jiayu\\anaconda3\\envs\\tinto-hnn\\lib\\site-packages (from lazypredict) (1.3.2)\n",
      "Requirement already satisfied: lightgbm in c:\\users\\jiayu\\anaconda3\\envs\\tinto-hnn\\lib\\site-packages (from lazypredict) (4.3.0)\n",
      "Requirement already satisfied: xgboost in c:\\users\\jiayu\\anaconda3\\envs\\tinto-hnn\\lib\\site-packages (from lazypredict) (2.0.3)\n",
      "Requirement already satisfied: colorama in c:\\users\\jiayu\\appdata\\roaming\\python\\python311\\site-packages (from click->lazypredict) (0.4.6)\n",
      "Requirement already satisfied: numpy in c:\\users\\jiayu\\anaconda3\\envs\\tinto-hnn\\lib\\site-packages (from lightgbm->lazypredict) (1.24.3)\n",
      "Requirement already satisfied: scipy in c:\\users\\jiayu\\appdata\\roaming\\python\\python311\\site-packages (from lightgbm->lazypredict) (1.11.2)\n",
      "Requirement already satisfied: python-dateutil>=2.8.2 in c:\\users\\jiayu\\anaconda3\\envs\\tinto-hnn\\lib\\site-packages (from pandas->lazypredict) (2.8.2)\n",
      "Requirement already satisfied: pytz>=2020.1 in c:\\users\\jiayu\\anaconda3\\envs\\tinto-hnn\\lib\\site-packages (from pandas->lazypredict) (2023.4)\n",
      "Requirement already satisfied: tzdata>=2022.7 in c:\\users\\jiayu\\anaconda3\\envs\\tinto-hnn\\lib\\site-packages (from pandas->lazypredict) (2023.4)\n",
      "Requirement already satisfied: threadpoolctl>=2.0.0 in c:\\users\\jiayu\\anaconda3\\envs\\tinto-hnn\\lib\\site-packages (from scikit-learn->lazypredict) (3.2.0)\n",
      "Requirement already satisfied: six>=1.5 in c:\\users\\jiayu\\anaconda3\\envs\\tinto-hnn\\lib\\site-packages (from python-dateutil>=2.8.2->pandas->lazypredict) (1.16.0)\n",
      "Note: you may need to restart the kernel to use updated packages.\n"
     ]
    }
   ],
   "source": [
    "pip install lazypredict"
   ]
  },
  {
   "cell_type": "code",
   "execution_count": 10,
   "metadata": {},
   "outputs": [],
   "source": [
    "# Imports\n",
    "import tensorflow as tf\n",
    "import os\n",
    "import pandas as pd\n",
    "from sklearn.model_selection import train_test_split\n",
    "from lazypredict.Supervised import LazyRegressor\n",
    "import numpy as np\n",
    "import lazypredict\n",
    "import matplotlib.pyplot as plt\n",
    "import seaborn as sns\n",
    "import random\n",
    "\n",
    "#from sklearn.metrics import accuracy_score, balanced_accuracy_score, roc_auc_score, f1_score"
   ]
  },
  {
   "cell_type": "markdown",
   "metadata": {},
   "source": [
    "## Set random seed for reproducibility"
   ]
  },
  {
   "cell_type": "code",
   "execution_count": 11,
   "metadata": {},
   "outputs": [],
   "source": [
    "SEED = 64\n",
    "\n",
    "#torch.backends.cudnn.deterministic = True\n",
    "#torch.backends.cudnn.benchmark = False\n",
    "os.environ['PYTHONHASHSEED']=str(SEED)\n",
    "random.seed(SEED)\n",
    "np.random.seed(SEED)\n",
    "tf.random.set_seed(SEED)"
   ]
  },
  {
   "cell_type": "markdown",
   "metadata": {},
   "source": [
    "## Data Loading"
   ]
  },
  {
   "cell_type": "code",
   "execution_count": 14,
   "metadata": {},
   "outputs": [],
   "source": [
    "# Only modify this\n",
    "file_name = \"Ozono\""
   ]
  },
  {
   "cell_type": "code",
   "execution_count": 15,
   "metadata": {},
   "outputs": [],
   "source": [
    "df = pd.read_csv(f'../raw_data/{file_name}.csv')"
   ]
  },
  {
   "cell_type": "code",
   "execution_count": 16,
   "metadata": {},
   "outputs": [
    {
     "name": "stdout",
     "output_type": "stream",
     "text": [
      "   MES  DIA  HORA  DS  H-D-S  BJU  CUT   FAC  GAM   INN  MER  MGH   MON   NEZ  \\\n",
      "0    1    1     1   1      1 4.86 2.57 10.14 3.71 30.71 4.71 3.14 28.57 17.86   \n",
      "1    1    1     2   1      2 5.29 2.43  6.71 3.86 29.57 4.14 2.29 26.86 16.71   \n",
      "2    1    1     3   1      3 4.71 3.00  7.14 2.71 31.43 2.57 1.71 20.57 13.71   \n",
      "3    1    1     4   1      4 1.00 3.00  3.00 3.00 32.00 1.00 2.00  4.00 10.00   \n",
      "4    1    1     5   1      5 0.00 4.00  2.00 2.00 32.00 2.00 2.00  4.00  8.00   \n",
      "\n",
      "    PED  SAG   TAH  TLA   UAX  \n",
      "0  9.00 7.71 10.14 5.71 13.29  \n",
      "1  8.57 5.57  9.86 3.71 13.29  \n",
      "2  9.57 4.86  8.43 4.00 10.57  \n",
      "3 11.00 4.00 11.00 1.00  5.00  \n",
      "4 16.00 1.00 12.00 1.00  6.00  \n",
      "<class 'pandas.core.frame.DataFrame'>\n",
      "RangeIndex: 40128 entries, 0 to 40127\n",
      "Data columns (total 19 columns):\n",
      " #   Column  Non-Null Count  Dtype  \n",
      "---  ------  --------------  -----  \n",
      " 0   MES     40128 non-null  int64  \n",
      " 1   DIA     40128 non-null  int64  \n",
      " 2   HORA    40128 non-null  int64  \n",
      " 3   DS      40128 non-null  int64  \n",
      " 4   H-D-S   40128 non-null  int64  \n",
      " 5   BJU     40128 non-null  float64\n",
      " 6   CUT     40128 non-null  float64\n",
      " 7   FAC     40128 non-null  float64\n",
      " 8   GAM     40128 non-null  float64\n",
      " 9   INN     40128 non-null  float64\n",
      " 10  MER     40128 non-null  float64\n",
      " 11  MGH     40128 non-null  float64\n",
      " 12  MON     40128 non-null  float64\n",
      " 13  NEZ     40128 non-null  float64\n",
      " 14  PED     40128 non-null  float64\n",
      " 15  SAG     40128 non-null  float64\n",
      " 16  TAH     40128 non-null  float64\n",
      " 17  TLA     40128 non-null  float64\n",
      " 18  UAX     40128 non-null  float64\n",
      "dtypes: float64(14), int64(5)\n",
      "memory usage: 5.8 MB\n",
      "None\n",
      "Number of rows: 40128\n",
      "Number of columns: 19\n"
     ]
    }
   ],
   "source": [
    "# Display the first few rows of the dataframe\n",
    "print(df.head())\n",
    "\n",
    "# Display the dataframe's information (column types, non-null values, etc.)\n",
    "print(df.info())\n",
    "\n",
    "# Get the number of rows and columns\n",
    "print(\"Number of rows:\", df.shape[0])\n",
    "print(\"Number of columns:\", df.shape[1])"
   ]
  },
  {
   "cell_type": "code",
   "execution_count": 18,
   "metadata": {},
   "outputs": [
    {
     "name": "stdout",
     "output_type": "stream",
     "text": [
      "           MES      DIA     HORA       DS    H-D-S      BJU      CUT      FAC  \\\n",
      "count 40128.00 40128.00 40128.00 40128.00 40128.00 40128.00 40128.00 40128.00   \n",
      "mean      6.21    15.71    12.50   161.78  4147.71    30.39    26.86    29.02   \n",
      "std       3.40     8.79     6.92   113.16  2496.17    27.17    25.10    24.58   \n",
      "min       1.00     1.00     1.00     1.00     1.00     0.00     0.00     0.00   \n",
      "25%       3.00     8.00     6.75    52.00  2007.00     9.00     5.00    10.00   \n",
      "50%       6.00    16.00    12.50   156.50  4013.00    22.00    20.00    22.00   \n",
      "75%       9.00    23.00    18.25   261.00  6252.25    46.00    43.00    42.00   \n",
      "max      12.00    31.00    24.00   365.00  8760.00   169.00   154.00   161.00   \n",
      "\n",
      "           GAM      INN      MER      MGH      MON      NEZ      PED      SAG  \\\n",
      "count 40128.00 40128.00 40128.00 40128.00 40128.00 40128.00 40128.00 40128.00   \n",
      "mean     30.92    34.02    27.40    29.96    30.47    31.82    34.87    25.98   \n",
      "std      27.72    17.26    27.35    27.39    24.80    26.45    27.46    22.35   \n",
      "min       0.00     0.00     0.00     0.00     0.00     0.00     0.00     0.00   \n",
      "25%       7.00    21.00     5.00     8.00     8.00    10.00    14.00     8.00   \n",
      "50%      23.00    31.00    18.00    21.00    26.29    25.00    27.00    20.00   \n",
      "75%      47.00    45.00    43.00    45.00    48.00    49.00    50.00    39.57   \n",
      "max     146.00   137.00   156.00   155.00   133.00   158.00   169.00   134.00   \n",
      "\n",
      "           TAH      TLA      UAX  \n",
      "count 40128.00 40128.00 40128.00  \n",
      "mean     34.59    26.40    33.49  \n",
      "std      25.11    24.20    28.17  \n",
      "min       0.00     0.00     0.00  \n",
      "25%      14.00     7.00    10.00  \n",
      "50%      28.00    19.00    26.00  \n",
      "75%      51.00    40.00    51.00  \n",
      "max     144.00   149.00   154.00  \n"
     ]
    }
   ],
   "source": [
    "# Summary statistics for numerical columns\n",
    "print(df.describe())\n",
    "\n",
    "# For categorical columns if any\n",
    "#print(df.describe(include='object'))"
   ]
  },
  {
   "cell_type": "code",
   "execution_count": 19,
   "metadata": {},
   "outputs": [
    {
     "name": "stdout",
     "output_type": "stream",
     "text": [
      "MES      0\n",
      "DIA      0\n",
      "HORA     0\n",
      "DS       0\n",
      "H-D-S    0\n",
      "BJU      0\n",
      "CUT      0\n",
      "FAC      0\n",
      "GAM      0\n",
      "INN      0\n",
      "MER      0\n",
      "MGH      0\n",
      "MON      0\n",
      "NEZ      0\n",
      "PED      0\n",
      "SAG      0\n",
      "TAH      0\n",
      "TLA      0\n",
      "UAX      0\n",
      "dtype: int64\n"
     ]
    }
   ],
   "source": [
    "# Check for missing values\n",
    "print(df.isnull().sum())"
   ]
  },
  {
   "cell_type": "code",
   "execution_count": 20,
   "metadata": {},
   "outputs": [
    {
     "data": {
      "image/png": "[encoded data removed]",
      "text/plain": [
       "<Figure size 1500x1000 with 20 Axes>"
      ]
     },
     "metadata": {},
     "output_type": "display_data"
    }
   ],
   "source": [
    "# Histograms for numerical data\n",
    "df.hist(bins=15, figsize=(15, 10))\n",
    "plt.tight_layout()  # Adjusts subplot params so that subplots are nicely fit in the figure.\n",
    "plt.show()"
   ]
  },
  {
   "cell_type": "markdown",
   "metadata": {},
   "source": [
    "## Data Preprocessing"
   ]
  },
  {
   "cell_type": "code",
   "execution_count": 21,
   "metadata": {},
   "outputs": [
    {
     "data": {
      "text/plain": [
       "array([[-1.53009318, -1.67332846, -1.66132477, ..., -0.81732429,\n",
       "        -0.97349392, -0.85458353],\n",
       "       [-1.53009318, -1.67332846, -1.51686175, ..., -0.91318957,\n",
       "        -0.98487095, -0.93721451],\n",
       "       [-1.53009318, -1.67332846, -1.37239873, ..., -0.94514466,\n",
       "        -1.0417561 , -0.92541009],\n",
       "       ...,\n",
       "       [ 0.23264164,  1.73862908,  1.37239873, ..., -0.32521586,\n",
       "        -0.31931469, -0.71883262],\n",
       "       [ 0.23264164,  1.73862908,  1.51686175, ..., -0.32521586,\n",
       "        -0.31931469, -0.63620163],\n",
       "       [ 0.23264164,  1.73862908,  1.66132477, ..., -0.32521586,\n",
       "        -0.31931469, -0.55357064]])"
      ]
     },
     "execution_count": 21,
     "metadata": {},
     "output_type": "execute_result"
    }
   ],
   "source": [
    "from sklearn.preprocessing import StandardScaler\n",
    "scaler = StandardScaler()\n",
    "X = df.iloc[:,:-1]\n",
    "\n",
    "X = scaler.fit_transform(X)\n",
    "X"
   ]
  },
  {
   "cell_type": "code",
   "execution_count": 22,
   "metadata": {},
   "outputs": [
    {
     "data": {
      "text/plain": [
       "0       13.29\n",
       "1       13.29\n",
       "2       10.57\n",
       "3        5.00\n",
       "4        6.00\n",
       "         ... \n",
       "40123    7.00\n",
       "40124    6.00\n",
       "40125   11.00\n",
       "40126    9.00\n",
       "40127    4.00\n",
       "Name: UAX, Length: 40128, dtype: float64"
      ]
     },
     "execution_count": 22,
     "metadata": {},
     "output_type": "execute_result"
    }
   ],
   "source": [
    "y = df.iloc[:,-1]\n",
    "y"
   ]
  },
  {
   "cell_type": "code",
   "execution_count": 23,
   "metadata": {},
   "outputs": [],
   "source": [
    "X_train, X_val, y_train, y_val = train_test_split(X, y, test_size = 0.40, random_state = 123)\n",
    "X_val, X_test, y_val, y_test = train_test_split(X_val, y_val, test_size = 0.50, random_state = 123)"
   ]
  },
  {
   "cell_type": "code",
   "execution_count": 24,
   "metadata": {},
   "outputs": [
    {
     "data": {
      "text/plain": [
       "20986   53.00\n",
       "7487    10.14\n",
       "5298    34.00\n",
       "2639    20.00\n",
       "32964   38.14\n",
       "         ... \n",
       "3406    28.00\n",
       "20631   68.00\n",
       "9893     1.00\n",
       "17212    7.00\n",
       "32360   21.00\n",
       "Name: UAX, Length: 8026, dtype: float64"
      ]
     },
     "execution_count": 24,
     "metadata": {},
     "output_type": "execute_result"
    }
   ],
   "source": [
    "y_val"
   ]
  },
  {
   "cell_type": "markdown",
   "metadata": {},
   "source": [
    "## Model Architecture (Lazy Predict)"
   ]
  },
  {
   "cell_type": "code",
   "execution_count": 25,
   "metadata": {},
   "outputs": [],
   "source": [
    "#lazypredict.supervised.REGRESSORS = lazypredict.supervised.REGRESSORS[33:36]\n",
    "#lazypredict.supervised.REGRESSORS"
   ]
  },
  {
   "cell_type": "code",
   "execution_count": 27,
   "metadata": {},
   "outputs": [
    {
     "data": {
      "text/plain": [
       "lazypredict.Supervised.LazyRegressor"
      ]
     },
     "execution_count": 27,
     "metadata": {},
     "output_type": "execute_result"
    }
   ],
   "source": [
    "LazyRegressor"
   ]
  },
  {
   "cell_type": "code",
   "execution_count": 28,
   "metadata": {},
   "outputs": [],
   "source": [
    "clf = LazyRegressor(verbose=2, ignore_warnings=True, custom_metric=None)"
   ]
  },
  {
   "cell_type": "markdown",
   "metadata": {},
   "source": [
    "## Model Training"
   ]
  },
  {
   "cell_type": "code",
   "execution_count": 29,
   "metadata": {},
   "outputs": [
    {
     "name": "stderr",
     "output_type": "stream",
     "text": [
      "  0%|          | 0/42 [00:00<?, ?it/s]"
     ]
    },
    {
     "name": "stderr",
     "output_type": "stream",
     "text": [
      "  2%|▏         | 1/42 [00:01<01:08,  1.68s/it]"
     ]
    },
    {
     "name": "stdout",
     "output_type": "stream",
     "text": [
      "{'Model': 'AdaBoostRegressor', 'R-Squared': 0.9151358087000871, 'Adjusted R-Squared': 0.914945031199975, 'RMSE': 8.25947223715429, 'Time taken': 1.6828994750976562}\n"
     ]
    },
    {
     "name": "stderr",
     "output_type": "stream",
     "text": [
      "  5%|▍         | 2/42 [00:03<01:09,  1.75s/it]"
     ]
    },
    {
     "name": "stdout",
     "output_type": "stream",
     "text": [
      "{'Model': 'BaggingRegressor', 'R-Squared': 0.9461612665156223, 'Adjusted R-Squared': 0.9460402352676244, 'RMSE': 6.578660529771984, 'Time taken': 1.7883610725402832}\n",
      "{'Model': 'BayesianRidge', 'R-Squared': 0.9404504999315172, 'Adjusted R-Squared': 0.9403166306919477, 'RMSE': 6.918773591992889, 'Time taken': 0.04114413261413574}\n"
     ]
    },
    {
     "name": "stderr",
     "output_type": "stream",
     "text": [
      " 10%|▉         | 4/42 [00:03<00:28,  1.32it/s]"
     ]
    },
    {
     "name": "stdout",
     "output_type": "stream",
     "text": [
      "{'Model': 'DecisionTreeRegressor', 'R-Squared': 0.8983362369182586, 'Adjusted R-Squared': 0.8981076934268797, 'RMSE': 9.040098233359481, 'Time taken': 0.29604005813598633}\n",
      "{'Model': 'DummyRegressor', 'R-Squared': -1.757956783698944e-06, 'Adjusted R-Squared': -0.0022497948798787526, 'RMSE': 28.352440056884134, 'Time taken': 0.018494844436645508}\n"
     ]
    },
    {
     "name": "stderr",
     "output_type": "stream",
     "text": [
      " 14%|█▍        | 6/42 [00:04<00:17,  2.07it/s]"
     ]
    },
    {
     "name": "stdout",
     "output_type": "stream",
     "text": [
      "{'Model': 'ElasticNet', 'R-Squared': 0.921220676054344, 'Adjusted R-Squared': 0.9210435775366692, 'RMSE': 7.9578579748534795, 'Time taken': 0.3382573127746582}\n"
     ]
    },
    {
     "name": "stderr",
     "output_type": "stream",
     "text": [
      " 17%|█▋        | 7/42 [00:06<00:29,  1.21it/s]"
     ]
    },
    {
     "name": "stdout",
     "output_type": "stream",
     "text": [
      "{'Model': 'ElasticNetCV', 'R-Squared': 0.9391257188085207, 'Adjusted R-Squared': 0.9389888714173071, 'RMSE': 6.995310274337394, 'Time taken': 1.8488984107971191}\n",
      "{'Model': 'ExtraTreeRegressor', 'R-Squared': 0.8908526653720769, 'Adjusted R-Squared': 0.8906072985651201, 'RMSE': 9.366916020294752, 'Time taken': 0.09601020812988281}\n"
     ]
    },
    {
     "name": "stderr",
     "output_type": "stream",
     "text": [
      " 21%|██▏       | 9/42 [00:14<01:12,  2.19s/it]"
     ]
    },
    {
     "name": "stdout",
     "output_type": "stream",
     "text": [
      "{'Model': 'ExtraTreesRegressor', 'R-Squared': 0.952831249064061, 'Adjusted R-Squared': 0.9527252121567491, 'RMSE': 6.157681861131541, 'Time taken': 8.039119720458984}\n"
     ]
    },
    {
     "name": "stderr",
     "output_type": "stream",
     "text": [
      " 26%|██▌       | 11/42 [01:47<09:44, 18.85s/it]"
     ]
    },
    {
     "name": "stdout",
     "output_type": "stream",
     "text": [
      "{'Model': 'GaussianProcessRegressor', 'R-Squared': 0.8722251296070671, 'Adjusted R-Squared': 0.8719378874855394, 'RMSE': 10.134744016251537, 'Time taken': 93.39059829711914}\n"
     ]
    },
    {
     "name": "stderr",
     "output_type": "stream",
     "text": [
      " 29%|██▊       | 12/42 [01:51<07:54, 15.81s/it]"
     ]
    },
    {
     "name": "stdout",
     "output_type": "stream",
     "text": [
      "{'Model': 'GradientBoostingRegressor', 'R-Squared': 0.9465585266711192, 'Adjusted R-Squared': 0.946438388477049, 'RMSE': 6.554344592577291, 'Time taken': 4.405941724777222}\n"
     ]
    },
    {
     "name": "stderr",
     "output_type": "stream",
     "text": [
      " 31%|███       | 13/42 [01:52<05:58, 12.36s/it]"
     ]
    },
    {
     "name": "stdout",
     "output_type": "stream",
     "text": [
      "{'Model': 'HistGradientBoostingRegressor', 'R-Squared': 0.9536392515365224, 'Adjusted R-Squared': 0.9535350310454093, 'RMSE': 6.10471338267584, 'Time taken': 0.9312913417816162}\n"
     ]
    },
    {
     "name": "stderr",
     "output_type": "stream",
     "text": [
      "c:\\Users\\jiayu\\anaconda3\\envs\\Tinto-HNN\\Lib\\site-packages\\sklearn\\linear_model\\_huber.py:342: ConvergenceWarning: lbfgs failed to converge (status=1):\n",
      "STOP: TOTAL NO. of ITERATIONS REACHED LIMIT.\n",
      "\n",
      "Increase the number of iterations (max_iter) or scale the data as shown in:\n",
      "    https://scikit-learn.org/stable/modules/preprocessing.html\n",
      "  self.n_iter_ = _check_optimize_result(\"lbfgs\", opt_res, self.max_iter)\n",
      " 33%|███▎      | 14/42 [01:53<04:22,  9.37s/it]"
     ]
    },
    {
     "name": "stdout",
     "output_type": "stream",
     "text": [
      "{'Model': 'HuberRegressor', 'R-Squared': 0.9399180352827294, 'Adjusted R-Squared': 0.9397829690450735, 'RMSE': 6.949637023168753, 'Time taken': 0.3331179618835449}\n"
     ]
    },
    {
     "name": "stderr",
     "output_type": "stream",
     "text": [
      " 36%|███▌      | 15/42 [01:53<03:08,  6.99s/it]"
     ]
    },
    {
     "name": "stdout",
     "output_type": "stream",
     "text": [
      "{'Model': 'KNeighborsRegressor', 'R-Squared': 0.9451199130825555, 'Adjusted R-Squared': 0.9449965408377055, 'RMSE': 6.641978331620983, 'Time taken': 0.280597448348999}\n"
     ]
    },
    {
     "name": "stderr",
     "output_type": "stream",
     "text": [
      " 38%|███▊      | 16/42 [02:35<07:09, 16.53s/it]"
     ]
    },
    {
     "name": "stdout",
     "output_type": "stream",
     "text": [
      "{'Model': 'KernelRidge', 'R-Squared': -0.46428564825517604, 'Adjusted R-Squared': -0.46757741067163594, 'RMSE': 34.30859727686511, 'Time taken': 41.99938702583313}\n",
      "{'Model': 'Lars', 'R-Squared': 0.9405682444036845, 'Adjusted R-Squared': 0.9404346398575706, 'RMSE': 6.911930121993735, 'Time taken': 0.025643110275268555}\n",
      "{'Model': 'LarsCV', 'R-Squared': 0.9391753068378247, 'Adjusted R-Squared': 0.939038570922136, 'RMSE': 6.992460513194448, 'Time taken': 0.07322168350219727}\n"
     ]
    },
    {
     "name": "stderr",
     "output_type": "stream",
     "text": [
      " 45%|████▌     | 19/42 [02:36<02:59,  7.82s/it]"
     ]
    },
    {
     "name": "stdout",
     "output_type": "stream",
     "text": [
      "{'Model': 'Lasso', 'R-Squared': 0.9350520705286663, 'Adjusted R-Squared': 0.9349060654418069, 'RMSE': 7.225580009636871, 'Time taken': 0.9828851222991943}\n"
     ]
    },
    {
     "name": "stderr",
     "output_type": "stream",
     "text": [
      " 55%|█████▍    | 23/42 [02:39<01:09,  3.63s/it]"
     ]
    },
    {
     "name": "stdout",
     "output_type": "stream",
     "text": [
      "{'Model': 'LassoCV', 'R-Squared': 0.9402521395218449, 'Adjusted R-Squared': 0.9401178243615343, 'RMSE': 6.930287288842697, 'Time taken': 2.6856191158294678}\n",
      "{'Model': 'LassoLars', 'R-Squared': 0.935055443897853, 'Adjusted R-Squared': 0.9349094463944386, 'RMSE': 7.225392360348678, 'Time taken': 0.021026134490966797}\n",
      "{'Model': 'LassoLarsCV', 'R-Squared': 0.9405682444036845, 'Adjusted R-Squared': 0.9404346398575706, 'RMSE': 6.911930121993735, 'Time taken': 0.07572007179260254}\n",
      "{'Model': 'LassoLarsIC', 'R-Squared': 0.9405682444036845, 'Adjusted R-Squared': 0.9404346398575706, 'RMSE': 6.911930121993735, 'Time taken': 0.032622575759887695}\n",
      "{'Model': 'LinearRegression', 'R-Squared': 0.9405682444036846, 'Adjusted R-Squared': 0.9404346398575707, 'RMSE': 6.911930121993726, 'Time taken': 0.0230712890625}\n"
     ]
    },
    {
     "name": "stderr",
     "output_type": "stream",
     "text": [
      "c:\\Users\\jiayu\\anaconda3\\envs\\Tinto-HNN\\Lib\\site-packages\\sklearn\\svm\\_classes.py:31: FutureWarning: The default value of `dual` will change from `True` to `'auto'` in 1.5. Set the value of `dual` explicitly to suppress the warning.\n",
      "  warnings.warn(\n",
      " 60%|█████▉    | 25/42 [02:39<00:43,  2.54s/it]"
     ]
    },
    {
     "name": "stdout",
     "output_type": "stream",
     "text": [
      "{'Model': 'LinearSVR', 'R-Squared': 0.9396506203042368, 'Adjusted R-Squared': 0.9395149529088923, 'RMSE': 6.965085700099744, 'Time taken': 0.13490796089172363}\n"
     ]
    },
    {
     "name": "stderr",
     "output_type": "stream",
     "text": [
      "c:\\Users\\jiayu\\anaconda3\\envs\\Tinto-HNN\\Lib\\site-packages\\sklearn\\neural_network\\_multilayer_perceptron.py:691: ConvergenceWarning: Stochastic Optimizer: Maximum iterations (200) reached and the optimization hasn't converged yet.\n",
      "  warnings.warn(\n",
      " 62%|██████▏   | 26/42 [02:58<01:26,  5.43s/it]"
     ]
    },
    {
     "name": "stdout",
     "output_type": "stream",
     "text": [
      "{'Model': 'MLPRegressor', 'R-Squared': 0.9508070683632446, 'Adjusted R-Squared': 0.9506964810309776, 'RMSE': 6.288418137789583, 'Time taken': 18.610244035720825}\n"
     ]
    },
    {
     "name": "stderr",
     "output_type": "stream",
     "text": [
      " 74%|███████▍  | 31/42 [03:24<00:49,  4.51s/it]"
     ]
    },
    {
     "name": "stdout",
     "output_type": "stream",
     "text": [
      "{'Model': 'NuSVR', 'R-Squared': 0.9404069435982066, 'Adjusted R-Squared': 0.9402729764425638, 'RMSE': 6.921303431228625, 'Time taken': 26.445335149765015}\n",
      "{'Model': 'OrthogonalMatchingPursuit', 'R-Squared': 0.8915942645147994, 'Adjusted R-Squared': 0.8913505648471669, 'RMSE': 9.335040131498799, 'Time taken': 0.020496606826782227}\n",
      "{'Model': 'OrthogonalMatchingPursuitCV', 'R-Squared': 0.9349152172777, 'Adjusted R-Squared': 0.9347689045402201, 'RMSE': 7.233188595211612, 'Time taken': 0.04702186584472656}\n",
      "{'Model': 'PassiveAggressiveRegressor', 'R-Squared': 0.9193131656017689, 'Adjusted R-Squared': 0.9191317789377039, 'RMSE': 8.053624888199458, 'Time taken': 0.031351566314697266}\n",
      "{'Model': 'PoissonRegressor', 'R-Squared': 0.8159302766339157, 'Adjusted R-Squared': 0.8155164818267983, 'RMSE': 12.164135213308043, 'Time taken': 0.038585662841796875}\n"
     ]
    },
    {
     "name": "stderr",
     "output_type": "stream",
     "text": [
      " 76%|███████▌  | 32/42 [03:36<00:55,  5.60s/it]"
     ]
    },
    {
     "name": "stdout",
     "output_type": "stream",
     "text": [
      "{'Model': 'QuantileRegressor', 'R-Squared': -0.0692256480381892, 'Adjusted R-Squared': -0.07162930254857858, 'RMSE': 29.317352113954197, 'Time taken': 11.260712146759033}\n",
      "{'Model': 'RANSACRegressor', 'R-Squared': 0.9355560429611733, 'Adjusted R-Squared': 0.9354111708209587, 'RMSE': 7.197491471079553, 'Time taken': 0.05101895332336426}\n"
     ]
    },
    {
     "name": "stderr",
     "output_type": "stream",
     "text": [
      " 88%|████████▊ | 37/42 [03:53<00:19,  3.96s/it]"
     ]
    },
    {
     "name": "stdout",
     "output_type": "stream",
     "text": [
      "{'Model': 'RandomForestRegressor', 'R-Squared': 0.9520236816570288, 'Adjusted R-Squared': 0.9519158293115594, 'RMSE': 6.210170415515288, 'Time taken': 17.55662512779236}\n",
      "{'Model': 'Ridge', 'R-Squared': 0.940486260635969, 'Adjusted R-Squared': 0.9403524717876421, 'RMSE': 6.9166958468086115, 'Time taken': 0.022501707077026367}\n",
      "{'Model': 'RidgeCV', 'R-Squared': 0.9405576597261435, 'Adjusted R-Squared': 0.9404240313853255, 'RMSE': 6.912545595099362, 'Time taken': 0.032518625259399414}\n",
      "{'Model': 'SGDRegressor', 'R-Squared': 0.9401143750853787, 'Adjusted R-Squared': 0.9399797502260726, 'RMSE': 6.938272490267262, 'Time taken': 0.051500797271728516}\n"
     ]
    },
    {
     "name": "stderr",
     "output_type": "stream",
     "text": [
      " 90%|█████████ | 38/42 [04:21<00:30,  7.73s/it]"
     ]
    },
    {
     "name": "stdout",
     "output_type": "stream",
     "text": [
      "{'Model': 'SVR', 'R-Squared': 0.9402724797685216, 'Adjusted R-Squared': 0.9401382103337561, 'RMSE': 6.929107533189959, 'Time taken': 27.39624857902527}\n",
      "{'Model': 'TransformedTargetRegressor', 'R-Squared': 0.9405682444036846, 'Adjusted R-Squared': 0.9404346398575707, 'RMSE': 6.911930121993726, 'Time taken': 0.027004241943359375}\n",
      "{'Model': 'TweedieRegressor', 'R-Squared': 0.9143883590915252, 'Adjusted R-Squared': 0.9141959013000487, 'RMSE': 8.29576555015273, 'Time taken': 0.023636817932128906}\n"
     ]
    },
    {
     "name": "stderr",
     "output_type": "stream",
     "text": [
      " 98%|█████████▊| 41/42 [04:21<00:04,  4.61s/it]"
     ]
    },
    {
     "name": "stdout",
     "output_type": "stream",
     "text": [
      "{'Model': 'XGBRegressor', 'R-Squared': 0.9522254326672823, 'Adjusted R-Squared': 0.9521180338647359, 'RMSE': 6.197099090284631, 'Time taken': 0.23367786407470703}\n",
      "[LightGBM] [Info] Auto-choosing row-wise multi-threading, the overhead of testing was 0.000770 seconds.\n",
      "You can set `force_row_wise=true` to remove the overhead.\n",
      "And if memory is not enough, you can set `force_col_wise=true`.\n",
      "[LightGBM] [Info] Total Bins 3885\n",
      "[LightGBM] [Info] Number of data points in the train set: 24076, number of used features: 18\n",
      "[LightGBM] [Info] Start training from score 33.497330\n"
     ]
    },
    {
     "name": "stderr",
     "output_type": "stream",
     "text": [
      "100%|██████████| 42/42 [04:21<00:00,  6.23s/it]"
     ]
    },
    {
     "name": "stdout",
     "output_type": "stream",
     "text": [
      "{'Model': 'LGBMRegressor', 'R-Squared': 0.9535950419174671, 'Adjusted R-Squared': 0.9534907220416727, 'RMSE': 6.1076234170433255, 'Time taken': 0.3490915298461914}\n"
     ]
    },
    {
     "name": "stderr",
     "output_type": "stream",
     "text": [
      "\n"
     ]
    }
   ],
   "source": [
    "models, predictions = clf.fit(X_train, X_val, y_train, y_val)"
   ]
  },
  {
   "cell_type": "markdown",
   "metadata": {},
   "source": [
    "## Model Evaluation"
   ]
  },
  {
   "cell_type": "code",
   "execution_count": 30,
   "metadata": {},
   "outputs": [
    {
     "data": {
      "text/html": [
       "<div>\n",
       "<style scoped>\n",
       "    .dataframe tbody tr th:only-of-type {\n",
       "        vertical-align: middle;\n",
       "    }\n",
       "\n",
       "    .dataframe tbody tr th {\n",
       "        vertical-align: top;\n",
       "    }\n",
       "\n",
       "    .dataframe thead th {\n",
       "        text-align: right;\n",
       "    }\n",
       "</style>\n",
       "<table border=\"1\" class=\"dataframe\">\n",
       "  <thead>\n",
       "    <tr style=\"text-align: right;\">\n",
       "      <th></th>\n",
       "      <th>Adjusted R-Squared</th>\n",
       "      <th>R-Squared</th>\n",
       "      <th>RMSE</th>\n",
       "      <th>Time Taken</th>\n",
       "    </tr>\n",
       "    <tr>\n",
       "      <th>Model</th>\n",
       "      <th></th>\n",
       "      <th></th>\n",
       "      <th></th>\n",
       "      <th></th>\n",
       "    </tr>\n",
       "  </thead>\n",
       "  <tbody>\n",
       "    <tr>\n",
       "      <th>HistGradientBoostingRegressor</th>\n",
       "      <td>0.95</td>\n",
       "      <td>0.95</td>\n",
       "      <td>6.10</td>\n",
       "      <td>0.93</td>\n",
       "    </tr>\n",
       "    <tr>\n",
       "      <th>LGBMRegressor</th>\n",
       "      <td>0.95</td>\n",
       "      <td>0.95</td>\n",
       "      <td>6.11</td>\n",
       "      <td>0.35</td>\n",
       "    </tr>\n",
       "    <tr>\n",
       "      <th>ExtraTreesRegressor</th>\n",
       "      <td>0.95</td>\n",
       "      <td>0.95</td>\n",
       "      <td>6.16</td>\n",
       "      <td>8.04</td>\n",
       "    </tr>\n",
       "    <tr>\n",
       "      <th>XGBRegressor</th>\n",
       "      <td>0.95</td>\n",
       "      <td>0.95</td>\n",
       "      <td>6.20</td>\n",
       "      <td>0.23</td>\n",
       "    </tr>\n",
       "    <tr>\n",
       "      <th>RandomForestRegressor</th>\n",
       "      <td>0.95</td>\n",
       "      <td>0.95</td>\n",
       "      <td>6.21</td>\n",
       "      <td>17.56</td>\n",
       "    </tr>\n",
       "    <tr>\n",
       "      <th>MLPRegressor</th>\n",
       "      <td>0.95</td>\n",
       "      <td>0.95</td>\n",
       "      <td>6.29</td>\n",
       "      <td>18.61</td>\n",
       "    </tr>\n",
       "    <tr>\n",
       "      <th>GradientBoostingRegressor</th>\n",
       "      <td>0.95</td>\n",
       "      <td>0.95</td>\n",
       "      <td>6.55</td>\n",
       "      <td>4.41</td>\n",
       "    </tr>\n",
       "    <tr>\n",
       "      <th>BaggingRegressor</th>\n",
       "      <td>0.95</td>\n",
       "      <td>0.95</td>\n",
       "      <td>6.58</td>\n",
       "      <td>1.79</td>\n",
       "    </tr>\n",
       "    <tr>\n",
       "      <th>KNeighborsRegressor</th>\n",
       "      <td>0.94</td>\n",
       "      <td>0.95</td>\n",
       "      <td>6.64</td>\n",
       "      <td>0.28</td>\n",
       "    </tr>\n",
       "    <tr>\n",
       "      <th>TransformedTargetRegressor</th>\n",
       "      <td>0.94</td>\n",
       "      <td>0.94</td>\n",
       "      <td>6.91</td>\n",
       "      <td>0.03</td>\n",
       "    </tr>\n",
       "    <tr>\n",
       "      <th>LinearRegression</th>\n",
       "      <td>0.94</td>\n",
       "      <td>0.94</td>\n",
       "      <td>6.91</td>\n",
       "      <td>0.02</td>\n",
       "    </tr>\n",
       "    <tr>\n",
       "      <th>LassoLarsIC</th>\n",
       "      <td>0.94</td>\n",
       "      <td>0.94</td>\n",
       "      <td>6.91</td>\n",
       "      <td>0.03</td>\n",
       "    </tr>\n",
       "    <tr>\n",
       "      <th>Lars</th>\n",
       "      <td>0.94</td>\n",
       "      <td>0.94</td>\n",
       "      <td>6.91</td>\n",
       "      <td>0.03</td>\n",
       "    </tr>\n",
       "    <tr>\n",
       "      <th>LassoLarsCV</th>\n",
       "      <td>0.94</td>\n",
       "      <td>0.94</td>\n",
       "      <td>6.91</td>\n",
       "      <td>0.08</td>\n",
       "    </tr>\n",
       "    <tr>\n",
       "      <th>RidgeCV</th>\n",
       "      <td>0.94</td>\n",
       "      <td>0.94</td>\n",
       "      <td>6.91</td>\n",
       "      <td>0.03</td>\n",
       "    </tr>\n",
       "    <tr>\n",
       "      <th>Ridge</th>\n",
       "      <td>0.94</td>\n",
       "      <td>0.94</td>\n",
       "      <td>6.92</td>\n",
       "      <td>0.02</td>\n",
       "    </tr>\n",
       "    <tr>\n",
       "      <th>BayesianRidge</th>\n",
       "      <td>0.94</td>\n",
       "      <td>0.94</td>\n",
       "      <td>6.92</td>\n",
       "      <td>0.04</td>\n",
       "    </tr>\n",
       "    <tr>\n",
       "      <th>NuSVR</th>\n",
       "      <td>0.94</td>\n",
       "      <td>0.94</td>\n",
       "      <td>6.92</td>\n",
       "      <td>26.45</td>\n",
       "    </tr>\n",
       "    <tr>\n",
       "      <th>SVR</th>\n",
       "      <td>0.94</td>\n",
       "      <td>0.94</td>\n",
       "      <td>6.93</td>\n",
       "      <td>27.40</td>\n",
       "    </tr>\n",
       "    <tr>\n",
       "      <th>LassoCV</th>\n",
       "      <td>0.94</td>\n",
       "      <td>0.94</td>\n",
       "      <td>6.93</td>\n",
       "      <td>2.69</td>\n",
       "    </tr>\n",
       "    <tr>\n",
       "      <th>SGDRegressor</th>\n",
       "      <td>0.94</td>\n",
       "      <td>0.94</td>\n",
       "      <td>6.94</td>\n",
       "      <td>0.05</td>\n",
       "    </tr>\n",
       "    <tr>\n",
       "      <th>HuberRegressor</th>\n",
       "      <td>0.94</td>\n",
       "      <td>0.94</td>\n",
       "      <td>6.95</td>\n",
       "      <td>0.33</td>\n",
       "    </tr>\n",
       "    <tr>\n",
       "      <th>LinearSVR</th>\n",
       "      <td>0.94</td>\n",
       "      <td>0.94</td>\n",
       "      <td>6.97</td>\n",
       "      <td>0.13</td>\n",
       "    </tr>\n",
       "    <tr>\n",
       "      <th>LarsCV</th>\n",
       "      <td>0.94</td>\n",
       "      <td>0.94</td>\n",
       "      <td>6.99</td>\n",
       "      <td>0.07</td>\n",
       "    </tr>\n",
       "    <tr>\n",
       "      <th>ElasticNetCV</th>\n",
       "      <td>0.94</td>\n",
       "      <td>0.94</td>\n",
       "      <td>7.00</td>\n",
       "      <td>1.85</td>\n",
       "    </tr>\n",
       "    <tr>\n",
       "      <th>RANSACRegressor</th>\n",
       "      <td>0.94</td>\n",
       "      <td>0.94</td>\n",
       "      <td>7.20</td>\n",
       "      <td>0.05</td>\n",
       "    </tr>\n",
       "    <tr>\n",
       "      <th>LassoLars</th>\n",
       "      <td>0.93</td>\n",
       "      <td>0.94</td>\n",
       "      <td>7.23</td>\n",
       "      <td>0.02</td>\n",
       "    </tr>\n",
       "    <tr>\n",
       "      <th>Lasso</th>\n",
       "      <td>0.93</td>\n",
       "      <td>0.94</td>\n",
       "      <td>7.23</td>\n",
       "      <td>0.98</td>\n",
       "    </tr>\n",
       "    <tr>\n",
       "      <th>OrthogonalMatchingPursuitCV</th>\n",
       "      <td>0.93</td>\n",
       "      <td>0.93</td>\n",
       "      <td>7.23</td>\n",
       "      <td>0.05</td>\n",
       "    </tr>\n",
       "    <tr>\n",
       "      <th>ElasticNet</th>\n",
       "      <td>0.92</td>\n",
       "      <td>0.92</td>\n",
       "      <td>7.96</td>\n",
       "      <td>0.34</td>\n",
       "    </tr>\n",
       "    <tr>\n",
       "      <th>PassiveAggressiveRegressor</th>\n",
       "      <td>0.92</td>\n",
       "      <td>0.92</td>\n",
       "      <td>8.05</td>\n",
       "      <td>0.03</td>\n",
       "    </tr>\n",
       "    <tr>\n",
       "      <th>AdaBoostRegressor</th>\n",
       "      <td>0.91</td>\n",
       "      <td>0.92</td>\n",
       "      <td>8.26</td>\n",
       "      <td>1.68</td>\n",
       "    </tr>\n",
       "    <tr>\n",
       "      <th>TweedieRegressor</th>\n",
       "      <td>0.91</td>\n",
       "      <td>0.91</td>\n",
       "      <td>8.30</td>\n",
       "      <td>0.02</td>\n",
       "    </tr>\n",
       "    <tr>\n",
       "      <th>DecisionTreeRegressor</th>\n",
       "      <td>0.90</td>\n",
       "      <td>0.90</td>\n",
       "      <td>9.04</td>\n",
       "      <td>0.30</td>\n",
       "    </tr>\n",
       "    <tr>\n",
       "      <th>OrthogonalMatchingPursuit</th>\n",
       "      <td>0.89</td>\n",
       "      <td>0.89</td>\n",
       "      <td>9.34</td>\n",
       "      <td>0.02</td>\n",
       "    </tr>\n",
       "    <tr>\n",
       "      <th>ExtraTreeRegressor</th>\n",
       "      <td>0.89</td>\n",
       "      <td>0.89</td>\n",
       "      <td>9.37</td>\n",
       "      <td>0.10</td>\n",
       "    </tr>\n",
       "    <tr>\n",
       "      <th>GaussianProcessRegressor</th>\n",
       "      <td>0.87</td>\n",
       "      <td>0.87</td>\n",
       "      <td>10.13</td>\n",
       "      <td>93.39</td>\n",
       "    </tr>\n",
       "    <tr>\n",
       "      <th>PoissonRegressor</th>\n",
       "      <td>0.82</td>\n",
       "      <td>0.82</td>\n",
       "      <td>12.16</td>\n",
       "      <td>0.04</td>\n",
       "    </tr>\n",
       "    <tr>\n",
       "      <th>DummyRegressor</th>\n",
       "      <td>-0.00</td>\n",
       "      <td>-0.00</td>\n",
       "      <td>28.35</td>\n",
       "      <td>0.02</td>\n",
       "    </tr>\n",
       "    <tr>\n",
       "      <th>QuantileRegressor</th>\n",
       "      <td>-0.07</td>\n",
       "      <td>-0.07</td>\n",
       "      <td>29.32</td>\n",
       "      <td>11.26</td>\n",
       "    </tr>\n",
       "    <tr>\n",
       "      <th>KernelRidge</th>\n",
       "      <td>-0.47</td>\n",
       "      <td>-0.46</td>\n",
       "      <td>34.31</td>\n",
       "      <td>42.00</td>\n",
       "    </tr>\n",
       "  </tbody>\n",
       "</table>\n",
       "</div>"
      ],
      "text/plain": [
       "                               Adjusted R-Squared  R-Squared  RMSE  Time Taken\n",
       "Model                                                                         \n",
       "HistGradientBoostingRegressor                0.95       0.95  6.10        0.93\n",
       "LGBMRegressor                                0.95       0.95  6.11        0.35\n",
       "ExtraTreesRegressor                          0.95       0.95  6.16        8.04\n",
       "XGBRegressor                                 0.95       0.95  6.20        0.23\n",
       "RandomForestRegressor                        0.95       0.95  6.21       17.56\n",
       "MLPRegressor                                 0.95       0.95  6.29       18.61\n",
       "GradientBoostingRegressor                    0.95       0.95  6.55        4.41\n",
       "BaggingRegressor                             0.95       0.95  6.58        1.79\n",
       "KNeighborsRegressor                          0.94       0.95  6.64        0.28\n",
       "TransformedTargetRegressor                   0.94       0.94  6.91        0.03\n",
       "LinearRegression                             0.94       0.94  6.91        0.02\n",
       "LassoLarsIC                                  0.94       0.94  6.91        0.03\n",
       "Lars                                         0.94       0.94  6.91        0.03\n",
       "LassoLarsCV                                  0.94       0.94  6.91        0.08\n",
       "RidgeCV                                      0.94       0.94  6.91        0.03\n",
       "Ridge                                        0.94       0.94  6.92        0.02\n",
       "BayesianRidge                                0.94       0.94  6.92        0.04\n",
       "NuSVR                                        0.94       0.94  6.92       26.45\n",
       "SVR                                          0.94       0.94  6.93       27.40\n",
       "LassoCV                                      0.94       0.94  6.93        2.69\n",
       "SGDRegressor                                 0.94       0.94  6.94        0.05\n",
       "HuberRegressor                               0.94       0.94  6.95        0.33\n",
       "LinearSVR                                    0.94       0.94  6.97        0.13\n",
       "LarsCV                                       0.94       0.94  6.99        0.07\n",
       "ElasticNetCV                                 0.94       0.94  7.00        1.85\n",
       "RANSACRegressor                              0.94       0.94  7.20        0.05\n",
       "LassoLars                                    0.93       0.94  7.23        0.02\n",
       "Lasso                                        0.93       0.94  7.23        0.98\n",
       "OrthogonalMatchingPursuitCV                  0.93       0.93  7.23        0.05\n",
       "ElasticNet                                   0.92       0.92  7.96        0.34\n",
       "PassiveAggressiveRegressor                   0.92       0.92  8.05        0.03\n",
       "AdaBoostRegressor                            0.91       0.92  8.26        1.68\n",
       "TweedieRegressor                             0.91       0.91  8.30        0.02\n",
       "DecisionTreeRegressor                        0.90       0.90  9.04        0.30\n",
       "OrthogonalMatchingPursuit                    0.89       0.89  9.34        0.02\n",
       "ExtraTreeRegressor                           0.89       0.89  9.37        0.10\n",
       "GaussianProcessRegressor                     0.87       0.87 10.13       93.39\n",
       "PoissonRegressor                             0.82       0.82 12.16        0.04\n",
       "DummyRegressor                              -0.00      -0.00 28.35        0.02\n",
       "QuantileRegressor                           -0.07      -0.07 29.32       11.26\n",
       "KernelRidge                                 -0.47      -0.46 34.31       42.00"
      ]
     },
     "execution_count": 30,
     "metadata": {},
     "output_type": "execute_result"
    }
   ],
   "source": [
    "models"
   ]
  },
  {
   "cell_type": "code",
   "execution_count": 31,
   "metadata": {},
   "outputs": [],
   "source": [
    "# Convert results into a DataFrame\n",
    "test_results = pd.DataFrame(models)"
   ]
  },
  {
   "cell_type": "code",
   "execution_count": 32,
   "metadata": {},
   "outputs": [],
   "source": [
    "# Save to a text file\n",
    "test_results.to_csv(f'model_results/{file_name}_results_val.txt', index=True)"
   ]
  },
  {
   "cell_type": "code",
   "execution_count": null,
   "metadata": {},
   "outputs": [],
   "source": []
  },
  {
   "cell_type": "code",
   "execution_count": null,
   "metadata": {},
   "outputs": [],
   "source": []
  }
 ],
 "metadata": {
  "kernelspec": {
   "display_name": "Python 3",
   "language": "python",
   "name": "python3"
  },
  "language_info": {
   "codemirror_mode": {
    "name": "ipython",
    "version": 3
   },
   "file_extension": ".py",
   "mimetype": "text/x-python",
   "name": "python",
   "nbconvert_exporter": "python",
   "pygments_lexer": "ipython3",
   "version": "3.11.7"
  }
 },
 "nbformat": 4,
 "nbformat_minor": 2
}
