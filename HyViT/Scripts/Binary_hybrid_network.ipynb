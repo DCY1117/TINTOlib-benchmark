{
 "cells": [
  {
   "cell_type": "markdown",
   "metadata": {
    "id": "EybOZ6hSjpCF"
   },
   "source": [
    "<h1><font color=\"#113D68\" size=6>TINTOlib: Converting Tidy Data into Image for 2-Dimensional Convolutional Neural Networks</font></h1>\n",
    "\n",
    "<h1><font color=\"#113D68\" size=5>Template Classification Machine Learning problem with a Hibryd Networks (CNN+MLP)</font></h1>\n",
    "\n",
    "<br><br>\n",
    "<div style=\"text-align: right\">\n",
    "<font color=\"#113D68\" size=3>Manuel Castillo-Cara</font><br>\n",
    "<font color=\"#113D68\" size=3>Raúl García-Castro</font><br>\n",
    "\n",
    "</div>\n",
    "\n",
    "---"
   ]
  },
  {
   "cell_type": "markdown",
   "metadata": {
    "id": "2l5nFzsdjpCW"
   },
   "source": [
    "---\n",
    "\n",
    "<a id=\"indice\"></a>\n",
    "<h2><font color=\"#004D7F\" size=5>Index</font></h2>\n",
    "\n",
    "* [0. Context](#section0)\n",
    "* [1. Description](#section1)\n",
    "    * [1.1. Main Features](#section11)\n",
    "    * [1.2. Citation](#section12)\n",
    "    * [1.3. Documentation and License](#section13)\n",
    "* [2. Libraries](#section2)\n",
    "    * [2.1. System setup](#section21)\n",
    "    * [2.2. Invoke the libraries](#section22)\n",
    "* [3. Data processing](#section3)\n",
    "    * [3.1. TINTOlib methods](#section31)\n",
    "    * [3.2. Read the dataset](#section32)\n",
    "    * [3.3. Generate images](#section33)\n",
    "    * [3.4. Read images](#section34)\n",
    "    * [3.5. Mix images and tidy data](#section35)\n",
    "* [4. Pre-modelling phase](#section4)\n",
    "    * [4.1. Data curation](#section41)\n",
    "    * [4.2. One-hot encoding](#section42)\n",
    "* [5. Modelling hybrid network](#section5)\n",
    "    * [5.1. FFNN for tabular data](#section51)\n",
    "    * [5.2. CNN for TINTOlib images](#section52)\n",
    "    * [5.3. Concatenate branches](#section53)\n",
    "    * [5.4. Metrics](#section54)\n",
    "    * [5.5. Compile and fit](#section55)\n",
    "* [6. Results](#section6)\n",
    "    * [6.1. Train/Validation representation](#section61)\n",
    "    * [6.2. Validation/Test evaluation](#section62)"
   ]
  },
  {
   "cell_type": "markdown",
   "metadata": {
    "id": "SxTpMExHjpCa"
   },
   "source": [
    "---\n",
    "<a id=\"section0\"></a>\n",
    "# <font color=\"#004D7F\" size=6> 0. Context</font>"
   ]
  },
  {
   "cell_type": "markdown",
   "metadata": {
    "id": "JlVYt3MRrl_V"
   },
   "source": [
    "This is a tutorial on how to read the images created by TINTOlib and pass them to a very simple pretrained Convolutional Neural Network (CNN). The images must already be created by the TINTOlib software. See the documentation in GITHUB for how to create the images from tabular data.\n",
    "\n",
    "Remember that when using CNN you can set the training to be done with GPUs to improve performance."
   ]
  },
  {
   "cell_type": "markdown",
   "metadata": {
    "id": "i3tgsO0BjpCj"
   },
   "source": [
    "<div class=\"alert alert-block alert-info\">\n",
    "\n",
    "<i class=\"fa fa-info-circle\" aria-hidden=\"true\"></i>\n",
    "You can see all information about TINTOlib code in [GitHub](https://github.com/oeg-upm/TINTOlib)"
   ]
  },
  {
   "cell_type": "markdown",
   "metadata": {
    "id": "i3tgsO0BjpCj"
   },
   "source": [
    "<div class=\"alert alert-block alert-info\">\n",
    "\n",
    "<i class=\"fa fa-info-circle\" aria-hidden=\"true\"></i>\n",
    "You can see all information about TINTOlib documentation in [PyPI](https://tintolib.readthedocs.io/en/latest/installation.html)"
   ]
  },
  {
   "cell_type": "markdown",
   "metadata": {
    "id": "4RKBgDwzjpCl"
   },
   "source": [
    "---\n",
    "<div style=\"text-align: right\"> <font size=5> <a href=\"#indice\"><i class=\"fa fa-arrow-circle-up\" aria-hidden=\"true\" style=\"color:#004D7F\"></i></a></font></div>\n",
    "\n",
    "---"
   ]
  },
  {
   "cell_type": "markdown",
   "metadata": {
    "id": "kpU7pi6yjpCn"
   },
   "source": [
    "<a id=\"section1\"></a>\n",
    "# <font color=\"#004D7F\" size=6> 1. Description</font>"
   ]
  },
  {
   "cell_type": "markdown",
   "metadata": {
    "id": "NL9RoFkEjpCq"
   },
   "source": [
    "The growing interest in the use of algorithms-based machine learning for predictive tasks has generated a large and diverse development of algorithms. However, it is widely known that not all of these algorithms are adapted to efficient solutions in certain tidy data format datasets. For this reason, novel techniques are currently being developed to convert tidy data into images with the aim of using Convolutional Neural Networks (CNNs). TINTOlib offers the opportunity to convert tidy data into images through several techniques: TINTO, IGTD, REFINED, SuperTML, BarGraph, DistanceMatrix and Combination."
   ]
  },
  {
   "cell_type": "markdown",
   "metadata": {
    "id": "HFrF4C89jpCt"
   },
   "source": [
    "---\n",
    "<a id=\"section11\"></a>\n",
    "# <font color=\"#004D7F\" size=5> 1.1. Main Features</font>"
   ]
  },
  {
   "cell_type": "markdown",
   "metadata": {
    "id": "1gruE0_sjpCu"
   },
   "source": [
    "- Supports all CSV data in **[Tidy Data](https://www.jstatsoft.org/article/view/v059i10)** format.\n",
    "- For now, the algorithm converts tabular data for binary and multi-class classification problems into machine learning.\n",
    "- Input data formats:\n",
    "    - **Tabular files**: The input data could be in **[CSV](https://en.wikipedia.org/wiki/Comma-separated_values)**, taking into account the **[Tidy Data](https://www.jstatsoft.org/article/view/v059i10)** format.\n",
    "    - **Dataframe***: The input data could be in **[Pandas Dataframe](https://pandas.pydata.org/docs/reference/api/pandas.DataFrame.html)**, taking into account the **[Tidy Data](https://www.jstatsoft.org/article/view/v059i10)** format.\n",
    "    - **Tidy Data**: The **target** (variable to be predicted) should be set as the last column of the dataset. Therefore, the first columns will be the features.\n",
    "    - All data must be in numerical form. TINTOlib does not accept data in string or any other non-numeric format.\n",
    "- Runs on **Linux**, **Windows** and **macOS** systems.\n",
    "- Compatible with **[Python](https://www.python.org/)** 3.7 or higher."
   ]
  },
  {
   "cell_type": "markdown",
   "metadata": {},
   "source": [
    "---\n",
    "<a id=\"section12\"></a>\n",
    "# <font color=\"#004D7F\" size=5> 1.2. Citation</font>"
   ]
  },
  {
   "cell_type": "markdown",
   "metadata": {},
   "source": [
    "**TINTOlib** is an python library that makes **Synthetic Images** from [Tidy Data](https://www.jstatsoft.org/article/view/v059i10) (also knows as **Tabular Data**).\n",
    "\n",
    "**Citing TINTO**: If you used TINTO in your work, please cite the **[SoftwareX](https://doi.org/10.1016/j.softx.2023.101391)**:\n",
    "\n",
    "```bib\n",
    "@article{softwarex_TINTO,\n",
    "    title = {TINTO: Converting Tidy Data into Image for Classification\n",
    "            with 2-Dimensional Convolutional Neural Networks},\n",
    "    journal = {SoftwareX},\n",
    "    author = {Manuel Castillo-Cara and Reewos Talla-Chumpitaz and\n",
    "              Raúl García-Castro and Luis Orozco-Barbosa},\n",
    "    year = {2023},\n",
    "    pages = {101391},\n",
    "    issn = {2352-7110},\n",
    "    doi = {https://doi.org/10.1016/j.softx.2023.101391}\n",
    "}\n",
    "```\n",
    "\n",
    "And use-case developed in **[INFFUS Paper](https://doi.org/10.1016/j.inffus.2022.10.011)**\n",
    "\n",
    "```bib\n",
    "@article{inffus_TINTO,\n",
    "    title = {A novel deep learning approach using blurring image\n",
    "            techniques for Bluetooth-based indoor localisation},\n",
    "    journal = {Information Fusion},\n",
    "    author = {Reewos Talla-Chumpitaz and Manuel Castillo-Cara and\n",
    "              Luis Orozco-Barbosa and Raúl García-Castro},\n",
    "    volume = {91},\n",
    "    pages = {173-186},\n",
    "    year = {2023},\n",
    "    issn = {1566-2535},\n",
    "    doi = {https://doi.org/10.1016/j.inffus.2022.10.011}\n",
    "}\n",
    "```"
   ]
  },
  {
   "cell_type": "markdown",
   "metadata": {},
   "source": [
    "---\n",
    "<a id=\"section13\"></a>\n",
    "# <font color=\"#004D7F\" size=5> 1.3. Documentation and License</font>"
   ]
  },
  {
   "cell_type": "markdown",
   "metadata": {},
   "source": [
    "TINTOlib has a wide range of documentation on both GitHub and PiPY. \n",
    "\n",
    "Moreover, TINTOlib is free and open software with Apache 2.0 license."
   ]
  },
  {
   "cell_type": "markdown",
   "metadata": {
    "id": "i3tgsO0BjpCj"
   },
   "source": [
    "<div class=\"alert alert-block alert-info\">\n",
    "\n",
    "<i class=\"fa fa-info-circle\" aria-hidden=\"true\"></i>\n",
    "You can see all information about TINTOlib code in [GitHub](https://github.com/oeg-upm/TINTOlib)"
   ]
  },
  {
   "cell_type": "markdown",
   "metadata": {
    "id": "i3tgsO0BjpCj"
   },
   "source": [
    "<div class=\"alert alert-block alert-info\">\n",
    "\n",
    "<i class=\"fa fa-info-circle\" aria-hidden=\"true\"></i>\n",
    "You can see all information about TINTOlib documentation in [PyPI](https://tintolib.readthedocs.io/en/latest/installation.html)"
   ]
  },
  {
   "cell_type": "markdown",
   "metadata": {
    "id": "Z3EzYcjJjpC6"
   },
   "source": [
    "---\n",
    "<div style=\"text-align: right\"> <font size=5> <a href=\"#indice\"><i class=\"fa fa-arrow-circle-up\" aria-hidden=\"true\" style=\"color:#004D7F\"></i></a></font></div>\n",
    "\n",
    "---"
   ]
  },
  {
   "cell_type": "markdown",
   "metadata": {
    "id": "qwYF5A2njpC8"
   },
   "source": [
    "<a id=\"section2\"></a>\n",
    "# <font color=\"#004D7F\" size=6> 2. Libraries</font>"
   ]
  },
  {
   "cell_type": "markdown",
   "metadata": {},
   "source": [
    "---\n",
    "<a id=\"section21\"></a>\n",
    "# <font color=\"#004D7F\" size=5> 2.1. System setup</font>"
   ]
  },
  {
   "cell_type": "markdown",
   "metadata": {},
   "source": [
    "Before installing the libraries you must have the `mpi4py` package installed on the native (Linux) system. This link shows how to install it: \n",
    "- Link: [`mpi4py` in Linux](https://www.geeksforgeeks.org/how-to-install-python3-mpi4py-package-on-linux/)\n",
    "\n",
    "For example, in Linux:\n",
    "\n",
    "```\n",
    "    sudo apt-get install python3\n",
    "    sudo apt install python3-pip\n",
    "    sudo apt install python3-mpi4py\n",
    "```\n",
    "\n",
    "If you are in Windows, Mac or, also, Linux, you can install from PyPI if you want:\n",
    "```\n",
    "    sudo pip3 install mpi4py\n",
    "```"
   ]
  },
  {
   "cell_type": "markdown",
   "metadata": {},
   "source": [
    "<div class=\"alert alert-block alert-info\">\n",
    "    \n",
    "<i class=\"fa fa-info-circle\" aria-hidden=\"true\"></i>\n",
    "Note that you must **restart the kernel or the system** so that it can load the libraries. "
   ]
  },
  {
   "cell_type": "markdown",
   "metadata": {},
   "source": [
    "Now, once you have installed `mpi4py` you can install the PyPI libraries and dependences."
   ]
  },
  {
   "cell_type": "code",
   "execution_count": 1,
   "metadata": {},
   "outputs": [
    {
     "name": "stdout",
     "output_type": "stream",
     "text": [
      "Requirement already satisfied: torchmetrics in c:\\users\\jiayu\\anaconda3\\envs\\tinto-hnn\\lib\\site-packages (1.3.0.post0)\n",
      "Requirement already satisfied: pytorch_lightning in c:\\users\\jiayu\\anaconda3\\envs\\tinto-hnn\\lib\\site-packages (2.1.3)\n",
      "Requirement already satisfied: TINTOlib in c:\\users\\jiayu\\anaconda3\\envs\\tinto-hnn\\lib\\site-packages (0.0.14)\n",
      "Requirement already satisfied: imblearn in c:\\users\\jiayu\\anaconda3\\envs\\tinto-hnn\\lib\\site-packages (0.0)\n",
      "Requirement already satisfied: keras_preprocessing in c:\\users\\jiayu\\anaconda3\\envs\\tinto-hnn\\lib\\site-packages (1.1.2)\n",
      "Requirement already satisfied: mpi4py in c:\\users\\jiayu\\anaconda3\\envs\\tinto-hnn\\lib\\site-packages (3.1.5)\n",
      "Requirement already satisfied: numpy>1.20.0 in c:\\users\\jiayu\\anaconda3\\envs\\tinto-hnn\\lib\\site-packages (from torchmetrics) (1.24.3)\n",
      "Requirement already satisfied: packaging>17.1 in c:\\users\\jiayu\\anaconda3\\envs\\tinto-hnn\\lib\\site-packages (from torchmetrics) (23.2)\n",
      "Requirement already satisfied: torch>=1.10.0 in c:\\users\\jiayu\\anaconda3\\envs\\tinto-hnn\\lib\\site-packages (from torchmetrics) (2.2.0+cu118)\n",
      "Requirement already satisfied: lightning-utilities>=0.8.0 in c:\\users\\jiayu\\anaconda3\\envs\\tinto-hnn\\lib\\site-packages (from torchmetrics) (0.10.1)\n",
      "Requirement already satisfied: tqdm>=4.57.0 in c:\\users\\jiayu\\appdata\\roaming\\python\\python311\\site-packages (from pytorch_lightning) (4.66.1)\n",
      "Requirement already satisfied: PyYAML>=5.4 in c:\\users\\jiayu\\anaconda3\\envs\\tinto-hnn\\lib\\site-packages (from pytorch_lightning) (6.0.1)\n",
      "Requirement already satisfied: fsspec>=2022.5.0 in c:\\users\\jiayu\\anaconda3\\envs\\tinto-hnn\\lib\\site-packages (from fsspec[http]>=2022.5.0->pytorch_lightning) (2023.12.2)\n",
      "Requirement already satisfied: typing-extensions>=4.0.0 in c:\\users\\jiayu\\anaconda3\\envs\\tinto-hnn\\lib\\site-packages (from pytorch_lightning) (4.8.0)\n",
      "Requirement already satisfied: imbalanced-learn in c:\\users\\jiayu\\anaconda3\\envs\\tinto-hnn\\lib\\site-packages (from imblearn) (0.12.0)\n",
      "Requirement already satisfied: six>=1.9.0 in c:\\users\\jiayu\\anaconda3\\envs\\tinto-hnn\\lib\\site-packages (from keras_preprocessing) (1.16.0)\n",
      "Requirement already satisfied: requests in c:\\users\\jiayu\\appdata\\roaming\\python\\python311\\site-packages (from fsspec[http]>=2022.5.0->pytorch_lightning) (2.31.0)\n",
      "Requirement already satisfied: aiohttp!=4.0.0a0,!=4.0.0a1 in c:\\users\\jiayu\\anaconda3\\envs\\tinto-hnn\\lib\\site-packages (from fsspec[http]>=2022.5.0->pytorch_lightning) (3.9.3)\n",
      "Requirement already satisfied: setuptools in c:\\users\\jiayu\\anaconda3\\envs\\tinto-hnn\\lib\\site-packages (from lightning-utilities>=0.8.0->torchmetrics) (68.2.2)\n",
      "Requirement already satisfied: filelock in c:\\users\\jiayu\\anaconda3\\envs\\tinto-hnn\\lib\\site-packages (from torch>=1.10.0->torchmetrics) (3.13.1)\n",
      "Requirement already satisfied: sympy in c:\\users\\jiayu\\anaconda3\\envs\\tinto-hnn\\lib\\site-packages (from torch>=1.10.0->torchmetrics) (1.12)\n",
      "Requirement already satisfied: networkx in c:\\users\\jiayu\\anaconda3\\envs\\tinto-hnn\\lib\\site-packages (from torch>=1.10.0->torchmetrics) (3.3)\n",
      "Requirement already satisfied: jinja2 in c:\\users\\jiayu\\anaconda3\\envs\\tinto-hnn\\lib\\site-packages (from torch>=1.10.0->torchmetrics) (3.1.3)\n",
      "Requirement already satisfied: colorama in c:\\users\\jiayu\\appdata\\roaming\\python\\python311\\site-packages (from tqdm>=4.57.0->pytorch_lightning) (0.4.6)\n",
      "Requirement already satisfied: scipy>=1.5.0 in c:\\users\\jiayu\\appdata\\roaming\\python\\python311\\site-packages (from imbalanced-learn->imblearn) (1.11.2)\n",
      "Requirement already satisfied: scikit-learn>=1.0.2 in c:\\users\\jiayu\\anaconda3\\envs\\tinto-hnn\\lib\\site-packages (from imbalanced-learn->imblearn) (1.4.0)\n",
      "Requirement already satisfied: joblib>=1.1.1 in c:\\users\\jiayu\\anaconda3\\envs\\tinto-hnn\\lib\\site-packages (from imbalanced-learn->imblearn) (1.3.2)\n",
      "Requirement already satisfied: threadpoolctl>=2.0.0 in c:\\users\\jiayu\\anaconda3\\envs\\tinto-hnn\\lib\\site-packages (from imbalanced-learn->imblearn) (3.2.0)\n",
      "Requirement already satisfied: aiosignal>=1.1.2 in c:\\users\\jiayu\\anaconda3\\envs\\tinto-hnn\\lib\\site-packages (from aiohttp!=4.0.0a0,!=4.0.0a1->fsspec[http]>=2022.5.0->pytorch_lightning) (1.3.1)\n",
      "Requirement already satisfied: attrs>=17.3.0 in c:\\users\\jiayu\\anaconda3\\envs\\tinto-hnn\\lib\\site-packages (from aiohttp!=4.0.0a0,!=4.0.0a1->fsspec[http]>=2022.5.0->pytorch_lightning) (23.2.0)\n",
      "Requirement already satisfied: frozenlist>=1.1.1 in c:\\users\\jiayu\\anaconda3\\envs\\tinto-hnn\\lib\\site-packages (from aiohttp!=4.0.0a0,!=4.0.0a1->fsspec[http]>=2022.5.0->pytorch_lightning) (1.4.1)\n",
      "Requirement already satisfied: multidict<7.0,>=4.5 in c:\\users\\jiayu\\anaconda3\\envs\\tinto-hnn\\lib\\site-packages (from aiohttp!=4.0.0a0,!=4.0.0a1->fsspec[http]>=2022.5.0->pytorch_lightning) (6.0.4)\n",
      "Requirement already satisfied: yarl<2.0,>=1.0 in c:\\users\\jiayu\\anaconda3\\envs\\tinto-hnn\\lib\\site-packages (from aiohttp!=4.0.0a0,!=4.0.0a1->fsspec[http]>=2022.5.0->pytorch_lightning) (1.9.4)\n",
      "Requirement already satisfied: MarkupSafe>=2.0 in c:\\users\\jiayu\\appdata\\roaming\\python\\python311\\site-packages (from jinja2->torch>=1.10.0->torchmetrics) (2.1.3)\n",
      "Requirement already satisfied: charset-normalizer<4,>=2 in c:\\users\\jiayu\\anaconda3\\envs\\tinto-hnn\\lib\\site-packages (from requests->fsspec[http]>=2022.5.0->pytorch_lightning) (3.3.2)\n",
      "Requirement already satisfied: idna<4,>=2.5 in c:\\users\\jiayu\\appdata\\roaming\\python\\python311\\site-packages (from requests->fsspec[http]>=2022.5.0->pytorch_lightning) (3.4)\n",
      "Requirement already satisfied: urllib3<3,>=1.21.1 in c:\\users\\jiayu\\anaconda3\\envs\\tinto-hnn\\lib\\site-packages (from requests->fsspec[http]>=2022.5.0->pytorch_lightning) (2.2.1)\n",
      "Requirement already satisfied: certifi>=2017.4.17 in c:\\users\\jiayu\\appdata\\roaming\\python\\python311\\site-packages (from requests->fsspec[http]>=2022.5.0->pytorch_lightning) (2023.7.22)\n",
      "Requirement already satisfied: mpmath>=0.19 in c:\\users\\jiayu\\anaconda3\\envs\\tinto-hnn\\lib\\site-packages (from sympy->torch>=1.10.0->torchmetrics) (1.3.0)\n"
     ]
    }
   ],
   "source": [
    "!pip install torchmetrics pytorch_lightning TINTOlib imblearn keras_preprocessing mpi4py"
   ]
  },
  {
   "cell_type": "markdown",
   "metadata": {},
   "source": [
    "<div class=\"alert alert-block alert-info\">\n",
    "    \n",
    "<i class=\"fa fa-info-circle\" aria-hidden=\"true\"></i>\n",
    "Note that you must **restart the kernel** so that it can load the libraries. "
   ]
  },
  {
   "cell_type": "markdown",
   "metadata": {},
   "source": [
    "---\n",
    "<a id=\"section22\"></a>\n",
    "# <font color=\"#004D7F\" size=5> 2.2. Invoke the libraries</font>"
   ]
  },
  {
   "cell_type": "markdown",
   "metadata": {
    "id": "5AdHKnWYsEq_"
   },
   "source": [
    "The first thing we need to do is to declare the libraries"
   ]
  },
  {
   "cell_type": "code",
   "execution_count": 29,
   "metadata": {
    "id": "PeeBbGxlpjFp",
    "tags": []
   },
   "outputs": [],
   "source": [
    "import gc\n",
    "import os\n",
    "import random\n",
    "\n",
    "import matplotlib.pyplot as plt\n",
    "import numpy as np\n",
    "import pandas as pd\n",
    "import seaborn as sns\n",
    "import sklearn\n",
    "import tensorflow as tf\n",
    "import tifffile as tifi\n",
    "import keras\n",
    "from keras import ops\n",
    "from PIL import Image\n",
    "from sklearn.metrics import (mean_absolute_error, mean_absolute_percentage_error,\n",
    "                             mean_squared_error, r2_score)\n",
    "from sklearn.model_selection import train_test_split\n",
    "\n",
    "from imblearn.over_sampling import RandomOverSampler\n",
    "\n",
    "# TensorFlow and Keras\n",
    "from keras import layers, models, Model\n",
    "from keras.callbacks import EarlyStopping, ModelCheckpoint, ReduceLROnPlateau\n",
    "from keras.layers import (Activation, BatchNormalization, concatenate,\n",
    "                                     Conv2D, Dense, Dropout, Flatten, Input,\n",
    "                                     LayerNormalization, MaxPool2D, MaxPooling2D)\n",
    "from keras.losses import MeanAbsoluteError, MeanAbsolutePercentageError\n",
    "from keras.models import Sequential, Model, load_model\n",
    "from keras.optimizers import Adadelta, Adam, Adamax, SGD\n",
    "\n",
    "# TINTOlib Models\n",
    "from TINTOlib.barGraph import BarGraph\n",
    "from TINTOlib.combination import Combination\n",
    "from TINTOlib.distanceMatrix import DistanceMatrix\n",
    "from TINTOlib.igtd import IGTD\n",
    "from TINTOlib.refined import REFINED\n",
    "from TINTOlib.supertml import SuperTML\n",
    "from TINTOlib.tinto import TINTO\n",
    "\n",
    "# Set the backend for Keras\n",
    "os.environ[\"KERAS_BACKEND\"] = \"jax\"  # @param [\"tensorflow\", \"jax\", \"torch\"]"
   ]
  },
  {
   "cell_type": "markdown",
   "metadata": {
    "id": "NwS-cKUxjpDQ"
   },
   "source": [
    "---\n",
    "<div style=\"text-align: right\"> <font size=5> <a href=\"#indice\"><i class=\"fa fa-arrow-circle-up\" aria-hidden=\"true\" style=\"color:#004D7F\"></i></a></font></div>\n",
    "\n",
    "---"
   ]
  },
  {
   "cell_type": "markdown",
   "metadata": {
    "id": "aDL4LARWjpDT"
   },
   "source": [
    "<a id=\"section3\"></a>\n",
    "# <font color=\"#004D7F\" size=6> 3. Data processing</font>"
   ]
  },
  {
   "cell_type": "markdown",
   "metadata": {
    "id": "jXcRw78ljpDU"
   },
   "source": [
    "The first thing to do is to read all the images created by TINTO. TINTO creates a folder which contains subfolders corresponding to each target that has the problem. Each image corresponds to a sample of the original dataset."
   ]
  },
  {
   "cell_type": "markdown",
   "metadata": {},
   "source": [
    "---\n",
    "<a id=\"section31\"></a>\n",
    "# <font color=\"#004D7F\" size=5> 3.1. TINTOlib methods</font>"
   ]
  },
  {
   "cell_type": "markdown",
   "metadata": {},
   "source": [
    "We prepare the declaration of the classes with the TINTOlib method we want to transform. Note that TINTOlib has several methods and we will have to choose one of them since each method generates different images.\n",
    "\n",
    "In addition, we establish the paths where the dataset is located and also the folder where the images will be created."
   ]
  },
  {
   "cell_type": "code",
   "execution_count": 30,
   "metadata": {},
   "outputs": [],
   "source": [
    "#Select the model and the parameters\n",
    "problem_type = \"supervised\"\n",
    "pixel=20\n",
    "#image_model = REFINED(problem= problem_type,hcIterations=5)\n",
    "image_model = TINTO(problem= problem_type,blur=False, pixels = pixel)\n",
    "#image_model = IGTD(problem= problem_type)\n",
    "#image_model = BarGraph(problem= problem_type)\n",
    "#image_model = DistanceMatrix(problem= problem_type)\n",
    "#image_model = Combination(problem= problem_type)\n",
    "\n",
    "#Define the dataset path and the folder where the images will be saved\n",
    "results_folder = \"./results_heloc_CNN_TINTO_1\"\n",
    "dataset_path = \"../Datasets/heloc.csv\"\n",
    "images_folder = \"../HyNNImages/Classification/heloc_TINTO\""
   ]
  },
  {
   "cell_type": "markdown",
   "metadata": {},
   "source": [
    "<div class=\"alert alert-block alert-info\">\n",
    "\n",
    "<i class=\"fa fa-info-circle\" aria-hidden=\"true\"></i>\n",
    "You can see all TINTOlib method in the [PyPI documentation](https://tintolib.readthedocs.io/en/latest/installation.html)"
   ]
  },
  {
   "cell_type": "markdown",
   "metadata": {},
   "source": [
    "---\n",
    "<a id=\"section32\"></a>\n",
    "# <font color=\"#004D7F\" size=5> 3.2. Read the dataset</font>"
   ]
  },
  {
   "cell_type": "markdown",
   "metadata": {},
   "source": [
    "In this part, we proceed to read the dataset according to the path specified above and also standardize the name that the target will have, in this case, it will be called `class`."
   ]
  },
  {
   "cell_type": "code",
   "execution_count": 31,
   "metadata": {
    "scrolled": true
   },
   "outputs": [
    {
     "data": {
      "text/html": [
       "<div>\n",
       "<style scoped>\n",
       "    .dataframe tbody tr th:only-of-type {\n",
       "        vertical-align: middle;\n",
       "    }\n",
       "\n",
       "    .dataframe tbody tr th {\n",
       "        vertical-align: top;\n",
       "    }\n",
       "\n",
       "    .dataframe thead th {\n",
       "        text-align: right;\n",
       "    }\n",
       "</style>\n",
       "<table border=\"1\" class=\"dataframe\">\n",
       "  <thead>\n",
       "    <tr style=\"text-align: right;\">\n",
       "      <th></th>\n",
       "      <th>RiskPerformance</th>\n",
       "      <th>ExternalRiskEstimate</th>\n",
       "      <th>MSinceOldestTradeOpen</th>\n",
       "      <th>MSinceMostRecentTradeOpen</th>\n",
       "      <th>AverageMInFile</th>\n",
       "      <th>NumSatisfactoryTrades</th>\n",
       "      <th>NumTrades60Ever2DerogPubRec</th>\n",
       "      <th>NumTrades90Ever2DerogPubRec</th>\n",
       "      <th>PercentTradesNeverDelq</th>\n",
       "      <th>MSinceMostRecentDelq</th>\n",
       "      <th>...</th>\n",
       "      <th>PercentInstallTrades</th>\n",
       "      <th>MSinceMostRecentInqexcl7days</th>\n",
       "      <th>NumInqLast6M</th>\n",
       "      <th>NumInqLast6Mexcl7days</th>\n",
       "      <th>NetFractionRevolvingBurden</th>\n",
       "      <th>NetFractionInstallBurden</th>\n",
       "      <th>NumRevolvingTradesWBalance</th>\n",
       "      <th>NumInstallTradesWBalance</th>\n",
       "      <th>NumBank2NatlTradesWHighUtilization</th>\n",
       "      <th>PercentTradesWBalance</th>\n",
       "    </tr>\n",
       "  </thead>\n",
       "  <tbody>\n",
       "    <tr>\n",
       "      <th>0</th>\n",
       "      <td>Bad</td>\n",
       "      <td>55</td>\n",
       "      <td>144</td>\n",
       "      <td>4</td>\n",
       "      <td>84</td>\n",
       "      <td>20</td>\n",
       "      <td>3</td>\n",
       "      <td>0</td>\n",
       "      <td>83</td>\n",
       "      <td>2</td>\n",
       "      <td>...</td>\n",
       "      <td>43</td>\n",
       "      <td>0</td>\n",
       "      <td>0</td>\n",
       "      <td>0</td>\n",
       "      <td>33</td>\n",
       "      <td>-8</td>\n",
       "      <td>8</td>\n",
       "      <td>1</td>\n",
       "      <td>1</td>\n",
       "      <td>69</td>\n",
       "    </tr>\n",
       "    <tr>\n",
       "      <th>1</th>\n",
       "      <td>Bad</td>\n",
       "      <td>61</td>\n",
       "      <td>58</td>\n",
       "      <td>15</td>\n",
       "      <td>41</td>\n",
       "      <td>2</td>\n",
       "      <td>4</td>\n",
       "      <td>4</td>\n",
       "      <td>100</td>\n",
       "      <td>-7</td>\n",
       "      <td>...</td>\n",
       "      <td>67</td>\n",
       "      <td>0</td>\n",
       "      <td>0</td>\n",
       "      <td>0</td>\n",
       "      <td>0</td>\n",
       "      <td>-8</td>\n",
       "      <td>0</td>\n",
       "      <td>-8</td>\n",
       "      <td>-8</td>\n",
       "      <td>0</td>\n",
       "    </tr>\n",
       "  </tbody>\n",
       "</table>\n",
       "<p>2 rows × 24 columns</p>\n",
       "</div>"
      ],
      "text/plain": [
       "  RiskPerformance  ExternalRiskEstimate  MSinceOldestTradeOpen  \\\n",
       "0             Bad                    55                    144   \n",
       "1             Bad                    61                     58   \n",
       "\n",
       "   MSinceMostRecentTradeOpen  AverageMInFile  NumSatisfactoryTrades  \\\n",
       "0                          4              84                     20   \n",
       "1                         15              41                      2   \n",
       "\n",
       "   NumTrades60Ever2DerogPubRec  NumTrades90Ever2DerogPubRec  \\\n",
       "0                            3                            0   \n",
       "1                            4                            4   \n",
       "\n",
       "   PercentTradesNeverDelq  MSinceMostRecentDelq  ...  PercentInstallTrades  \\\n",
       "0                      83                     2  ...                    43   \n",
       "1                     100                    -7  ...                    67   \n",
       "\n",
       "   MSinceMostRecentInqexcl7days  NumInqLast6M  NumInqLast6Mexcl7days  \\\n",
       "0                             0             0                      0   \n",
       "1                             0             0                      0   \n",
       "\n",
       "   NetFractionRevolvingBurden  NetFractionInstallBurden  \\\n",
       "0                          33                        -8   \n",
       "1                           0                        -8   \n",
       "\n",
       "   NumRevolvingTradesWBalance  NumInstallTradesWBalance  \\\n",
       "0                           8                         1   \n",
       "1                           0                        -8   \n",
       "\n",
       "   NumBank2NatlTradesWHighUtilization  PercentTradesWBalance  \n",
       "0                                   1                     69  \n",
       "1                                  -8                      0  \n",
       "\n",
       "[2 rows x 24 columns]"
      ]
     },
     "execution_count": 31,
     "metadata": {},
     "output_type": "execute_result"
    }
   ],
   "source": [
    "#Read CSV\n",
    "df = pd.read_csv(dataset_path)\n",
    "df.head(2)"
   ]
  },
  {
   "cell_type": "code",
   "execution_count": 32,
   "metadata": {},
   "outputs": [
    {
     "data": {
      "text/plain": [
       "(10459, 24)"
      ]
     },
     "execution_count": 32,
     "metadata": {},
     "output_type": "execute_result"
    }
   ],
   "source": [
    "df.shape"
   ]
  },
  {
   "cell_type": "code",
   "execution_count": 33,
   "metadata": {},
   "outputs": [
    {
     "name": "stdout",
     "output_type": "stream",
     "text": [
      "Categorical columns: Index(['RiskPerformance'], dtype='object')\n"
     ]
    }
   ],
   "source": [
    "categorical_columns = df.select_dtypes(include=['object', 'category']).columns\n",
    "print(\"Categorical columns:\", categorical_columns)"
   ]
  },
  {
   "cell_type": "code",
   "execution_count": 34,
   "metadata": {},
   "outputs": [],
   "source": [
    "# Step 1: Select the first column\n",
    "first_column = df.iloc[:, 0]\n",
    "\n",
    "# Step 2: Drop the first column from the dataframe\n",
    "df = df.iloc[:, 1:]\n",
    "\n",
    "# Step 3: Append the first column to the end of the dataframe\n",
    "df[first_column.name] = first_column"
   ]
  },
  {
   "cell_type": "code",
   "execution_count": 35,
   "metadata": {},
   "outputs": [
    {
     "data": {
      "text/plain": [
       "Index(['ExternalRiskEstimate', 'MSinceOldestTradeOpen',\n",
       "       'MSinceMostRecentTradeOpen', 'AverageMInFile', 'NumSatisfactoryTrades',\n",
       "       'NumTrades60Ever2DerogPubRec', 'NumTrades90Ever2DerogPubRec',\n",
       "       'PercentTradesNeverDelq', 'MSinceMostRecentDelq',\n",
       "       'MaxDelq2PublicRecLast12M', 'MaxDelqEver', 'NumTotalTrades',\n",
       "       'NumTradesOpeninLast12M', 'PercentInstallTrades',\n",
       "       'MSinceMostRecentInqexcl7days', 'NumInqLast6M', 'NumInqLast6Mexcl7days',\n",
       "       'NetFractionRevolvingBurden', 'NetFractionInstallBurden',\n",
       "       'NumRevolvingTradesWBalance', 'NumInstallTradesWBalance',\n",
       "       'NumBank2NatlTradesWHighUtilization', 'PercentTradesWBalance',\n",
       "       'RiskPerformance'],\n",
       "      dtype='object')"
      ]
     },
     "execution_count": 35,
     "metadata": {},
     "output_type": "execute_result"
    }
   ],
   "source": [
    "df.columns"
   ]
  },
  {
   "cell_type": "code",
   "execution_count": 36,
   "metadata": {},
   "outputs": [
    {
     "data": {
      "text/html": [
       "<div>\n",
       "<style scoped>\n",
       "    .dataframe tbody tr th:only-of-type {\n",
       "        vertical-align: middle;\n",
       "    }\n",
       "\n",
       "    .dataframe tbody tr th {\n",
       "        vertical-align: top;\n",
       "    }\n",
       "\n",
       "    .dataframe thead th {\n",
       "        text-align: right;\n",
       "    }\n",
       "</style>\n",
       "<table border=\"1\" class=\"dataframe\">\n",
       "  <thead>\n",
       "    <tr style=\"text-align: right;\">\n",
       "      <th></th>\n",
       "      <th>ExternalRiskEstimate</th>\n",
       "      <th>MSinceOldestTradeOpen</th>\n",
       "      <th>MSinceMostRecentTradeOpen</th>\n",
       "      <th>AverageMInFile</th>\n",
       "      <th>NumSatisfactoryTrades</th>\n",
       "      <th>NumTrades60Ever2DerogPubRec</th>\n",
       "      <th>NumTrades90Ever2DerogPubRec</th>\n",
       "      <th>PercentTradesNeverDelq</th>\n",
       "      <th>MSinceMostRecentDelq</th>\n",
       "      <th>MaxDelq2PublicRecLast12M</th>\n",
       "      <th>...</th>\n",
       "      <th>MSinceMostRecentInqexcl7days</th>\n",
       "      <th>NumInqLast6M</th>\n",
       "      <th>NumInqLast6Mexcl7days</th>\n",
       "      <th>NetFractionRevolvingBurden</th>\n",
       "      <th>NetFractionInstallBurden</th>\n",
       "      <th>NumRevolvingTradesWBalance</th>\n",
       "      <th>NumInstallTradesWBalance</th>\n",
       "      <th>NumBank2NatlTradesWHighUtilization</th>\n",
       "      <th>PercentTradesWBalance</th>\n",
       "      <th>RiskPerformance</th>\n",
       "    </tr>\n",
       "  </thead>\n",
       "  <tbody>\n",
       "    <tr>\n",
       "      <th>0</th>\n",
       "      <td>0.621359</td>\n",
       "      <td>0.188424</td>\n",
       "      <td>0.033163</td>\n",
       "      <td>0.237245</td>\n",
       "      <td>0.329545</td>\n",
       "      <td>0.428571</td>\n",
       "      <td>0.321429</td>\n",
       "      <td>0.844037</td>\n",
       "      <td>0.119565</td>\n",
       "      <td>0.666667</td>\n",
       "      <td>...</td>\n",
       "      <td>0.272727</td>\n",
       "      <td>0.12</td>\n",
       "      <td>0.12</td>\n",
       "      <td>0.174274</td>\n",
       "      <td>0.002083</td>\n",
       "      <td>0.414634</td>\n",
       "      <td>0.31250</td>\n",
       "      <td>0.370370</td>\n",
       "      <td>0.715596</td>\n",
       "      <td>Bad</td>\n",
       "    </tr>\n",
       "    <tr>\n",
       "      <th>1</th>\n",
       "      <td>0.679612</td>\n",
       "      <td>0.082512</td>\n",
       "      <td>0.061224</td>\n",
       "      <td>0.127551</td>\n",
       "      <td>0.125000</td>\n",
       "      <td>0.464286</td>\n",
       "      <td>0.464286</td>\n",
       "      <td>1.000000</td>\n",
       "      <td>0.021739</td>\n",
       "      <td>0.500000</td>\n",
       "      <td>...</td>\n",
       "      <td>0.272727</td>\n",
       "      <td>0.12</td>\n",
       "      <td>0.12</td>\n",
       "      <td>0.037344</td>\n",
       "      <td>0.002083</td>\n",
       "      <td>0.219512</td>\n",
       "      <td>0.03125</td>\n",
       "      <td>0.037037</td>\n",
       "      <td>0.082569</td>\n",
       "      <td>Bad</td>\n",
       "    </tr>\n",
       "  </tbody>\n",
       "</table>\n",
       "<p>2 rows × 24 columns</p>\n",
       "</div>"
      ],
      "text/plain": [
       "   ExternalRiskEstimate  MSinceOldestTradeOpen  MSinceMostRecentTradeOpen  \\\n",
       "0              0.621359               0.188424                   0.033163   \n",
       "1              0.679612               0.082512                   0.061224   \n",
       "\n",
       "   AverageMInFile  NumSatisfactoryTrades  NumTrades60Ever2DerogPubRec  \\\n",
       "0        0.237245               0.329545                     0.428571   \n",
       "1        0.127551               0.125000                     0.464286   \n",
       "\n",
       "   NumTrades90Ever2DerogPubRec  PercentTradesNeverDelq  MSinceMostRecentDelq  \\\n",
       "0                     0.321429                0.844037              0.119565   \n",
       "1                     0.464286                1.000000              0.021739   \n",
       "\n",
       "   MaxDelq2PublicRecLast12M  ...  MSinceMostRecentInqexcl7days  NumInqLast6M  \\\n",
       "0                  0.666667  ...                      0.272727          0.12   \n",
       "1                  0.500000  ...                      0.272727          0.12   \n",
       "\n",
       "   NumInqLast6Mexcl7days  NetFractionRevolvingBurden  \\\n",
       "0                   0.12                    0.174274   \n",
       "1                   0.12                    0.037344   \n",
       "\n",
       "   NetFractionInstallBurden  NumRevolvingTradesWBalance  \\\n",
       "0                  0.002083                    0.414634   \n",
       "1                  0.002083                    0.219512   \n",
       "\n",
       "   NumInstallTradesWBalance  NumBank2NatlTradesWHighUtilization  \\\n",
       "0                   0.31250                            0.370370   \n",
       "1                   0.03125                            0.037037   \n",
       "\n",
       "   PercentTradesWBalance  RiskPerformance  \n",
       "0               0.715596              Bad  \n",
       "1               0.082569              Bad  \n",
       "\n",
       "[2 rows x 24 columns]"
      ]
     },
     "execution_count": 36,
     "metadata": {},
     "output_type": "execute_result"
    }
   ],
   "source": [
    "# Select all the attributes to normalize\n",
    "columns_to_normalize = df.columns[:-1]\n",
    "\n",
    "# Normalize between 0 and 1\n",
    "df_normalized = (df[columns_to_normalize] - df[columns_to_normalize].min()) / (df[columns_to_normalize].max() - df[columns_to_normalize].min())\n",
    "\n",
    "# Combine the attributes and the label\n",
    "df_normalized = pd.concat([df_normalized, df[df.columns[-1]]], axis=1)\n",
    "\n",
    "df_normalized.head(2)"
   ]
  },
  {
   "cell_type": "markdown",
   "metadata": {},
   "source": [
    "---\n",
    "<a id=\"section33\"></a>\n",
    "# <font color=\"#004D7F\" size=5> 3.3. Generate images</font>"
   ]
  },
  {
   "cell_type": "markdown",
   "metadata": {},
   "source": [
    "Now we can generate the images with the `generateImages()` generic function. Likewise, we create a dataset that will have the path of each of the samples with the corresponding image created for it. \n",
    "\n",
    "Note that each image is created based on a row, therefore, each numerical sample of the dataset will correspond to a particular image. In other words, we will have the same number of images as samples/rows."
   ]
  },
  {
   "cell_type": "code",
   "execution_count": 37,
   "metadata": {},
   "outputs": [
    {
     "name": "stdout",
     "output_type": "stream",
     "text": [
      "The images are already generated\n",
      "../HyNNImages/Classification/heloc_TINTO\\supervised.csv\n"
     ]
    }
   ],
   "source": [
    "import os\n",
    "\n",
    "# Generate the images if the folder does not exist\n",
    "if not os.path.exists(images_folder):\n",
    "    #Generate thet images\n",
    "    image_model.generateImages(df, images_folder)\n",
    "else:\n",
    "    print(\"The images are already generated\")\n",
    "\n",
    "img_paths = os.path.join(images_folder,problem_type+\".csv\")\n",
    "\n",
    "print(img_paths)"
   ]
  },
  {
   "cell_type": "markdown",
   "metadata": {},
   "source": [
    "---\n",
    "<a id=\"section34\"></a>\n",
    "# <font color=\"#004D7F\" size=5> 3.4. Read Images</font>"
   ]
  },
  {
   "cell_type": "markdown",
   "metadata": {},
   "source": [
    "Now, we read the created images "
   ]
  },
  {
   "cell_type": "code",
   "execution_count": 38,
   "metadata": {},
   "outputs": [],
   "source": [
    "imgs = pd.read_csv(img_paths)\n",
    "\n",
    "#imgs[\"images\"]= images_folder + \"\\\\\" + imgs[\"images\"]\n",
    "imgs[\"images\"]= images_folder + \"/\" + imgs[\"images\"]"
   ]
  },
  {
   "cell_type": "markdown",
   "metadata": {},
   "source": [
    "---\n",
    "<a id=\"section35\"></a>\n",
    "# <font color=\"#004D7F\" size=5> 3.5. Mix images and tidy data</font>"
   ]
  },
  {
   "cell_type": "markdown",
   "metadata": {},
   "source": [
    "Since we are going to use hybrid networks, i.e. create a model in which we join a CNN for the images and a MLP for the tabular data, we are going to join it in order to integrate all the data in our hybrid model.\n"
   ]
  },
  {
   "cell_type": "markdown",
   "metadata": {},
   "source": [
    "Combine the images and tidy data in the same dataframe, split attributes and objective value"
   ]
  },
  {
   "cell_type": "code",
   "execution_count": 39,
   "metadata": {},
   "outputs": [
    {
     "name": "stdout",
     "output_type": "stream",
     "text": [
      "0         Bad\n",
      "1         Bad\n",
      "2         Bad\n",
      "3         Bad\n",
      "4         Bad\n",
      "         ... \n",
      "10454    Good\n",
      "10455     Bad\n",
      "10456     Bad\n",
      "10457     Bad\n",
      "10458     Bad\n",
      "Name: class, Length: 10459, dtype: object\n"
     ]
    }
   ],
   "source": [
    "combined_dataset = pd.concat([imgs,df_normalized[columns_to_normalize]],axis=1)\n",
    "\n",
    "df_x = combined_dataset.drop(\"class\",axis=1)\n",
    "df_y = combined_dataset[\"class\"]\n",
    "\n",
    "print(df_y)"
   ]
  },
  {
   "cell_type": "markdown",
   "metadata": {},
   "source": [
    "---\n",
    "<a id=\"section36\"></a>\n",
    "# <font color=\"#004D7F\" size=5> 3.6. Label encoding</font>"
   ]
  },
  {
   "cell_type": "markdown",
   "metadata": {},
   "source": [
    "\n",
    "In this section, we delve into label encoding, a crucial preprocessing step for preparing categorical labels for use in machine learning models. Specifically for binary classification tasks, label encoding involves transforming categorical labels into a binary format, represented by the integers 0 and 1."
   ]
  },
  {
   "cell_type": "code",
   "execution_count": 40,
   "metadata": {},
   "outputs": [],
   "source": [
    "from sklearn.preprocessing import LabelEncoder\n",
    "encoder = LabelEncoder()\n",
    "df_y = encoder.fit_transform(df_y)"
   ]
  },
  {
   "cell_type": "code",
   "execution_count": 41,
   "metadata": {},
   "outputs": [
    {
     "data": {
      "text/plain": [
       "array([0, 0, 0, ..., 0, 0, 0])"
      ]
     },
     "execution_count": 41,
     "metadata": {},
     "output_type": "execute_result"
    }
   ],
   "source": [
    "df_y"
   ]
  },
  {
   "cell_type": "markdown",
   "metadata": {
    "id": "_haEKIo7jpD1"
   },
   "source": [
    "---\n",
    "<div style=\"text-align: right\"> <font size=5> <a href=\"#indice\"><i class=\"fa fa-arrow-circle-up\" aria-hidden=\"true\" style=\"color:#004D7F\"></i></a></font></div>\n",
    "\n",
    "---"
   ]
  },
  {
   "cell_type": "markdown",
   "metadata": {
    "id": "uF1lJWbojpD3"
   },
   "source": [
    "<a id=\"section4\"></a>\n",
    "# <font color=\"#004D7F\" size=6> 4. Pre-modelling phase</font>"
   ]
  },
  {
   "cell_type": "markdown",
   "metadata": {},
   "source": [
    "Once the data is ready, we load it into memory with an iterator in order to pass it to the CNN."
   ]
  },
  {
   "cell_type": "markdown",
   "metadata": {},
   "source": [
    "---\n",
    "<a id=\"section41\"></a>\n",
    "# <font color=\"#004D7F\" size=5> 4.1. Data curation</font>"
   ]
  },
  {
   "cell_type": "markdown",
   "metadata": {},
   "source": [
    "Note that each method generates images of **different pixel size**. For example:\n",
    "- `TINTO` method has a parameter that you can specify the size in pixels which by default is 20. \n",
    "- Other parameters such as `Combined` generates the size automatically and you must obtain them from the _shape_ of the images."
   ]
  },
  {
   "cell_type": "markdown",
   "metadata": {},
   "source": [
    "<div class=\"alert alert-block alert-info\">\n",
    "\n",
    "<i class=\"fa fa-info-circle\" aria-hidden=\"true\"></i>\n",
    "You can see all information about TINTOlib documentation in [PyPI](https://tintolib.readthedocs.io/en/latest/installation.html)"
   ]
  },
  {
   "cell_type": "code",
   "execution_count": 42,
   "metadata": {},
   "outputs": [],
   "source": [
    "pixels = 20"
   ]
  },
  {
   "cell_type": "markdown",
   "metadata": {},
   "source": [
    "Split in train/test/validation. \n",
    "\n",
    "Note that the partitioning of the images is also performed, in addition to the tabular data."
   ]
  },
  {
   "cell_type": "code",
   "execution_count": 43,
   "metadata": {},
   "outputs": [
    {
     "name": "stdout",
     "output_type": "stream",
     "text": [
      "Images shape:  (20, 20, 3)\n",
      "Attributres:  23\n",
      "Image size (pixels): 20\n"
     ]
    }
   ],
   "source": [
    "import cv2\n",
    "X_train, X_val, y_train, y_val = train_test_split(df_x, df_y, test_size = 0.40, random_state = 123)\n",
    "X_val, X_test, y_val, y_test = train_test_split(X_val, y_val, test_size = 0.50, random_state = 123)\n",
    "\n",
    "#TIDY DATA SPLITTED\n",
    "X_train_num = X_train.drop(\"images\",axis=1)\n",
    "X_val_num = X_val.drop(\"images\",axis=1)\n",
    "X_test_num = X_test.drop(\"images\",axis=1)\n",
    "\n",
    "#IMAGES\n",
    "# For 3 canal (RGB)\n",
    "X_train_img = np.array([cv2.resize(cv2.imread(img),(pixels,pixels)) for img in X_train[\"images\"]])\n",
    "X_val_img = np.array([cv2.resize(cv2.imread(img),(pixels,pixels)) for img in X_val[\"images\"]])\n",
    "X_test_img = np.array([cv2.resize(cv2.imread(img),(pixels,pixels)) for img in X_test[\"images\"]])\n",
    "\n",
    "# For 1 canal (GRAY SCALE)\n",
    "\"\"\"X_train_img = np.array([cv2.imread(img,cv2.IMREAD_GRAYSCALE) for img in X_train[\"images\"]])\n",
    "X_val_img = np.array([cv2.imread(img,cv2.IMREAD_GRAYSCALE) for img in X_val[\"images\"]])\n",
    "X_test_img = np.array([cv2.imread(img,cv2.IMREAD_GRAYSCALE) for img in X_test[\"images\"]])\"\"\"\n",
    "\n",
    "# Convert the Numpy arrays to TensorFlow tensors and normalize the pixel values to [0, 1]\n",
    "X_train_img = tf.convert_to_tensor(X_train_img, dtype=tf.float32) / 255.0\n",
    "X_val_img = tf.convert_to_tensor(X_val_img, dtype=tf.float32) / 255.0\n",
    "X_test_img = tf.convert_to_tensor(X_test_img, dtype=tf.float32) / 255.0\n",
    "\n",
    "attributes = len(X_train_num.columns)\n",
    "imgs_shape = X_train_img[0].shape\n",
    "\n",
    "print(\"Images shape: \",imgs_shape)\n",
    "print(\"Attributres: \",attributes)\n",
    "pixels=X_train_img[0].shape[0]\n",
    "print(\"Image size (pixels):\", pixels)"
   ]
  },
  {
   "cell_type": "markdown",
   "metadata": {},
   "source": [
    "<a id=\"section5\"></a>\n",
    "# <font color=\"#004D7F\" size=6> 5. Modeling hybrid network</font>"
   ]
  },
  {
   "cell_type": "markdown",
   "metadata": {},
   "source": [
    "Now we can start the CNN+MLP training. Before that we prepare the algorithm for reading data.\n",
    "\n",
    "In this example, 2 branch networks is created\n",
    "- 1º branch: FFNN for tabular data\n",
    "- 2º branch: CNN for TINTOlib images"
   ]
  },
  {
   "cell_type": "markdown",
   "metadata": {},
   "source": [
    "---\n",
    "<a id=\"section51\"></a>\n",
    "# <font color=\"#004D7F\" size=5> 5.1. FFNN for tabular data</font>\n",
    "\n",
    "This is an example of a simple FFNN for tabular data. Note that we are not looking for the optimization of the CNN but to show an example of TINTOlib execution."
   ]
  },
  {
   "cell_type": "code",
   "execution_count": 44,
   "metadata": {},
   "outputs": [],
   "source": [
    "dropout = 0.3"
   ]
  },
  {
   "cell_type": "code",
   "execution_count": 45,
   "metadata": {},
   "outputs": [],
   "source": [
    "filters_ffnn = [128,64,32]\n",
    "\n",
    "ff_model = Sequential()\n",
    "ff_model.add(Input(shape=(attributes,)))\n",
    "\n",
    "for layer in filters_ffnn:\n",
    "    ff_model.add(Dense(layer, activation=\"relu\"))\n",
    "    ff_model.add(BatchNormalization())\n",
    "    ff_model.add(Dropout(dropout))"
   ]
  },
  {
   "cell_type": "code",
   "execution_count": 46,
   "metadata": {},
   "outputs": [
    {
     "data": {
      "text/plain": [
       "<KerasTensor shape=(None, 32), dtype=float32, sparse=False, name=keras_tensor_529>"
      ]
     },
     "execution_count": 46,
     "metadata": {},
     "output_type": "execute_result"
    }
   ],
   "source": [
    "ff_model(keras.Input(shape=(attributes,)))"
   ]
  },
  {
   "cell_type": "markdown",
   "metadata": {},
   "source": [
    "---\n",
    "<a id=\"section52\"></a>\n",
    "# <font color=\"#004D7F\" size=5> 5.2. CNN for TINTOlib images</font>\n",
    "\n",
    "This is an example of a simple CNN for TINTOlib images. Note that we are not looking for the optimization of the CNN but to show an example of TINTOlib execution."
   ]
  },
  {
   "cell_type": "code",
   "execution_count": 47,
   "metadata": {},
   "outputs": [
    {
     "data": {
      "text/plain": [
       "'\\n\\nfilters_cnn =  [224,256,128]\\n\\ncnn_model = Sequential()\\ncnn_model.add(Input(shape=(pixels,pixels, 3)))\\n\\nfor layer in filters_cnn:\\n    cnn_model.add(Conv2D(layer, (3, 3), padding=\"same\"))\\n    cnn_model.add(Activation(\"relu\"))\\n    cnn_model.add(BatchNormalization())\\n    cnn_model.add(MaxPooling2D(pool_size=(1, 1)))\\n\\n# flatten the volume, then FC => RELU => BN => DROPOUT\\ncnn_model.add(Flatten())\\ncnn_model.add(Dense(210))\\ncnn_model.add(Activation(\"relu\"))\\ncnn_model.add(Dense(160))\\ncnn_model.add(Activation(\"relu\"))\\n# apply another FC layer, this one to match the number of nodes\\n# coming out of the MLP\\ncnn_model.add(Dense(32))\\ncnn_model.add(Activation(\"relu\"))\\n\\nEste consigue 76-75% de accuracy\\n'"
      ]
     },
     "execution_count": 47,
     "metadata": {},
     "output_type": "execute_result"
    }
   ],
   "source": [
    "filters_cnn =  [16,32,64,128]\n",
    "\n",
    "cnn_model = Sequential()\n",
    "cnn_model.add(Input(shape=(pixels,pixels, 3)))\n",
    "\n",
    "for layer in filters_cnn:\n",
    "    cnn_model.add(Conv2D(layer, (3, 3), padding=\"same\"))\n",
    "    cnn_model.add(Activation(\"relu\"))\n",
    "    cnn_model.add(BatchNormalization())\n",
    "    cnn_model.add(MaxPooling2D(pool_size=(2, 2)))\n",
    "\n",
    "# flatten the volume, then FC => RELU => BN => DROPOUT\n",
    "cnn_model.add(Flatten())\n",
    "cnn_model.add(Dense(128))\n",
    "cnn_model.add(Activation(\"relu\"))\n",
    "cnn_model.add(BatchNormalization())\n",
    "cnn_model.add(Dropout(dropout))\n",
    "cnn_model.add(Dense(64))\n",
    "cnn_model.add(Activation(\"relu\"))\n",
    "cnn_model.add(BatchNormalization())\n",
    "cnn_model.add(Dropout(dropout))\n",
    "# apply another FC layer, this one to match the number of nodes\n",
    "# coming out of the MLP\n",
    "cnn_model.add(Dense(32))\n",
    "cnn_model.add(Activation(\"relu\"))\n",
    "cnn_model.add(BatchNormalization())\n",
    "cnn_model.add(Dropout(dropout))\n",
    "\n",
    "\"\"\"\n",
    "\n",
    "filters_cnn =  [224,256,128]\n",
    "\n",
    "cnn_model = Sequential()\n",
    "cnn_model.add(Input(shape=(pixels,pixels, 3)))\n",
    "\n",
    "for layer in filters_cnn:\n",
    "    cnn_model.add(Conv2D(layer, (3, 3), padding=\"same\"))\n",
    "    cnn_model.add(Activation(\"relu\"))\n",
    "    cnn_model.add(BatchNormalization())\n",
    "    cnn_model.add(MaxPooling2D(pool_size=(1, 1)))\n",
    "\n",
    "# flatten the volume, then FC => RELU => BN => DROPOUT\n",
    "cnn_model.add(Flatten())\n",
    "cnn_model.add(Dense(210))\n",
    "cnn_model.add(Activation(\"relu\"))\n",
    "cnn_model.add(Dense(160))\n",
    "cnn_model.add(Activation(\"relu\"))\n",
    "# apply another FC layer, this one to match the number of nodes\n",
    "# coming out of the MLP\n",
    "cnn_model.add(Dense(32))\n",
    "cnn_model.add(Activation(\"relu\"))\n",
    "\n",
    "Este consigue 76-75% de accuracy\n",
    "\"\"\""
   ]
  },
  {
   "cell_type": "code",
   "execution_count": 49,
   "metadata": {},
   "outputs": [
    {
     "data": {
      "text/plain": [
       "<KerasTensor shape=(None, 32), dtype=float32, sparse=False, name=keras_tensor_967>"
      ]
     },
     "execution_count": 49,
     "metadata": {},
     "output_type": "execute_result"
    }
   ],
   "source": [
    "cnn_model(keras.Input(shape=(pixels,pixels, 3)))"
   ]
  },
  {
   "cell_type": "markdown",
   "metadata": {},
   "source": [
    "---\n",
    "<a id=\"section53\"></a>\n",
    "# <font color=\"#004D7F\" size=5> 5.3. Concatenate branches</font>\n",
    "\n",
    "Finally, we must concatenate the output of the CNN branch with the output of the FFNN branch in a final FFNN that will give the predictions."
   ]
  },
  {
   "cell_type": "code",
   "execution_count": 50,
   "metadata": {},
   "outputs": [],
   "source": [
    "combinedInput = concatenate([ff_model.output, cnn_model.output])\n",
    "x = Dense(64, activation=\"relu\")(combinedInput)\n",
    "x = BatchNormalization()(x)\n",
    "x = Dropout(dropout)(x)\n",
    "x = Dense(64, activation=\"relu\")(x)\n",
    "x = BatchNormalization()(x)\n",
    "x = Dropout(dropout)(x)\n",
    "x = Dense(64, activation=\"relu\")(x)\n",
    "x = BatchNormalization()(x)\n",
    "x = Dropout(dropout)(x)\n",
    "x = Dense(1, activation=\"sigmoid\")(x)\n",
    "\n",
    "model = Model(inputs=[ff_model.input, cnn_model.input], outputs=x)"
   ]
  },
  {
   "cell_type": "markdown",
   "metadata": {},
   "source": [
    "---\n",
    "<a id=\"section54\"></a>\n",
    "# <font color=\"#004D7F\" size=5> 5.4. Metrics</font>\n",
    "\n",
    "Define metrics and some hyperparameters"
   ]
  },
  {
   "cell_type": "code",
   "execution_count": 51,
   "metadata": {},
   "outputs": [],
   "source": [
    "METRICS = [\n",
    "    #tf.keras.metrics.TruePositives(name = 'tp'),\n",
    "    #tf.keras.metrics.FalsePositives(name = 'fp'),\n",
    "    #tf.keras.metrics.TrueNegatives(name = 'tn'),\n",
    "    #tf.keras.metrics.FalseNegatives(name = 'fn'), \n",
    "    tf.keras.metrics.BinaryAccuracy(name ='accuracy'),\n",
    "    tf.keras.metrics.Precision(name = 'precision'),\n",
    "    tf.keras.metrics.Recall(name = 'recall'),\n",
    "    tf.keras.metrics.AUC(name = 'auc'),\n",
    "]"
   ]
  },
  {
   "cell_type": "markdown",
   "metadata": {},
   "source": [
    "Print the model"
   ]
  },
  {
   "cell_type": "code",
   "execution_count": 52,
   "metadata": {},
   "outputs": [
    {
     "data": {
      "text/html": [
       "<pre style=\"white-space:pre;overflow-x:auto;line-height:normal;font-family:Menlo,'DejaVu Sans Mono',consolas,'Courier New',monospace\"><span style=\"font-weight: bold\">Model: \"functional_77\"</span>\n",
       "</pre>\n"
      ],
      "text/plain": [
       "\u001b[1mModel: \"functional_77\"\u001b[0m\n"
      ]
     },
     "metadata": {},
     "output_type": "display_data"
    },
    {
     "data": {
      "text/html": [
       "<pre style=\"white-space:pre;overflow-x:auto;line-height:normal;font-family:Menlo,'DejaVu Sans Mono',consolas,'Courier New',monospace\">┏━━━━━━━━━━━━━━━━━━━━━┳━━━━━━━━━━━━━━━━━━━┳━━━━━━━━━━━━┳━━━━━━━━━━━━━━━━━━━┓\n",
       "┃<span style=\"font-weight: bold\"> Layer (type)        </span>┃<span style=\"font-weight: bold\"> Output Shape      </span>┃<span style=\"font-weight: bold\">    Param # </span>┃<span style=\"font-weight: bold\"> Connected to      </span>┃\n",
       "┡━━━━━━━━━━━━━━━━━━━━━╇━━━━━━━━━━━━━━━━━━━╇━━━━━━━━━━━━╇━━━━━━━━━━━━━━━━━━━┩\n",
       "│ input_layer_3       │ (<span style=\"color: #00d7ff; text-decoration-color: #00d7ff\">None</span>, <span style=\"color: #00af00; text-decoration-color: #00af00\">23</span>)        │          <span style=\"color: #00af00; text-decoration-color: #00af00\">0</span> │ -                 │\n",
       "│ (<span style=\"color: #0087ff; text-decoration-color: #0087ff\">InputLayer</span>)        │                   │            │                   │\n",
       "├─────────────────────┼───────────────────┼────────────┼───────────────────┤\n",
       "│ input_layer_5       │ (<span style=\"color: #00d7ff; text-decoration-color: #00d7ff\">None</span>, <span style=\"color: #00af00; text-decoration-color: #00af00\">20</span>, <span style=\"color: #00af00; text-decoration-color: #00af00\">20</span>, <span style=\"color: #00af00; text-decoration-color: #00af00\">3</span>) │          <span style=\"color: #00af00; text-decoration-color: #00af00\">0</span> │ -                 │\n",
       "│ (<span style=\"color: #0087ff; text-decoration-color: #0087ff\">InputLayer</span>)        │                   │            │                   │\n",
       "├─────────────────────┼───────────────────┼────────────┼───────────────────┤\n",
       "│ sequential_2        │ (<span style=\"color: #00d7ff; text-decoration-color: #00d7ff\">None</span>, <span style=\"color: #00af00; text-decoration-color: #00af00\">32</span>)        │     <span style=\"color: #00af00; text-decoration-color: #00af00\">14,304</span> │ input_layer_3[<span style=\"color: #00af00; text-decoration-color: #00af00\">0</span>]… │\n",
       "│ (<span style=\"color: #0087ff; text-decoration-color: #0087ff\">Sequential</span>)        │                   │            │                   │\n",
       "├─────────────────────┼───────────────────┼────────────┼───────────────────┤\n",
       "│ sequential_3        │ (<span style=\"color: #00d7ff; text-decoration-color: #00d7ff\">None</span>, <span style=\"color: #00af00; text-decoration-color: #00af00\">32</span>)        │    <span style=\"color: #00af00; text-decoration-color: #00af00\">126,144</span> │ input_layer_5[<span style=\"color: #00af00; text-decoration-color: #00af00\">0</span>]… │\n",
       "│ (<span style=\"color: #0087ff; text-decoration-color: #0087ff\">Sequential</span>)        │                   │            │                   │\n",
       "├─────────────────────┼───────────────────┼────────────┼───────────────────┤\n",
       "│ concatenate         │ (<span style=\"color: #00d7ff; text-decoration-color: #00d7ff\">None</span>, <span style=\"color: #00af00; text-decoration-color: #00af00\">64</span>)        │          <span style=\"color: #00af00; text-decoration-color: #00af00\">0</span> │ sequential_2[<span style=\"color: #00af00; text-decoration-color: #00af00\">0</span>][<span style=\"color: #00af00; text-decoration-color: #00af00\">…</span> │\n",
       "│ (<span style=\"color: #0087ff; text-decoration-color: #0087ff\">Concatenate</span>)       │                   │            │ sequential_3[<span style=\"color: #00af00; text-decoration-color: #00af00\">0</span>][<span style=\"color: #00af00; text-decoration-color: #00af00\">…</span> │\n",
       "├─────────────────────┼───────────────────┼────────────┼───────────────────┤\n",
       "│ dense_12 (<span style=\"color: #0087ff; text-decoration-color: #0087ff\">Dense</span>)    │ (<span style=\"color: #00d7ff; text-decoration-color: #00d7ff\">None</span>, <span style=\"color: #00af00; text-decoration-color: #00af00\">64</span>)        │      <span style=\"color: #00af00; text-decoration-color: #00af00\">4,160</span> │ concatenate[<span style=\"color: #00af00; text-decoration-color: #00af00\">0</span>][<span style=\"color: #00af00; text-decoration-color: #00af00\">0</span>] │\n",
       "├─────────────────────┼───────────────────┼────────────┼───────────────────┤\n",
       "│ batch_normalizatio… │ (<span style=\"color: #00d7ff; text-decoration-color: #00d7ff\">None</span>, <span style=\"color: #00af00; text-decoration-color: #00af00\">64</span>)        │        <span style=\"color: #00af00; text-decoration-color: #00af00\">256</span> │ dense_12[<span style=\"color: #00af00; text-decoration-color: #00af00\">0</span>][<span style=\"color: #00af00; text-decoration-color: #00af00\">0</span>]    │\n",
       "│ (<span style=\"color: #0087ff; text-decoration-color: #0087ff\">BatchNormalizatio…</span> │                   │            │                   │\n",
       "├─────────────────────┼───────────────────┼────────────┼───────────────────┤\n",
       "│ dropout_12          │ (<span style=\"color: #00d7ff; text-decoration-color: #00d7ff\">None</span>, <span style=\"color: #00af00; text-decoration-color: #00af00\">64</span>)        │          <span style=\"color: #00af00; text-decoration-color: #00af00\">0</span> │ batch_normalizat… │\n",
       "│ (<span style=\"color: #0087ff; text-decoration-color: #0087ff\">Dropout</span>)           │                   │            │                   │\n",
       "├─────────────────────┼───────────────────┼────────────┼───────────────────┤\n",
       "│ dense_13 (<span style=\"color: #0087ff; text-decoration-color: #0087ff\">Dense</span>)    │ (<span style=\"color: #00d7ff; text-decoration-color: #00d7ff\">None</span>, <span style=\"color: #00af00; text-decoration-color: #00af00\">64</span>)        │      <span style=\"color: #00af00; text-decoration-color: #00af00\">4,160</span> │ dropout_12[<span style=\"color: #00af00; text-decoration-color: #00af00\">0</span>][<span style=\"color: #00af00; text-decoration-color: #00af00\">0</span>]  │\n",
       "├─────────────────────┼───────────────────┼────────────┼───────────────────┤\n",
       "│ batch_normalizatio… │ (<span style=\"color: #00d7ff; text-decoration-color: #00d7ff\">None</span>, <span style=\"color: #00af00; text-decoration-color: #00af00\">64</span>)        │        <span style=\"color: #00af00; text-decoration-color: #00af00\">256</span> │ dense_13[<span style=\"color: #00af00; text-decoration-color: #00af00\">0</span>][<span style=\"color: #00af00; text-decoration-color: #00af00\">0</span>]    │\n",
       "│ (<span style=\"color: #0087ff; text-decoration-color: #0087ff\">BatchNormalizatio…</span> │                   │            │                   │\n",
       "├─────────────────────┼───────────────────┼────────────┼───────────────────┤\n",
       "│ dropout_13          │ (<span style=\"color: #00d7ff; text-decoration-color: #00d7ff\">None</span>, <span style=\"color: #00af00; text-decoration-color: #00af00\">64</span>)        │          <span style=\"color: #00af00; text-decoration-color: #00af00\">0</span> │ batch_normalizat… │\n",
       "│ (<span style=\"color: #0087ff; text-decoration-color: #0087ff\">Dropout</span>)           │                   │            │                   │\n",
       "├─────────────────────┼───────────────────┼────────────┼───────────────────┤\n",
       "│ dense_14 (<span style=\"color: #0087ff; text-decoration-color: #0087ff\">Dense</span>)    │ (<span style=\"color: #00d7ff; text-decoration-color: #00d7ff\">None</span>, <span style=\"color: #00af00; text-decoration-color: #00af00\">64</span>)        │      <span style=\"color: #00af00; text-decoration-color: #00af00\">4,160</span> │ dropout_13[<span style=\"color: #00af00; text-decoration-color: #00af00\">0</span>][<span style=\"color: #00af00; text-decoration-color: #00af00\">0</span>]  │\n",
       "├─────────────────────┼───────────────────┼────────────┼───────────────────┤\n",
       "│ batch_normalizatio… │ (<span style=\"color: #00d7ff; text-decoration-color: #00d7ff\">None</span>, <span style=\"color: #00af00; text-decoration-color: #00af00\">64</span>)        │        <span style=\"color: #00af00; text-decoration-color: #00af00\">256</span> │ dense_14[<span style=\"color: #00af00; text-decoration-color: #00af00\">0</span>][<span style=\"color: #00af00; text-decoration-color: #00af00\">0</span>]    │\n",
       "│ (<span style=\"color: #0087ff; text-decoration-color: #0087ff\">BatchNormalizatio…</span> │                   │            │                   │\n",
       "├─────────────────────┼───────────────────┼────────────┼───────────────────┤\n",
       "│ dropout_14          │ (<span style=\"color: #00d7ff; text-decoration-color: #00d7ff\">None</span>, <span style=\"color: #00af00; text-decoration-color: #00af00\">64</span>)        │          <span style=\"color: #00af00; text-decoration-color: #00af00\">0</span> │ batch_normalizat… │\n",
       "│ (<span style=\"color: #0087ff; text-decoration-color: #0087ff\">Dropout</span>)           │                   │            │                   │\n",
       "├─────────────────────┼───────────────────┼────────────┼───────────────────┤\n",
       "│ dense_15 (<span style=\"color: #0087ff; text-decoration-color: #0087ff\">Dense</span>)    │ (<span style=\"color: #00d7ff; text-decoration-color: #00d7ff\">None</span>, <span style=\"color: #00af00; text-decoration-color: #00af00\">1</span>)         │         <span style=\"color: #00af00; text-decoration-color: #00af00\">65</span> │ dropout_14[<span style=\"color: #00af00; text-decoration-color: #00af00\">0</span>][<span style=\"color: #00af00; text-decoration-color: #00af00\">0</span>]  │\n",
       "└─────────────────────┴───────────────────┴────────────┴───────────────────┘\n",
       "</pre>\n"
      ],
      "text/plain": [
       "┏━━━━━━━━━━━━━━━━━━━━━┳━━━━━━━━━━━━━━━━━━━┳━━━━━━━━━━━━┳━━━━━━━━━━━━━━━━━━━┓\n",
       "┃\u001b[1m \u001b[0m\u001b[1mLayer (type)       \u001b[0m\u001b[1m \u001b[0m┃\u001b[1m \u001b[0m\u001b[1mOutput Shape     \u001b[0m\u001b[1m \u001b[0m┃\u001b[1m \u001b[0m\u001b[1m   Param #\u001b[0m\u001b[1m \u001b[0m┃\u001b[1m \u001b[0m\u001b[1mConnected to     \u001b[0m\u001b[1m \u001b[0m┃\n",
       "┡━━━━━━━━━━━━━━━━━━━━━╇━━━━━━━━━━━━━━━━━━━╇━━━━━━━━━━━━╇━━━━━━━━━━━━━━━━━━━┩\n",
       "│ input_layer_3       │ (\u001b[38;5;45mNone\u001b[0m, \u001b[38;5;34m23\u001b[0m)        │          \u001b[38;5;34m0\u001b[0m │ -                 │\n",
       "│ (\u001b[38;5;33mInputLayer\u001b[0m)        │                   │            │                   │\n",
       "├─────────────────────┼───────────────────┼────────────┼───────────────────┤\n",
       "│ input_layer_5       │ (\u001b[38;5;45mNone\u001b[0m, \u001b[38;5;34m20\u001b[0m, \u001b[38;5;34m20\u001b[0m, \u001b[38;5;34m3\u001b[0m) │          \u001b[38;5;34m0\u001b[0m │ -                 │\n",
       "│ (\u001b[38;5;33mInputLayer\u001b[0m)        │                   │            │                   │\n",
       "├─────────────────────┼───────────────────┼────────────┼───────────────────┤\n",
       "│ sequential_2        │ (\u001b[38;5;45mNone\u001b[0m, \u001b[38;5;34m32\u001b[0m)        │     \u001b[38;5;34m14,304\u001b[0m │ input_layer_3[\u001b[38;5;34m0\u001b[0m]… │\n",
       "│ (\u001b[38;5;33mSequential\u001b[0m)        │                   │            │                   │\n",
       "├─────────────────────┼───────────────────┼────────────┼───────────────────┤\n",
       "│ sequential_3        │ (\u001b[38;5;45mNone\u001b[0m, \u001b[38;5;34m32\u001b[0m)        │    \u001b[38;5;34m126,144\u001b[0m │ input_layer_5[\u001b[38;5;34m0\u001b[0m]… │\n",
       "│ (\u001b[38;5;33mSequential\u001b[0m)        │                   │            │                   │\n",
       "├─────────────────────┼───────────────────┼────────────┼───────────────────┤\n",
       "│ concatenate         │ (\u001b[38;5;45mNone\u001b[0m, \u001b[38;5;34m64\u001b[0m)        │          \u001b[38;5;34m0\u001b[0m │ sequential_2[\u001b[38;5;34m0\u001b[0m][\u001b[38;5;34m…\u001b[0m │\n",
       "│ (\u001b[38;5;33mConcatenate\u001b[0m)       │                   │            │ sequential_3[\u001b[38;5;34m0\u001b[0m][\u001b[38;5;34m…\u001b[0m │\n",
       "├─────────────────────┼───────────────────┼────────────┼───────────────────┤\n",
       "│ dense_12 (\u001b[38;5;33mDense\u001b[0m)    │ (\u001b[38;5;45mNone\u001b[0m, \u001b[38;5;34m64\u001b[0m)        │      \u001b[38;5;34m4,160\u001b[0m │ concatenate[\u001b[38;5;34m0\u001b[0m][\u001b[38;5;34m0\u001b[0m] │\n",
       "├─────────────────────┼───────────────────┼────────────┼───────────────────┤\n",
       "│ batch_normalizatio… │ (\u001b[38;5;45mNone\u001b[0m, \u001b[38;5;34m64\u001b[0m)        │        \u001b[38;5;34m256\u001b[0m │ dense_12[\u001b[38;5;34m0\u001b[0m][\u001b[38;5;34m0\u001b[0m]    │\n",
       "│ (\u001b[38;5;33mBatchNormalizatio…\u001b[0m │                   │            │                   │\n",
       "├─────────────────────┼───────────────────┼────────────┼───────────────────┤\n",
       "│ dropout_12          │ (\u001b[38;5;45mNone\u001b[0m, \u001b[38;5;34m64\u001b[0m)        │          \u001b[38;5;34m0\u001b[0m │ batch_normalizat… │\n",
       "│ (\u001b[38;5;33mDropout\u001b[0m)           │                   │            │                   │\n",
       "├─────────────────────┼───────────────────┼────────────┼───────────────────┤\n",
       "│ dense_13 (\u001b[38;5;33mDense\u001b[0m)    │ (\u001b[38;5;45mNone\u001b[0m, \u001b[38;5;34m64\u001b[0m)        │      \u001b[38;5;34m4,160\u001b[0m │ dropout_12[\u001b[38;5;34m0\u001b[0m][\u001b[38;5;34m0\u001b[0m]  │\n",
       "├─────────────────────┼───────────────────┼────────────┼───────────────────┤\n",
       "│ batch_normalizatio… │ (\u001b[38;5;45mNone\u001b[0m, \u001b[38;5;34m64\u001b[0m)        │        \u001b[38;5;34m256\u001b[0m │ dense_13[\u001b[38;5;34m0\u001b[0m][\u001b[38;5;34m0\u001b[0m]    │\n",
       "│ (\u001b[38;5;33mBatchNormalizatio…\u001b[0m │                   │            │                   │\n",
       "├─────────────────────┼───────────────────┼────────────┼───────────────────┤\n",
       "│ dropout_13          │ (\u001b[38;5;45mNone\u001b[0m, \u001b[38;5;34m64\u001b[0m)        │          \u001b[38;5;34m0\u001b[0m │ batch_normalizat… │\n",
       "│ (\u001b[38;5;33mDropout\u001b[0m)           │                   │            │                   │\n",
       "├─────────────────────┼───────────────────┼────────────┼───────────────────┤\n",
       "│ dense_14 (\u001b[38;5;33mDense\u001b[0m)    │ (\u001b[38;5;45mNone\u001b[0m, \u001b[38;5;34m64\u001b[0m)        │      \u001b[38;5;34m4,160\u001b[0m │ dropout_13[\u001b[38;5;34m0\u001b[0m][\u001b[38;5;34m0\u001b[0m]  │\n",
       "├─────────────────────┼───────────────────┼────────────┼───────────────────┤\n",
       "│ batch_normalizatio… │ (\u001b[38;5;45mNone\u001b[0m, \u001b[38;5;34m64\u001b[0m)        │        \u001b[38;5;34m256\u001b[0m │ dense_14[\u001b[38;5;34m0\u001b[0m][\u001b[38;5;34m0\u001b[0m]    │\n",
       "│ (\u001b[38;5;33mBatchNormalizatio…\u001b[0m │                   │            │                   │\n",
       "├─────────────────────┼───────────────────┼────────────┼───────────────────┤\n",
       "│ dropout_14          │ (\u001b[38;5;45mNone\u001b[0m, \u001b[38;5;34m64\u001b[0m)        │          \u001b[38;5;34m0\u001b[0m │ batch_normalizat… │\n",
       "│ (\u001b[38;5;33mDropout\u001b[0m)           │                   │            │                   │\n",
       "├─────────────────────┼───────────────────┼────────────┼───────────────────┤\n",
       "│ dense_15 (\u001b[38;5;33mDense\u001b[0m)    │ (\u001b[38;5;45mNone\u001b[0m, \u001b[38;5;34m1\u001b[0m)         │         \u001b[38;5;34m65\u001b[0m │ dropout_14[\u001b[38;5;34m0\u001b[0m][\u001b[38;5;34m0\u001b[0m]  │\n",
       "└─────────────────────┴───────────────────┴────────────┴───────────────────┘\n"
      ]
     },
     "metadata": {},
     "output_type": "display_data"
    },
    {
     "data": {
      "text/html": [
       "<pre style=\"white-space:pre;overflow-x:auto;line-height:normal;font-family:Menlo,'DejaVu Sans Mono',consolas,'Courier New',monospace\"><span style=\"font-weight: bold\"> Total params: </span><span style=\"color: #00af00; text-decoration-color: #00af00\">153,761</span> (600.63 KB)\n",
       "</pre>\n"
      ],
      "text/plain": [
       "\u001b[1m Total params: \u001b[0m\u001b[38;5;34m153,761\u001b[0m (600.63 KB)\n"
      ]
     },
     "metadata": {},
     "output_type": "display_data"
    },
    {
     "data": {
      "text/html": [
       "<pre style=\"white-space:pre;overflow-x:auto;line-height:normal;font-family:Menlo,'DejaVu Sans Mono',consolas,'Courier New',monospace\"><span style=\"font-weight: bold\"> Trainable params: </span><span style=\"color: #00af00; text-decoration-color: #00af00\">152,001</span> (593.75 KB)\n",
       "</pre>\n"
      ],
      "text/plain": [
       "\u001b[1m Trainable params: \u001b[0m\u001b[38;5;34m152,001\u001b[0m (593.75 KB)\n"
      ]
     },
     "metadata": {},
     "output_type": "display_data"
    },
    {
     "data": {
      "text/html": [
       "<pre style=\"white-space:pre;overflow-x:auto;line-height:normal;font-family:Menlo,'DejaVu Sans Mono',consolas,'Courier New',monospace\"><span style=\"font-weight: bold\"> Non-trainable params: </span><span style=\"color: #00af00; text-decoration-color: #00af00\">1,760</span> (6.88 KB)\n",
       "</pre>\n"
      ],
      "text/plain": [
       "\u001b[1m Non-trainable params: \u001b[0m\u001b[38;5;34m1,760\u001b[0m (6.88 KB)\n"
      ]
     },
     "metadata": {},
     "output_type": "display_data"
    },
    {
     "data": {
      "image/png": "[encoded data removed]",
      "text/plain": [
       "<IPython.core.display.Image object>"
      ]
     },
     "execution_count": 52,
     "metadata": {},
     "output_type": "execute_result"
    }
   ],
   "source": [
    "from keras.utils import plot_model\n",
    "model.summary()\n",
    "plot_model(model)"
   ]
  },
  {
   "cell_type": "markdown",
   "metadata": {},
   "source": [
    "---\n",
    "<a id=\"section55\"></a>\n",
    "# <font color=\"#004D7F\" size=5> 5.5. Compile and fit</font>\n",
    "\n",
    "Note to specify the **loss depending** on whether you have a binary or multiclass classification problem."
   ]
  },
  {
   "cell_type": "code",
   "execution_count": 53,
   "metadata": {},
   "outputs": [],
   "source": [
    "#HYPERPARAMETERS\n",
    "opt = Adam(learning_rate=1e-3)"
   ]
  },
  {
   "cell_type": "code",
   "execution_count": 54,
   "metadata": {},
   "outputs": [],
   "source": [
    "model.compile(\n",
    "    loss=\"binary_crossentropy\", \n",
    "    optimizer=opt,\n",
    "    metrics = METRICS\n",
    ")\n",
    "epochs = 50"
   ]
  },
  {
   "cell_type": "code",
   "execution_count": 55,
   "metadata": {
    "scrolled": true
   },
   "outputs": [
    {
     "name": "stdout",
     "output_type": "stream",
     "text": [
      "Epoch 1/50\n"
     ]
    },
    {
     "name": "stdout",
     "output_type": "stream",
     "text": [
      "\u001b[1m785/785\u001b[0m \u001b[32m━━━━━━━━━━━━━━━━━━━━\u001b[0m\u001b[37m\u001b[0m \u001b[1m11s\u001b[0m 6ms/step - accuracy: 0.5420 - auc: 0.5671 - loss: 0.8043 - precision: 0.5218 - recall: 0.5224 - val_accuracy: 0.6085 - val_auc: 0.6941 - val_loss: 0.6533 - val_precision: 0.7302 - val_recall: 0.2713\n",
      "Epoch 2/50\n",
      "\u001b[1m785/785\u001b[0m \u001b[32m━━━━━━━━━━━━━━━━━━━━\u001b[0m\u001b[37m\u001b[0m \u001b[1m4s\u001b[0m 5ms/step - accuracy: 0.6288 - auc: 0.6688 - loss: 0.6582 - precision: 0.6188 - recall: 0.5744 - val_accuracy: 0.6415 - val_auc: 0.7348 - val_loss: 0.6734 - val_precision: 0.5812 - val_recall: 0.8623\n",
      "Epoch 3/50\n",
      "\u001b[1m785/785\u001b[0m \u001b[32m━━━━━━━━━━━━━━━━━━━━\u001b[0m\u001b[37m\u001b[0m \u001b[1m4s\u001b[0m 5ms/step - accuracy: 0.6671 - auc: 0.7196 - loss: 0.6200 - precision: 0.6648 - recall: 0.6207 - val_accuracy: 0.6821 - val_auc: 0.7316 - val_loss: 0.6192 - val_precision: 0.7021 - val_recall: 0.5678\n",
      "Epoch 4/50\n",
      "\u001b[1m785/785\u001b[0m \u001b[32m━━━━━━━━━━━━━━━━━━━━\u001b[0m\u001b[37m\u001b[0m \u001b[1m4s\u001b[0m 5ms/step - accuracy: 0.6672 - auc: 0.7108 - loss: 0.6204 - precision: 0.6636 - recall: 0.5958 - val_accuracy: 0.6597 - val_auc: 0.7334 - val_loss: 0.6198 - val_precision: 0.7226 - val_recall: 0.4534\n",
      "Epoch 5/50\n",
      "\u001b[1m785/785\u001b[0m \u001b[32m━━━━━━━━━━━━━━━━━━━━\u001b[0m\u001b[37m\u001b[0m \u001b[1m5s\u001b[0m 6ms/step - accuracy: 0.6742 - auc: 0.7264 - loss: 0.6135 - precision: 0.6713 - recall: 0.6213 - val_accuracy: 0.7151 - val_auc: 0.7783 - val_loss: 0.5780 - val_precision: 0.7934 - val_recall: 0.5364\n",
      "Epoch 6/50\n",
      "\u001b[1m785/785\u001b[0m \u001b[32m━━━━━━━━━━━━━━━━━━━━\u001b[0m\u001b[37m\u001b[0m \u001b[1m4s\u001b[0m 5ms/step - accuracy: 0.6692 - auc: 0.7195 - loss: 0.6198 - precision: 0.6748 - recall: 0.6211 - val_accuracy: 0.6955 - val_auc: 0.7424 - val_loss: 0.6028 - val_precision: 0.7072 - val_recall: 0.6063\n",
      "Epoch 7/50\n",
      "\u001b[1m785/785\u001b[0m \u001b[32m━━━━━━━━━━━━━━━━━━━━\u001b[0m\u001b[37m\u001b[0m \u001b[1m4s\u001b[0m 6ms/step - accuracy: 0.6807 - auc: 0.7421 - loss: 0.5989 - precision: 0.6682 - recall: 0.6451 - val_accuracy: 0.7008 - val_auc: 0.7812 - val_loss: 0.5825 - val_precision: 0.7938 - val_recall: 0.4949\n",
      "Epoch 8/50\n",
      "\u001b[1m785/785\u001b[0m \u001b[32m━━━━━━━━━━━━━━━━━━━━\u001b[0m\u001b[37m\u001b[0m \u001b[1m4s\u001b[0m 6ms/step - accuracy: 0.6894 - auc: 0.7445 - loss: 0.5976 - precision: 0.6950 - recall: 0.6176 - val_accuracy: 0.6993 - val_auc: 0.7723 - val_loss: 0.5751 - val_precision: 0.7104 - val_recall: 0.6134\n",
      "Epoch 9/50\n",
      "\u001b[1m785/785\u001b[0m \u001b[32m━━━━━━━━━━━━━━━━━━━━\u001b[0m\u001b[37m\u001b[0m \u001b[1m4s\u001b[0m 6ms/step - accuracy: 0.6909 - auc: 0.7477 - loss: 0.5943 - precision: 0.7002 - recall: 0.6365 - val_accuracy: 0.7285 - val_auc: 0.7875 - val_loss: 0.5633 - val_precision: 0.7318 - val_recall: 0.6711\n",
      "Epoch 10/50\n",
      "\u001b[1m785/785\u001b[0m \u001b[32m━━━━━━━━━━━━━━━━━━━━\u001b[0m\u001b[37m\u001b[0m \u001b[1m4s\u001b[0m 5ms/step - accuracy: 0.6939 - auc: 0.7492 - loss: 0.5943 - precision: 0.7034 - recall: 0.6220 - val_accuracy: 0.7261 - val_auc: 0.7900 - val_loss: 0.5692 - val_precision: 0.7377 - val_recall: 0.6518\n",
      "Epoch 11/50\n",
      "\u001b[1m785/785\u001b[0m \u001b[32m━━━━━━━━━━━━━━━━━━━━\u001b[0m\u001b[37m\u001b[0m \u001b[1m4s\u001b[0m 6ms/step - accuracy: 0.6906 - auc: 0.7458 - loss: 0.5978 - precision: 0.6953 - recall: 0.6316 - val_accuracy: 0.7261 - val_auc: 0.7903 - val_loss: 0.5634 - val_precision: 0.7032 - val_recall: 0.7267\n",
      "Epoch 12/50\n",
      "\u001b[1m785/785\u001b[0m \u001b[32m━━━━━━━━━━━━━━━━━━━━\u001b[0m\u001b[37m\u001b[0m \u001b[1m4s\u001b[0m 6ms/step - accuracy: 0.6728 - auc: 0.7297 - loss: 0.6076 - precision: 0.6682 - recall: 0.6123 - val_accuracy: 0.6993 - val_auc: 0.7471 - val_loss: 1.0135 - val_precision: 0.6442 - val_recall: 0.8117\n",
      "Epoch 13/50\n",
      "\u001b[1m785/785\u001b[0m \u001b[32m━━━━━━━━━━━━━━━━━━━━\u001b[0m\u001b[37m\u001b[0m \u001b[1m4s\u001b[0m 5ms/step - accuracy: 0.6988 - auc: 0.7536 - loss: 0.5902 - precision: 0.6944 - recall: 0.6592 - val_accuracy: 0.7113 - val_auc: 0.7774 - val_loss: 0.5727 - val_precision: 0.7073 - val_recall: 0.6630\n",
      "Epoch 14/50\n",
      "\u001b[1m785/785\u001b[0m \u001b[32m━━━━━━━━━━━━━━━━━━━━\u001b[0m\u001b[37m\u001b[0m \u001b[1m4s\u001b[0m 6ms/step - accuracy: 0.6793 - auc: 0.7326 - loss: 0.6079 - precision: 0.6751 - recall: 0.6557 - val_accuracy: 0.7342 - val_auc: 0.7889 - val_loss: 0.5700 - val_precision: 0.7209 - val_recall: 0.7136\n",
      "Epoch 15/50\n",
      "\u001b[1m785/785\u001b[0m \u001b[32m━━━━━━━━━━━━━━━━━━━━\u001b[0m\u001b[37m\u001b[0m \u001b[1m4s\u001b[0m 5ms/step - accuracy: 0.6808 - auc: 0.7381 - loss: 0.6028 - precision: 0.6762 - recall: 0.6377 - val_accuracy: 0.7290 - val_auc: 0.7864 - val_loss: 0.5709 - val_precision: 0.7379 - val_recall: 0.6609\n",
      "Epoch 16/50\n",
      "\u001b[1m785/785\u001b[0m \u001b[32m━━━━━━━━━━━━━━━━━━━━\u001b[0m\u001b[37m\u001b[0m \u001b[1m4s\u001b[0m 5ms/step - accuracy: 0.6973 - auc: 0.7435 - loss: 0.5980 - precision: 0.6937 - recall: 0.6452 - val_accuracy: 0.6974 - val_auc: 0.7690 - val_loss: 0.5861 - val_precision: 0.7052 - val_recall: 0.6174\n",
      "Epoch 17/50\n",
      "\u001b[1m785/785\u001b[0m \u001b[32m━━━━━━━━━━━━━━━━━━━━\u001b[0m\u001b[37m\u001b[0m \u001b[1m4s\u001b[0m 5ms/step - accuracy: 0.6889 - auc: 0.7503 - loss: 0.5922 - precision: 0.6800 - recall: 0.6622 - val_accuracy: 0.7127 - val_auc: 0.7847 - val_loss: 0.5672 - val_precision: 0.6880 - val_recall: 0.7166\n",
      "Epoch 18/50\n",
      "\u001b[1m785/785\u001b[0m \u001b[32m━━━━━━━━━━━━━━━━━━━━\u001b[0m\u001b[37m\u001b[0m \u001b[1m4s\u001b[0m 5ms/step - accuracy: 0.6834 - auc: 0.7382 - loss: 0.6024 - precision: 0.6719 - recall: 0.6342 - val_accuracy: 0.6907 - val_auc: 0.7731 - val_loss: 0.6056 - val_precision: 0.6374 - val_recall: 0.8006\n",
      "Epoch 19/50\n",
      "\u001b[1m785/785\u001b[0m \u001b[32m━━━━━━━━━━━━━━━━━━━━\u001b[0m\u001b[37m\u001b[0m \u001b[1m4s\u001b[0m 5ms/step - accuracy: 0.6991 - auc: 0.7516 - loss: 0.5920 - precision: 0.7034 - recall: 0.6511 - val_accuracy: 0.7127 - val_auc: 0.7755 - val_loss: 0.5801 - val_precision: 0.7009 - val_recall: 0.6832\n",
      "Epoch 20/50\n",
      "\u001b[1m785/785\u001b[0m \u001b[32m━━━━━━━━━━━━━━━━━━━━\u001b[0m\u001b[37m\u001b[0m \u001b[1m4s\u001b[0m 5ms/step - accuracy: 0.6967 - auc: 0.7529 - loss: 0.5916 - precision: 0.7013 - recall: 0.6593 - val_accuracy: 0.7022 - val_auc: 0.7790 - val_loss: 0.5901 - val_precision: 0.7115 - val_recall: 0.6215\n",
      "Epoch 21/50\n",
      "\u001b[1m785/785\u001b[0m \u001b[32m━━━━━━━━━━━━━━━━━━━━\u001b[0m\u001b[37m\u001b[0m \u001b[1m4s\u001b[0m 5ms/step - accuracy: 0.6951 - auc: 0.7524 - loss: 0.5893 - precision: 0.6899 - recall: 0.6317 - val_accuracy: 0.7127 - val_auc: 0.7834 - val_loss: 0.5669 - val_precision: 0.6989 - val_recall: 0.6883\n",
      "Epoch 22/50\n",
      "\u001b[1m785/785\u001b[0m \u001b[32m━━━━━━━━━━━━━━━━━━━━\u001b[0m\u001b[37m\u001b[0m \u001b[1m5s\u001b[0m 6ms/step - accuracy: 0.6873 - auc: 0.7567 - loss: 0.5876 - precision: 0.6843 - recall: 0.6547 - val_accuracy: 0.7175 - val_auc: 0.7908 - val_loss: 0.5618 - val_precision: 0.6885 - val_recall: 0.7338\n",
      "Epoch 23/50\n",
      "\u001b[1m785/785\u001b[0m \u001b[32m━━━━━━━━━━━━━━━━━━━━\u001b[0m\u001b[37m\u001b[0m \u001b[1m4s\u001b[0m 5ms/step - accuracy: 0.6827 - auc: 0.7393 - loss: 0.6028 - precision: 0.6692 - recall: 0.6763 - val_accuracy: 0.7118 - val_auc: 0.7886 - val_loss: 0.5671 - val_precision: 0.7011 - val_recall: 0.6791\n",
      "Epoch 24/50\n",
      "\u001b[1m785/785\u001b[0m \u001b[32m━━━━━━━━━━━━━━━━━━━━\u001b[0m\u001b[37m\u001b[0m \u001b[1m4s\u001b[0m 5ms/step - accuracy: 0.6793 - auc: 0.7516 - loss: 0.5906 - precision: 0.6830 - recall: 0.6245 - val_accuracy: 0.4723 - val_auc: 0.5000 - val_loss: 148.5445 - val_precision: 0.4723 - val_recall: 1.0000\n",
      "Epoch 25/50\n",
      "\u001b[1m785/785\u001b[0m \u001b[32m━━━━━━━━━━━━━━━━━━━━\u001b[0m\u001b[37m\u001b[0m \u001b[1m4s\u001b[0m 6ms/step - accuracy: 0.6913 - auc: 0.7643 - loss: 0.5791 - precision: 0.7063 - recall: 0.6315 - val_accuracy: 0.7251 - val_auc: 0.7847 - val_loss: 0.5856 - val_precision: 0.7063 - val_recall: 0.7156\n",
      "Epoch 26/50\n",
      "\u001b[1m785/785\u001b[0m \u001b[32m━━━━━━━━━━━━━━━━━━━━\u001b[0m\u001b[37m\u001b[0m \u001b[1m4s\u001b[0m 5ms/step - accuracy: 0.7007 - auc: 0.7576 - loss: 0.5842 - precision: 0.6906 - recall: 0.6441 - val_accuracy: 0.7309 - val_auc: 0.7920 - val_loss: 0.5568 - val_precision: 0.7307 - val_recall: 0.6812\n",
      "Epoch 27/50\n",
      "\u001b[1m785/785\u001b[0m \u001b[32m━━━━━━━━━━━━━━━━━━━━\u001b[0m\u001b[37m\u001b[0m \u001b[1m4s\u001b[0m 5ms/step - accuracy: 0.6945 - auc: 0.7525 - loss: 0.5911 - precision: 0.7009 - recall: 0.6436 - val_accuracy: 0.7290 - val_auc: 0.7864 - val_loss: 0.5647 - val_precision: 0.7485 - val_recall: 0.6417\n",
      "Epoch 28/50\n",
      "\u001b[1m785/785\u001b[0m \u001b[32m━━━━━━━━━━━━━━━━━━━━\u001b[0m\u001b[37m\u001b[0m \u001b[1m4s\u001b[0m 5ms/step - accuracy: 0.6882 - auc: 0.7407 - loss: 0.6004 - precision: 0.6972 - recall: 0.6158 - val_accuracy: 0.4995 - val_auc: 0.7559 - val_loss: 1.1281 - val_precision: 0.4853 - val_recall: 0.9848\n",
      "Epoch 29/50\n",
      "\u001b[1m785/785\u001b[0m \u001b[32m━━━━━━━━━━━━━━━━━━━━\u001b[0m\u001b[37m\u001b[0m \u001b[1m4s\u001b[0m 6ms/step - accuracy: 0.6925 - auc: 0.7497 - loss: 0.5931 - precision: 0.7024 - recall: 0.6273 - val_accuracy: 0.7098 - val_auc: 0.7781 - val_loss: 0.5786 - val_precision: 0.7733 - val_recall: 0.5455\n",
      "Epoch 30/50\n",
      "\u001b[1m785/785\u001b[0m \u001b[32m━━━━━━━━━━━━━━━━━━━━\u001b[0m\u001b[37m\u001b[0m \u001b[1m4s\u001b[0m 5ms/step - accuracy: 0.6919 - auc: 0.7495 - loss: 0.5941 - precision: 0.6938 - recall: 0.6222 - val_accuracy: 0.7180 - val_auc: 0.7881 - val_loss: 0.5725 - val_precision: 0.6936 - val_recall: 0.7217\n",
      "Epoch 31/50\n",
      "\u001b[1m785/785\u001b[0m \u001b[32m━━━━━━━━━━━━━━━━━━━━\u001b[0m\u001b[37m\u001b[0m \u001b[1m4s\u001b[0m 6ms/step - accuracy: 0.6914 - auc: 0.7541 - loss: 0.5899 - precision: 0.6904 - recall: 0.6367 - val_accuracy: 0.7299 - val_auc: 0.7914 - val_loss: 0.5695 - val_precision: 0.7462 - val_recall: 0.6488\n",
      "Epoch 32/50\n",
      "\u001b[1m785/785\u001b[0m \u001b[32m━━━━━━━━━━━━━━━━━━━━\u001b[0m\u001b[37m\u001b[0m \u001b[1m4s\u001b[0m 5ms/step - accuracy: 0.6927 - auc: 0.7475 - loss: 0.5953 - precision: 0.6890 - recall: 0.6544 - val_accuracy: 0.7036 - val_auc: 0.7774 - val_loss: 0.5853 - val_precision: 0.7035 - val_recall: 0.6437\n",
      "Epoch 33/50\n",
      "\u001b[1m785/785\u001b[0m \u001b[32m━━━━━━━━━━━━━━━━━━━━\u001b[0m\u001b[37m\u001b[0m \u001b[1m4s\u001b[0m 6ms/step - accuracy: 0.6805 - auc: 0.7440 - loss: 0.5957 - precision: 0.6685 - recall: 0.6220 - val_accuracy: 0.6850 - val_auc: 0.7743 - val_loss: 0.6021 - val_precision: 0.7327 - val_recall: 0.5243\n",
      "Epoch 34/50\n",
      "\u001b[1m785/785\u001b[0m \u001b[32m━━━━━━━━━━━━━━━━━━━━\u001b[0m\u001b[37m\u001b[0m \u001b[1m4s\u001b[0m 5ms/step - accuracy: 0.6957 - auc: 0.7596 - loss: 0.5830 - precision: 0.7114 - recall: 0.6086 - val_accuracy: 0.7089 - val_auc: 0.7884 - val_loss: 0.5878 - val_precision: 0.6573 - val_recall: 0.8016\n",
      "Epoch 35/50\n",
      "\u001b[1m785/785\u001b[0m \u001b[32m━━━━━━━━━━━━━━━━━━━━\u001b[0m\u001b[37m\u001b[0m \u001b[1m4s\u001b[0m 5ms/step - accuracy: 0.6892 - auc: 0.7517 - loss: 0.5917 - precision: 0.6857 - recall: 0.6334 - val_accuracy: 0.7084 - val_auc: 0.7764 - val_loss: 0.5792 - val_precision: 0.6602 - val_recall: 0.7885\n",
      "Epoch 36/50\n",
      "\u001b[1m785/785\u001b[0m \u001b[32m━━━━━━━━━━━━━━━━━━━━\u001b[0m\u001b[37m\u001b[0m \u001b[1m4s\u001b[0m 5ms/step - accuracy: 0.6899 - auc: 0.7579 - loss: 0.5860 - precision: 0.6870 - recall: 0.6480 - val_accuracy: 0.7079 - val_auc: 0.7865 - val_loss: 0.5723 - val_precision: 0.7140 - val_recall: 0.6366\n",
      "Epoch 37/50\n",
      "\u001b[1m785/785\u001b[0m \u001b[32m━━━━━━━━━━━━━━━━━━━━\u001b[0m\u001b[37m\u001b[0m \u001b[1m4s\u001b[0m 5ms/step - accuracy: 0.7047 - auc: 0.7578 - loss: 0.5847 - precision: 0.7123 - recall: 0.6299 - val_accuracy: 0.7151 - val_auc: 0.7803 - val_loss: 0.5732 - val_precision: 0.7033 - val_recall: 0.6862\n",
      "Epoch 38/50\n",
      "\u001b[1m785/785\u001b[0m \u001b[32m━━━━━━━━━━━━━━━━━━━━\u001b[0m\u001b[37m\u001b[0m \u001b[1m4s\u001b[0m 5ms/step - accuracy: 0.6768 - auc: 0.7340 - loss: 0.6048 - precision: 0.6578 - recall: 0.6343 - val_accuracy: 0.7208 - val_auc: 0.7842 - val_loss: 0.5739 - val_precision: 0.6954 - val_recall: 0.7277\n",
      "Epoch 39/50\n",
      "\u001b[1m785/785\u001b[0m \u001b[32m━━━━━━━━━━━━━━━━━━━━\u001b[0m\u001b[37m\u001b[0m \u001b[1m4s\u001b[0m 5ms/step - accuracy: 0.6860 - auc: 0.7529 - loss: 0.5897 - precision: 0.6864 - recall: 0.6398 - val_accuracy: 0.7060 - val_auc: 0.7820 - val_loss: 0.5710 - val_precision: 0.7212 - val_recall: 0.6154\n",
      "Epoch 40/50\n",
      "\u001b[1m785/785\u001b[0m \u001b[32m━━━━━━━━━━━━━━━━━━━━\u001b[0m\u001b[37m\u001b[0m \u001b[1m4s\u001b[0m 5ms/step - accuracy: 0.6904 - auc: 0.7506 - loss: 0.5932 - precision: 0.6910 - recall: 0.6739 - val_accuracy: 0.7304 - val_auc: 0.7934 - val_loss: 0.5576 - val_precision: 0.7304 - val_recall: 0.6802\n",
      "Epoch 41/50\n",
      "\u001b[1m785/785\u001b[0m \u001b[32m━━━━━━━━━━━━━━━━━━━━\u001b[0m\u001b[37m\u001b[0m \u001b[1m4s\u001b[0m 5ms/step - accuracy: 0.6917 - auc: 0.7518 - loss: 0.5912 - precision: 0.6949 - recall: 0.6410 - val_accuracy: 0.7328 - val_auc: 0.7875 - val_loss: 0.5605 - val_precision: 0.7619 - val_recall: 0.6316\n",
      "Epoch 42/50\n",
      "\u001b[1m785/785\u001b[0m \u001b[32m━━━━━━━━━━━━━━━━━━━━\u001b[0m\u001b[37m\u001b[0m \u001b[1m4s\u001b[0m 6ms/step - accuracy: 0.6812 - auc: 0.7329 - loss: 0.6076 - precision: 0.6903 - recall: 0.5852 - val_accuracy: 0.7094 - val_auc: 0.7845 - val_loss: 0.5658 - val_precision: 0.7220 - val_recall: 0.6255\n",
      "Epoch 43/50\n",
      "\u001b[1m785/785\u001b[0m \u001b[32m━━━━━━━━━━━━━━━━━━━━\u001b[0m\u001b[37m\u001b[0m \u001b[1m4s\u001b[0m 5ms/step - accuracy: 0.6835 - auc: 0.7375 - loss: 0.6029 - precision: 0.6911 - recall: 0.6165 - val_accuracy: 0.7055 - val_auc: 0.7819 - val_loss: 0.5654 - val_precision: 0.7153 - val_recall: 0.6255\n",
      "Epoch 44/50\n",
      "\u001b[1m785/785\u001b[0m \u001b[32m━━━━━━━━━━━━━━━━━━━━\u001b[0m\u001b[37m\u001b[0m \u001b[1m4s\u001b[0m 5ms/step - accuracy: 0.6925 - auc: 0.7458 - loss: 0.5989 - precision: 0.7034 - recall: 0.6401 - val_accuracy: 0.7151 - val_auc: 0.7860 - val_loss: 0.5658 - val_precision: 0.7112 - val_recall: 0.6680\n",
      "Epoch 45/50\n",
      "\u001b[1m785/785\u001b[0m \u001b[32m━━━━━━━━━━━━━━━━━━━━\u001b[0m\u001b[37m\u001b[0m \u001b[1m4s\u001b[0m 6ms/step - accuracy: 0.6943 - auc: 0.7522 - loss: 0.5915 - precision: 0.7010 - recall: 0.6345 - val_accuracy: 0.7266 - val_auc: 0.7890 - val_loss: 0.5701 - val_precision: 0.7811 - val_recall: 0.5850\n",
      "Epoch 46/50\n",
      "\u001b[1m785/785\u001b[0m \u001b[32m━━━━━━━━━━━━━━━━━━━━\u001b[0m\u001b[37m\u001b[0m \u001b[1m4s\u001b[0m 5ms/step - accuracy: 0.6899 - auc: 0.7592 - loss: 0.5844 - precision: 0.7110 - recall: 0.6179 - val_accuracy: 0.6989 - val_auc: 0.7737 - val_loss: 0.5839 - val_precision: 0.6916 - val_recall: 0.6538\n",
      "Epoch 47/50\n",
      "\u001b[1m785/785\u001b[0m \u001b[32m━━━━━━━━━━━━━━━━━━━━\u001b[0m\u001b[37m\u001b[0m \u001b[1m4s\u001b[0m 5ms/step - accuracy: 0.6918 - auc: 0.7618 - loss: 0.5804 - precision: 0.6809 - recall: 0.6444 - val_accuracy: 0.7299 - val_auc: 0.7881 - val_loss: 0.5645 - val_precision: 0.7862 - val_recall: 0.5881\n",
      "Epoch 48/50\n",
      "\u001b[1m785/785\u001b[0m \u001b[32m━━━━━━━━━━━━━━━━━━━━\u001b[0m\u001b[37m\u001b[0m \u001b[1m4s\u001b[0m 5ms/step - accuracy: 0.6981 - auc: 0.7505 - loss: 0.5906 - precision: 0.7073 - recall: 0.6022 - val_accuracy: 0.7070 - val_auc: 0.7830 - val_loss: 0.5751 - val_precision: 0.7382 - val_recall: 0.5881\n",
      "Epoch 49/50\n",
      "\u001b[1m785/785\u001b[0m \u001b[32m━━━━━━━━━━━━━━━━━━━━\u001b[0m\u001b[37m\u001b[0m \u001b[1m4s\u001b[0m 6ms/step - accuracy: 0.7032 - auc: 0.7594 - loss: 0.5843 - precision: 0.6999 - recall: 0.6481 - val_accuracy: 0.7084 - val_auc: 0.7848 - val_loss: 0.5669 - val_precision: 0.7177 - val_recall: 0.6306\n",
      "Epoch 50/50\n",
      "\u001b[1m785/785\u001b[0m \u001b[32m━━━━━━━━━━━━━━━━━━━━\u001b[0m\u001b[37m\u001b[0m \u001b[1m4s\u001b[0m 5ms/step - accuracy: 0.6906 - auc: 0.7585 - loss: 0.5849 - precision: 0.6841 - recall: 0.6537 - val_accuracy: 0.7180 - val_auc: 0.7861 - val_loss: 0.5662 - val_precision: 0.7935 - val_recall: 0.5445\n"
     ]
    }
   ],
   "source": [
    "model_history=model.fit(\n",
    "    x=[X_train_num, X_train_img], y=y_train,\n",
    "    validation_data=([X_val_num, X_val_img], y_val),\n",
    "    epochs=epochs , \n",
    "    batch_size=8,\n",
    ")"
   ]
  },
  {
   "cell_type": "code",
   "execution_count": 56,
   "metadata": {},
   "outputs": [
    {
     "name": "stdout",
     "output_type": "stream",
     "text": [
      "dict_keys(['accuracy', 'auc', 'loss', 'precision', 'recall', 'val_accuracy', 'val_auc', 'val_loss', 'val_precision', 'val_recall'])\n"
     ]
    }
   ],
   "source": [
    "print(model_history.history.keys())"
   ]
  },
  {
   "cell_type": "markdown",
   "metadata": {},
   "source": [
    "<a id=\"section6\"></a>\n",
    "# <font color=\"#004D7F\" size=6> 6. Results</font>\n",
    "\n",
    "Finally, we can evaluate our hybrid model with the images created by TINTOlib in any of the ways represented below."
   ]
  },
  {
   "cell_type": "markdown",
   "metadata": {},
   "source": [
    "---\n",
    "<a id=\"section61\"></a>\n",
    "# <font color=\"#004D7F\" size=5> 6.1. Train/Validation representation</font>"
   ]
  },
  {
   "cell_type": "code",
   "execution_count": 57,
   "metadata": {},
   "outputs": [
    {
     "data": {
      "image/png": "[encoded data removed]",
      "text/plain": [
       "<Figure size 640x480 with 1 Axes>"
      ]
     },
     "metadata": {},
     "output_type": "display_data"
    }
   ],
   "source": [
    "#print(model_history.history['loss'])\n",
    "plt.plot(model_history.history['loss'], color = 'red', label = 'loss')\n",
    "plt.plot(model_history.history['val_loss'], color = 'green', label = 'val loss')\n",
    "plt.legend(loc = 'upper right')\n",
    "\n",
    "plt.show()"
   ]
  },
  {
   "cell_type": "code",
   "execution_count": 58,
   "metadata": {},
   "outputs": [
    {
     "data": {
      "image/png": "[encoded data removed]",
      "text/plain": [
       "<Figure size 640x480 with 1 Axes>"
      ]
     },
     "metadata": {},
     "output_type": "display_data"
    }
   ],
   "source": [
    "plt.plot(model_history.history['accuracy'], color = 'red', label = 'accuracy')\n",
    "plt.plot(model_history.history['val_accuracy'], color = 'green', label = 'val accuracy')\n",
    "plt.legend(loc = 'upper right')\n",
    "plt.show()"
   ]
  },
  {
   "cell_type": "markdown",
   "metadata": {},
   "source": [
    "---\n",
    "<a id=\"section62\"></a>\n",
    "# <font color=\"#004D7F\" size=5> 6.2. Validation/Test evaluation</font>"
   ]
  },
  {
   "cell_type": "code",
   "execution_count": 59,
   "metadata": {},
   "outputs": [
    {
     "name": "stdout",
     "output_type": "stream",
     "text": [
      "\u001b[1m62/66\u001b[0m \u001b[32m━━━━━━━━━━━━━━━━━━\u001b[0m\u001b[37m━━\u001b[0m \u001b[1m0s\u001b[0m 3ms/step - accuracy: 0.7116 - auc: 0.7982 - loss: 0.5593 - precision: 0.7949 - recall: 0.5414"
     ]
    },
    {
     "name": "stdout",
     "output_type": "stream",
     "text": [
      "\u001b[1m66/66\u001b[0m \u001b[32m━━━━━━━━━━━━━━━━━━━━\u001b[0m\u001b[37m\u001b[0m \u001b[1m0s\u001b[0m 3ms/step - accuracy: 0.7108 - auc: 0.7975 - loss: 0.5600 - precision: 0.7937 - recall: 0.5409\n"
     ]
    }
   ],
   "source": [
    "score_test= model.evaluate([X_test_num, X_test_img], y_test)"
   ]
  },
  {
   "cell_type": "code",
   "execution_count": 60,
   "metadata": {},
   "outputs": [
    {
     "name": "stdout",
     "output_type": "stream",
     "text": [
      "\u001b[1m66/66\u001b[0m \u001b[32m━━━━━━━━━━━━━━━━━━━━\u001b[0m\u001b[37m\u001b[0m \u001b[1m1s\u001b[0m 5ms/step\n"
     ]
    }
   ],
   "source": [
    "prediction = model.predict([X_test_num,X_test_img],)\n",
    "real_values= y_test\n",
    "predicted_classes = np.argmax(prediction, axis = 1)\n",
    "\n",
    "result = [list(t) for t in zip(predicted_classes, real_values)]\n",
    "#print(np.round(prediction))\n"
   ]
  },
  {
   "cell_type": "code",
   "execution_count": 61,
   "metadata": {},
   "outputs": [
    {
     "name": "stdout",
     "output_type": "stream",
     "text": [
      "Test accuracy: 0.70219886302948\n",
      "Test AUC: 0.7896562814712524\n",
      "Test precision: 0.7804877758026123\n",
      "Test recall: 0.5364891290664673\n"
     ]
    }
   ],
   "source": [
    "test_accuracy = score_test[1]\n",
    "test_auc = score_test[4]\n",
    "test_precision = score_test[2]\n",
    "test_recall = score_test[3]\n",
    "\n",
    "print(\"Test accuracy:\",test_accuracy)\n",
    "print(\"Test AUC:\",test_auc)\n",
    "print(\"Test precision:\",test_precision)\n",
    "print(\"Test recall:\",test_recall)"
   ]
  },
  {
   "cell_type": "code",
   "execution_count": 62,
   "metadata": {},
   "outputs": [
    {
     "name": "stdout",
     "output_type": "stream",
     "text": [
      "Results saved to: ./results_heloc_CNN_TINTO_1\\test_results.txt\n"
     ]
    }
   ],
   "source": [
    "# Create a folder to save results\n",
    "import os\n",
    "folder_path = results_folder\n",
    "if not os.path.exists(folder_path):\n",
    "    os.makedirs(folder_path)\n",
    "\n",
    "# Save the results to a text file\n",
    "results_file_path = os.path.join(folder_path, \"test_results.txt\")\n",
    "with open(results_file_path, \"w\") as file:\n",
    "    file.write(\"Test accuracy: {}\\n\".format(test_accuracy))\n",
    "    file.write(\"Test AUC: {}\\n\".format(test_auc))\n",
    "    file.write(\"Test precision: {}\\n\".format(test_precision))\n",
    "    file.write(\"Test recall: {}\\n\".format(test_recall))\n",
    "\n",
    "print(\"Results saved to:\", results_file_path)"
   ]
  },
  {
   "cell_type": "code",
   "execution_count": 63,
   "metadata": {},
   "outputs": [
    {
     "name": "stdout",
     "output_type": "stream",
     "text": [
      "Train accuracy: 0.6911553740501404\n",
      "Train AUC: 0.75412917137146\n",
      "Train precision: 0.6878100633621216\n",
      "Train recall: 0.6474316120147705\n",
      "Train loss: 0.5891249775886536\n"
     ]
    }
   ],
   "source": [
    "train_accuracy = model_history.history[\"accuracy\"][-1]\n",
    "train_auc = model_history.history[\"auc\"][-1]\n",
    "train_precision = model_history.history[\"precision\"][-1]\n",
    "train_recall = model_history.history[\"recall\"][-1]\n",
    "train_loss = model_history.history[\"loss\"][-1]\n",
    "\n",
    "print(\"Train accuracy:\",train_accuracy)\n",
    "print(\"Train AUC:\",train_auc)\n",
    "print(\"Train precision:\",train_precision)\n",
    "print(\"Train recall:\",train_recall)\n",
    "print(\"Train loss:\",train_loss)"
   ]
  },
  {
   "cell_type": "code",
   "execution_count": 64,
   "metadata": {},
   "outputs": [
    {
     "name": "stdout",
     "output_type": "stream",
     "text": [
      "Train results saved to: ./results_heloc_CNN_TINTO_1\\train_results.txt\n"
     ]
    }
   ],
   "source": [
    "# Save the train results to a text file\n",
    "train_results_file_path = os.path.join(folder_path, \"train_results.txt\")\n",
    "with open(train_results_file_path, \"w\") as file:\n",
    "    file.write(\"Train accuracy: {}\\n\".format(train_accuracy))\n",
    "    file.write(\"Train AUC: {}\\n\".format(train_auc))\n",
    "    file.write(\"Train precision: {}\\n\".format(train_precision))\n",
    "    file.write(\"Train recall: {}\\n\".format(train_recall))\n",
    "    file.write(\"Train loss: {}\\n\".format(train_loss))\n",
    "\n",
    "print(\"Train results saved to:\", train_results_file_path)"
   ]
  },
  {
   "cell_type": "code",
   "execution_count": 65,
   "metadata": {},
   "outputs": [
    {
     "name": "stdout",
     "output_type": "stream",
     "text": [
      "Validation accuracy: 0.7179732322692871\n",
      "Validation AUC: 0.7861498594284058\n",
      "Validation precision: 0.7935103178024292\n",
      "Validation recall: 0.5445343852043152\n",
      "Validation loss: 0.566172182559967\n"
     ]
    }
   ],
   "source": [
    "validation_accuracy = model_history.history[\"val_accuracy\"][-1]\n",
    "validation_auc = model_history.history[\"val_auc\"][-1]\n",
    "validation_precision = model_history.history[\"val_precision\"][-1]\n",
    "validation_recall = model_history.history[\"val_recall\"][-1]\n",
    "validation_loss = model_history.history[\"val_loss\"][-1]\n",
    "\n",
    "print(\"Validation accuracy:\",validation_accuracy)\n",
    "print(\"Validation AUC:\",validation_auc)\n",
    "print(\"Validation precision:\",validation_precision)\n",
    "print(\"Validation recall:\",validation_recall)\n",
    "print(\"Validation loss:\",validation_loss)"
   ]
  },
  {
   "cell_type": "code",
   "execution_count": 66,
   "metadata": {},
   "outputs": [
    {
     "name": "stdout",
     "output_type": "stream",
     "text": [
      "Validation results saved to: ./results_heloc_CNN_TINTO_1\\validation_results.txt\n"
     ]
    }
   ],
   "source": [
    "# Save the validation results to a text file\n",
    "validation_results_file_path = os.path.join(folder_path, \"validation_results.txt\")\n",
    "with open(validation_results_file_path, \"w\") as file:\n",
    "    file.write(\"Validation accuracy: {}\\n\".format(validation_accuracy))\n",
    "    file.write(\"Validation AUC: {}\\n\".format(validation_auc))\n",
    "    file.write(\"Validation precision: {}\\n\".format(validation_precision))\n",
    "    file.write(\"Validation recall: {}\\n\".format(validation_recall))\n",
    "    file.write(\"Validation loss: {}\\n\".format(validation_loss))\n",
    "\n",
    "print(\"Validation results saved to:\", validation_results_file_path)"
   ]
  },
  {
   "cell_type": "markdown",
   "metadata": {},
   "source": [
    "<div style=\"text-align: right\"> <font size=5> <a href=\"#indice\"><i class=\"fa fa-arrow-circle-up\" aria-hidden=\"true\" style=\"color:#004D7F\"></i></a></font></div>\n",
    "\n",
    "---\n",
    "\n",
    "<div style=\"text-align: right\"> <font size=6><i class=\"fa fa-coffee\" aria-hidden=\"true\" style=\"color:#004D7F\"></i> </font></div>"
   ]
  }
 ],
 "metadata": {
  "colab": {
   "provenance": [
    {
     "file_id": "1plFq1CpEXIdc9LankaLPiOObRg0_y5l2",
     "timestamp": 1684250343977
    }
   ]
  },
  "kernelspec": {
   "display_name": "Python 3 (ipykernel)",
   "language": "python",
   "name": "python3"
  },
  "language_info": {
   "codemirror_mode": {
    "name": "ipython",
    "version": 3
   },
   "file_extension": ".py",
   "mimetype": "text/x-python",
   "name": "python",
   "nbconvert_exporter": "python",
   "pygments_lexer": "ipython3",
   "version": "3.11.7"
  }
 },
 "nbformat": 4,
 "nbformat_minor": 1
}
