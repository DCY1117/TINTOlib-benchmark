{
 "cells": [
  {
   "cell_type": "markdown",
   "metadata": {
    "id": "EybOZ6hSjpCF"
   },
   "source": [
    "<h1><font color=\"#113D68\" size=5>TINTOlib: Converting Tidy Data into Synthetic Images</font></h1>\n",
    "\n",
    "\n",
    "\n",
    "<h1><font color=\"#113D68\" size=6>Template Multiclass Classification problem with a Hibryd Networks (CNN+MLP)</font></h1>\n",
    "\n",
    "<br><br>\n",
    "<div style=\"text-align: right\">\n",
    "<font color=\"#113D68\" size=3>Manuel Castillo-Cara</font><br>\n",
    "<font color=\"#113D68\" size=3>Raúl García-Castro</font><br>\n",
    "<font color=\"#113D68\" size=3>Jiayun Liu</font><br>\n",
    "</div>\n",
    "\n",
    "---"
   ]
  },
  {
   "cell_type": "markdown",
   "metadata": {},
   "source": [
    "<div class=\"alert alert-block alert-info\">\n",
    "    \n",
    "<i class=\"fa fa-info-circle\" aria-hidden=\"true\"></i>\n",
    "More information about [Manuel Castillo-Cara](https://www.manuelcastillo.eu/)"
   ]
  },
  {
   "cell_type": "markdown",
   "metadata": {},
   "source": [
    "<div class=\"alert alert-block alert-info\">\n",
    "    \n",
    "<i class=\"fa fa-info-circle\" aria-hidden=\"true\"></i>\n",
    "More information about [Raúl García-Castro](http://www.garcia-castro.com/)"
   ]
  },
  {
   "cell_type": "markdown",
   "metadata": {},
   "source": [
    "---\n",
    "\n",
    "<a id=\"indice\"></a>\n",
    "<h2><font color=\"#004D7F\" size=5>Licencia</font></h2>\n",
    "\n",
    "<p><small><small>Improving Deep Learning by Exploiting Synthetic Images Copyright 2024 Manuel Castillo Cara.</p>\n",
    "<p><small><small> Licensed under the Apache License, Version 2.0 (the \"License\"); you may not use this file except in compliance with the License. You may obtain a copy of the License at </p>\n",
    "<p><small><small> <a href=\"https://www.apache.org/licenses/LICENSE-2.0\">https://www.apache.org/licenses/LICENSE-2.0</a> </p>\n",
    "<p><small><small> Unless required by applicable law or agreed to in writing, software distributed under the License is distributed on an \"AS IS\" BASIS, WITHOUT WARRANTIES OR CONDITIONS OF ANY KIND, either express or implied. See the License for the specific language governing permissions and limitations under the License. </p>"
   ]
  },
  {
   "cell_type": "markdown",
   "metadata": {
    "id": "2l5nFzsdjpCW"
   },
   "source": [
    "---\n",
    "\n",
    "<a id=\"indice\"></a>\n",
    "<h2><font color=\"#004D7F\" size=5>Index</font></h2>\n",
    "\n",
    "* [0. Context](#section0)\n",
    "* [1. Description](#section1)\n",
    "    * [1.1. Main Features](#section12)\n",
    "    * [1.2. Citation](#section12)\n",
    "* [2. Libraries](#section2)\n",
    "* [3. Data processing](#section3)\n",
    "    * [3.1. Read images](#section31)\n",
    "    * [3.2. Data Curation](#section32)\n",
    "* [4. Pre-modelling phase](#section4)\n",
    "    * [4.1. Resize images](#section41)\n",
    "    * [4.2. Iteradores](#section42)\n",
    "* [5. Modelling with CNN](#section5)\n",
    "    * [5.1. CNN](#section51)\n",
    "    * [5.2. Compile and fit](#section52)\n",
    "    * [5.3. Results](#section53)"
   ]
  },
  {
   "cell_type": "markdown",
   "metadata": {
    "id": "SxTpMExHjpCa"
   },
   "source": [
    "---\n",
    "<a id=\"section0\"></a>\n",
    "# <font color=\"#004D7F\" size=6> 0. Context</font>"
   ]
  },
  {
   "cell_type": "markdown",
   "metadata": {
    "id": "JlVYt3MRrl_V"
   },
   "source": [
    "This is a tutorial on how to read the images created by TINTO and pass them to a very simple pretrained Convolutional Neural Network (CNN). The images must already be created by the TINTO software. See the documentation in GITHUB for how to create the images from tabular data.\n",
    "\n",
    "Remember that when using CNN you can set the training to be done with GPUs to improve performance.\n",
    "\n",
    "Architecture to develop:\n",
    "\n",
    "<figure><center>\n",
    "  <img src=\"../img/HybridCNN.png\" width=\"700\" height=\"450\" alt=\"Gráfica\">\n",
    "  <figcaption><blockquote>Hybrid Neural Network with CNN for the sythetic images and MLP for the tabular data.</a></blockquote></figcaption>\n",
    "</center></figure>"
   ]
  },
  {
   "cell_type": "markdown",
   "metadata": {
    "id": "WaA-_OjsjpCe"
   },
   "source": [
    "<div class=\"alert alert-block alert-info\">\n",
    "    \n",
    "<i class=\"fa fa-info-circle\" aria-hidden=\"true\"></i>\n",
    "See the paper from [Information Fusion Journal](https://doi.org/10.1016/j.inffus.2022.10.011)"
   ]
  },
  {
   "cell_type": "markdown",
   "metadata": {
    "id": "28TFDkl5jpCi"
   },
   "source": [
    "<div class=\"alert alert-block alert-info\">\n",
    "    \n",
    "<i class=\"fa fa-info-circle\" aria-hidden=\"true\"></i>\n",
    "See the paper from [SoftwareX](https://doi.org/10.1016/j.softx.2023.101391)"
   ]
  },
  {
   "cell_type": "markdown",
   "metadata": {
    "id": "i3tgsO0BjpCj"
   },
   "source": [
    "<div class=\"alert alert-block alert-info\">\n",
    "    \n",
    "<i class=\"fa fa-info-circle\" aria-hidden=\"true\"></i>\n",
    "You can see all information about TINTO in [GitHub](https://github.com/oeg-upm/TINTO)"
   ]
  },
  {
   "cell_type": "markdown",
   "metadata": {
    "id": "4RKBgDwzjpCl"
   },
   "source": [
    "---\n",
    "<div style=\"text-align: right\"> <font size=5> <a href=\"#indice\"><i class=\"fa fa-arrow-circle-up\" aria-hidden=\"true\" style=\"color:#004D7F\"></i></a></font></div>\n",
    "\n",
    "---"
   ]
  },
  {
   "cell_type": "markdown",
   "metadata": {
    "id": "kpU7pi6yjpCn"
   },
   "source": [
    "<a id=\"section1\"></a>\n",
    "# <font color=\"#004D7F\" size=6> 1. Description</font>"
   ]
  },
  {
   "cell_type": "markdown",
   "metadata": {
    "id": "NL9RoFkEjpCq"
   },
   "source": [
    "The growing interest in the use of algorithms-based machine learning for predictive tasks has generated a large and diverse development of algorithms. However, it is widely known that not all of these algorithms are adapted to efficient solutions in certain tidy data format datasets. For this reason, novel techniques are currently being developed to convert tidy data into images with the aim of using Convolutional Neural Networks (CNNs). TINTO offers the opportunity to convert tidy data into images through the representation of characteristic pixels by implementing two dimensional reduction algorithms: PCA and _t_-SNE. Our proposal also includes a blurring technique, which adds more ordered information to the image and can improve the classification task in CNNs."
   ]
  },
  {
   "cell_type": "markdown",
   "metadata": {
    "id": "HFrF4C89jpCt"
   },
   "source": [
    "---\n",
    "<a id=\"section11\"></a>\n",
    "# <font color=\"#004D7F\" size=5> 1.1. Main Features</font>"
   ]
  },
  {
   "cell_type": "markdown",
   "metadata": {
    "id": "1gruE0_sjpCu"
   },
   "source": [
    "- Supports all CSV data in **[Tidy Data](https://www.jstatsoft.org/article/view/v059i10)** format.\n",
    "- For now, the algorithm converts tabular data for binary and multi-class classification problems into machine learning.\n",
    "- Input data formats:\n",
    "    - **Tabular files**: The input data must be in **[CSV](https://en.wikipedia.org/wiki/Comma-separated_values)**, taking into account the **[Tidy Data](https://www.jstatsoft.org/article/view/v059i10)** format.\n",
    "    - **Tidy Data**: The **target** (variable to be predicted) should be set as the last column of the dataset. Therefore, the first columns will be the features.\n",
    "    - All data must be in numerical form. TINTO does not accept data in string or any other non-numeric format.\n",
    "- Two dimensionality reduction algorithms are used in image creation, **[PCA](https://scikit-learn.org/stable/modules/generated/sklearn.decomposition.PCA.html#sklearn.decomposition.PCA)** and **[*t*-SNE](https://scikit-learn.org/stable/modules/generated/sklearn.manifold.TSNE.html)** from the Scikit-learn Python library.\n",
    "- The synthetic images to be created will be in black and white, i.e. in 1 channel.\n",
    "- The synthetic image **dimensions** can be set as a parameter when creating them.\n",
    "- The synthetic images can be created using **characteristic pixels** or **blurring** painting technique (expressing an overlap of pixels as the **maximum** or **average**).\n",
    "- Runs on **Linux**, **Windows** and **macOS** systems.\n",
    "- Compatible with **[Python](https://www.python.org/)** 3.7 or higher."
   ]
  },
  {
   "cell_type": "markdown",
   "metadata": {
    "id": "Z3EzYcjJjpC6"
   },
   "source": [
    "---\n",
    "<div style=\"text-align: right\"> <font size=5> <a href=\"#indice\"><i class=\"fa fa-arrow-circle-up\" aria-hidden=\"true\" style=\"color:#004D7F\"></i></a></font></div>\n",
    "\n",
    "---"
   ]
  },
  {
   "cell_type": "markdown",
   "metadata": {
    "id": "qwYF5A2njpC8"
   },
   "source": [
    "<a id=\"section2\"></a>\n",
    "# <font color=\"#004D7F\" size=6> 2. Libraries</font>"
   ]
  },
  {
   "cell_type": "markdown",
   "metadata": {},
   "source": [
    "The first thing we need to do is to declare the libraries"
   ]
  },
  {
   "cell_type": "markdown",
   "metadata": {},
   "source": [
    "<a id=\"section21\"></a>\n",
    "# <font color=\"#004D7F\" size=5> 2.1. System setup</font>"
   ]
  },
  {
   "cell_type": "markdown",
   "metadata": {},
   "source": [
    "Before installing the libraries you must have the `mpi4py` package installed on the native (Linux) system. This link shows how to install it: \n",
    "- Link: [`mpi4py` in Linux](https://www.geeksforgeeks.org/how-to-install-python3-mpi4py-package-on-linux/)\n",
    "\n",
    "For example, in Linux:\n",
    "\n",
    "```\n",
    "    sudo apt-get install python3\n",
    "    sudo apt install python3-pip\n",
    "    sudo apt install python3-mpi4py\n",
    "```\n",
    "\n",
    "If you are in Windows, Mac or, also, Linux, you can install from PyPI if you want:\n",
    "```\n",
    "    sudo pip3 install mpi4py\n",
    "```"
   ]
  },
  {
   "cell_type": "markdown",
   "metadata": {},
   "source": [
    "<div class=\"alert alert-block alert-info\">\n",
    "    \n",
    "<i class=\"fa fa-info-circle\" aria-hidden=\"true\"></i>\n",
    "Note that you must **restart the kernel or the system** so that it can load the libraries. "
   ]
  },
  {
   "cell_type": "markdown",
   "metadata": {},
   "source": [
    "Now, once you have installed `mpi4py` you can install the PyPI libraries and dependences."
   ]
  },
  {
   "cell_type": "code",
   "execution_count": null,
   "metadata": {},
   "outputs": [],
   "source": [
    "#!pip install torchmetrics pytorch_lightning TINTOlib imblearn keras_preprocessing mpi4py tifffile tqdm"
   ]
  },
  {
   "cell_type": "code",
   "execution_count": 1,
   "metadata": {
    "id": "PeeBbGxlpjFp",
    "tags": []
   },
   "outputs": [
    {
     "name": "stderr",
     "output_type": "stream",
     "text": [
      "/var/folders/9h/d3b8zc6j5019cyvmb_h929xm0000gn/T/ipykernel_14594/1816183973.py:3: DeprecationWarning: \n",
      "Pyarrow will become a required dependency of pandas in the next major release of pandas (pandas 3.0),\n",
      "(to allow more performant data types, such as the Arrow string type, and better interoperability with other libraries)\n",
      "but was not found to be installed on your system.\n",
      "If this would cause problems for you,\n",
      "please provide us feedback at https://github.com/pandas-dev/pandas/issues/54466\n",
      "        \n",
      "  import pandas as pd\n",
      "/Users/manwest/Library/Python/3.9/lib/python/site-packages/urllib3/__init__.py:35: NotOpenSSLWarning: urllib3 v2 only supports OpenSSL 1.1.1+, currently the 'ssl' module is compiled with 'LibreSSL 2.8.3'. See: https://github.com/urllib3/urllib3/issues/3020\n",
      "  warnings.warn(\n"
     ]
    }
   ],
   "source": [
    "import os\n",
    "import random\n",
    "import pandas as pd\n",
    "import numpy as np\n",
    "from tqdm import tqdm\n",
    "#import cv2\n",
    "import gc\n",
    "import matplotlib.pyplot as plt\n",
    "#import openslide\n",
    "#from openslide.deepzoom import DeepZoomGenerator\n",
    "import tifffile as tifi\n",
    "import sklearn\n",
    "import tensorflow as tf\n",
    "import seaborn as sns\n",
    "from PIL import Image\n",
    "\n",
    "from sklearn.metrics import mean_absolute_error, mean_squared_error, r2_score,mean_absolute_percentage_error\n",
    "\n",
    "from keras_preprocessing.image import ImageDataGenerator\n",
    "from tensorflow.keras.models import load_model\n",
    "\n",
    "from sklearn.model_selection import train_test_split\n",
    "from tensorflow.keras.applications import vgg16, vgg19, resnet50, mobilenet, inception_resnet_v2, densenet, inception_v3, xception, nasnet, ResNet152V2\n",
    "from tensorflow.keras.models import Sequential, Model, load_model\n",
    "from tensorflow.keras.layers import Dense, Conv2D, MaxPool2D, Flatten, Dropout, BatchNormalization, InputLayer, LayerNormalization\n",
    "from tensorflow.keras.callbacks import ModelCheckpoint, ReduceLROnPlateau, EarlyStopping\n",
    "from tensorflow.keras.optimizers import SGD, Adam, Adadelta, Adamax\n",
    "from tensorflow.keras import layers, models, Model\n",
    "from tensorflow.keras.losses import MeanAbsoluteError, MeanAbsolutePercentageError\n",
    "from tensorflow.keras.layers import Input, Activation,MaxPooling2D, Concatenate, concatenate\n",
    "from keras.utils import plot_model\n",
    "\n",
    "from torchmetrics import MeanAbsolutePercentageError\n",
    "import torch\n",
    "import torch.nn as nn\n",
    "from torch.utils.data import Dataset, DataLoader, random_split\n",
    "from torchvision import transforms\n",
    "\n",
    "import pytorch_lightning as pl\n",
    "from pytorch_lightning.loggers  import TensorBoardLogger\n",
    "from pytorch_lightning.callbacks.early_stopping import EarlyStopping\n",
    "#from imblearn.over_sampling import RandomOverSampler\n",
    "\n",
    "#Models of TINTOlib\n",
    "from TINTOlib.barGraph import BarGraph\n",
    "from TINTOlib.combination import Combination\n",
    "from TINTOlib.distanceMatrix import DistanceMatrix\n",
    "from TINTOlib.igtd import IGTD\n",
    "from TINTOlib.refined import REFINED\n",
    "from TINTOlib.supertml import SuperTML\n",
    "from TINTOlib.tinto import TINTO\n",
    "\n",
    "SEED = 64\n",
    "# SET RANDOM SEED FOR REPRODUCIBILITY\n",
    "torch.manual_seed(SEED)\n",
    "torch.cuda.manual_seed(SEED)\n",
    "#torch.cuda.manual_seed_all(SEED)\n",
    "#torch.backends.cudnn.deterministic = True\n",
    "#torch.backends.cudnn.benchmark = False\n",
    "os.environ['PYTHONHASHSEED']=str(SEED)\n",
    "random.seed(SEED)\n",
    "np.random.seed(SEED)\n",
    "tf.random.set_seed(SEED)"
   ]
  },
  {
   "cell_type": "markdown",
   "metadata": {
    "id": "NwS-cKUxjpDQ"
   },
   "source": [
    "---\n",
    "<div style=\"text-align: right\"> <font size=5> <a href=\"#indice\"><i class=\"fa fa-arrow-circle-up\" aria-hidden=\"true\" style=\"color:#004D7F\"></i></a></font></div>\n",
    "\n",
    "---"
   ]
  },
  {
   "cell_type": "markdown",
   "metadata": {
    "id": "aDL4LARWjpDT"
   },
   "source": [
    "<a id=\"section3\"></a>\n",
    "# <font color=\"#004D7F\" size=6> 3. Data processing</font>"
   ]
  },
  {
   "cell_type": "markdown",
   "metadata": {
    "id": "jXcRw78ljpDU"
   },
   "source": [
    "The first thing to do is to read all the images created by TINTO. TINTO creates a folder which contains subfolders corresponding to each target that has the problem. Each image corresponds to a sample of the original dataset."
   ]
  },
  {
   "cell_type": "markdown",
   "metadata": {},
   "source": [
    "<a id=\"section31\"></a>\n",
    "# <font color=\"#004D7F\" size=5> 3.1. Create images with TINTOlib</font>"
   ]
  },
  {
   "cell_type": "code",
   "execution_count": 33,
   "metadata": {},
   "outputs": [],
   "source": [
    "#Select the model and the parameters\n",
    "problem_type = \"supervised\"\n",
    "#problem_type = \"regression\"\n",
    "pixel = 20\n",
    "## scale_up True guarda como el original 369x369; False una característica por pixel; SIEMPRE FALSE\n",
    "#image_model = REFINED(problem=problem_type, random_seed=SEED, hcIterations=5, scale_up=False)\n",
    "image_model = TINTO(problem= problem_type,blur=True, option='maximum', pixels=pixel, seed=SEED)\n",
    "# scale sería [5,5] porque hay 23 variables (para 25 pixeles); save_image_size sería 5 \n",
    "#image_model = IGTD(problem= problem_type, seed=SEED, scale=[5,5])\n",
    "#image_model = BarGraph(problem= problem_type)\n",
    "#image_model = DistanceMatrix(problem= problem_type)\n",
    "#image_model = Combination(problem= problem_type)\n",
    "#image_model = SuperTML(problem= problem_type, columns=5)\n",
    "\n",
    "#Define the dataset path and the folder where the images will be saved\n",
    "results_folder = \"../Results/winequality_Tinto\"\n",
    "dataset_path = \"../Datasets/winequality-red.csv\"\n",
    "images_folder = \"../Synthetic_images/winequality_Tinto\""
   ]
  },
  {
   "cell_type": "markdown",
   "metadata": {},
   "source": [
    "---\n",
    "<a id=\"section32\"></a>\n",
    "# <font color=\"#004D7F\" size=5> 3.2. Read the dataset</font>\n",
    "\n",
    "In this part, we proceed to read the dataset according to the path specified above and also standardize the name that the target will have."
   ]
  },
  {
   "cell_type": "code",
   "execution_count": 38,
   "metadata": {},
   "outputs": [
    {
     "data": {
      "text/html": [
       "<div>\n",
       "<style scoped>\n",
       "    .dataframe tbody tr th:only-of-type {\n",
       "        vertical-align: middle;\n",
       "    }\n",
       "\n",
       "    .dataframe tbody tr th {\n",
       "        vertical-align: top;\n",
       "    }\n",
       "\n",
       "    .dataframe thead th {\n",
       "        text-align: right;\n",
       "    }\n",
       "</style>\n",
       "<table border=\"1\" class=\"dataframe\">\n",
       "  <thead>\n",
       "    <tr style=\"text-align: right;\">\n",
       "      <th></th>\n",
       "      <th>fixed acidity</th>\n",
       "      <th>volatile acidity</th>\n",
       "      <th>citric acid</th>\n",
       "      <th>residual sugar</th>\n",
       "      <th>chlorides</th>\n",
       "      <th>free sulfur dioxide</th>\n",
       "      <th>total sulfur dioxide</th>\n",
       "      <th>density</th>\n",
       "      <th>pH</th>\n",
       "      <th>sulphates</th>\n",
       "      <th>alcohol</th>\n",
       "      <th>quality</th>\n",
       "    </tr>\n",
       "  </thead>\n",
       "  <tbody>\n",
       "    <tr>\n",
       "      <th>0</th>\n",
       "      <td>7.4</td>\n",
       "      <td>0.70</td>\n",
       "      <td>0.0</td>\n",
       "      <td>1.9</td>\n",
       "      <td>0.076</td>\n",
       "      <td>11.0</td>\n",
       "      <td>34.0</td>\n",
       "      <td>0.9978</td>\n",
       "      <td>3.51</td>\n",
       "      <td>0.56</td>\n",
       "      <td>9.4</td>\n",
       "      <td>5</td>\n",
       "    </tr>\n",
       "    <tr>\n",
       "      <th>1</th>\n",
       "      <td>7.8</td>\n",
       "      <td>0.88</td>\n",
       "      <td>0.0</td>\n",
       "      <td>2.6</td>\n",
       "      <td>0.098</td>\n",
       "      <td>25.0</td>\n",
       "      <td>67.0</td>\n",
       "      <td>0.9968</td>\n",
       "      <td>3.20</td>\n",
       "      <td>0.68</td>\n",
       "      <td>9.8</td>\n",
       "      <td>5</td>\n",
       "    </tr>\n",
       "  </tbody>\n",
       "</table>\n",
       "</div>"
      ],
      "text/plain": [
       "   fixed acidity  volatile acidity  citric acid  residual sugar  chlorides  \\\n",
       "0            7.4              0.70          0.0             1.9      0.076   \n",
       "1            7.8              0.88          0.0             2.6      0.098   \n",
       "\n",
       "   free sulfur dioxide  total sulfur dioxide  density    pH  sulphates  \\\n",
       "0                 11.0                  34.0   0.9978  3.51       0.56   \n",
       "1                 25.0                  67.0   0.9968  3.20       0.68   \n",
       "\n",
       "   alcohol  quality  \n",
       "0      9.4        5  \n",
       "1      9.8        5  "
      ]
     },
     "execution_count": 38,
     "metadata": {},
     "output_type": "execute_result"
    }
   ],
   "source": [
    "df = pd.read_csv(dataset_path, sep =\";\")\n",
    "df.head(2)"
   ]
  },
  {
   "cell_type": "code",
   "execution_count": 39,
   "metadata": {},
   "outputs": [
    {
     "data": {
      "text/html": [
       "<div>\n",
       "<style scoped>\n",
       "    .dataframe tbody tr th:only-of-type {\n",
       "        vertical-align: middle;\n",
       "    }\n",
       "\n",
       "    .dataframe tbody tr th {\n",
       "        vertical-align: top;\n",
       "    }\n",
       "\n",
       "    .dataframe thead th {\n",
       "        text-align: right;\n",
       "    }\n",
       "</style>\n",
       "<table border=\"1\" class=\"dataframe\">\n",
       "  <thead>\n",
       "    <tr style=\"text-align: right;\">\n",
       "      <th></th>\n",
       "      <th>fixed acidity</th>\n",
       "      <th>volatile acidity</th>\n",
       "      <th>citric acid</th>\n",
       "      <th>residual sugar</th>\n",
       "      <th>chlorides</th>\n",
       "      <th>free sulfur dioxide</th>\n",
       "      <th>total sulfur dioxide</th>\n",
       "      <th>density</th>\n",
       "      <th>pH</th>\n",
       "      <th>sulphates</th>\n",
       "      <th>alcohol</th>\n",
       "      <th>quality</th>\n",
       "    </tr>\n",
       "  </thead>\n",
       "  <tbody>\n",
       "    <tr>\n",
       "      <th>0</th>\n",
       "      <td>0.247788</td>\n",
       "      <td>0.397260</td>\n",
       "      <td>0.0</td>\n",
       "      <td>0.068493</td>\n",
       "      <td>0.106845</td>\n",
       "      <td>0.140845</td>\n",
       "      <td>0.098940</td>\n",
       "      <td>0.567548</td>\n",
       "      <td>0.606299</td>\n",
       "      <td>0.137725</td>\n",
       "      <td>0.153846</td>\n",
       "      <td>5</td>\n",
       "    </tr>\n",
       "    <tr>\n",
       "      <th>1</th>\n",
       "      <td>0.283186</td>\n",
       "      <td>0.520548</td>\n",
       "      <td>0.0</td>\n",
       "      <td>0.116438</td>\n",
       "      <td>0.143573</td>\n",
       "      <td>0.338028</td>\n",
       "      <td>0.215548</td>\n",
       "      <td>0.494126</td>\n",
       "      <td>0.362205</td>\n",
       "      <td>0.209581</td>\n",
       "      <td>0.215385</td>\n",
       "      <td>5</td>\n",
       "    </tr>\n",
       "  </tbody>\n",
       "</table>\n",
       "</div>"
      ],
      "text/plain": [
       "   fixed acidity  volatile acidity  citric acid  residual sugar  chlorides  \\\n",
       "0       0.247788          0.397260          0.0        0.068493   0.106845   \n",
       "1       0.283186          0.520548          0.0        0.116438   0.143573   \n",
       "\n",
       "   free sulfur dioxide  total sulfur dioxide   density        pH  sulphates  \\\n",
       "0             0.140845              0.098940  0.567548  0.606299   0.137725   \n",
       "1             0.338028              0.215548  0.494126  0.362205   0.209581   \n",
       "\n",
       "    alcohol  quality  \n",
       "0  0.153846        5  \n",
       "1  0.215385        5  "
      ]
     },
     "execution_count": 39,
     "metadata": {},
     "output_type": "execute_result"
    }
   ],
   "source": [
    "# Select all the attributes to normalize\n",
    "columns_to_normalize = df.columns[:-1]\n",
    "\n",
    "\n",
    "# Normalize between 0 and 1\n",
    "df_normalized = (df[columns_to_normalize] - df[columns_to_normalize].min()) / (df[columns_to_normalize].max() - df[columns_to_normalize].min())\n",
    "\n",
    "# Combine the attributes and the label\n",
    "df_normalized = pd.concat([df_normalized, df[df.columns[-1]]], axis=1)\n",
    "\n",
    "df_normalized.head(2)\n"
   ]
  },
  {
   "cell_type": "markdown",
   "metadata": {},
   "source": [
    "---\n",
    "<a id=\"section33\"></a>\n",
    "# <font color=\"#004D7F\" size=5> 3.3. Generate images</font>\n",
    "\n",
    "Now we can generate the images with the `generateImages()` generic function. Likewise, we create a dataset that will have the path of each of the samples with the corresponding image created for it. \n",
    "\n",
    "Note that each image is created based on a row, therefore, each numerical sample of the dataset will correspond to a particular image. In other words, we will have the same number of images as samples/rows."
   ]
  },
  {
   "cell_type": "code",
   "execution_count": 40,
   "metadata": {},
   "outputs": [
    {
     "name": "stdout",
     "output_type": "stream",
     "text": [
      "../Synthetic_images/winequality_Tinto/supervised.csv\n"
     ]
    }
   ],
   "source": [
    "import os\n",
    "\n",
    "# Generate the images if the folder does not exist\n",
    "if not os.path.exists(images_folder):\n",
    "    #Generate thet images\n",
    "    image_model.generateImages(df, images_folder)\n",
    "else:\n",
    "    print(\"The images are already generated\")\n",
    "\n",
    "img_paths = os.path.join(images_folder,problem_type+\".csv\")\n",
    "\n",
    "print(img_paths)"
   ]
  },
  {
   "cell_type": "markdown",
   "metadata": {},
   "source": [
    "<a id=\"section34\"></a>\n",
    "# <font color=\"#004D7F\" size=5> 3.4. Data Analysis</font>"
   ]
  },
  {
   "cell_type": "code",
   "execution_count": 41,
   "metadata": {},
   "outputs": [
    {
     "data": {
      "image/png": "[encoded data removed]",
      "text/plain": [
       "<Figure size 640x480 with 1 Axes>"
      ]
     },
     "metadata": {},
     "output_type": "display_data"
    }
   ],
   "source": [
    "target_values = df_normalized.iloc[:,-1]\n",
    "class_counts = np.bincount(target_values)\n",
    "class_labels = np.arange(1, len(class_counts) + 1)\n",
    "\n",
    "# Create the bar plot\n",
    "plt.bar(class_labels, class_counts)\n",
    "\n",
    "# Customize the plot\n",
    "plt.xlabel('Class')\n",
    "plt.ylabel('Samples')\n",
    "plt.title('Classes Distribution')\n",
    "\n",
    "# Display the plot\n",
    "plt.show()"
   ]
  },
  {
   "cell_type": "markdown",
   "metadata": {},
   "source": [
    "---\n",
    "<a id=\"section35\"></a>\n",
    " <font color=\"#004D7F\" size=5> 3.5. Read Images</font>\n",
    "\n",
    "Now, we read the created images "
   ]
  },
  {
   "cell_type": "code",
   "execution_count": 42,
   "metadata": {},
   "outputs": [
    {
     "data": {
      "text/html": [
       "<div>\n",
       "<style scoped>\n",
       "    .dataframe tbody tr th:only-of-type {\n",
       "        vertical-align: middle;\n",
       "    }\n",
       "\n",
       "    .dataframe tbody tr th {\n",
       "        vertical-align: top;\n",
       "    }\n",
       "\n",
       "    .dataframe thead th {\n",
       "        text-align: right;\n",
       "    }\n",
       "</style>\n",
       "<table border=\"1\" class=\"dataframe\">\n",
       "  <thead>\n",
       "    <tr style=\"text-align: right;\">\n",
       "      <th></th>\n",
       "      <th>images</th>\n",
       "      <th>fixed acidity</th>\n",
       "      <th>volatile acidity</th>\n",
       "      <th>citric acid</th>\n",
       "      <th>residual sugar</th>\n",
       "      <th>chlorides</th>\n",
       "      <th>free sulfur dioxide</th>\n",
       "      <th>total sulfur dioxide</th>\n",
       "      <th>density</th>\n",
       "      <th>pH</th>\n",
       "      <th>sulphates</th>\n",
       "      <th>alcohol</th>\n",
       "    </tr>\n",
       "  </thead>\n",
       "  <tbody>\n",
       "    <tr>\n",
       "      <th>0</th>\n",
       "      <td>../Synthetic_images/winequality_Tinto/05/00000...</td>\n",
       "      <td>0.247788</td>\n",
       "      <td>0.397260</td>\n",
       "      <td>0.0</td>\n",
       "      <td>0.068493</td>\n",
       "      <td>0.106845</td>\n",
       "      <td>0.140845</td>\n",
       "      <td>0.098940</td>\n",
       "      <td>0.567548</td>\n",
       "      <td>0.606299</td>\n",
       "      <td>0.137725</td>\n",
       "      <td>0.153846</td>\n",
       "    </tr>\n",
       "    <tr>\n",
       "      <th>1</th>\n",
       "      <td>../Synthetic_images/winequality_Tinto/05/00000...</td>\n",
       "      <td>0.283186</td>\n",
       "      <td>0.520548</td>\n",
       "      <td>0.0</td>\n",
       "      <td>0.116438</td>\n",
       "      <td>0.143573</td>\n",
       "      <td>0.338028</td>\n",
       "      <td>0.215548</td>\n",
       "      <td>0.494126</td>\n",
       "      <td>0.362205</td>\n",
       "      <td>0.209581</td>\n",
       "      <td>0.215385</td>\n",
       "    </tr>\n",
       "  </tbody>\n",
       "</table>\n",
       "</div>"
      ],
      "text/plain": [
       "                                              images  fixed acidity  \\\n",
       "0  ../Synthetic_images/winequality_Tinto/05/00000...       0.247788   \n",
       "1  ../Synthetic_images/winequality_Tinto/05/00000...       0.283186   \n",
       "\n",
       "   volatile acidity  citric acid  residual sugar  chlorides  \\\n",
       "0          0.397260          0.0        0.068493   0.106845   \n",
       "1          0.520548          0.0        0.116438   0.143573   \n",
       "\n",
       "   free sulfur dioxide  total sulfur dioxide   density        pH  sulphates  \\\n",
       "0             0.140845              0.098940  0.567548  0.606299   0.137725   \n",
       "1             0.338028              0.215548  0.494126  0.362205   0.209581   \n",
       "\n",
       "    alcohol  \n",
       "0  0.153846  \n",
       "1  0.215385  "
      ]
     },
     "execution_count": 42,
     "metadata": {},
     "output_type": "execute_result"
    }
   ],
   "source": [
    "imgs = pd.read_csv(img_paths)\n",
    "\n",
    "#imgs[\"images\"]= images_folder + \"\\\\\" + imgs[\"images\"]\n",
    "imgs[\"images\"]= images_folder + \"/\" + imgs[\"images\"]\n",
    "\n",
    "combined_dataset = pd.concat([imgs,df_normalized[columns_to_normalize]],axis=1)\n",
    "combined_dataset\n",
    "\n",
    "df_x = combined_dataset.drop(\"class\",axis=1)\n",
    "df_y = combined_dataset[\"class\"].replace(-1, 0)\n",
    "\n",
    "df_x.head(2)"
   ]
  },
  {
   "cell_type": "markdown",
   "metadata": {
    "id": "_haEKIo7jpD1"
   },
   "source": [
    "---\n",
    "<div style=\"text-align: right\"> <font size=5> <a href=\"#indice\"><i class=\"fa fa-arrow-circle-up\" aria-hidden=\"true\" style=\"color:#004D7F\"></i></a></font></div>\n",
    "\n",
    "---"
   ]
  },
  {
   "cell_type": "markdown",
   "metadata": {
    "id": "uF1lJWbojpD3"
   },
   "source": [
    "<a id=\"section4\"></a>\n",
    "# <font color=\"#004D7F\" size=6> 4. Pre-modelling phase</font>"
   ]
  },
  {
   "cell_type": "markdown",
   "metadata": {},
   "source": [
    "Once the data is ready, we load it into memory with an iterator in order to pass it to the CNN."
   ]
  },
  {
   "cell_type": "markdown",
   "metadata": {},
   "source": [
    "---\n",
    "<a id=\"section41\"></a>\n",
    "# <font color=\"#004D7F\" size=5> 4.1. Data curation</font>\n",
    "\n",
    "Note that each method generates images of **different pixel size**. For example:\n",
    "- `TINTO` method has a parameter that you can specify the size in pixels which by default is 20. \n",
    "- Other parameters such as `Combined` generates the size automatically and you must obtain them from the _shape_ of the images."
   ]
  },
  {
   "cell_type": "markdown",
   "metadata": {},
   "source": [
    "<div class=\"alert alert-block alert-info\">\n",
    "\n",
    "<i class=\"fa fa-info-circle\" aria-hidden=\"true\"></i>\n",
    "You can see all information about TINTOlib documentation in [PyPI](https://tintolib.readthedocs.io/en/latest/installation.html)"
   ]
  },
  {
   "cell_type": "markdown",
   "metadata": {},
   "source": [
    "Split in train/test/validation. \n",
    "\n",
    "Note that the partitioning of the images is also performed, in addition to the tabular data."
   ]
  },
  {
   "cell_type": "code",
   "execution_count": 47,
   "metadata": {},
   "outputs": [
    {
     "name": "stdout",
     "output_type": "stream",
     "text": [
      "Image shape (20, 20, 3)\n",
      "Attributes 11\n",
      "Classes 6\n"
     ]
    }
   ],
   "source": [
    "import cv2\n",
    "X_train, X_val, y_train, y_val = train_test_split(df_x, df_y, test_size = 0.40, random_state = SEED,stratify=df_y)\n",
    "X_val, X_test, y_val, y_test = train_test_split(X_val, y_val, test_size = 0.50, random_state = SEED, stratify=y_val)\n",
    "\n",
    "X_train_num = X_train.drop(\"images\",axis=1)\n",
    "X_val_num = X_val.drop(\"images\",axis=1)\n",
    "X_test_num = X_test.drop(\"images\",axis=1)\n",
    "\n",
    "X_train_img = np.array([cv2.imread(img) for img in X_train[\"images\"]])\n",
    "X_val_img = np.array([cv2.imread(img) for img in X_val[\"images\"]])\n",
    "X_test_img = np.array([cv2.imread(img) for img in X_test[\"images\"]])\n",
    "\n",
    "\"\"\"X_train_img = np.array([cv2.resize(cv2.imread(img),(60,60)) for img in X_train[\"images\"]])\n",
    "X_val_img = np.array([cv2.resize(cv2.imread(img),(60,60)) for img in X_val[\"images\"]])\n",
    "X_test_img = np.array([cv2.resize(cv2.imread(img),(60,60)) for img in X_test[\"images\"]])\"\"\"\n",
    "\n",
    "n_class = df['quality'].value_counts().count()\n",
    "attributes = len(X_train_num.columns)\n",
    "print(\"Image shape\",X_train_img[0].shape)\n",
    "print(\"Attributes\",attributes)\n",
    "print(\"Classes\",n_class)\n"
   ]
  },
  {
   "cell_type": "markdown",
   "metadata": {},
   "source": [
    "---\n",
    "<a id=\"section42\"></a>\n",
    " <font color=\"#004D7F\" size=5> 4.2. Distribution</font>"
   ]
  },
  {
   "cell_type": "code",
   "execution_count": 48,
   "metadata": {},
   "outputs": [
    {
     "data": {
      "image/png": "[encoded data removed]",
      "text/plain": [
       "<Figure size 640x480 with 1 Axes>"
      ]
     },
     "metadata": {},
     "output_type": "display_data"
    }
   ],
   "source": [
    "#SPLITS CLASS DISTRIBUTION\n",
    "\n",
    "train_class_counts = np.bincount(y_train)\n",
    "val_class_counts = np.bincount(y_val)\n",
    "test_class_counts = np.bincount(y_test)\n",
    "\n",
    "width = 0.35 \n",
    "#plt.bar(class_labels, train_class_counts, width, label='Train')\n",
    "plt.bar(class_labels + width, val_class_counts, width, label='Validation')\n",
    "plt.bar(class_labels + width*2, test_class_counts, width, label='Test')\n",
    "\n",
    "plt.xlabel('Class')\n",
    "plt.ylabel('Samples')\n",
    "plt.title('Classes distribution')\n",
    "#plt.xticks(class_labels + width / 2, class_labels)\n",
    "plt.legend()\n",
    "\n",
    "# Mostrar el gráfico\n",
    "plt.show()\n"
   ]
  },
  {
   "cell_type": "code",
   "execution_count": 49,
   "metadata": {},
   "outputs": [
    {
     "data": {
      "text/plain": [
       "1420    5.0\n",
       "1524    6.0\n",
       "274     5.0\n",
       "1275    6.0\n",
       "1017    6.0\n",
       "       ... \n",
       "1040    5.0\n",
       "940     7.0\n",
       "1293    4.0\n",
       "1332    6.0\n",
       "1455    6.0\n",
       "Name: class, Length: 959, dtype: float64"
      ]
     },
     "execution_count": 49,
     "metadata": {},
     "output_type": "execute_result"
    }
   ],
   "source": [
    "y_train"
   ]
  },
  {
   "cell_type": "markdown",
   "metadata": {},
   "source": [
    "---\n",
    "<a id=\"section43\"></a>\n",
    " <font color=\"#004D7F\" size=5> 4.3. One-Hot Encoding</font>"
   ]
  },
  {
   "cell_type": "code",
   "execution_count": 52,
   "metadata": {},
   "outputs": [],
   "source": [
    "#ONE HOT ENCODING FOR MULTICLASS PROBLEMS\n",
    "from tensorflow.keras.utils import to_categorical\n",
    "\n",
    "# Adjusting class indices to start from 0 since to_categorical expects classes indexed from 0 to n_class-1,\n",
    "# while original indices range from 1 to n_class.\n",
    "y_train_oh =  to_categorical(y_train-4,n_class)\n",
    "y_val_oh = to_categorical(y_val-4,n_class)\n",
    "y_test_oh = to_categorical(y_test-4,n_class)"
   ]
  },
  {
   "cell_type": "code",
   "execution_count": 53,
   "metadata": {},
   "outputs": [
    {
     "data": {
      "text/plain": [
       "array([0., 0., 1., 0., 0., 0.])"
      ]
     },
     "execution_count": 53,
     "metadata": {},
     "output_type": "execute_result"
    }
   ],
   "source": [
    "y_val_oh[0]"
   ]
  },
  {
   "cell_type": "markdown",
   "metadata": {},
   "source": [
    "<a id=\"section5\"></a>\n",
    "# <font color=\"#004D7F\" size=6> 5. Modeling hybrid network</font>"
   ]
  },
  {
   "cell_type": "markdown",
   "metadata": {},
   "source": [
    "Now we can start the CNN+MLP training. Before that we prepare the algorithm for reading data.\n",
    "\n",
    "In this example, 2 branch networks is created\n",
    "- 1º branch: FFNN for tabular data\n",
    "- 2º branch: CNN for TINTOlib images"
   ]
  },
  {
   "cell_type": "markdown",
   "metadata": {},
   "source": [
    "---\n",
    "<a id=\"section51\"></a>\n",
    "# <font color=\"#004D7F\" size=5> 5.1. FFNN for tabular data</font>\n",
    "\n",
    "This is an example of a simple FFNN for tabular data. Note that we are not looking for the optimization of the CNN but to show an example of TINTOlib execution."
   ]
  },
  {
   "cell_type": "code",
   "execution_count": 54,
   "metadata": {},
   "outputs": [],
   "source": [
    "dropout = 0.3"
   ]
  },
  {
   "cell_type": "code",
   "execution_count": 60,
   "metadata": {},
   "outputs": [],
   "source": [
    "filters_ffnn = [128,64,32]\n",
    "\n",
    "ff_model = Sequential()\n",
    "ff_model.add(Input(shape=(attributes,)))\n",
    "\n",
    "for layer in filters_ffnn:\n",
    "    ff_model.add(Dense(layer, activation=\"relu\"))\n",
    "    #ff_model.add(BatchNormalization())\n",
    "    ff_model.add(Dropout(dropout))"
   ]
  },
  {
   "cell_type": "markdown",
   "metadata": {},
   "source": [
    "---\n",
    "<a id=\"section52\"></a>\n",
    "# <font color=\"#004D7F\" size=5> 5.2. CNN for TINTOlib images</font>\n",
    "\n",
    "This is an example of a simple CNN for TINTOlib images. Note that we are not looking for the optimization of the CNN but to show an example of TINTOlib execution."
   ]
  },
  {
   "cell_type": "code",
   "execution_count": 61,
   "metadata": {},
   "outputs": [],
   "source": [
    "filters_cnn =  [16,32,64]\n",
    "\n",
    "cnn_model = Sequential()\n",
    "cnn_model.add(Input(shape=(pixel,pixel, 3)))\n",
    "\n",
    "for layer in filters_cnn:\n",
    "    cnn_model.add(Conv2D(layer, (3, 3), padding=\"same\"))\n",
    "    cnn_model.add(Activation(\"relu\"))\n",
    "    #cnn_model.add(BatchNormalization())\n",
    "    cnn_model.add(MaxPooling2D(pool_size=(2, 2)))\n",
    "\n",
    "# flatten the volume, then FC => RELU => BN => DROPOUT\n",
    "cnn_model.add(Flatten())\n",
    "cnn_model.add(Dense(128))\n",
    "cnn_model.add(Activation(\"relu\"))\n",
    "cnn_model.add(BatchNormalization())\n",
    "cnn_model.add(Dropout(dropout))\n",
    "cnn_model.add(Dense(64))\n",
    "cnn_model.add(Activation(\"relu\"))\n",
    "cnn_model.add(BatchNormalization())\n",
    "cnn_model.add(Dropout(dropout))\n",
    "# apply another FC layer, this one to match the number of nodes\n",
    "# coming out of the MLP\n",
    "cnn_model.add(Dense(32))\n",
    "cnn_model.add(Activation(\"relu\"))\n",
    "cnn_model.add(BatchNormalization())\n",
    "cnn_model.add(Dropout(dropout))\n",
    "\n"
   ]
  },
  {
   "cell_type": "code",
   "execution_count": 64,
   "metadata": {},
   "outputs": [
    {
     "ename": "ValueError",
     "evalue": "The layer sequential_12 has never been called and thus has no defined output.",
     "output_type": "error",
     "traceback": [
      "\u001b[0;31m---------------------------------------------------------------------------\u001b[0m",
      "\u001b[0;31mValueError\u001b[0m                                Traceback (most recent call last)",
      "Cell \u001b[0;32mIn[64], line 1\u001b[0m\n\u001b[0;32m----> 1\u001b[0m combinedInput \u001b[38;5;241m=\u001b[39m concatenate([\u001b[43mff_model\u001b[49m\u001b[38;5;241;43m.\u001b[39;49m\u001b[43moutput\u001b[49m, cnn_model\u001b[38;5;241m.\u001b[39moutput])\n\u001b[1;32m      2\u001b[0m x \u001b[38;5;241m=\u001b[39m Dense(\u001b[38;5;241m64\u001b[39m, activation\u001b[38;5;241m=\u001b[39m\u001b[38;5;124m\"\u001b[39m\u001b[38;5;124mrelu\u001b[39m\u001b[38;5;124m\"\u001b[39m)(combinedInput)\n\u001b[1;32m      3\u001b[0m x \u001b[38;5;241m=\u001b[39m BatchNormalization()(x)\n",
      "File \u001b[0;32m~/Library/Python/3.9/lib/python/site-packages/keras/src/ops/operation.py:240\u001b[0m, in \u001b[0;36mOperation.output\u001b[0;34m(self)\u001b[0m\n\u001b[1;32m    230\u001b[0m \u001b[38;5;129m@property\u001b[39m\n\u001b[1;32m    231\u001b[0m \u001b[38;5;28;01mdef\u001b[39;00m \u001b[38;5;21moutput\u001b[39m(\u001b[38;5;28mself\u001b[39m):\n\u001b[1;32m    232\u001b[0m \u001b[38;5;250m    \u001b[39m\u001b[38;5;124;03m\"\"\"Retrieves the output tensor(s) of a layer.\u001b[39;00m\n\u001b[1;32m    233\u001b[0m \n\u001b[1;32m    234\u001b[0m \u001b[38;5;124;03m    Only returns the tensor(s) corresponding to the *first time*\u001b[39;00m\n\u001b[0;32m   (...)\u001b[0m\n\u001b[1;32m    238\u001b[0m \u001b[38;5;124;03m        Output tensor or list of output tensors.\u001b[39;00m\n\u001b[1;32m    239\u001b[0m \u001b[38;5;124;03m    \"\"\"\u001b[39;00m\n\u001b[0;32m--> 240\u001b[0m     \u001b[38;5;28;01mreturn\u001b[39;00m \u001b[38;5;28;43mself\u001b[39;49m\u001b[38;5;241;43m.\u001b[39;49m\u001b[43m_get_node_attribute_at_index\u001b[49m\u001b[43m(\u001b[49m\u001b[38;5;241;43m0\u001b[39;49m\u001b[43m,\u001b[49m\u001b[43m \u001b[49m\u001b[38;5;124;43m\"\u001b[39;49m\u001b[38;5;124;43moutput_tensors\u001b[39;49m\u001b[38;5;124;43m\"\u001b[39;49m\u001b[43m,\u001b[49m\u001b[43m \u001b[49m\u001b[38;5;124;43m\"\u001b[39;49m\u001b[38;5;124;43moutput\u001b[39;49m\u001b[38;5;124;43m\"\u001b[39;49m\u001b[43m)\u001b[49m\n",
      "File \u001b[0;32m~/Library/Python/3.9/lib/python/site-packages/keras/src/ops/operation.py:259\u001b[0m, in \u001b[0;36mOperation._get_node_attribute_at_index\u001b[0;34m(self, node_index, attr, attr_name)\u001b[0m\n\u001b[1;32m    243\u001b[0m \u001b[38;5;250m\u001b[39m\u001b[38;5;124;03m\"\"\"Private utility to retrieves an attribute (e.g. inputs) from a node.\u001b[39;00m\n\u001b[1;32m    244\u001b[0m \n\u001b[1;32m    245\u001b[0m \u001b[38;5;124;03mThis is used to implement the properties:\u001b[39;00m\n\u001b[0;32m   (...)\u001b[0m\n\u001b[1;32m    256\u001b[0m \u001b[38;5;124;03m    The operation's attribute `attr` at the node of index `node_index`.\u001b[39;00m\n\u001b[1;32m    257\u001b[0m \u001b[38;5;124;03m\"\"\"\u001b[39;00m\n\u001b[1;32m    258\u001b[0m \u001b[38;5;28;01mif\u001b[39;00m \u001b[38;5;129;01mnot\u001b[39;00m \u001b[38;5;28mself\u001b[39m\u001b[38;5;241m.\u001b[39m_inbound_nodes:\n\u001b[0;32m--> 259\u001b[0m     \u001b[38;5;28;01mraise\u001b[39;00m \u001b[38;5;167;01mValueError\u001b[39;00m(\n\u001b[1;32m    260\u001b[0m         \u001b[38;5;124mf\u001b[39m\u001b[38;5;124m\"\u001b[39m\u001b[38;5;124mThe layer \u001b[39m\u001b[38;5;132;01m{\u001b[39;00m\u001b[38;5;28mself\u001b[39m\u001b[38;5;241m.\u001b[39mname\u001b[38;5;132;01m}\u001b[39;00m\u001b[38;5;124m has never been called \u001b[39m\u001b[38;5;124m\"\u001b[39m\n\u001b[1;32m    261\u001b[0m         \u001b[38;5;124mf\u001b[39m\u001b[38;5;124m\"\u001b[39m\u001b[38;5;124mand thus has no defined \u001b[39m\u001b[38;5;132;01m{\u001b[39;00mattr_name\u001b[38;5;132;01m}\u001b[39;00m\u001b[38;5;124m.\u001b[39m\u001b[38;5;124m\"\u001b[39m\n\u001b[1;32m    262\u001b[0m     )\n\u001b[1;32m    263\u001b[0m \u001b[38;5;28;01mif\u001b[39;00m \u001b[38;5;129;01mnot\u001b[39;00m \u001b[38;5;28mlen\u001b[39m(\u001b[38;5;28mself\u001b[39m\u001b[38;5;241m.\u001b[39m_inbound_nodes) \u001b[38;5;241m>\u001b[39m node_index:\n\u001b[1;32m    264\u001b[0m     \u001b[38;5;28;01mraise\u001b[39;00m \u001b[38;5;167;01mValueError\u001b[39;00m(\n\u001b[1;32m    265\u001b[0m         \u001b[38;5;124mf\u001b[39m\u001b[38;5;124m\"\u001b[39m\u001b[38;5;124mAsked to get \u001b[39m\u001b[38;5;132;01m{\u001b[39;00mattr_name\u001b[38;5;132;01m}\u001b[39;00m\u001b[38;5;124m at node \u001b[39m\u001b[38;5;124m\"\u001b[39m\n\u001b[1;32m    266\u001b[0m         \u001b[38;5;124mf\u001b[39m\u001b[38;5;124m\"\u001b[39m\u001b[38;5;132;01m{\u001b[39;00mnode_index\u001b[38;5;132;01m}\u001b[39;00m\u001b[38;5;124m, but the operation has only \u001b[39m\u001b[38;5;124m\"\u001b[39m\n\u001b[1;32m    267\u001b[0m         \u001b[38;5;124mf\u001b[39m\u001b[38;5;124m\"\u001b[39m\u001b[38;5;132;01m{\u001b[39;00m\u001b[38;5;28mlen\u001b[39m(\u001b[38;5;28mself\u001b[39m\u001b[38;5;241m.\u001b[39m_inbound_nodes)\u001b[38;5;132;01m}\u001b[39;00m\u001b[38;5;124m inbound nodes.\u001b[39m\u001b[38;5;124m\"\u001b[39m\n\u001b[1;32m    268\u001b[0m     )\n",
      "\u001b[0;31mValueError\u001b[0m: The layer sequential_12 has never been called and thus has no defined output."
     ]
    }
   ],
   "source": [
    "combinedInput = concatenate([ff_model.output, cnn_model.output])\n",
    "x = Dense(64, activation=\"relu\")(combinedInput)\n",
    "x = BatchNormalization()(x)\n",
    "x = Dropout(dropout)(x)\n",
    "x = Dense(64, activation=\"relu\")(x)\n",
    "x = BatchNormalization()(x)\n",
    "x = Dropout(dropout)(x)\n",
    "x = Dense(64, activation=\"relu\")(x)\n",
    "x = BatchNormalization()(x)\n",
    "x = Dropout(dropout)(x)\n",
    "x = Dense(n_class, activation=\"softmax\")(x)\n",
    "\n",
    "model = Model(inputs=[ff_model.input, cnn_model.input], outputs=x)"
   ]
  },
  {
   "cell_type": "code",
   "execution_count": 27,
   "metadata": {},
   "outputs": [
    {
     "data": {
      "text/html": [
       "<pre style=\"white-space:pre;overflow-x:auto;line-height:normal;font-family:Menlo,'DejaVu Sans Mono',consolas,'Courier New',monospace\"></pre>\n"
      ],
      "text/plain": []
     },
     "metadata": {},
     "output_type": "display_data"
    },
    {
     "data": {
      "text/plain": [
       "<contextlib.ExitStack at 0x3960c7c10>"
      ]
     },
     "execution_count": 27,
     "metadata": {},
     "output_type": "execute_result"
    }
   ],
   "source": [
    "os.makedirs(results_folder, exist_ok=True)\n",
    "\n",
    "# Redirect the summary output to the specified file\n",
    "with open(results_folder+\"/model_summary.txt\", \"w\") as f:\n",
    "    ff_model.summary(print_fn=lambda x: f.write(x + '\\n'))\n",
    "\n",
    "# Desactivar la visualización automática de matplotlib\n",
    "plt.ioff()\n",
    "# Now, you can also save the model plot\n",
    "plot_model(ff_model, to_file=results_folder+'model_plot.png')\n",
    "# Reactivar la visualización automática de matplotlib (opcional)\n",
    "plt.ion()"
   ]
  },
  {
   "cell_type": "code",
   "execution_count": 49,
   "metadata": {},
   "outputs": [],
   "source": [
    "METRICS = [\n",
    "    #tf.keras.metrics.TruePositives(name = 'tp'),\n",
    "    #tf.keras.metrics.FalsePositives(name = 'fp'),\n",
    "    #tf.keras.metrics.TrueNegatives(name = 'tn'),\n",
    "    #tf.keras.metrics.FalseNegatives(name = 'fn'), \n",
    "    tf.keras.metrics.CategoricalAccuracy(name ='accuracy'),\n",
    "    tf.keras.metrics.Precision(name = 'precision'),\n",
    "    tf.keras.metrics.Recall(name = 'recall'),\n",
    "    tf.keras.metrics.AUC(name = 'auc'),\n",
    "]"
   ]
  },
  {
   "cell_type": "code",
   "execution_count": 18,
   "metadata": {},
   "outputs": [],
   "source": [
    "#HYPERPARAMETERS\n",
    "opt = tf.keras.optimizers.legacy.Adam(learning_rate=1e-3)\n",
    "model.compile(\n",
    "    loss=\"categorical_crossentropy\", \n",
    "    optimizer=opt,\n",
    "    metrics = METRICS\n",
    ")\n",
    "epochs = 100"
   ]
  },
  {
   "cell_type": "code",
   "execution_count": 19,
   "metadata": {},
   "outputs": [],
   "source": [
    "# Configure EarlyStopping for binary classification\n",
    "early_stopper = tf.keras.callbacks.EarlyStopping(\n",
    "    monitor='val_accuracy',  # Monitor the validation accuracy\n",
    "    min_delta=0.001,         # Minimum change in the monitored quantity to qualify as an improvement\n",
    "    patience=5,             # Number of epochs with no improvement after which training will be stopped\n",
    "    verbose=1,               # Log when training stops\n",
    "    mode='max',              # Maximize the accuracy;\n",
    "    restore_best_weights=True  # Restore model weights from the epoch with the best value of the monitored quantity\n",
    ")"
   ]
  },
  {
   "cell_type": "code",
   "execution_count": 20,
   "metadata": {},
   "outputs": [
    {
     "name": "stdout",
     "output_type": "stream",
     "text": [
      "Epoch 1/500\n"
     ]
    },
    {
     "name": "stdout",
     "output_type": "stream",
     "text": [
      "12/12 [==============================] - 1s 30ms/step - loss: 1.0903 - accuracy: 0.3667 - precision: 1.0000 - recall: 0.0111 - auc: 0.5614 - val_loss: 1.0587 - val_accuracy: 0.7000 - val_precision: 0.0000e+00 - val_recall: 0.0000e+00 - val_auc: 0.8686\n",
      "Epoch 2/500\n",
      "12/12 [==============================] - 0s 5ms/step - loss: 1.0652 - accuracy: 0.4222 - precision: 1.0000 - recall: 0.0111 - auc: 0.6088 - val_loss: 1.0169 - val_accuracy: 0.6667 - val_precision: 0.0000e+00 - val_recall: 0.0000e+00 - val_auc: 0.8167\n",
      "Epoch 3/500\n",
      "12/12 [==============================] - 0s 5ms/step - loss: 1.0399 - accuracy: 0.4333 - precision: 0.8000 - recall: 0.0444 - auc: 0.6525 - val_loss: 0.9693 - val_accuracy: 0.6667 - val_precision: 0.0000e+00 - val_recall: 0.0000e+00 - val_auc: 0.8536\n",
      "Epoch 4/500\n",
      "12/12 [==============================] - 0s 5ms/step - loss: 1.0155 - accuracy: 0.4222 - precision: 0.7143 - recall: 0.0556 - auc: 0.6686 - val_loss: 0.9374 - val_accuracy: 0.6333 - val_precision: 0.0000e+00 - val_recall: 0.0000e+00 - val_auc: 0.7997\n",
      "Epoch 5/500\n",
      "12/12 [==============================] - 0s 5ms/step - loss: 0.9484 - accuracy: 0.5444 - precision: 0.6000 - recall: 0.1333 - auc: 0.7506 - val_loss: 0.8717 - val_accuracy: 0.6667 - val_precision: 1.0000 - val_recall: 0.0667 - val_auc: 0.8714\n",
      "Epoch 6/500\n",
      "12/12 [==============================] - 0s 6ms/step - loss: 0.9088 - accuracy: 0.6000 - precision: 0.5238 - recall: 0.1222 - auc: 0.8037 - val_loss: 0.7851 - val_accuracy: 0.6667 - val_precision: 1.0000 - val_recall: 0.1667 - val_auc: 0.9203\n",
      "Epoch 7/500\n",
      "12/12 [==============================] - 0s 6ms/step - loss: 0.8324 - accuracy: 0.6000 - precision: 0.6111 - recall: 0.2444 - auc: 0.8182 - val_loss: 0.6664 - val_accuracy: 0.7333 - val_precision: 1.0000 - val_recall: 0.5333 - val_auc: 0.9256\n",
      "Epoch 8/500\n",
      "12/12 [==============================] - 0s 5ms/step - loss: 0.7530 - accuracy: 0.6556 - precision: 0.7541 - recall: 0.5111 - auc: 0.8510 - val_loss: 0.6265 - val_accuracy: 0.6667 - val_precision: 0.6667 - val_recall: 0.6667 - val_auc: 0.9442\n",
      "Epoch 9/500\n",
      "12/12 [==============================] - 0s 5ms/step - loss: 0.7259 - accuracy: 0.6333 - precision: 0.7121 - recall: 0.5222 - auc: 0.8596 - val_loss: 0.5505 - val_accuracy: 0.6667 - val_precision: 0.6667 - val_recall: 0.6667 - val_auc: 0.9436\n",
      "Epoch 10/500\n",
      "12/12 [==============================] - 0s 5ms/step - loss: 0.6220 - accuracy: 0.7111 - precision: 0.7639 - recall: 0.6111 - auc: 0.8896 - val_loss: 0.5530 - val_accuracy: 0.6667 - val_precision: 0.6667 - val_recall: 0.6667 - val_auc: 0.9444\n",
      "Epoch 11/500\n",
      "12/12 [==============================] - 0s 5ms/step - loss: 0.6084 - accuracy: 0.7111 - precision: 0.7195 - recall: 0.6556 - auc: 0.8874 - val_loss: 0.4315 - val_accuracy: 0.8333 - val_precision: 0.8333 - val_recall: 0.8333 - val_auc: 0.9769\n",
      "Epoch 12/500\n",
      "12/12 [==============================] - 0s 5ms/step - loss: 0.5300 - accuracy: 0.7222 - precision: 0.7381 - recall: 0.6889 - auc: 0.9094 - val_loss: 0.4047 - val_accuracy: 0.9667 - val_precision: 0.9667 - val_recall: 0.9667 - val_auc: 0.9947\n",
      "Epoch 13/500\n",
      "12/12 [==============================] - 0s 5ms/step - loss: 0.5125 - accuracy: 0.6778 - precision: 0.6782 - recall: 0.6556 - auc: 0.9031 - val_loss: 0.3979 - val_accuracy: 0.9667 - val_precision: 0.9667 - val_recall: 0.9667 - val_auc: 0.9933\n",
      "Epoch 14/500\n",
      "12/12 [==============================] - 0s 5ms/step - loss: 0.4646 - accuracy: 0.7778 - precision: 0.7765 - recall: 0.7333 - auc: 0.9243 - val_loss: 0.4274 - val_accuracy: 0.6667 - val_precision: 0.6667 - val_recall: 0.6667 - val_auc: 0.9433\n",
      "Epoch 15/500\n",
      "12/12 [==============================] - 0s 5ms/step - loss: 0.5215 - accuracy: 0.7111 - precision: 0.7126 - recall: 0.6889 - auc: 0.9080 - val_loss: 0.3923 - val_accuracy: 0.8333 - val_precision: 0.8333 - val_recall: 0.8333 - val_auc: 0.9661\n",
      "Epoch 16/500\n",
      "12/12 [==============================] - 0s 5ms/step - loss: 0.5017 - accuracy: 0.7333 - precision: 0.7241 - recall: 0.7000 - auc: 0.9129 - val_loss: 0.3948 - val_accuracy: 0.7667 - val_precision: 0.7857 - val_recall: 0.7333 - val_auc: 0.9531\n",
      "Epoch 17/500\n",
      "12/12 [==============================] - 0s 6ms/step - loss: 0.4456 - accuracy: 0.7778 - precision: 0.7882 - recall: 0.7444 - auc: 0.9302 - val_loss: 0.4056 - val_accuracy: 0.8000 - val_precision: 0.8000 - val_recall: 0.8000 - val_auc: 0.9553\n",
      "Epoch 18/500\n",
      "12/12 [==============================] - 0s 6ms/step - loss: 0.4724 - accuracy: 0.7556 - precision: 0.7528 - recall: 0.7444 - auc: 0.9181 - val_loss: 0.3904 - val_accuracy: 0.8667 - val_precision: 0.9259 - val_recall: 0.8333 - val_auc: 0.9808\n",
      "Epoch 19/500\n",
      "12/12 [==============================] - 0s 5ms/step - loss: 0.4503 - accuracy: 0.7333 - precision: 0.7273 - recall: 0.7111 - auc: 0.9261 - val_loss: 0.3951 - val_accuracy: 0.9667 - val_precision: 0.9667 - val_recall: 0.9667 - val_auc: 0.9994\n",
      "Epoch 20/500\n",
      "12/12 [==============================] - 0s 5ms/step - loss: 0.4773 - accuracy: 0.6556 - precision: 0.6705 - recall: 0.6556 - auc: 0.9016 - val_loss: 0.3844 - val_accuracy: 0.9667 - val_precision: 0.9667 - val_recall: 0.9667 - val_auc: 0.9961\n",
      "Epoch 21/500\n",
      "12/12 [==============================] - 0s 5ms/step - loss: 0.4754 - accuracy: 0.7778 - precision: 0.7711 - recall: 0.7111 - auc: 0.9173 - val_loss: 0.3907 - val_accuracy: 1.0000 - val_precision: 1.0000 - val_recall: 1.0000 - val_auc: 1.0000\n",
      "Epoch 22/500\n",
      "12/12 [==============================] - 0s 6ms/step - loss: 0.4844 - accuracy: 0.6889 - precision: 0.7229 - recall: 0.6667 - auc: 0.9116 - val_loss: 0.3927 - val_accuracy: 0.7333 - val_precision: 0.7333 - val_recall: 0.7333 - val_auc: 0.9528\n",
      "Epoch 23/500\n",
      "12/12 [==============================] - 0s 6ms/step - loss: 0.4226 - accuracy: 0.7556 - precision: 0.7674 - recall: 0.7333 - auc: 0.9363 - val_loss: 0.3570 - val_accuracy: 0.9000 - val_precision: 0.9000 - val_recall: 0.9000 - val_auc: 0.9856\n",
      "Epoch 24/500\n",
      "12/12 [==============================] - 0s 6ms/step - loss: 0.5077 - accuracy: 0.7444 - precision: 0.7558 - recall: 0.7222 - auc: 0.9129 - val_loss: 0.3939 - val_accuracy: 0.7333 - val_precision: 0.7333 - val_recall: 0.7333 - val_auc: 0.9575\n",
      "Epoch 25/500\n",
      "12/12 [==============================] - 0s 6ms/step - loss: 0.4292 - accuracy: 0.7778 - precision: 0.7753 - recall: 0.7667 - auc: 0.9365 - val_loss: 0.3849 - val_accuracy: 0.8000 - val_precision: 0.8000 - val_recall: 0.8000 - val_auc: 0.9694\n",
      "Epoch 26/500\n",
      "12/12 [==============================] - 0s 5ms/step - loss: 0.4472 - accuracy: 0.7222 - precision: 0.7273 - recall: 0.7111 - auc: 0.9248 - val_loss: 0.3691 - val_accuracy: 0.9667 - val_precision: 0.9667 - val_recall: 0.9667 - val_auc: 0.9994\n",
      "Epoch 27/500\n",
      "12/12 [==============================] - 0s 5ms/step - loss: 0.4237 - accuracy: 0.7556 - precision: 0.7500 - recall: 0.7333 - auc: 0.9337 - val_loss: 0.3410 - val_accuracy: 0.9333 - val_precision: 0.9333 - val_recall: 0.9333 - val_auc: 0.9978\n",
      "Epoch 28/500\n",
      "12/12 [==============================] - 0s 5ms/step - loss: 0.4063 - accuracy: 0.7778 - precision: 0.7753 - recall: 0.7667 - auc: 0.9451 - val_loss: 0.3389 - val_accuracy: 0.9667 - val_precision: 0.9667 - val_recall: 0.9667 - val_auc: 0.9961\n",
      "Epoch 29/500\n",
      "12/12 [==============================] - 0s 6ms/step - loss: 0.4685 - accuracy: 0.7667 - precision: 0.7640 - recall: 0.7556 - auc: 0.9259 - val_loss: 0.3285 - val_accuracy: 0.9333 - val_precision: 0.9333 - val_recall: 0.9333 - val_auc: 0.9978\n",
      "Epoch 30/500\n",
      "12/12 [==============================] - 0s 6ms/step - loss: 0.3580 - accuracy: 0.8444 - precision: 0.8427 - recall: 0.8333 - auc: 0.9620 - val_loss: 0.3329 - val_accuracy: 0.8667 - val_precision: 0.8667 - val_recall: 0.8667 - val_auc: 0.9867\n",
      "Epoch 31/500\n",
      "12/12 [==============================] - 0s 5ms/step - loss: 0.3941 - accuracy: 0.8000 - precision: 0.7931 - recall: 0.7667 - auc: 0.9456 - val_loss: 0.3002 - val_accuracy: 0.9333 - val_precision: 0.9333 - val_recall: 0.9333 - val_auc: 0.9928\n",
      "Epoch 32/500\n",
      "12/12 [==============================] - 0s 5ms/step - loss: 0.4566 - accuracy: 0.7444 - precision: 0.7412 - recall: 0.7000 - auc: 0.9273 - val_loss: 0.3178 - val_accuracy: 0.9333 - val_precision: 0.9333 - val_recall: 0.9333 - val_auc: 0.9886\n",
      "Epoch 33/500\n",
      "12/12 [==============================] - 0s 5ms/step - loss: 0.3465 - accuracy: 0.8444 - precision: 0.8444 - recall: 0.8444 - auc: 0.9660 - val_loss: 0.3254 - val_accuracy: 0.9000 - val_precision: 0.9000 - val_recall: 0.9000 - val_auc: 0.9750\n",
      "Epoch 34/500\n",
      "12/12 [==============================] - 0s 6ms/step - loss: 0.3941 - accuracy: 0.8222 - precision: 0.8222 - recall: 0.8222 - auc: 0.9498 - val_loss: 0.3190 - val_accuracy: 0.8667 - val_precision: 0.8667 - val_recall: 0.8667 - val_auc: 0.9797\n",
      "Epoch 35/500\n",
      "12/12 [==============================] - 0s 6ms/step - loss: 0.3242 - accuracy: 0.8111 - precision: 0.8276 - recall: 0.8000 - auc: 0.9688 - val_loss: 0.2732 - val_accuracy: 0.9667 - val_precision: 0.9667 - val_recall: 0.9667 - val_auc: 0.9972\n",
      "Epoch 36/500\n",
      "12/12 [==============================] - 0s 5ms/step - loss: 0.3645 - accuracy: 0.8111 - precision: 0.8295 - recall: 0.8111 - auc: 0.9551 - val_loss: 0.2699 - val_accuracy: 0.9333 - val_precision: 0.9333 - val_recall: 0.9333 - val_auc: 0.9864\n",
      "Epoch 37/500\n",
      "12/12 [==============================] - 0s 5ms/step - loss: 0.3588 - accuracy: 0.8333 - precision: 0.8409 - recall: 0.8222 - auc: 0.9611 - val_loss: 0.2662 - val_accuracy: 0.9333 - val_precision: 0.9333 - val_recall: 0.9333 - val_auc: 0.9978\n",
      "Epoch 38/500\n",
      "12/12 [==============================] - 0s 5ms/step - loss: 0.3459 - accuracy: 0.8111 - precision: 0.8111 - recall: 0.8111 - auc: 0.9577 - val_loss: 0.2579 - val_accuracy: 0.9333 - val_precision: 0.9333 - val_recall: 0.9333 - val_auc: 0.9961\n",
      "Epoch 39/500\n",
      "12/12 [==============================] - 0s 6ms/step - loss: 0.4008 - accuracy: 0.8222 - precision: 0.8315 - recall: 0.8222 - auc: 0.9523 - val_loss: 0.3083 - val_accuracy: 0.8667 - val_precision: 0.8667 - val_recall: 0.8667 - val_auc: 0.9722\n",
      "Epoch 40/500\n",
      "12/12 [==============================] - 0s 6ms/step - loss: 0.3603 - accuracy: 0.8444 - precision: 0.8372 - recall: 0.8000 - auc: 0.9607 - val_loss: 0.3003 - val_accuracy: 0.9333 - val_precision: 0.9333 - val_recall: 0.9333 - val_auc: 0.9864\n",
      "Epoch 41/500\n",
      "12/12 [==============================] - 0s 6ms/step - loss: 0.3945 - accuracy: 0.7889 - precision: 0.7955 - recall: 0.7778 - auc: 0.9502 - val_loss: 0.2994 - val_accuracy: 0.9333 - val_precision: 0.9333 - val_recall: 0.9333 - val_auc: 0.9939\n",
      "Epoch 42/500\n",
      "12/12 [==============================] - 0s 6ms/step - loss: 0.3316 - accuracy: 0.8778 - precision: 0.8876 - recall: 0.8778 - auc: 0.9704 - val_loss: 0.2531 - val_accuracy: 0.9667 - val_precision: 0.9667 - val_recall: 0.9667 - val_auc: 0.9972\n",
      "Epoch 43/500\n",
      "12/12 [==============================] - 0s 6ms/step - loss: 0.3329 - accuracy: 0.8444 - precision: 0.8444 - recall: 0.8444 - auc: 0.9682 - val_loss: 0.2357 - val_accuracy: 0.9667 - val_precision: 0.9667 - val_recall: 0.9667 - val_auc: 0.9983\n",
      "Epoch 44/500\n",
      "12/12 [==============================] - 0s 6ms/step - loss: 0.2915 - accuracy: 0.8889 - precision: 0.8977 - recall: 0.8778 - auc: 0.9804 - val_loss: 0.2240 - val_accuracy: 0.9667 - val_precision: 0.9667 - val_recall: 0.9667 - val_auc: 0.9967\n",
      "Epoch 45/500\n",
      "12/12 [==============================] - 0s 5ms/step - loss: 0.3264 - accuracy: 0.8000 - precision: 0.8000 - recall: 0.8000 - auc: 0.9658 - val_loss: 0.2167 - val_accuracy: 0.9667 - val_precision: 0.9667 - val_recall: 0.9667 - val_auc: 0.9983\n",
      "Epoch 46/500\n",
      "12/12 [==============================] - 0s 5ms/step - loss: 0.3093 - accuracy: 0.9111 - precision: 0.9101 - recall: 0.9000 - auc: 0.9738 - val_loss: 0.2113 - val_accuracy: 0.9667 - val_precision: 0.9667 - val_recall: 0.9667 - val_auc: 0.9967\n",
      "Epoch 47/500\n",
      "12/12 [==============================] - 0s 6ms/step - loss: 0.3687 - accuracy: 0.8000 - precision: 0.8000 - recall: 0.8000 - auc: 0.9577 - val_loss: 0.2237 - val_accuracy: 0.9333 - val_precision: 0.9333 - val_recall: 0.9333 - val_auc: 0.9947\n",
      "Epoch 48/500\n",
      "12/12 [==============================] - 0s 6ms/step - loss: 0.2877 - accuracy: 0.8667 - precision: 0.8764 - recall: 0.8667 - auc: 0.9781 - val_loss: 0.2166 - val_accuracy: 0.9667 - val_precision: 0.9667 - val_recall: 0.9667 - val_auc: 0.9983\n",
      "Epoch 49/500\n",
      "12/12 [==============================] - 0s 5ms/step - loss: 0.3263 - accuracy: 0.8556 - precision: 0.8539 - recall: 0.8444 - auc: 0.9668 - val_loss: 0.2180 - val_accuracy: 1.0000 - val_precision: 1.0000 - val_recall: 1.0000 - val_auc: 1.0000\n",
      "Epoch 50/500\n",
      "12/12 [==============================] - 0s 6ms/step - loss: 0.3265 - accuracy: 0.9000 - precision: 0.9000 - recall: 0.9000 - auc: 0.9705 - val_loss: 0.2231 - val_accuracy: 0.9333 - val_precision: 0.9333 - val_recall: 0.9333 - val_auc: 0.9978\n",
      "Epoch 51/500\n",
      "12/12 [==============================] - 0s 6ms/step - loss: 0.3102 - accuracy: 0.8667 - precision: 0.8667 - recall: 0.8667 - auc: 0.9731 - val_loss: 0.2147 - val_accuracy: 1.0000 - val_precision: 1.0000 - val_recall: 1.0000 - val_auc: 1.0000\n",
      "Epoch 52/500\n",
      "12/12 [==============================] - 0s 5ms/step - loss: 0.2985 - accuracy: 0.8667 - precision: 0.8667 - recall: 0.8667 - auc: 0.9772 - val_loss: 0.2166 - val_accuracy: 0.9667 - val_precision: 0.9667 - val_recall: 0.9667 - val_auc: 0.9983\n",
      "Epoch 53/500\n",
      "12/12 [==============================] - 0s 5ms/step - loss: 0.2601 - accuracy: 0.8889 - precision: 0.8876 - recall: 0.8778 - auc: 0.9850 - val_loss: 0.2000 - val_accuracy: 0.9667 - val_precision: 0.9667 - val_recall: 0.9667 - val_auc: 0.9983\n",
      "Epoch 54/500\n",
      "12/12 [==============================] - 0s 5ms/step - loss: 0.2459 - accuracy: 0.9111 - precision: 0.9111 - recall: 0.9111 - auc: 0.9875 - val_loss: 0.2120 - val_accuracy: 0.9333 - val_precision: 0.9333 - val_recall: 0.9333 - val_auc: 0.9908\n",
      "Epoch 55/500\n",
      "12/12 [==============================] - 0s 5ms/step - loss: 0.2724 - accuracy: 0.8667 - precision: 0.8652 - recall: 0.8556 - auc: 0.9772 - val_loss: 0.1761 - val_accuracy: 1.0000 - val_precision: 1.0000 - val_recall: 1.0000 - val_auc: 1.0000\n",
      "Epoch 56/500\n",
      "12/12 [==============================] - 0s 6ms/step - loss: 0.2443 - accuracy: 0.9000 - precision: 0.9000 - recall: 0.9000 - auc: 0.9874 - val_loss: 0.1737 - val_accuracy: 0.9333 - val_precision: 0.9333 - val_recall: 0.9333 - val_auc: 0.9967\n",
      "Epoch 57/500\n",
      "12/12 [==============================] - 0s 5ms/step - loss: 0.3252 - accuracy: 0.8333 - precision: 0.8333 - recall: 0.8333 - auc: 0.9654 - val_loss: 0.1830 - val_accuracy: 0.9333 - val_precision: 0.9333 - val_recall: 0.9333 - val_auc: 0.9978\n",
      "Epoch 58/500\n",
      "12/12 [==============================] - 0s 5ms/step - loss: 0.2618 - accuracy: 0.8889 - precision: 0.8889 - recall: 0.8889 - auc: 0.9804 - val_loss: 0.1601 - val_accuracy: 1.0000 - val_precision: 1.0000 - val_recall: 1.0000 - val_auc: 0.9997\n",
      "Epoch 59/500\n",
      "12/12 [==============================] - 0s 6ms/step - loss: 0.1807 - accuracy: 0.9444 - precision: 0.9444 - recall: 0.9444 - auc: 0.9944 - val_loss: 0.1689 - val_accuracy: 0.9333 - val_precision: 0.9333 - val_recall: 0.9333 - val_auc: 0.9978\n",
      "Epoch 60/500\n",
      "12/12 [==============================] - 0s 5ms/step - loss: 0.1742 - accuracy: 0.9667 - precision: 0.9667 - recall: 0.9667 - auc: 0.9980 - val_loss: 0.1368 - val_accuracy: 0.9667 - val_precision: 0.9667 - val_recall: 0.9667 - val_auc: 0.9981\n",
      "Epoch 61/500\n",
      "12/12 [==============================] - 0s 5ms/step - loss: 0.2228 - accuracy: 0.8778 - precision: 0.8778 - recall: 0.8778 - auc: 0.9857 - val_loss: 0.1349 - val_accuracy: 0.9333 - val_precision: 0.9333 - val_recall: 0.9333 - val_auc: 0.9978\n",
      "Epoch 62/500\n",
      "12/12 [==============================] - 0s 5ms/step - loss: 0.2806 - accuracy: 0.9333 - precision: 0.9333 - recall: 0.9333 - auc: 0.9773 - val_loss: 0.1640 - val_accuracy: 0.9333 - val_precision: 0.9333 - val_recall: 0.9333 - val_auc: 0.9944\n",
      "Epoch 63/500\n",
      "12/12 [==============================] - 0s 6ms/step - loss: 0.1964 - accuracy: 0.9111 - precision: 0.9111 - recall: 0.9111 - auc: 0.9913 - val_loss: 0.1442 - val_accuracy: 0.9333 - val_precision: 0.9333 - val_recall: 0.9333 - val_auc: 0.9978\n",
      "Epoch 64/500\n",
      "12/12 [==============================] - 0s 6ms/step - loss: 0.1827 - accuracy: 0.9444 - precision: 0.9444 - recall: 0.9444 - auc: 0.9930 - val_loss: 0.1441 - val_accuracy: 0.9333 - val_precision: 0.9333 - val_recall: 0.9333 - val_auc: 0.9978\n",
      "Epoch 65/500\n",
      "12/12 [==============================] - 0s 6ms/step - loss: 0.2223 - accuracy: 0.9000 - precision: 0.9000 - recall: 0.9000 - auc: 0.9877 - val_loss: 0.1865 - val_accuracy: 0.9333 - val_precision: 0.9333 - val_recall: 0.9333 - val_auc: 0.9900\n",
      "Epoch 66/500\n",
      "12/12 [==============================] - 0s 6ms/step - loss: 0.1942 - accuracy: 0.9111 - precision: 0.9111 - recall: 0.9111 - auc: 0.9906 - val_loss: 0.1121 - val_accuracy: 1.0000 - val_precision: 1.0000 - val_recall: 1.0000 - val_auc: 1.0000\n",
      "Epoch 67/500\n",
      "12/12 [==============================] - 0s 6ms/step - loss: 0.1839 - accuracy: 0.9333 - precision: 0.9333 - recall: 0.9333 - auc: 0.9922 - val_loss: 0.1018 - val_accuracy: 1.0000 - val_precision: 1.0000 - val_recall: 1.0000 - val_auc: 1.0000\n",
      "Epoch 68/500\n",
      "12/12 [==============================] - 0s 6ms/step - loss: 0.2153 - accuracy: 0.9000 - precision: 0.9000 - recall: 0.9000 - auc: 0.9861 - val_loss: 0.1026 - val_accuracy: 1.0000 - val_precision: 1.0000 - val_recall: 1.0000 - val_auc: 1.0000\n",
      "Epoch 69/500\n",
      "12/12 [==============================] - 0s 6ms/step - loss: 0.1511 - accuracy: 0.9667 - precision: 0.9663 - recall: 0.9556 - auc: 0.9943 - val_loss: 0.1215 - val_accuracy: 0.9333 - val_precision: 0.9333 - val_recall: 0.9333 - val_auc: 0.9978\n",
      "Epoch 70/500\n",
      "12/12 [==============================] - 0s 6ms/step - loss: 0.1619 - accuracy: 0.9444 - precision: 0.9444 - recall: 0.9444 - auc: 0.9935 - val_loss: 0.1038 - val_accuracy: 0.9333 - val_precision: 0.9333 - val_recall: 0.9333 - val_auc: 0.9978\n",
      "Epoch 71/500\n",
      "12/12 [==============================] - 0s 5ms/step - loss: 0.1180 - accuracy: 0.9667 - precision: 0.9667 - recall: 0.9667 - auc: 0.9987 - val_loss: 0.1173 - val_accuracy: 0.9333 - val_precision: 0.9333 - val_recall: 0.9333 - val_auc: 0.9978\n",
      "Epoch 72/500\n",
      "12/12 [==============================] - 0s 6ms/step - loss: 0.1016 - accuracy: 0.9667 - precision: 0.9667 - recall: 0.9667 - auc: 0.9985 - val_loss: 0.0959 - val_accuracy: 0.9333 - val_precision: 0.9333 - val_recall: 0.9333 - val_auc: 0.9978\n",
      "Epoch 73/500\n",
      "12/12 [==============================] - 0s 6ms/step - loss: 0.2298 - accuracy: 0.9444 - precision: 0.9444 - recall: 0.9444 - auc: 0.9847 - val_loss: 0.1159 - val_accuracy: 0.9333 - val_precision: 0.9333 - val_recall: 0.9333 - val_auc: 0.9978\n",
      "Epoch 74/500\n",
      "12/12 [==============================] - 0s 6ms/step - loss: 0.0843 - accuracy: 0.9889 - precision: 0.9889 - recall: 0.9889 - auc: 0.9997 - val_loss: 0.0880 - val_accuracy: 0.9667 - val_precision: 0.9667 - val_recall: 0.9667 - val_auc: 0.9997\n",
      "Epoch 75/500\n",
      "12/12 [==============================] - 0s 6ms/step - loss: 0.1299 - accuracy: 0.9667 - precision: 0.9667 - recall: 0.9667 - auc: 0.9958 - val_loss: 0.1036 - val_accuracy: 0.9333 - val_precision: 0.9333 - val_recall: 0.9333 - val_auc: 0.9978\n",
      "Epoch 76/500\n",
      "12/12 [==============================] - 0s 6ms/step - loss: 0.1519 - accuracy: 0.9333 - precision: 0.9333 - recall: 0.9333 - auc: 0.9936 - val_loss: 0.1184 - val_accuracy: 0.9333 - val_precision: 0.9333 - val_recall: 0.9333 - val_auc: 0.9978\n",
      "Epoch 77/500\n",
      "12/12 [==============================] - 0s 6ms/step - loss: 0.1089 - accuracy: 0.9667 - precision: 0.9667 - recall: 0.9667 - auc: 0.9982 - val_loss: 0.0897 - val_accuracy: 0.9333 - val_precision: 0.9333 - val_recall: 0.9333 - val_auc: 0.9978\n",
      "Epoch 78/500\n",
      "12/12 [==============================] - 0s 7ms/step - loss: 0.1457 - accuracy: 0.9556 - precision: 0.9556 - recall: 0.9556 - auc: 0.9938 - val_loss: 0.1026 - val_accuracy: 0.9333 - val_precision: 0.9333 - val_recall: 0.9333 - val_auc: 0.9978\n",
      "Epoch 79/500\n",
      "12/12 [==============================] - 0s 6ms/step - loss: 0.1087 - accuracy: 0.9556 - precision: 0.9556 - recall: 0.9556 - auc: 0.9977 - val_loss: 0.1403 - val_accuracy: 0.9333 - val_precision: 0.9333 - val_recall: 0.9333 - val_auc: 0.9978\n",
      "Epoch 80/500\n",
      "12/12 [==============================] - 0s 6ms/step - loss: 0.1374 - accuracy: 0.9556 - precision: 0.9556 - recall: 0.9556 - auc: 0.9940 - val_loss: 0.0721 - val_accuracy: 1.0000 - val_precision: 1.0000 - val_recall: 1.0000 - val_auc: 1.0000\n",
      "Epoch 81/500\n",
      "12/12 [==============================] - 0s 6ms/step - loss: 0.1565 - accuracy: 0.9333 - precision: 0.9333 - recall: 0.9333 - auc: 0.9929 - val_loss: 0.0736 - val_accuracy: 1.0000 - val_precision: 1.0000 - val_recall: 1.0000 - val_auc: 1.0000\n",
      "Epoch 82/500\n",
      "12/12 [==============================] - 0s 8ms/step - loss: 0.1455 - accuracy: 0.9444 - precision: 0.9444 - recall: 0.9444 - auc: 0.9922 - val_loss: 0.0845 - val_accuracy: 0.9333 - val_precision: 0.9333 - val_recall: 0.9333 - val_auc: 0.9978\n",
      "Epoch 83/500\n",
      "12/12 [==============================] - 0s 6ms/step - loss: 0.1246 - accuracy: 0.9444 - precision: 0.9444 - recall: 0.9444 - auc: 0.9961 - val_loss: 0.1905 - val_accuracy: 0.9333 - val_precision: 0.9333 - val_recall: 0.9333 - val_auc: 0.9914\n",
      "Epoch 84/500\n",
      "12/12 [==============================] - 0s 5ms/step - loss: 0.1181 - accuracy: 0.9667 - precision: 0.9667 - recall: 0.9667 - auc: 0.9948 - val_loss: 0.0759 - val_accuracy: 0.9667 - val_precision: 0.9667 - val_recall: 0.9667 - val_auc: 0.9983\n",
      "Epoch 85/500\n",
      "12/12 [==============================] - 0s 6ms/step - loss: 0.0541 - accuracy: 0.9889 - precision: 0.9889 - recall: 0.9889 - auc: 0.9999 - val_loss: 0.0735 - val_accuracy: 1.0000 - val_precision: 1.0000 - val_recall: 1.0000 - val_auc: 1.0000\n",
      "Epoch 86/500\n",
      "12/12 [==============================] - 0s 5ms/step - loss: 0.1124 - accuracy: 0.9556 - precision: 0.9556 - recall: 0.9556 - auc: 0.9961 - val_loss: 0.2927 - val_accuracy: 0.9000 - val_precision: 0.9000 - val_recall: 0.9000 - val_auc: 0.9828\n",
      "Epoch 87/500\n",
      "12/12 [==============================] - 0s 6ms/step - loss: 0.0924 - accuracy: 0.9556 - precision: 0.9556 - recall: 0.9556 - auc: 0.9979 - val_loss: 0.1664 - val_accuracy: 0.9333 - val_precision: 0.9333 - val_recall: 0.9333 - val_auc: 0.9939\n",
      "Epoch 88/500\n",
      "12/12 [==============================] - 0s 6ms/step - loss: 0.1917 - accuracy: 0.9111 - precision: 0.9111 - recall: 0.9111 - auc: 0.9889 - val_loss: 0.0723 - val_accuracy: 0.9333 - val_precision: 0.9333 - val_recall: 0.9333 - val_auc: 0.9978\n",
      "Epoch 89/500\n",
      "12/12 [==============================] - 0s 6ms/step - loss: 0.1492 - accuracy: 0.9111 - precision: 0.9111 - recall: 0.9111 - auc: 0.9940 - val_loss: 0.0716 - val_accuracy: 0.9667 - val_precision: 0.9667 - val_recall: 0.9667 - val_auc: 0.9983\n",
      "Epoch 90/500\n",
      "12/12 [==============================] - 0s 6ms/step - loss: 0.1193 - accuracy: 0.9667 - precision: 0.9667 - recall: 0.9667 - auc: 0.9943 - val_loss: 0.1198 - val_accuracy: 0.9333 - val_precision: 0.9333 - val_recall: 0.9333 - val_auc: 0.9978\n",
      "Epoch 91/500\n",
      "12/12 [==============================] - 0s 6ms/step - loss: 0.1636 - accuracy: 0.9556 - precision: 0.9556 - recall: 0.9556 - auc: 0.9869 - val_loss: 0.0726 - val_accuracy: 0.9667 - val_precision: 0.9667 - val_recall: 0.9667 - val_auc: 0.9994\n",
      "Epoch 92/500\n",
      "12/12 [==============================] - 0s 6ms/step - loss: 0.1078 - accuracy: 0.9667 - precision: 0.9667 - recall: 0.9667 - auc: 0.9972 - val_loss: 0.0745 - val_accuracy: 1.0000 - val_precision: 1.0000 - val_recall: 1.0000 - val_auc: 1.0000\n",
      "Epoch 93/500\n",
      "12/12 [==============================] - 0s 6ms/step - loss: 0.1763 - accuracy: 0.9556 - precision: 0.9556 - recall: 0.9556 - auc: 0.9890 - val_loss: 0.0769 - val_accuracy: 0.9333 - val_precision: 0.9333 - val_recall: 0.9333 - val_auc: 0.9978\n",
      "Epoch 94/500\n",
      "12/12 [==============================] - 0s 5ms/step - loss: 0.0637 - accuracy: 0.9889 - precision: 0.9889 - recall: 0.9889 - auc: 0.9998 - val_loss: 0.1234 - val_accuracy: 0.9333 - val_precision: 0.9333 - val_recall: 0.9333 - val_auc: 0.9978\n",
      "Epoch 95/500\n",
      "12/12 [==============================] - 0s 6ms/step - loss: 0.1149 - accuracy: 0.9667 - precision: 0.9667 - recall: 0.9667 - auc: 0.9956 - val_loss: 0.0790 - val_accuracy: 0.9333 - val_precision: 0.9333 - val_recall: 0.9333 - val_auc: 0.9978\n",
      "Epoch 96/500\n",
      "12/12 [==============================] - 0s 6ms/step - loss: 0.1132 - accuracy: 0.9778 - precision: 0.9778 - recall: 0.9778 - auc: 0.9954 - val_loss: 0.0897 - val_accuracy: 0.9333 - val_precision: 0.9333 - val_recall: 0.9333 - val_auc: 0.9978\n",
      "Epoch 97/500\n",
      "12/12 [==============================] - 0s 6ms/step - loss: 0.0639 - accuracy: 0.9889 - precision: 0.9889 - recall: 0.9889 - auc: 0.9987 - val_loss: 0.0814 - val_accuracy: 0.9333 - val_precision: 0.9333 - val_recall: 0.9333 - val_auc: 0.9978\n",
      "Epoch 98/500\n",
      "12/12 [==============================] - 0s 6ms/step - loss: 0.1194 - accuracy: 0.9556 - precision: 0.9556 - recall: 0.9556 - auc: 0.9951 - val_loss: 0.2145 - val_accuracy: 0.9333 - val_precision: 0.9333 - val_recall: 0.9333 - val_auc: 0.9911\n",
      "Epoch 99/500\n",
      "12/12 [==============================] - 0s 5ms/step - loss: 0.1922 - accuracy: 0.9667 - precision: 0.9667 - recall: 0.9667 - auc: 0.9834 - val_loss: 0.0838 - val_accuracy: 0.9667 - val_precision: 0.9667 - val_recall: 0.9667 - val_auc: 0.9983\n",
      "Epoch 100/500\n",
      "12/12 [==============================] - 0s 6ms/step - loss: 0.1545 - accuracy: 0.9333 - precision: 0.9333 - recall: 0.9333 - auc: 0.9938 - val_loss: 0.1122 - val_accuracy: 0.9333 - val_precision: 0.9333 - val_recall: 0.9333 - val_auc: 0.9978\n",
      "Epoch 101/500\n",
      "12/12 [==============================] - 0s 6ms/step - loss: 0.1649 - accuracy: 0.9667 - precision: 0.9667 - recall: 0.9667 - auc: 0.9842 - val_loss: 0.0843 - val_accuracy: 0.9667 - val_precision: 0.9667 - val_recall: 0.9667 - val_auc: 0.9983\n",
      "Epoch 102/500\n",
      "12/12 [==============================] - 0s 6ms/step - loss: 0.1174 - accuracy: 0.9778 - precision: 0.9778 - recall: 0.9778 - auc: 0.9968 - val_loss: 0.0841 - val_accuracy: 1.0000 - val_precision: 1.0000 - val_recall: 1.0000 - val_auc: 1.0000\n",
      "Epoch 103/500\n",
      "12/12 [==============================] - 0s 5ms/step - loss: 0.1294 - accuracy: 0.9556 - precision: 0.9556 - recall: 0.9556 - auc: 0.9956 - val_loss: 0.0907 - val_accuracy: 0.9333 - val_precision: 0.9333 - val_recall: 0.9333 - val_auc: 0.9978\n",
      "Epoch 104/500\n",
      "12/12 [==============================] - 0s 6ms/step - loss: 0.1373 - accuracy: 0.9444 - precision: 0.9444 - recall: 0.9444 - auc: 0.9966 - val_loss: 0.1147 - val_accuracy: 0.9333 - val_precision: 0.9333 - val_recall: 0.9333 - val_auc: 0.9978\n",
      "Epoch 105/500\n",
      "12/12 [==============================] - 0s 6ms/step - loss: 0.2589 - accuracy: 0.9444 - precision: 0.9444 - recall: 0.9444 - auc: 0.9747 - val_loss: 0.0912 - val_accuracy: 0.9333 - val_precision: 0.9333 - val_recall: 0.9333 - val_auc: 0.9978\n",
      "Epoch 106/500\n",
      "12/12 [==============================] - 0s 6ms/step - loss: 0.1368 - accuracy: 0.9667 - precision: 0.9667 - recall: 0.9667 - auc: 0.9944 - val_loss: 0.0754 - val_accuracy: 1.0000 - val_precision: 1.0000 - val_recall: 1.0000 - val_auc: 1.0000\n",
      "Epoch 107/500\n",
      "12/12 [==============================] - 0s 7ms/step - loss: 0.1354 - accuracy: 0.9444 - precision: 0.9444 - recall: 0.9444 - auc: 0.9957 - val_loss: 0.1317 - val_accuracy: 0.9333 - val_precision: 0.9333 - val_recall: 0.9333 - val_auc: 0.9978\n",
      "Epoch 108/500\n",
      "12/12 [==============================] - 0s 6ms/step - loss: 0.1230 - accuracy: 0.9556 - precision: 0.9556 - recall: 0.9556 - auc: 0.9947 - val_loss: 0.0950 - val_accuracy: 0.9333 - val_precision: 0.9333 - val_recall: 0.9333 - val_auc: 0.9978\n",
      "Epoch 109/500\n",
      "12/12 [==============================] - 0s 6ms/step - loss: 0.1217 - accuracy: 0.9444 - precision: 0.9444 - recall: 0.9444 - auc: 0.9959 - val_loss: 0.0789 - val_accuracy: 0.9333 - val_precision: 0.9333 - val_recall: 0.9333 - val_auc: 0.9978\n",
      "Epoch 110/500\n",
      "12/12 [==============================] - 0s 6ms/step - loss: 0.0864 - accuracy: 0.9778 - precision: 0.9778 - recall: 0.9778 - auc: 0.9969 - val_loss: 0.0782 - val_accuracy: 0.9333 - val_precision: 0.9333 - val_recall: 0.9333 - val_auc: 0.9978\n",
      "Epoch 111/500\n",
      "12/12 [==============================] - 0s 6ms/step - loss: 0.0706 - accuracy: 0.9667 - precision: 0.9667 - recall: 0.9667 - auc: 0.9992 - val_loss: 0.1056 - val_accuracy: 0.9333 - val_precision: 0.9333 - val_recall: 0.9333 - val_auc: 0.9978\n",
      "Epoch 112/500\n",
      "12/12 [==============================] - 0s 5ms/step - loss: 0.1055 - accuracy: 0.9889 - precision: 0.9889 - recall: 0.9889 - auc: 0.9945 - val_loss: 0.1313 - val_accuracy: 0.9333 - val_precision: 0.9333 - val_recall: 0.9333 - val_auc: 0.9978\n",
      "Epoch 113/500\n",
      "12/12 [==============================] - 0s 5ms/step - loss: 0.1217 - accuracy: 0.9667 - precision: 0.9667 - recall: 0.9667 - auc: 0.9942 - val_loss: 0.1475 - val_accuracy: 0.9333 - val_precision: 0.9333 - val_recall: 0.9333 - val_auc: 0.9978\n",
      "Epoch 114/500\n",
      "12/12 [==============================] - 0s 5ms/step - loss: 0.1025 - accuracy: 0.9667 - precision: 0.9667 - recall: 0.9667 - auc: 0.9961 - val_loss: 0.1482 - val_accuracy: 0.9333 - val_precision: 0.9333 - val_recall: 0.9333 - val_auc: 0.9978\n",
      "Epoch 115/500\n",
      "12/12 [==============================] - 0s 6ms/step - loss: 0.0714 - accuracy: 0.9778 - precision: 0.9778 - recall: 0.9778 - auc: 0.9991 - val_loss: 0.1060 - val_accuracy: 0.9333 - val_precision: 0.9333 - val_recall: 0.9333 - val_auc: 0.9978\n",
      "Epoch 116/500\n",
      "12/12 [==============================] - 0s 6ms/step - loss: 0.0962 - accuracy: 0.9778 - precision: 0.9778 - recall: 0.9778 - auc: 0.9948 - val_loss: 0.0935 - val_accuracy: 0.9333 - val_precision: 0.9333 - val_recall: 0.9333 - val_auc: 0.9978\n",
      "Epoch 117/500\n",
      "12/12 [==============================] - 0s 7ms/step - loss: 0.1565 - accuracy: 0.9556 - precision: 0.9556 - recall: 0.9556 - auc: 0.9907 - val_loss: 0.0590 - val_accuracy: 1.0000 - val_precision: 1.0000 - val_recall: 1.0000 - val_auc: 1.0000\n",
      "Epoch 118/500\n",
      "12/12 [==============================] - 0s 7ms/step - loss: 0.0501 - accuracy: 0.9889 - precision: 0.9889 - recall: 0.9889 - auc: 0.9997 - val_loss: 0.1008 - val_accuracy: 0.9333 - val_precision: 0.9333 - val_recall: 0.9333 - val_auc: 0.9978\n",
      "Epoch 119/500\n",
      "12/12 [==============================] - 0s 6ms/step - loss: 0.1205 - accuracy: 0.9778 - precision: 0.9778 - recall: 0.9778 - auc: 0.9889 - val_loss: 0.1544 - val_accuracy: 0.9333 - val_precision: 0.9333 - val_recall: 0.9333 - val_auc: 0.9978\n",
      "Epoch 120/500\n",
      "12/12 [==============================] - 0s 6ms/step - loss: 0.1082 - accuracy: 0.9778 - precision: 0.9778 - recall: 0.9778 - auc: 0.9953 - val_loss: 0.1453 - val_accuracy: 0.9333 - val_precision: 0.9333 - val_recall: 0.9333 - val_auc: 0.9978\n",
      "Epoch 121/500\n",
      "12/12 [==============================] - 0s 6ms/step - loss: 0.0691 - accuracy: 0.9778 - precision: 0.9778 - recall: 0.9778 - auc: 0.9992 - val_loss: 0.1324 - val_accuracy: 0.9333 - val_precision: 0.9333 - val_recall: 0.9333 - val_auc: 0.9978\n",
      "Epoch 122/500\n",
      "12/12 [==============================] - 0s 6ms/step - loss: 0.1062 - accuracy: 0.9667 - precision: 0.9667 - recall: 0.9667 - auc: 0.9953 - val_loss: 0.1336 - val_accuracy: 0.9333 - val_precision: 0.9333 - val_recall: 0.9333 - val_auc: 0.9978\n",
      "Epoch 123/500\n",
      "12/12 [==============================] - 0s 6ms/step - loss: 0.1163 - accuracy: 0.9556 - precision: 0.9556 - recall: 0.9556 - auc: 0.9939 - val_loss: 0.0776 - val_accuracy: 0.9333 - val_precision: 0.9333 - val_recall: 0.9333 - val_auc: 0.9978\n",
      "Epoch 124/500\n",
      "12/12 [==============================] - 0s 6ms/step - loss: 0.1594 - accuracy: 0.9444 - precision: 0.9438 - recall: 0.9333 - auc: 0.9864 - val_loss: 0.1641 - val_accuracy: 0.9333 - val_precision: 0.9333 - val_recall: 0.9333 - val_auc: 0.9933\n",
      "Epoch 125/500\n",
      "12/12 [==============================] - 0s 6ms/step - loss: 0.1443 - accuracy: 0.9444 - precision: 0.9444 - recall: 0.9444 - auc: 0.9947 - val_loss: 0.2281 - val_accuracy: 0.9333 - val_precision: 0.9333 - val_recall: 0.9333 - val_auc: 0.9872\n",
      "Epoch 126/500\n",
      "12/12 [==============================] - 0s 6ms/step - loss: 0.1246 - accuracy: 0.9444 - precision: 0.9444 - recall: 0.9444 - auc: 0.9949 - val_loss: 0.1277 - val_accuracy: 0.9333 - val_precision: 0.9333 - val_recall: 0.9333 - val_auc: 0.9978\n",
      "Epoch 127/500\n",
      "12/12 [==============================] - 0s 6ms/step - loss: 0.0966 - accuracy: 0.9778 - precision: 0.9778 - recall: 0.9778 - auc: 0.9963 - val_loss: 0.0599 - val_accuracy: 1.0000 - val_precision: 1.0000 - val_recall: 1.0000 - val_auc: 1.0000\n",
      "Epoch 128/500\n",
      "12/12 [==============================] - 0s 7ms/step - loss: 0.0637 - accuracy: 0.9889 - precision: 0.9889 - recall: 0.9889 - auc: 0.9993 - val_loss: 0.1024 - val_accuracy: 0.9333 - val_precision: 0.9333 - val_recall: 0.9333 - val_auc: 0.9978\n",
      "Epoch 129/500\n",
      "12/12 [==============================] - 0s 6ms/step - loss: 0.0671 - accuracy: 0.9667 - precision: 0.9667 - recall: 0.9667 - auc: 0.9990 - val_loss: 0.1199 - val_accuracy: 0.9333 - val_precision: 0.9333 - val_recall: 0.9333 - val_auc: 0.9978\n",
      "Epoch 130/500\n",
      "12/12 [==============================] - 0s 6ms/step - loss: 0.0409 - accuracy: 0.9889 - precision: 0.9889 - recall: 0.9889 - auc: 0.9998 - val_loss: 0.1209 - val_accuracy: 0.9333 - val_precision: 0.9333 - val_recall: 0.9333 - val_auc: 0.9978\n",
      "Epoch 131/500\n",
      "12/12 [==============================] - 0s 6ms/step - loss: 0.0807 - accuracy: 0.9778 - precision: 0.9778 - recall: 0.9778 - auc: 0.9978 - val_loss: 0.1696 - val_accuracy: 0.9333 - val_precision: 0.9333 - val_recall: 0.9333 - val_auc: 0.9978\n",
      "Epoch 132/500\n",
      "12/12 [==============================] - 0s 6ms/step - loss: 0.0986 - accuracy: 0.9556 - precision: 0.9556 - recall: 0.9556 - auc: 0.9975 - val_loss: 0.1654 - val_accuracy: 0.9333 - val_precision: 0.9333 - val_recall: 0.9333 - val_auc: 0.9978\n",
      "Epoch 133/500\n",
      "12/12 [==============================] - 0s 6ms/step - loss: 0.0792 - accuracy: 0.9778 - precision: 0.9778 - recall: 0.9778 - auc: 0.9983 - val_loss: 0.1259 - val_accuracy: 0.9333 - val_precision: 0.9333 - val_recall: 0.9333 - val_auc: 0.9978\n",
      "Epoch 134/500\n",
      "12/12 [==============================] - 0s 5ms/step - loss: 0.1016 - accuracy: 0.9667 - precision: 0.9667 - recall: 0.9667 - auc: 0.9970 - val_loss: 0.1132 - val_accuracy: 0.9333 - val_precision: 0.9333 - val_recall: 0.9333 - val_auc: 0.9978\n",
      "Epoch 135/500\n",
      "12/12 [==============================] - 0s 5ms/step - loss: 0.0530 - accuracy: 0.9889 - precision: 0.9889 - recall: 0.9889 - auc: 0.9995 - val_loss: 0.1556 - val_accuracy: 0.9333 - val_precision: 0.9333 - val_recall: 0.9333 - val_auc: 0.9978\n",
      "Epoch 136/500\n",
      "12/12 [==============================] - 0s 5ms/step - loss: 0.1123 - accuracy: 0.9667 - precision: 0.9667 - recall: 0.9667 - auc: 0.9893 - val_loss: 0.0478 - val_accuracy: 1.0000 - val_precision: 1.0000 - val_recall: 1.0000 - val_auc: 1.0000\n",
      "Epoch 137/500\n",
      "12/12 [==============================] - 0s 6ms/step - loss: 0.1029 - accuracy: 0.9667 - precision: 0.9667 - recall: 0.9667 - auc: 0.9956 - val_loss: 0.1090 - val_accuracy: 0.9333 - val_precision: 0.9333 - val_recall: 0.9333 - val_auc: 0.9978\n",
      "Epoch 138/500\n",
      "12/12 [==============================] - 0s 6ms/step - loss: 0.1482 - accuracy: 0.9778 - precision: 0.9778 - recall: 0.9778 - auc: 0.9887 - val_loss: 0.1460 - val_accuracy: 0.9333 - val_precision: 0.9333 - val_recall: 0.9333 - val_auc: 0.9978\n",
      "Epoch 139/500\n",
      "12/12 [==============================] - 0s 7ms/step - loss: 0.1229 - accuracy: 0.9667 - precision: 0.9667 - recall: 0.9667 - auc: 0.9923 - val_loss: 0.1177 - val_accuracy: 0.9333 - val_precision: 0.9333 - val_recall: 0.9333 - val_auc: 0.9978\n",
      "Epoch 140/500\n",
      "12/12 [==============================] - 0s 6ms/step - loss: 0.0914 - accuracy: 0.9778 - precision: 0.9778 - recall: 0.9778 - auc: 0.9973 - val_loss: 0.0677 - val_accuracy: 1.0000 - val_precision: 1.0000 - val_recall: 1.0000 - val_auc: 1.0000\n",
      "Epoch 141/500\n",
      "12/12 [==============================] - 0s 6ms/step - loss: 0.0876 - accuracy: 0.9778 - precision: 0.9778 - recall: 0.9778 - auc: 0.9980 - val_loss: 0.0906 - val_accuracy: 0.9333 - val_precision: 0.9333 - val_recall: 0.9333 - val_auc: 0.9978\n",
      "Epoch 142/500\n",
      "12/12 [==============================] - 0s 6ms/step - loss: 0.0642 - accuracy: 0.9778 - precision: 0.9778 - recall: 0.9778 - auc: 0.9988 - val_loss: 0.1281 - val_accuracy: 0.9333 - val_precision: 0.9333 - val_recall: 0.9333 - val_auc: 0.9978\n",
      "Epoch 143/500\n",
      "12/12 [==============================] - 0s 6ms/step - loss: 0.0411 - accuracy: 0.9889 - precision: 0.9889 - recall: 0.9889 - auc: 0.9999 - val_loss: 0.1249 - val_accuracy: 0.9333 - val_precision: 0.9333 - val_recall: 0.9333 - val_auc: 0.9978\n",
      "Epoch 144/500\n",
      "12/12 [==============================] - 0s 6ms/step - loss: 0.0760 - accuracy: 0.9889 - precision: 0.9889 - recall: 0.9889 - auc: 0.9979 - val_loss: 0.1756 - val_accuracy: 0.9333 - val_precision: 0.9333 - val_recall: 0.9333 - val_auc: 0.9978\n",
      "Epoch 145/500\n",
      "12/12 [==============================] - 0s 6ms/step - loss: 0.0923 - accuracy: 0.9556 - precision: 0.9556 - recall: 0.9556 - auc: 0.9972 - val_loss: 0.1405 - val_accuracy: 0.9333 - val_precision: 0.9333 - val_recall: 0.9333 - val_auc: 0.9978\n",
      "Epoch 146/500\n",
      "12/12 [==============================] - 0s 6ms/step - loss: 0.0620 - accuracy: 0.9778 - precision: 0.9778 - recall: 0.9778 - auc: 0.9989 - val_loss: 0.1562 - val_accuracy: 0.9333 - val_precision: 0.9333 - val_recall: 0.9333 - val_auc: 0.9978\n",
      "Epoch 147/500\n",
      "12/12 [==============================] - 0s 6ms/step - loss: 0.1123 - accuracy: 0.9778 - precision: 0.9778 - recall: 0.9778 - auc: 0.9943 - val_loss: 0.1729 - val_accuracy: 0.9333 - val_precision: 0.9333 - val_recall: 0.9333 - val_auc: 0.9978\n",
      "Epoch 148/500\n",
      "12/12 [==============================] - 0s 5ms/step - loss: 0.1044 - accuracy: 0.9556 - precision: 0.9556 - recall: 0.9556 - auc: 0.9973 - val_loss: 0.0859 - val_accuracy: 0.9333 - val_precision: 0.9333 - val_recall: 0.9333 - val_auc: 0.9978\n",
      "Epoch 149/500\n",
      "12/12 [==============================] - 0s 6ms/step - loss: 0.0904 - accuracy: 0.9667 - precision: 0.9667 - recall: 0.9667 - auc: 0.9981 - val_loss: 0.1199 - val_accuracy: 0.9333 - val_precision: 0.9333 - val_recall: 0.9333 - val_auc: 0.9978\n",
      "Epoch 150/500\n",
      "12/12 [==============================] - 0s 7ms/step - loss: 0.0611 - accuracy: 0.9889 - precision: 0.9889 - recall: 0.9889 - auc: 0.9994 - val_loss: 0.2068 - val_accuracy: 0.9333 - val_precision: 0.9333 - val_recall: 0.9333 - val_auc: 0.9944\n",
      "Epoch 151/500\n",
      "12/12 [==============================] - 0s 6ms/step - loss: 0.1057 - accuracy: 0.9667 - precision: 0.9667 - recall: 0.9667 - auc: 0.9959 - val_loss: 0.1981 - val_accuracy: 0.9333 - val_precision: 0.9333 - val_recall: 0.9333 - val_auc: 0.9956\n",
      "Epoch 152/500\n",
      "12/12 [==============================] - 0s 6ms/step - loss: 0.1120 - accuracy: 0.9667 - precision: 0.9667 - recall: 0.9667 - auc: 0.9962 - val_loss: 0.1635 - val_accuracy: 0.9333 - val_precision: 0.9333 - val_recall: 0.9333 - val_auc: 0.9978\n",
      "Epoch 153/500\n",
      "12/12 [==============================] - 0s 6ms/step - loss: 0.1198 - accuracy: 0.9556 - precision: 0.9556 - recall: 0.9556 - auc: 0.9954 - val_loss: 0.1707 - val_accuracy: 0.9333 - val_precision: 0.9333 - val_recall: 0.9333 - val_auc: 0.9967\n",
      "Epoch 154/500\n",
      "12/12 [==============================] - 0s 6ms/step - loss: 0.0928 - accuracy: 0.9778 - precision: 0.9778 - recall: 0.9778 - auc: 0.9967 - val_loss: 0.1252 - val_accuracy: 0.9333 - val_precision: 0.9333 - val_recall: 0.9333 - val_auc: 0.9978\n",
      "Epoch 155/500\n",
      "12/12 [==============================] - 0s 6ms/step - loss: 0.0548 - accuracy: 0.9889 - precision: 0.9889 - recall: 0.9889 - auc: 0.9991 - val_loss: 0.1367 - val_accuracy: 0.9333 - val_precision: 0.9333 - val_recall: 0.9333 - val_auc: 0.9978\n",
      "Epoch 156/500\n",
      "12/12 [==============================] - 0s 6ms/step - loss: 0.0506 - accuracy: 0.9889 - precision: 0.9889 - recall: 0.9889 - auc: 0.9996 - val_loss: 0.1326 - val_accuracy: 0.9333 - val_precision: 0.9333 - val_recall: 0.9333 - val_auc: 0.9978\n",
      "Epoch 157/500\n",
      "12/12 [==============================] - 0s 6ms/step - loss: 0.0355 - accuracy: 1.0000 - precision: 1.0000 - recall: 1.0000 - auc: 1.0000 - val_loss: 0.1541 - val_accuracy: 0.9333 - val_precision: 0.9333 - val_recall: 0.9333 - val_auc: 0.9978\n",
      "Epoch 158/500\n",
      "12/12 [==============================] - 0s 6ms/step - loss: 0.0643 - accuracy: 0.9778 - precision: 0.9778 - recall: 0.9778 - auc: 0.9989 - val_loss: 0.1257 - val_accuracy: 0.9333 - val_precision: 0.9333 - val_recall: 0.9333 - val_auc: 0.9978\n",
      "Epoch 159/500\n",
      "12/12 [==============================] - 0s 6ms/step - loss: 0.1201 - accuracy: 0.9667 - precision: 0.9667 - recall: 0.9667 - auc: 0.9962 - val_loss: 0.0493 - val_accuracy: 1.0000 - val_precision: 1.0000 - val_recall: 1.0000 - val_auc: 1.0000\n",
      "Epoch 160/500\n",
      "12/12 [==============================] - 0s 6ms/step - loss: 0.0297 - accuracy: 0.9889 - precision: 0.9889 - recall: 0.9889 - auc: 0.9999 - val_loss: 0.1440 - val_accuracy: 0.9333 - val_precision: 0.9333 - val_recall: 0.9333 - val_auc: 0.9978\n",
      "Epoch 161/500\n",
      "12/12 [==============================] - 0s 6ms/step - loss: 0.0639 - accuracy: 0.9778 - precision: 0.9778 - recall: 0.9778 - auc: 0.9994 - val_loss: 0.2039 - val_accuracy: 0.9333 - val_precision: 0.9333 - val_recall: 0.9333 - val_auc: 0.9967\n",
      "Epoch 162/500\n",
      "12/12 [==============================] - 0s 6ms/step - loss: 0.1250 - accuracy: 0.9778 - precision: 0.9778 - recall: 0.9778 - auc: 0.9888 - val_loss: 0.1343 - val_accuracy: 0.9333 - val_precision: 0.9333 - val_recall: 0.9333 - val_auc: 0.9978\n",
      "Epoch 163/500\n",
      "12/12 [==============================] - 0s 6ms/step - loss: 0.1147 - accuracy: 0.9667 - precision: 0.9667 - recall: 0.9667 - auc: 0.9958 - val_loss: 0.1088 - val_accuracy: 0.9333 - val_precision: 0.9333 - val_recall: 0.9333 - val_auc: 0.9978\n",
      "Epoch 164/500\n",
      "12/12 [==============================] - 0s 6ms/step - loss: 0.1265 - accuracy: 0.9444 - precision: 0.9444 - recall: 0.9444 - auc: 0.9968 - val_loss: 0.0787 - val_accuracy: 0.9333 - val_precision: 0.9333 - val_recall: 0.9333 - val_auc: 0.9978\n",
      "Epoch 165/500\n",
      "12/12 [==============================] - 0s 6ms/step - loss: 0.0496 - accuracy: 0.9889 - precision: 0.9889 - recall: 0.9889 - auc: 0.9994 - val_loss: 0.1049 - val_accuracy: 0.9333 - val_precision: 0.9333 - val_recall: 0.9333 - val_auc: 0.9978\n",
      "Epoch 166/500\n",
      "12/12 [==============================] - 0s 6ms/step - loss: 0.0485 - accuracy: 0.9889 - precision: 0.9889 - recall: 0.9889 - auc: 0.9998 - val_loss: 0.1280 - val_accuracy: 0.9333 - val_precision: 0.9333 - val_recall: 0.9333 - val_auc: 0.9978\n",
      "Epoch 167/500\n",
      "12/12 [==============================] - 0s 6ms/step - loss: 0.0568 - accuracy: 0.9889 - precision: 0.9889 - recall: 0.9889 - auc: 0.9990 - val_loss: 0.1385 - val_accuracy: 0.9333 - val_precision: 0.9333 - val_recall: 0.9333 - val_auc: 0.9978\n",
      "Epoch 168/500\n",
      "12/12 [==============================] - 0s 6ms/step - loss: 0.0353 - accuracy: 0.9889 - precision: 0.9889 - recall: 0.9889 - auc: 0.9998 - val_loss: 0.1451 - val_accuracy: 0.9333 - val_precision: 0.9333 - val_recall: 0.9333 - val_auc: 0.9978\n",
      "Epoch 169/500\n",
      "12/12 [==============================] - 0s 7ms/step - loss: 0.0566 - accuracy: 0.9778 - precision: 0.9778 - recall: 0.9778 - auc: 0.9991 - val_loss: 0.1388 - val_accuracy: 0.9333 - val_precision: 0.9333 - val_recall: 0.9333 - val_auc: 0.9978\n",
      "Epoch 170/500\n",
      "12/12 [==============================] - 0s 6ms/step - loss: 0.0966 - accuracy: 0.9778 - precision: 0.9778 - recall: 0.9778 - auc: 0.9891 - val_loss: 0.0806 - val_accuracy: 0.9333 - val_precision: 0.9333 - val_recall: 0.9333 - val_auc: 0.9978\n",
      "Epoch 171/500\n",
      "12/12 [==============================] - 0s 6ms/step - loss: 0.0681 - accuracy: 0.9778 - precision: 0.9778 - recall: 0.9778 - auc: 0.9988 - val_loss: 0.1297 - val_accuracy: 0.9333 - val_precision: 0.9333 - val_recall: 0.9333 - val_auc: 0.9978\n",
      "Epoch 172/500\n",
      "12/12 [==============================] - 0s 6ms/step - loss: 0.0641 - accuracy: 0.9889 - precision: 0.9889 - recall: 0.9889 - auc: 0.9983 - val_loss: 0.1578 - val_accuracy: 0.9333 - val_precision: 0.9333 - val_recall: 0.9333 - val_auc: 0.9978\n",
      "Epoch 173/500\n",
      "12/12 [==============================] - 0s 6ms/step - loss: 0.1301 - accuracy: 0.9667 - precision: 0.9663 - recall: 0.9556 - auc: 0.9883 - val_loss: 0.1474 - val_accuracy: 0.9333 - val_precision: 0.9333 - val_recall: 0.9333 - val_auc: 0.9978\n",
      "Epoch 174/500\n",
      "12/12 [==============================] - 0s 6ms/step - loss: 0.0631 - accuracy: 0.9778 - precision: 0.9778 - recall: 0.9778 - auc: 0.9989 - val_loss: 0.0845 - val_accuracy: 0.9667 - val_precision: 0.9667 - val_recall: 0.9667 - val_auc: 0.9983\n",
      "Epoch 175/500\n",
      "12/12 [==============================] - 0s 6ms/step - loss: 0.0537 - accuracy: 0.9889 - precision: 0.9889 - recall: 0.9889 - auc: 0.9988 - val_loss: 0.1088 - val_accuracy: 0.9333 - val_precision: 0.9333 - val_recall: 0.9333 - val_auc: 0.9978\n",
      "Epoch 176/500\n",
      "12/12 [==============================] - 0s 6ms/step - loss: 0.0899 - accuracy: 0.9778 - precision: 0.9778 - recall: 0.9778 - auc: 0.9970 - val_loss: 0.1386 - val_accuracy: 0.9333 - val_precision: 0.9333 - val_recall: 0.9333 - val_auc: 0.9978\n",
      "Epoch 177/500\n",
      "12/12 [==============================] - 0s 5ms/step - loss: 0.1041 - accuracy: 0.9889 - precision: 0.9889 - recall: 0.9889 - auc: 0.9891 - val_loss: 0.1380 - val_accuracy: 0.9333 - val_precision: 0.9333 - val_recall: 0.9333 - val_auc: 0.9978\n",
      "Epoch 178/500\n",
      "12/12 [==============================] - 0s 6ms/step - loss: 0.0372 - accuracy: 0.9889 - precision: 0.9889 - recall: 0.9889 - auc: 0.9999 - val_loss: 0.1081 - val_accuracy: 0.9333 - val_precision: 0.9333 - val_recall: 0.9333 - val_auc: 0.9978\n",
      "Epoch 179/500\n",
      "12/12 [==============================] - 0s 7ms/step - loss: 0.0822 - accuracy: 0.9556 - precision: 0.9556 - recall: 0.9556 - auc: 0.9986 - val_loss: 0.1321 - val_accuracy: 0.9333 - val_precision: 0.9333 - val_recall: 0.9333 - val_auc: 0.9978\n",
      "Epoch 180/500\n",
      "12/12 [==============================] - 0s 7ms/step - loss: 0.0598 - accuracy: 0.9889 - precision: 0.9889 - recall: 0.9889 - auc: 0.9990 - val_loss: 0.1230 - val_accuracy: 0.9333 - val_precision: 0.9333 - val_recall: 0.9333 - val_auc: 0.9978\n",
      "Epoch 181/500\n",
      "12/12 [==============================] - 0s 6ms/step - loss: 0.1046 - accuracy: 0.9667 - precision: 0.9667 - recall: 0.9667 - auc: 0.9966 - val_loss: 0.1665 - val_accuracy: 0.9333 - val_precision: 0.9333 - val_recall: 0.9333 - val_auc: 0.9978\n",
      "Epoch 182/500\n",
      "12/12 [==============================] - 0s 6ms/step - loss: 0.1348 - accuracy: 0.9667 - precision: 0.9667 - recall: 0.9667 - auc: 0.9889 - val_loss: 0.1100 - val_accuracy: 0.9333 - val_precision: 0.9333 - val_recall: 0.9333 - val_auc: 0.9978\n",
      "Epoch 183/500\n",
      "12/12 [==============================] - 0s 6ms/step - loss: 0.0455 - accuracy: 0.9778 - precision: 0.9778 - recall: 0.9778 - auc: 0.9996 - val_loss: 0.1176 - val_accuracy: 0.9333 - val_precision: 0.9333 - val_recall: 0.9333 - val_auc: 0.9978\n",
      "Epoch 184/500\n",
      "12/12 [==============================] - 0s 6ms/step - loss: 0.0704 - accuracy: 0.9667 - precision: 0.9667 - recall: 0.9667 - auc: 0.9990 - val_loss: 0.1181 - val_accuracy: 0.9333 - val_precision: 0.9333 - val_recall: 0.9333 - val_auc: 0.9978\n",
      "Epoch 185/500\n",
      "12/12 [==============================] - 0s 6ms/step - loss: 0.0572 - accuracy: 0.9889 - precision: 0.9889 - recall: 0.9889 - auc: 0.9991 - val_loss: 0.1356 - val_accuracy: 0.9333 - val_precision: 0.9333 - val_recall: 0.9333 - val_auc: 0.9978\n",
      "Epoch 186/500\n",
      "12/12 [==============================] - 0s 6ms/step - loss: 0.0563 - accuracy: 0.9889 - precision: 0.9889 - recall: 0.9889 - auc: 0.9987 - val_loss: 0.1290 - val_accuracy: 0.9333 - val_precision: 0.9333 - val_recall: 0.9333 - val_auc: 0.9978\n",
      "Epoch 187/500\n",
      "12/12 [==============================] - 0s 6ms/step - loss: 0.0424 - accuracy: 0.9889 - precision: 0.9889 - recall: 0.9889 - auc: 0.9994 - val_loss: 0.1092 - val_accuracy: 0.9333 - val_precision: 0.9333 - val_recall: 0.9333 - val_auc: 0.9978\n",
      "Epoch 188/500\n",
      "12/12 [==============================] - 0s 5ms/step - loss: 0.0578 - accuracy: 0.9778 - precision: 0.9778 - recall: 0.9778 - auc: 0.9990 - val_loss: 0.1282 - val_accuracy: 0.9333 - val_precision: 0.9333 - val_recall: 0.9333 - val_auc: 0.9978\n",
      "Epoch 189/500\n",
      "12/12 [==============================] - 0s 6ms/step - loss: 0.1049 - accuracy: 0.9778 - precision: 0.9778 - recall: 0.9778 - auc: 0.9955 - val_loss: 0.1853 - val_accuracy: 0.9333 - val_precision: 0.9333 - val_recall: 0.9333 - val_auc: 0.9978\n",
      "Epoch 190/500\n",
      "12/12 [==============================] - 0s 6ms/step - loss: 0.0661 - accuracy: 0.9778 - precision: 0.9778 - recall: 0.9778 - auc: 0.9991 - val_loss: 0.1210 - val_accuracy: 0.9333 - val_precision: 0.9333 - val_recall: 0.9333 - val_auc: 0.9978\n",
      "Epoch 191/500\n",
      "12/12 [==============================] - 0s 6ms/step - loss: 0.0220 - accuracy: 1.0000 - precision: 1.0000 - recall: 1.0000 - auc: 1.0000 - val_loss: 0.1089 - val_accuracy: 0.9333 - val_precision: 0.9333 - val_recall: 0.9333 - val_auc: 0.9978\n",
      "Epoch 192/500\n",
      "12/12 [==============================] - 0s 6ms/step - loss: 0.0791 - accuracy: 0.9667 - precision: 0.9667 - recall: 0.9667 - auc: 0.9984 - val_loss: 0.0906 - val_accuracy: 0.9333 - val_precision: 0.9333 - val_recall: 0.9333 - val_auc: 0.9978\n",
      "Epoch 193/500\n",
      "12/12 [==============================] - 0s 6ms/step - loss: 0.0274 - accuracy: 1.0000 - precision: 1.0000 - recall: 1.0000 - auc: 1.0000 - val_loss: 0.1233 - val_accuracy: 0.9333 - val_precision: 0.9333 - val_recall: 0.9333 - val_auc: 0.9978\n",
      "Epoch 194/500\n",
      "12/12 [==============================] - 0s 6ms/step - loss: 0.0672 - accuracy: 0.9889 - precision: 0.9889 - recall: 0.9889 - auc: 0.9980 - val_loss: 0.1339 - val_accuracy: 0.9333 - val_precision: 0.9333 - val_recall: 0.9333 - val_auc: 0.9978\n",
      "Epoch 195/500\n",
      "12/12 [==============================] - 0s 6ms/step - loss: 0.0700 - accuracy: 0.9778 - precision: 0.9778 - recall: 0.9778 - auc: 0.9982 - val_loss: 0.1074 - val_accuracy: 0.9333 - val_precision: 0.9333 - val_recall: 0.9333 - val_auc: 0.9978\n",
      "Epoch 196/500\n",
      "12/12 [==============================] - 0s 6ms/step - loss: 0.0880 - accuracy: 0.9667 - precision: 0.9667 - recall: 0.9667 - auc: 0.9977 - val_loss: 0.1021 - val_accuracy: 0.9333 - val_precision: 0.9333 - val_recall: 0.9333 - val_auc: 0.9978\n",
      "Epoch 197/500\n",
      "12/12 [==============================] - 0s 6ms/step - loss: 0.0750 - accuracy: 0.9778 - precision: 0.9778 - recall: 0.9778 - auc: 0.9977 - val_loss: 0.0893 - val_accuracy: 0.9333 - val_precision: 0.9333 - val_recall: 0.9333 - val_auc: 0.9978\n",
      "Epoch 198/500\n",
      "12/12 [==============================] - 0s 6ms/step - loss: 0.0757 - accuracy: 0.9889 - precision: 0.9889 - recall: 0.9889 - auc: 0.9973 - val_loss: 0.0881 - val_accuracy: 0.9333 - val_precision: 0.9333 - val_recall: 0.9333 - val_auc: 0.9978\n",
      "Epoch 199/500\n",
      "12/12 [==============================] - 0s 6ms/step - loss: 0.0853 - accuracy: 0.9778 - precision: 0.9778 - recall: 0.9778 - auc: 0.9974 - val_loss: 0.1031 - val_accuracy: 0.9333 - val_precision: 0.9333 - val_recall: 0.9333 - val_auc: 0.9978\n",
      "Epoch 200/500\n",
      "12/12 [==============================] - 0s 6ms/step - loss: 0.0624 - accuracy: 0.9778 - precision: 0.9778 - recall: 0.9778 - auc: 0.9986 - val_loss: 0.1312 - val_accuracy: 0.9333 - val_precision: 0.9333 - val_recall: 0.9333 - val_auc: 0.9978\n",
      "Epoch 201/500\n",
      "12/12 [==============================] - 0s 6ms/step - loss: 0.0346 - accuracy: 0.9889 - precision: 0.9889 - recall: 0.9889 - auc: 0.9999 - val_loss: 0.1497 - val_accuracy: 0.9333 - val_precision: 0.9333 - val_recall: 0.9333 - val_auc: 0.9978\n",
      "Epoch 202/500\n",
      "12/12 [==============================] - 0s 6ms/step - loss: 0.0769 - accuracy: 0.9778 - precision: 0.9778 - recall: 0.9778 - auc: 0.9969 - val_loss: 0.1706 - val_accuracy: 0.9333 - val_precision: 0.9333 - val_recall: 0.9333 - val_auc: 0.9978\n",
      "Epoch 203/500\n",
      "12/12 [==============================] - 0s 6ms/step - loss: 0.0560 - accuracy: 0.9889 - precision: 0.9889 - recall: 0.9889 - auc: 0.9986 - val_loss: 0.0846 - val_accuracy: 0.9333 - val_precision: 0.9333 - val_recall: 0.9333 - val_auc: 0.9978\n",
      "Epoch 204/500\n",
      "12/12 [==============================] - 0s 6ms/step - loss: 0.0739 - accuracy: 0.9778 - precision: 0.9778 - recall: 0.9778 - auc: 0.9990 - val_loss: 0.0943 - val_accuracy: 0.9333 - val_precision: 0.9333 - val_recall: 0.9333 - val_auc: 0.9978\n",
      "Epoch 205/500\n",
      "12/12 [==============================] - 0s 6ms/step - loss: 0.0578 - accuracy: 0.9667 - precision: 0.9667 - recall: 0.9667 - auc: 0.9991 - val_loss: 0.1181 - val_accuracy: 0.9333 - val_precision: 0.9333 - val_recall: 0.9333 - val_auc: 0.9978\n",
      "Epoch 206/500\n",
      "12/12 [==============================] - 0s 6ms/step - loss: 0.0680 - accuracy: 0.9889 - precision: 0.9889 - recall: 0.9889 - auc: 0.9980 - val_loss: 0.1542 - val_accuracy: 0.9333 - val_precision: 0.9333 - val_recall: 0.9333 - val_auc: 0.9978\n",
      "Epoch 207/500\n",
      "12/12 [==============================] - 0s 8ms/step - loss: 0.0468 - accuracy: 0.9889 - precision: 0.9889 - recall: 0.9889 - auc: 0.9994 - val_loss: 0.1287 - val_accuracy: 0.9333 - val_precision: 0.9333 - val_recall: 0.9333 - val_auc: 0.9978\n",
      "Epoch 208/500\n",
      "12/12 [==============================] - 0s 6ms/step - loss: 0.0698 - accuracy: 0.9889 - precision: 0.9889 - recall: 0.9889 - auc: 0.9971 - val_loss: 0.1094 - val_accuracy: 0.9333 - val_precision: 0.9333 - val_recall: 0.9333 - val_auc: 0.9978\n",
      "Epoch 209/500\n",
      "12/12 [==============================] - 0s 6ms/step - loss: 0.0642 - accuracy: 0.9778 - precision: 0.9778 - recall: 0.9778 - auc: 0.9987 - val_loss: 0.0993 - val_accuracy: 0.9333 - val_precision: 0.9333 - val_recall: 0.9333 - val_auc: 0.9978\n",
      "Epoch 210/500\n",
      "12/12 [==============================] - 0s 6ms/step - loss: 0.0555 - accuracy: 0.9778 - precision: 0.9778 - recall: 0.9778 - auc: 0.9991 - val_loss: 0.1719 - val_accuracy: 0.9333 - val_precision: 0.9333 - val_recall: 0.9333 - val_auc: 0.9978\n",
      "Epoch 211/500\n",
      "12/12 [==============================] - 0s 6ms/step - loss: 0.0475 - accuracy: 0.9667 - precision: 0.9667 - recall: 0.9667 - auc: 0.9994 - val_loss: 0.1286 - val_accuracy: 0.9333 - val_precision: 0.9333 - val_recall: 0.9333 - val_auc: 0.9978\n",
      "Epoch 212/500\n",
      "12/12 [==============================] - 0s 6ms/step - loss: 0.0561 - accuracy: 0.9778 - precision: 0.9778 - recall: 0.9778 - auc: 0.9989 - val_loss: 0.0592 - val_accuracy: 0.9667 - val_precision: 0.9667 - val_recall: 0.9667 - val_auc: 0.9994\n",
      "Epoch 213/500\n",
      "12/12 [==============================] - 0s 6ms/step - loss: 0.1459 - accuracy: 0.9444 - precision: 0.9444 - recall: 0.9444 - auc: 0.9957 - val_loss: 0.1755 - val_accuracy: 0.9333 - val_precision: 0.9333 - val_recall: 0.9333 - val_auc: 0.9978\n",
      "Epoch 214/500\n",
      "12/12 [==============================] - 0s 6ms/step - loss: 0.0540 - accuracy: 0.9889 - precision: 0.9889 - recall: 0.9889 - auc: 0.9993 - val_loss: 0.1352 - val_accuracy: 0.9333 - val_precision: 0.9333 - val_recall: 0.9333 - val_auc: 0.9978\n",
      "Epoch 215/500\n",
      "12/12 [==============================] - 0s 7ms/step - loss: 0.0644 - accuracy: 0.9667 - precision: 0.9667 - recall: 0.9667 - auc: 0.9988 - val_loss: 0.1247 - val_accuracy: 0.9333 - val_precision: 0.9333 - val_recall: 0.9333 - val_auc: 0.9978\n",
      "Epoch 216/500\n",
      "12/12 [==============================] - 0s 6ms/step - loss: 0.0548 - accuracy: 0.9889 - precision: 0.9889 - recall: 0.9889 - auc: 0.9996 - val_loss: 0.1152 - val_accuracy: 0.9333 - val_precision: 0.9333 - val_recall: 0.9333 - val_auc: 0.9978\n",
      "Epoch 217/500\n",
      "12/12 [==============================] - 0s 6ms/step - loss: 0.0432 - accuracy: 0.9889 - precision: 0.9889 - recall: 0.9889 - auc: 0.9998 - val_loss: 0.1223 - val_accuracy: 0.9333 - val_precision: 0.9333 - val_recall: 0.9333 - val_auc: 0.9978\n",
      "Epoch 218/500\n",
      "12/12 [==============================] - 0s 6ms/step - loss: 0.0321 - accuracy: 0.9889 - precision: 0.9889 - recall: 0.9889 - auc: 0.9999 - val_loss: 0.1285 - val_accuracy: 0.9333 - val_precision: 0.9333 - val_recall: 0.9333 - val_auc: 0.9978\n",
      "Epoch 219/500\n",
      "12/12 [==============================] - 0s 6ms/step - loss: 0.0696 - accuracy: 0.9667 - precision: 0.9667 - recall: 0.9667 - auc: 0.9991 - val_loss: 0.1305 - val_accuracy: 0.9333 - val_precision: 0.9333 - val_recall: 0.9333 - val_auc: 0.9978\n",
      "Epoch 220/500\n",
      "12/12 [==============================] - 0s 6ms/step - loss: 0.0445 - accuracy: 0.9889 - precision: 0.9889 - recall: 0.9889 - auc: 0.9992 - val_loss: 0.1543 - val_accuracy: 0.9333 - val_precision: 0.9333 - val_recall: 0.9333 - val_auc: 0.9978\n",
      "Epoch 221/500\n",
      "12/12 [==============================] - 0s 6ms/step - loss: 0.0519 - accuracy: 0.9778 - precision: 0.9778 - recall: 0.9778 - auc: 0.9994 - val_loss: 0.1410 - val_accuracy: 0.9333 - val_precision: 0.9333 - val_recall: 0.9333 - val_auc: 0.9978\n",
      "Epoch 222/500\n",
      "12/12 [==============================] - 0s 5ms/step - loss: 0.0849 - accuracy: 0.9778 - precision: 0.9778 - recall: 0.9778 - auc: 0.9980 - val_loss: 0.1827 - val_accuracy: 0.9333 - val_precision: 0.9333 - val_recall: 0.9333 - val_auc: 0.9978\n",
      "Epoch 223/500\n",
      "12/12 [==============================] - 0s 6ms/step - loss: 0.0731 - accuracy: 0.9889 - precision: 0.9889 - recall: 0.9889 - auc: 0.9981 - val_loss: 0.1578 - val_accuracy: 0.9333 - val_precision: 0.9333 - val_recall: 0.9333 - val_auc: 0.9978\n",
      "Epoch 224/500\n",
      "12/12 [==============================] - 0s 6ms/step - loss: 0.0445 - accuracy: 0.9778 - precision: 0.9778 - recall: 0.9778 - auc: 0.9998 - val_loss: 0.1408 - val_accuracy: 0.9333 - val_precision: 0.9333 - val_recall: 0.9333 - val_auc: 0.9978\n",
      "Epoch 225/500\n",
      "12/12 [==============================] - 0s 6ms/step - loss: 0.0368 - accuracy: 0.9889 - precision: 0.9889 - recall: 0.9889 - auc: 0.9997 - val_loss: 0.1369 - val_accuracy: 0.9333 - val_precision: 0.9333 - val_recall: 0.9333 - val_auc: 0.9978\n",
      "Epoch 226/500\n",
      "12/12 [==============================] - 0s 6ms/step - loss: 0.0333 - accuracy: 0.9889 - precision: 0.9889 - recall: 0.9889 - auc: 0.9999 - val_loss: 0.0960 - val_accuracy: 0.9333 - val_precision: 0.9333 - val_recall: 0.9333 - val_auc: 0.9978\n",
      "Epoch 227/500\n",
      "12/12 [==============================] - 0s 6ms/step - loss: 0.0650 - accuracy: 0.9778 - precision: 0.9778 - recall: 0.9778 - auc: 0.9985 - val_loss: 0.0902 - val_accuracy: 0.9333 - val_precision: 0.9333 - val_recall: 0.9333 - val_auc: 0.9978\n",
      "Epoch 228/500\n",
      "12/12 [==============================] - 0s 6ms/step - loss: 0.0450 - accuracy: 0.9889 - precision: 0.9889 - recall: 0.9889 - auc: 0.9993 - val_loss: 0.0887 - val_accuracy: 0.9333 - val_precision: 0.9333 - val_recall: 0.9333 - val_auc: 0.9978\n",
      "Epoch 229/500\n",
      "12/12 [==============================] - 0s 6ms/step - loss: 0.0357 - accuracy: 0.9889 - precision: 0.9889 - recall: 0.9889 - auc: 0.9998 - val_loss: 0.1290 - val_accuracy: 0.9333 - val_precision: 0.9333 - val_recall: 0.9333 - val_auc: 0.9978\n",
      "Epoch 230/500\n",
      "12/12 [==============================] - 0s 6ms/step - loss: 0.0800 - accuracy: 0.9889 - precision: 0.9889 - recall: 0.9889 - auc: 0.9898 - val_loss: 0.0858 - val_accuracy: 0.9333 - val_precision: 0.9333 - val_recall: 0.9333 - val_auc: 0.9978\n",
      "Epoch 231/500\n",
      "12/12 [==============================] - 0s 6ms/step - loss: 0.0433 - accuracy: 0.9778 - precision: 0.9778 - recall: 0.9778 - auc: 0.9998 - val_loss: 0.1203 - val_accuracy: 0.9333 - val_precision: 0.9333 - val_recall: 0.9333 - val_auc: 0.9978\n",
      "Epoch 232/500\n",
      "12/12 [==============================] - 0s 8ms/step - loss: 0.1343 - accuracy: 0.9556 - precision: 0.9556 - recall: 0.9556 - auc: 0.9889 - val_loss: 0.2024 - val_accuracy: 0.8667 - val_precision: 0.8667 - val_recall: 0.8667 - val_auc: 0.9911\n",
      "Epoch 233/500\n",
      "12/12 [==============================] - 0s 7ms/step - loss: 0.1678 - accuracy: 0.9556 - precision: 0.9556 - recall: 0.9556 - auc: 0.9869 - val_loss: 0.1925 - val_accuracy: 0.9333 - val_precision: 0.9333 - val_recall: 0.9333 - val_auc: 0.9967\n",
      "Epoch 234/500\n",
      "12/12 [==============================] - 0s 6ms/step - loss: 0.1383 - accuracy: 0.9778 - precision: 0.9778 - recall: 0.9778 - auc: 0.9890 - val_loss: 0.1494 - val_accuracy: 0.9333 - val_precision: 0.9333 - val_recall: 0.9333 - val_auc: 0.9978\n",
      "Epoch 235/500\n",
      "12/12 [==============================] - 0s 6ms/step - loss: 0.0858 - accuracy: 0.9778 - precision: 0.9778 - recall: 0.9778 - auc: 0.9975 - val_loss: 0.1155 - val_accuracy: 0.9333 - val_precision: 0.9333 - val_recall: 0.9333 - val_auc: 0.9978\n",
      "Epoch 236/500\n",
      "12/12 [==============================] - 0s 6ms/step - loss: 0.0743 - accuracy: 0.9778 - precision: 0.9778 - recall: 0.9778 - auc: 0.9988 - val_loss: 0.1041 - val_accuracy: 0.9333 - val_precision: 0.9333 - val_recall: 0.9333 - val_auc: 0.9978\n",
      "Epoch 237/500\n",
      "12/12 [==============================] - 0s 6ms/step - loss: 0.1011 - accuracy: 0.9667 - precision: 0.9667 - recall: 0.9667 - auc: 0.9970 - val_loss: 0.1048 - val_accuracy: 0.9333 - val_precision: 0.9333 - val_recall: 0.9333 - val_auc: 0.9978\n",
      "Epoch 238/500\n",
      "12/12 [==============================] - 0s 6ms/step - loss: 0.0486 - accuracy: 0.9778 - precision: 0.9888 - recall: 0.9778 - auc: 0.9996 - val_loss: 0.1138 - val_accuracy: 0.9333 - val_precision: 0.9333 - val_recall: 0.9333 - val_auc: 0.9978\n",
      "Epoch 239/500\n",
      "12/12 [==============================] - 0s 6ms/step - loss: 0.0707 - accuracy: 0.9778 - precision: 0.9778 - recall: 0.9778 - auc: 0.9985 - val_loss: 0.1157 - val_accuracy: 0.9333 - val_precision: 0.9333 - val_recall: 0.9333 - val_auc: 0.9978\n",
      "Epoch 240/500\n",
      "12/12 [==============================] - 0s 6ms/step - loss: 0.0613 - accuracy: 0.9778 - precision: 0.9778 - recall: 0.9778 - auc: 0.9991 - val_loss: 0.1192 - val_accuracy: 0.9333 - val_precision: 0.9333 - val_recall: 0.9333 - val_auc: 0.9978\n",
      "Epoch 241/500\n",
      "12/12 [==============================] - 0s 6ms/step - loss: 0.0859 - accuracy: 0.9889 - precision: 0.9889 - recall: 0.9889 - auc: 0.9965 - val_loss: 0.1301 - val_accuracy: 0.9333 - val_precision: 0.9333 - val_recall: 0.9333 - val_auc: 0.9978\n",
      "Epoch 242/500\n",
      "12/12 [==============================] - 0s 6ms/step - loss: 0.0468 - accuracy: 0.9889 - precision: 0.9889 - recall: 0.9889 - auc: 0.9997 - val_loss: 0.1103 - val_accuracy: 0.9333 - val_precision: 0.9333 - val_recall: 0.9333 - val_auc: 0.9978\n",
      "Epoch 243/500\n",
      "12/12 [==============================] - 0s 6ms/step - loss: 0.0534 - accuracy: 0.9889 - precision: 0.9889 - recall: 0.9889 - auc: 0.9990 - val_loss: 0.1355 - val_accuracy: 0.9333 - val_precision: 0.9333 - val_recall: 0.9333 - val_auc: 0.9978\n",
      "Epoch 244/500\n",
      "12/12 [==============================] - 0s 6ms/step - loss: 0.0715 - accuracy: 0.9889 - precision: 0.9889 - recall: 0.9889 - auc: 0.9974 - val_loss: 0.1216 - val_accuracy: 0.9333 - val_precision: 0.9333 - val_recall: 0.9333 - val_auc: 0.9978\n",
      "Epoch 245/500\n",
      "12/12 [==============================] - 0s 5ms/step - loss: 0.0643 - accuracy: 0.9778 - precision: 0.9778 - recall: 0.9778 - auc: 0.9987 - val_loss: 0.1184 - val_accuracy: 0.9333 - val_precision: 0.9333 - val_recall: 0.9333 - val_auc: 0.9978\n",
      "Epoch 246/500\n",
      "12/12 [==============================] - 0s 5ms/step - loss: 0.0369 - accuracy: 0.9889 - precision: 0.9889 - recall: 0.9889 - auc: 0.9998 - val_loss: 0.1410 - val_accuracy: 0.9333 - val_precision: 0.9333 - val_recall: 0.9333 - val_auc: 0.9978\n",
      "Epoch 247/500\n",
      "12/12 [==============================] - 0s 5ms/step - loss: 0.0584 - accuracy: 0.9667 - precision: 0.9667 - recall: 0.9667 - auc: 0.9993 - val_loss: 0.1259 - val_accuracy: 0.9333 - val_precision: 0.9333 - val_recall: 0.9333 - val_auc: 0.9978\n",
      "Epoch 248/500\n",
      "12/12 [==============================] - 0s 5ms/step - loss: 0.0486 - accuracy: 0.9889 - precision: 0.9889 - recall: 0.9889 - auc: 0.9994 - val_loss: 0.1413 - val_accuracy: 0.9333 - val_precision: 0.9333 - val_recall: 0.9333 - val_auc: 0.9978\n",
      "Epoch 249/500\n",
      "12/12 [==============================] - 0s 6ms/step - loss: 0.0845 - accuracy: 0.9778 - precision: 0.9778 - recall: 0.9778 - auc: 0.9902 - val_loss: 0.1341 - val_accuracy: 0.9333 - val_precision: 0.9333 - val_recall: 0.9333 - val_auc: 0.9978\n",
      "Epoch 250/500\n",
      "12/12 [==============================] - 0s 6ms/step - loss: 0.0944 - accuracy: 0.9667 - precision: 0.9667 - recall: 0.9667 - auc: 0.9968 - val_loss: 0.1292 - val_accuracy: 0.9333 - val_precision: 0.9333 - val_recall: 0.9333 - val_auc: 0.9978\n",
      "Epoch 251/500\n",
      "12/12 [==============================] - 0s 5ms/step - loss: 0.0753 - accuracy: 0.9778 - precision: 0.9778 - recall: 0.9778 - auc: 0.9976 - val_loss: 0.2140 - val_accuracy: 0.9333 - val_precision: 0.9333 - val_recall: 0.9333 - val_auc: 0.9961\n",
      "Epoch 252/500\n",
      "12/12 [==============================] - 0s 6ms/step - loss: 0.0593 - accuracy: 0.9778 - precision: 0.9778 - recall: 0.9778 - auc: 0.9993 - val_loss: 0.1522 - val_accuracy: 0.9333 - val_precision: 0.9333 - val_recall: 0.9333 - val_auc: 0.9978\n",
      "Epoch 253/500\n",
      "12/12 [==============================] - 0s 6ms/step - loss: 0.0976 - accuracy: 0.9778 - precision: 0.9778 - recall: 0.9778 - auc: 0.9896 - val_loss: 0.0857 - val_accuracy: 0.9667 - val_precision: 0.9667 - val_recall: 0.9667 - val_auc: 0.9983\n",
      "Epoch 254/500\n",
      "12/12 [==============================] - 0s 6ms/step - loss: 0.0918 - accuracy: 0.9778 - precision: 0.9778 - recall: 0.9778 - auc: 0.9975 - val_loss: 0.1148 - val_accuracy: 0.9333 - val_precision: 0.9333 - val_recall: 0.9333 - val_auc: 0.9978\n",
      "Epoch 255/500\n",
      "12/12 [==============================] - 0s 6ms/step - loss: 0.0444 - accuracy: 0.9889 - precision: 0.9889 - recall: 0.9889 - auc: 0.9995 - val_loss: 0.1380 - val_accuracy: 0.9333 - val_precision: 0.9333 - val_recall: 0.9333 - val_auc: 0.9978\n",
      "Epoch 256/500\n",
      "12/12 [==============================] - 0s 6ms/step - loss: 0.0388 - accuracy: 0.9889 - precision: 0.9889 - recall: 0.9889 - auc: 0.9998 - val_loss: 0.1323 - val_accuracy: 0.9333 - val_precision: 0.9333 - val_recall: 0.9333 - val_auc: 0.9978\n",
      "Epoch 257/500\n",
      "12/12 [==============================] - 0s 6ms/step - loss: 0.0372 - accuracy: 0.9889 - precision: 0.9889 - recall: 0.9889 - auc: 0.9996 - val_loss: 0.1176 - val_accuracy: 0.9333 - val_precision: 0.9333 - val_recall: 0.9333 - val_auc: 0.9978\n",
      "Epoch 258/500\n",
      "12/12 [==============================] - 0s 6ms/step - loss: 0.0536 - accuracy: 0.9778 - precision: 0.9778 - recall: 0.9778 - auc: 0.9991 - val_loss: 0.1428 - val_accuracy: 0.9333 - val_precision: 0.9333 - val_recall: 0.9333 - val_auc: 0.9978\n",
      "Epoch 259/500\n",
      "12/12 [==============================] - 0s 7ms/step - loss: 0.0270 - accuracy: 0.9889 - precision: 0.9889 - recall: 0.9889 - auc: 0.9999 - val_loss: 0.2028 - val_accuracy: 0.9333 - val_precision: 0.9333 - val_recall: 0.9333 - val_auc: 0.9978\n",
      "Epoch 260/500\n",
      "12/12 [==============================] - 0s 5ms/step - loss: 0.0682 - accuracy: 0.9778 - precision: 0.9778 - recall: 0.9778 - auc: 0.9985 - val_loss: 0.1316 - val_accuracy: 0.9333 - val_precision: 0.9333 - val_recall: 0.9333 - val_auc: 0.9978\n",
      "Epoch 261/500\n",
      "12/12 [==============================] - 0s 5ms/step - loss: 0.0701 - accuracy: 0.9556 - precision: 0.9556 - recall: 0.9556 - auc: 0.9990 - val_loss: 0.1420 - val_accuracy: 0.9333 - val_precision: 0.9333 - val_recall: 0.9333 - val_auc: 0.9978\n",
      "Epoch 262/500\n",
      "12/12 [==============================] - 0s 6ms/step - loss: 0.0810 - accuracy: 0.9667 - precision: 0.9667 - recall: 0.9667 - auc: 0.9982 - val_loss: 0.1760 - val_accuracy: 0.9333 - val_precision: 0.9333 - val_recall: 0.9333 - val_auc: 0.9978\n",
      "Epoch 263/500\n",
      "12/12 [==============================] - 0s 6ms/step - loss: 0.0355 - accuracy: 1.0000 - precision: 1.0000 - recall: 1.0000 - auc: 1.0000 - val_loss: 0.1854 - val_accuracy: 0.9333 - val_precision: 0.9333 - val_recall: 0.9333 - val_auc: 0.9978\n",
      "Epoch 264/500\n",
      "12/12 [==============================] - 0s 5ms/step - loss: 0.0459 - accuracy: 0.9778 - precision: 0.9778 - recall: 0.9778 - auc: 0.9995 - val_loss: 0.1379 - val_accuracy: 0.9333 - val_precision: 0.9333 - val_recall: 0.9333 - val_auc: 0.9978\n",
      "Epoch 265/500\n",
      "12/12 [==============================] - 0s 5ms/step - loss: 0.0703 - accuracy: 0.9778 - precision: 0.9778 - recall: 0.9778 - auc: 0.9986 - val_loss: 0.1510 - val_accuracy: 0.9333 - val_precision: 0.9333 - val_recall: 0.9333 - val_auc: 0.9978\n",
      "Epoch 266/500\n",
      "12/12 [==============================] - 0s 5ms/step - loss: 0.0744 - accuracy: 0.9778 - precision: 0.9778 - recall: 0.9778 - auc: 0.9984 - val_loss: 0.1389 - val_accuracy: 0.9333 - val_precision: 0.9333 - val_recall: 0.9333 - val_auc: 0.9978\n",
      "Epoch 267/500\n",
      "12/12 [==============================] - 0s 6ms/step - loss: 0.0580 - accuracy: 0.9889 - precision: 0.9889 - recall: 0.9889 - auc: 0.9981 - val_loss: 0.1335 - val_accuracy: 0.9333 - val_precision: 0.9333 - val_recall: 0.9333 - val_auc: 0.9978\n",
      "Epoch 268/500\n",
      "12/12 [==============================] - 0s 5ms/step - loss: 0.0622 - accuracy: 0.9667 - precision: 0.9667 - recall: 0.9667 - auc: 0.9989 - val_loss: 0.1376 - val_accuracy: 0.9333 - val_precision: 0.9333 - val_recall: 0.9333 - val_auc: 0.9978\n",
      "Epoch 269/500\n",
      "12/12 [==============================] - 0s 5ms/step - loss: 0.0425 - accuracy: 0.9778 - precision: 0.9888 - recall: 0.9778 - auc: 0.9998 - val_loss: 0.1634 - val_accuracy: 0.9333 - val_precision: 0.9333 - val_recall: 0.9333 - val_auc: 0.9978\n",
      "Epoch 270/500\n",
      "12/12 [==============================] - 0s 5ms/step - loss: 0.0694 - accuracy: 0.9778 - precision: 0.9778 - recall: 0.9778 - auc: 0.9990 - val_loss: 0.1260 - val_accuracy: 0.9333 - val_precision: 0.9333 - val_recall: 0.9333 - val_auc: 0.9978\n",
      "Epoch 271/500\n",
      "12/12 [==============================] - 0s 5ms/step - loss: 0.0296 - accuracy: 0.9889 - precision: 0.9889 - recall: 0.9889 - auc: 0.9998 - val_loss: 0.0999 - val_accuracy: 0.9333 - val_precision: 0.9333 - val_recall: 0.9333 - val_auc: 0.9978\n",
      "Epoch 272/500\n",
      "12/12 [==============================] - 0s 6ms/step - loss: 0.1117 - accuracy: 0.9778 - precision: 0.9778 - recall: 0.9778 - auc: 0.9959 - val_loss: 0.1248 - val_accuracy: 0.9333 - val_precision: 0.9333 - val_recall: 0.9333 - val_auc: 0.9978\n",
      "Epoch 273/500\n",
      "12/12 [==============================] - 0s 6ms/step - loss: 0.0417 - accuracy: 0.9889 - precision: 0.9889 - recall: 0.9889 - auc: 0.9997 - val_loss: 0.0822 - val_accuracy: 0.9333 - val_precision: 0.9333 - val_recall: 0.9333 - val_auc: 0.9978\n",
      "Epoch 274/500\n",
      "12/12 [==============================] - 0s 6ms/step - loss: 0.0691 - accuracy: 0.9889 - precision: 0.9889 - recall: 0.9889 - auc: 0.9986 - val_loss: 0.1039 - val_accuracy: 0.9333 - val_precision: 0.9333 - val_recall: 0.9333 - val_auc: 0.9978\n",
      "Epoch 275/500\n",
      "12/12 [==============================] - 0s 6ms/step - loss: 0.0450 - accuracy: 0.9889 - precision: 0.9889 - recall: 0.9889 - auc: 0.9997 - val_loss: 0.1293 - val_accuracy: 0.9333 - val_precision: 0.9333 - val_recall: 0.9333 - val_auc: 0.9978\n",
      "Epoch 276/500\n",
      "12/12 [==============================] - 0s 5ms/step - loss: 0.0526 - accuracy: 0.9889 - precision: 0.9889 - recall: 0.9889 - auc: 0.9987 - val_loss: 0.1412 - val_accuracy: 0.9333 - val_precision: 0.9333 - val_recall: 0.9333 - val_auc: 0.9978\n",
      "Epoch 277/500\n",
      "12/12 [==============================] - 0s 5ms/step - loss: 0.0704 - accuracy: 0.9778 - precision: 0.9775 - recall: 0.9667 - auc: 0.9985 - val_loss: 0.1409 - val_accuracy: 0.9333 - val_precision: 0.9333 - val_recall: 0.9333 - val_auc: 0.9978\n",
      "Epoch 278/500\n",
      "12/12 [==============================] - 0s 6ms/step - loss: 0.0781 - accuracy: 0.9778 - precision: 0.9778 - recall: 0.9778 - auc: 0.9980 - val_loss: 0.1592 - val_accuracy: 0.9333 - val_precision: 0.9333 - val_recall: 0.9333 - val_auc: 0.9978\n",
      "Epoch 279/500\n",
      "12/12 [==============================] - 0s 6ms/step - loss: 0.0901 - accuracy: 0.9667 - precision: 0.9667 - recall: 0.9667 - auc: 0.9901 - val_loss: 0.1336 - val_accuracy: 0.9333 - val_precision: 0.9333 - val_recall: 0.9333 - val_auc: 0.9978\n",
      "Epoch 280/500\n",
      "12/12 [==============================] - 0s 5ms/step - loss: 0.0748 - accuracy: 0.9889 - precision: 0.9889 - recall: 0.9889 - auc: 0.9974 - val_loss: 0.1105 - val_accuracy: 0.9333 - val_precision: 0.9333 - val_recall: 0.9333 - val_auc: 0.9978\n",
      "Epoch 281/500\n",
      "12/12 [==============================] - 0s 5ms/step - loss: 0.0366 - accuracy: 1.0000 - precision: 1.0000 - recall: 1.0000 - auc: 1.0000 - val_loss: 0.0929 - val_accuracy: 0.9333 - val_precision: 0.9333 - val_recall: 0.9333 - val_auc: 0.9978\n",
      "Epoch 282/500\n",
      "12/12 [==============================] - 0s 6ms/step - loss: 0.0402 - accuracy: 0.9889 - precision: 0.9889 - recall: 0.9889 - auc: 0.9997 - val_loss: 0.1132 - val_accuracy: 0.9333 - val_precision: 0.9333 - val_recall: 0.9333 - val_auc: 0.9978\n",
      "Epoch 283/500\n",
      "12/12 [==============================] - 0s 6ms/step - loss: 0.0416 - accuracy: 0.9778 - precision: 0.9778 - recall: 0.9778 - auc: 0.9996 - val_loss: 0.1484 - val_accuracy: 0.9333 - val_precision: 0.9333 - val_recall: 0.9333 - val_auc: 0.9978\n",
      "Epoch 284/500\n",
      "12/12 [==============================] - 0s 7ms/step - loss: 0.0563 - accuracy: 0.9778 - precision: 0.9778 - recall: 0.9778 - auc: 0.9993 - val_loss: 0.1896 - val_accuracy: 0.9333 - val_precision: 0.9333 - val_recall: 0.9333 - val_auc: 0.9978\n",
      "Epoch 285/500\n",
      "12/12 [==============================] - 0s 6ms/step - loss: 0.0879 - accuracy: 0.9889 - precision: 0.9889 - recall: 0.9889 - auc: 0.9902 - val_loss: 0.1240 - val_accuracy: 0.9333 - val_precision: 0.9333 - val_recall: 0.9333 - val_auc: 0.9978\n",
      "Epoch 286/500\n",
      "12/12 [==============================] - 0s 5ms/step - loss: 0.0971 - accuracy: 0.9778 - precision: 0.9778 - recall: 0.9778 - auc: 0.9924 - val_loss: 0.0458 - val_accuracy: 1.0000 - val_precision: 1.0000 - val_recall: 1.0000 - val_auc: 1.0000\n",
      "Epoch 287/500\n",
      "12/12 [==============================] - 0s 5ms/step - loss: 0.1020 - accuracy: 0.9667 - precision: 0.9667 - recall: 0.9667 - auc: 0.9963 - val_loss: 0.0978 - val_accuracy: 0.9333 - val_precision: 0.9333 - val_recall: 0.9333 - val_auc: 0.9978\n",
      "Epoch 288/500\n",
      "12/12 [==============================] - 0s 5ms/step - loss: 0.0527 - accuracy: 0.9889 - precision: 0.9888 - recall: 0.9778 - auc: 0.9994 - val_loss: 0.1084 - val_accuracy: 0.9333 - val_precision: 0.9333 - val_recall: 0.9333 - val_auc: 0.9978\n",
      "Epoch 289/500\n",
      "12/12 [==============================] - 0s 6ms/step - loss: 0.0730 - accuracy: 0.9778 - precision: 0.9778 - recall: 0.9778 - auc: 0.9982 - val_loss: 0.1422 - val_accuracy: 0.9333 - val_precision: 0.9333 - val_recall: 0.9333 - val_auc: 0.9978\n",
      "Epoch 290/500\n",
      "12/12 [==============================] - 0s 6ms/step - loss: 0.0643 - accuracy: 0.9889 - precision: 0.9889 - recall: 0.9889 - auc: 0.9974 - val_loss: 0.1105 - val_accuracy: 0.9333 - val_precision: 0.9333 - val_recall: 0.9333 - val_auc: 0.9978\n",
      "Epoch 291/500\n",
      "12/12 [==============================] - 0s 6ms/step - loss: 0.0630 - accuracy: 0.9778 - precision: 0.9778 - recall: 0.9778 - auc: 0.9988 - val_loss: 0.1039 - val_accuracy: 0.9333 - val_precision: 0.9333 - val_recall: 0.9333 - val_auc: 0.9978\n",
      "Epoch 292/500\n",
      "12/12 [==============================] - 0s 6ms/step - loss: 0.0391 - accuracy: 1.0000 - precision: 1.0000 - recall: 1.0000 - auc: 1.0000 - val_loss: 0.0833 - val_accuracy: 0.9333 - val_precision: 0.9333 - val_recall: 0.9333 - val_auc: 0.9978\n",
      "Epoch 293/500\n",
      "12/12 [==============================] - 0s 6ms/step - loss: 0.0627 - accuracy: 0.9778 - precision: 0.9778 - recall: 0.9778 - auc: 0.9990 - val_loss: 0.1413 - val_accuracy: 0.9333 - val_precision: 0.9333 - val_recall: 0.9333 - val_auc: 0.9978\n",
      "Epoch 294/500\n",
      "12/12 [==============================] - 0s 5ms/step - loss: 0.0674 - accuracy: 0.9667 - precision: 0.9667 - recall: 0.9667 - auc: 0.9990 - val_loss: 0.1528 - val_accuracy: 0.9333 - val_precision: 0.9333 - val_recall: 0.9333 - val_auc: 0.9978\n",
      "Epoch 295/500\n",
      "12/12 [==============================] - 0s 6ms/step - loss: 0.0565 - accuracy: 0.9889 - precision: 0.9889 - recall: 0.9889 - auc: 0.9988 - val_loss: 0.1438 - val_accuracy: 0.9333 - val_precision: 0.9333 - val_recall: 0.9333 - val_auc: 0.9978\n",
      "Epoch 296/500\n",
      "12/12 [==============================] - 0s 5ms/step - loss: 0.0371 - accuracy: 0.9889 - precision: 0.9889 - recall: 0.9889 - auc: 0.9998 - val_loss: 0.1358 - val_accuracy: 0.9333 - val_precision: 0.9333 - val_recall: 0.9333 - val_auc: 0.9978\n",
      "Epoch 297/500\n",
      "12/12 [==============================] - 0s 6ms/step - loss: 0.0535 - accuracy: 0.9889 - precision: 0.9889 - recall: 0.9889 - auc: 0.9991 - val_loss: 0.1271 - val_accuracy: 0.9333 - val_precision: 0.9333 - val_recall: 0.9333 - val_auc: 0.9978\n",
      "Epoch 298/500\n",
      "12/12 [==============================] - 0s 6ms/step - loss: 0.0729 - accuracy: 0.9778 - precision: 0.9778 - recall: 0.9778 - auc: 0.9986 - val_loss: 0.0853 - val_accuracy: 0.9333 - val_precision: 0.9333 - val_recall: 0.9333 - val_auc: 0.9978\n",
      "Epoch 299/500\n",
      "12/12 [==============================] - 0s 6ms/step - loss: 0.0415 - accuracy: 0.9778 - precision: 0.9778 - recall: 0.9778 - auc: 0.9995 - val_loss: 0.1314 - val_accuracy: 0.9333 - val_precision: 0.9333 - val_recall: 0.9333 - val_auc: 0.9978\n",
      "Epoch 300/500\n",
      "12/12 [==============================] - 0s 6ms/step - loss: 0.0826 - accuracy: 0.9667 - precision: 0.9667 - recall: 0.9667 - auc: 0.9985 - val_loss: 0.1182 - val_accuracy: 0.9333 - val_precision: 0.9333 - val_recall: 0.9333 - val_auc: 0.9978\n",
      "Epoch 301/500\n",
      "12/12 [==============================] - 0s 5ms/step - loss: 0.0627 - accuracy: 0.9778 - precision: 0.9778 - recall: 0.9778 - auc: 0.9986 - val_loss: 0.1156 - val_accuracy: 0.9333 - val_precision: 0.9333 - val_recall: 0.9333 - val_auc: 0.9978\n",
      "Epoch 302/500\n",
      "12/12 [==============================] - 0s 5ms/step - loss: 0.0387 - accuracy: 0.9889 - precision: 0.9889 - recall: 0.9889 - auc: 0.9998 - val_loss: 0.0864 - val_accuracy: 0.9333 - val_precision: 0.9333 - val_recall: 0.9333 - val_auc: 0.9978\n",
      "Epoch 303/500\n",
      "12/12 [==============================] - 0s 5ms/step - loss: 0.0610 - accuracy: 0.9889 - precision: 0.9889 - recall: 0.9889 - auc: 0.9988 - val_loss: 0.0804 - val_accuracy: 0.9333 - val_precision: 0.9333 - val_recall: 0.9333 - val_auc: 0.9978\n",
      "Epoch 304/500\n",
      "12/12 [==============================] - 0s 5ms/step - loss: 0.0766 - accuracy: 0.9778 - precision: 0.9778 - recall: 0.9778 - auc: 0.9978 - val_loss: 0.1050 - val_accuracy: 0.9333 - val_precision: 0.9333 - val_recall: 0.9333 - val_auc: 0.9978\n",
      "Epoch 305/500\n",
      "12/12 [==============================] - 0s 6ms/step - loss: 0.0687 - accuracy: 0.9889 - precision: 0.9889 - recall: 0.9889 - auc: 0.9975 - val_loss: 0.1409 - val_accuracy: 0.9333 - val_precision: 0.9333 - val_recall: 0.9333 - val_auc: 0.9978\n",
      "Epoch 306/500\n",
      "12/12 [==============================] - 0s 6ms/step - loss: 0.0543 - accuracy: 0.9889 - precision: 0.9889 - recall: 0.9889 - auc: 0.9991 - val_loss: 0.0982 - val_accuracy: 0.9333 - val_precision: 0.9333 - val_recall: 0.9333 - val_auc: 0.9978\n",
      "Epoch 307/500\n",
      "12/12 [==============================] - 0s 5ms/step - loss: 0.0375 - accuracy: 0.9889 - precision: 0.9889 - recall: 0.9889 - auc: 0.9999 - val_loss: 0.0799 - val_accuracy: 0.9667 - val_precision: 0.9667 - val_recall: 0.9667 - val_auc: 0.9983\n",
      "Epoch 308/500\n",
      "12/12 [==============================] - 0s 6ms/step - loss: 0.0386 - accuracy: 0.9889 - precision: 0.9889 - recall: 0.9889 - auc: 0.9997 - val_loss: 0.0796 - val_accuracy: 0.9667 - val_precision: 0.9667 - val_recall: 0.9667 - val_auc: 0.9983\n",
      "Epoch 309/500\n",
      "12/12 [==============================] - 0s 6ms/step - loss: 0.0661 - accuracy: 0.9667 - precision: 0.9667 - recall: 0.9667 - auc: 0.9989 - val_loss: 0.1444 - val_accuracy: 0.9333 - val_precision: 0.9333 - val_recall: 0.9333 - val_auc: 0.9978\n",
      "Epoch 310/500\n",
      "12/12 [==============================] - 0s 7ms/step - loss: 0.0415 - accuracy: 0.9889 - precision: 0.9889 - recall: 0.9889 - auc: 0.9994 - val_loss: 0.1589 - val_accuracy: 0.9333 - val_precision: 0.9333 - val_recall: 0.9333 - val_auc: 0.9978\n",
      "Epoch 311/500\n",
      "12/12 [==============================] - 0s 6ms/step - loss: 0.0605 - accuracy: 0.9889 - precision: 0.9889 - recall: 0.9889 - auc: 0.9984 - val_loss: 0.1321 - val_accuracy: 0.9333 - val_precision: 0.9333 - val_recall: 0.9333 - val_auc: 0.9978\n",
      "Epoch 312/500\n",
      "12/12 [==============================] - 0s 5ms/step - loss: 0.0490 - accuracy: 0.9889 - precision: 0.9889 - recall: 0.9889 - auc: 0.9992 - val_loss: 0.1219 - val_accuracy: 0.9333 - val_precision: 0.9333 - val_recall: 0.9333 - val_auc: 0.9978\n",
      "Epoch 313/500\n",
      "12/12 [==============================] - 0s 5ms/step - loss: 0.0463 - accuracy: 0.9778 - precision: 0.9778 - recall: 0.9778 - auc: 0.9995 - val_loss: 0.1228 - val_accuracy: 0.9333 - val_precision: 0.9333 - val_recall: 0.9333 - val_auc: 0.9978\n",
      "Epoch 314/500\n",
      "12/12 [==============================] - 0s 5ms/step - loss: 0.0466 - accuracy: 0.9889 - precision: 0.9889 - recall: 0.9889 - auc: 0.9996 - val_loss: 0.1243 - val_accuracy: 0.9333 - val_precision: 0.9333 - val_recall: 0.9333 - val_auc: 0.9978\n",
      "Epoch 315/500\n",
      "12/12 [==============================] - 0s 6ms/step - loss: 0.0605 - accuracy: 0.9889 - precision: 0.9889 - recall: 0.9889 - auc: 0.9985 - val_loss: 0.1140 - val_accuracy: 0.9333 - val_precision: 0.9333 - val_recall: 0.9333 - val_auc: 0.9978\n",
      "Epoch 316/500\n",
      "12/12 [==============================] - 0s 6ms/step - loss: 0.0589 - accuracy: 0.9778 - precision: 0.9778 - recall: 0.9778 - auc: 0.9990 - val_loss: 0.1259 - val_accuracy: 0.9333 - val_precision: 0.9333 - val_recall: 0.9333 - val_auc: 0.9978\n",
      "Epoch 317/500\n",
      "12/12 [==============================] - 0s 6ms/step - loss: 0.0436 - accuracy: 0.9889 - precision: 0.9889 - recall: 0.9889 - auc: 0.9995 - val_loss: 0.1348 - val_accuracy: 0.9333 - val_precision: 0.9333 - val_recall: 0.9333 - val_auc: 0.9978\n",
      "Epoch 318/500\n",
      "12/12 [==============================] - 0s 5ms/step - loss: 0.0532 - accuracy: 0.9778 - precision: 0.9778 - recall: 0.9778 - auc: 0.9994 - val_loss: 0.1415 - val_accuracy: 0.9333 - val_precision: 0.9333 - val_recall: 0.9333 - val_auc: 0.9978\n",
      "Epoch 319/500\n",
      "12/12 [==============================] - 0s 5ms/step - loss: 0.0533 - accuracy: 0.9778 - precision: 0.9778 - recall: 0.9778 - auc: 0.9992 - val_loss: 0.1095 - val_accuracy: 0.9333 - val_precision: 0.9333 - val_recall: 0.9333 - val_auc: 0.9978\n",
      "Epoch 320/500\n",
      "12/12 [==============================] - 0s 6ms/step - loss: 0.0347 - accuracy: 0.9889 - precision: 0.9889 - recall: 0.9889 - auc: 0.9998 - val_loss: 0.1103 - val_accuracy: 0.9333 - val_precision: 0.9333 - val_recall: 0.9333 - val_auc: 0.9978\n",
      "Epoch 321/500\n",
      "12/12 [==============================] - 0s 6ms/step - loss: 0.0363 - accuracy: 0.9889 - precision: 0.9889 - recall: 0.9889 - auc: 0.9997 - val_loss: 0.1368 - val_accuracy: 0.9333 - val_precision: 0.9333 - val_recall: 0.9333 - val_auc: 0.9978\n",
      "Epoch 322/500\n",
      "12/12 [==============================] - 0s 6ms/step - loss: 0.0528 - accuracy: 0.9778 - precision: 0.9778 - recall: 0.9778 - auc: 0.9991 - val_loss: 0.1189 - val_accuracy: 0.9333 - val_precision: 0.9333 - val_recall: 0.9333 - val_auc: 0.9978\n",
      "Epoch 323/500\n",
      "12/12 [==============================] - 0s 5ms/step - loss: 0.0456 - accuracy: 0.9889 - precision: 0.9889 - recall: 0.9889 - auc: 0.9987 - val_loss: 0.0950 - val_accuracy: 0.9333 - val_precision: 0.9333 - val_recall: 0.9333 - val_auc: 0.9978\n",
      "Epoch 324/500\n",
      "12/12 [==============================] - 0s 5ms/step - loss: 0.0326 - accuracy: 0.9889 - precision: 0.9889 - recall: 0.9889 - auc: 0.9998 - val_loss: 0.1113 - val_accuracy: 0.9333 - val_precision: 0.9333 - val_recall: 0.9333 - val_auc: 0.9978\n",
      "Epoch 325/500\n",
      "12/12 [==============================] - 0s 6ms/step - loss: 0.0665 - accuracy: 0.9778 - precision: 0.9778 - recall: 0.9778 - auc: 0.9988 - val_loss: 0.1516 - val_accuracy: 0.9333 - val_precision: 0.9333 - val_recall: 0.9333 - val_auc: 0.9978\n",
      "Epoch 326/500\n",
      "12/12 [==============================] - 0s 6ms/step - loss: 0.0469 - accuracy: 0.9778 - precision: 0.9778 - recall: 0.9778 - auc: 0.9995 - val_loss: 0.1127 - val_accuracy: 0.9333 - val_precision: 0.9333 - val_recall: 0.9333 - val_auc: 0.9978\n",
      "Epoch 327/500\n",
      "12/12 [==============================] - 0s 6ms/step - loss: 0.0821 - accuracy: 0.9778 - precision: 0.9778 - recall: 0.9778 - auc: 0.9978 - val_loss: 0.1282 - val_accuracy: 0.9333 - val_precision: 0.9333 - val_recall: 0.9333 - val_auc: 0.9978\n",
      "Epoch 328/500\n",
      "12/12 [==============================] - 0s 6ms/step - loss: 0.0656 - accuracy: 0.9667 - precision: 0.9667 - recall: 0.9667 - auc: 0.9992 - val_loss: 0.1083 - val_accuracy: 0.9333 - val_precision: 0.9333 - val_recall: 0.9333 - val_auc: 0.9978\n",
      "Epoch 329/500\n",
      "12/12 [==============================] - 0s 7ms/step - loss: 0.0378 - accuracy: 0.9778 - precision: 0.9778 - recall: 0.9778 - auc: 0.9996 - val_loss: 0.1202 - val_accuracy: 0.9333 - val_precision: 0.9333 - val_recall: 0.9333 - val_auc: 0.9978\n",
      "Epoch 330/500\n",
      "12/12 [==============================] - 0s 6ms/step - loss: 0.0634 - accuracy: 0.9667 - precision: 0.9667 - recall: 0.9667 - auc: 0.9985 - val_loss: 0.1217 - val_accuracy: 0.9333 - val_precision: 0.9333 - val_recall: 0.9333 - val_auc: 0.9978\n",
      "Epoch 331/500\n",
      "12/12 [==============================] - 0s 5ms/step - loss: 0.0424 - accuracy: 0.9889 - precision: 0.9889 - recall: 0.9889 - auc: 0.9997 - val_loss: 0.1390 - val_accuracy: 0.9333 - val_precision: 0.9333 - val_recall: 0.9333 - val_auc: 0.9978\n",
      "Epoch 332/500\n",
      "12/12 [==============================] - 0s 6ms/step - loss: 0.0537 - accuracy: 0.9889 - precision: 0.9889 - recall: 0.9889 - auc: 0.9993 - val_loss: 0.1233 - val_accuracy: 0.9333 - val_precision: 0.9333 - val_recall: 0.9333 - val_auc: 0.9978\n",
      "Epoch 333/500\n",
      "12/12 [==============================] - 0s 6ms/step - loss: 0.0397 - accuracy: 0.9889 - precision: 0.9889 - recall: 0.9889 - auc: 0.9998 - val_loss: 0.0760 - val_accuracy: 0.9333 - val_precision: 0.9333 - val_recall: 0.9333 - val_auc: 0.9978\n",
      "Epoch 334/500\n",
      "12/12 [==============================] - 0s 5ms/step - loss: 0.0618 - accuracy: 0.9778 - precision: 0.9778 - recall: 0.9778 - auc: 0.9991 - val_loss: 0.1167 - val_accuracy: 0.9333 - val_precision: 0.9333 - val_recall: 0.9333 - val_auc: 0.9978\n",
      "Epoch 335/500\n",
      "12/12 [==============================] - 0s 5ms/step - loss: 0.0697 - accuracy: 0.9889 - precision: 0.9889 - recall: 0.9889 - auc: 0.9976 - val_loss: 0.1163 - val_accuracy: 0.9333 - val_precision: 0.9333 - val_recall: 0.9333 - val_auc: 0.9978\n",
      "Epoch 336/500\n",
      "12/12 [==============================] - 0s 5ms/step - loss: 0.0305 - accuracy: 0.9889 - precision: 0.9889 - recall: 0.9889 - auc: 0.9999 - val_loss: 0.0980 - val_accuracy: 0.9333 - val_precision: 0.9333 - val_recall: 0.9333 - val_auc: 0.9978\n",
      "Epoch 337/500\n",
      "12/12 [==============================] - 0s 5ms/step - loss: 0.0528 - accuracy: 0.9778 - precision: 0.9778 - recall: 0.9778 - auc: 0.9996 - val_loss: 0.1065 - val_accuracy: 0.9333 - val_precision: 0.9333 - val_recall: 0.9333 - val_auc: 0.9978\n",
      "Epoch 338/500\n",
      "12/12 [==============================] - 0s 5ms/step - loss: 0.0284 - accuracy: 1.0000 - precision: 1.0000 - recall: 1.0000 - auc: 1.0000 - val_loss: 0.1541 - val_accuracy: 0.9333 - val_precision: 0.9333 - val_recall: 0.9333 - val_auc: 0.9978\n",
      "Epoch 339/500\n",
      "12/12 [==============================] - 0s 5ms/step - loss: 0.0416 - accuracy: 0.9889 - precision: 0.9889 - recall: 0.9889 - auc: 0.9997 - val_loss: 0.1887 - val_accuracy: 0.9333 - val_precision: 0.9333 - val_recall: 0.9333 - val_auc: 0.9978\n",
      "Epoch 340/500\n",
      "12/12 [==============================] - 0s 5ms/step - loss: 0.0691 - accuracy: 0.9889 - precision: 0.9889 - recall: 0.9889 - auc: 0.9980 - val_loss: 0.1520 - val_accuracy: 0.9333 - val_precision: 0.9333 - val_recall: 0.9333 - val_auc: 0.9978\n",
      "Epoch 341/500\n",
      "12/12 [==============================] - 0s 6ms/step - loss: 0.0586 - accuracy: 0.9889 - precision: 0.9889 - recall: 0.9889 - auc: 0.9989 - val_loss: 0.0815 - val_accuracy: 0.9333 - val_precision: 0.9333 - val_recall: 0.9333 - val_auc: 0.9978\n",
      "Epoch 342/500\n",
      "12/12 [==============================] - 0s 6ms/step - loss: 0.0566 - accuracy: 0.9778 - precision: 0.9778 - recall: 0.9778 - auc: 0.9988 - val_loss: 0.0828 - val_accuracy: 0.9333 - val_precision: 0.9333 - val_recall: 0.9333 - val_auc: 0.9978\n",
      "Epoch 343/500\n",
      "12/12 [==============================] - 0s 6ms/step - loss: 0.0425 - accuracy: 0.9889 - precision: 0.9889 - recall: 0.9889 - auc: 0.9992 - val_loss: 0.1811 - val_accuracy: 0.9333 - val_precision: 0.9333 - val_recall: 0.9333 - val_auc: 0.9978\n",
      "Epoch 344/500\n",
      "12/12 [==============================] - 0s 6ms/step - loss: 0.0736 - accuracy: 0.9667 - precision: 0.9667 - recall: 0.9667 - auc: 0.9983 - val_loss: 0.1022 - val_accuracy: 0.9333 - val_precision: 0.9333 - val_recall: 0.9333 - val_auc: 0.9978\n",
      "Epoch 345/500\n",
      "12/12 [==============================] - 0s 5ms/step - loss: 0.0427 - accuracy: 0.9889 - precision: 0.9889 - recall: 0.9889 - auc: 0.9994 - val_loss: 0.0523 - val_accuracy: 0.9667 - val_precision: 0.9667 - val_recall: 0.9667 - val_auc: 0.9994\n",
      "Epoch 346/500\n",
      "12/12 [==============================] - 0s 5ms/step - loss: 0.0356 - accuracy: 0.9778 - precision: 0.9778 - recall: 0.9778 - auc: 0.9998 - val_loss: 0.1177 - val_accuracy: 0.9333 - val_precision: 0.9333 - val_recall: 0.9333 - val_auc: 0.9978\n",
      "Epoch 347/500\n",
      "12/12 [==============================] - 0s 6ms/step - loss: 0.0715 - accuracy: 0.9778 - precision: 0.9778 - recall: 0.9778 - auc: 0.9986 - val_loss: 0.1753 - val_accuracy: 0.9333 - val_precision: 0.9333 - val_recall: 0.9333 - val_auc: 0.9978\n",
      "Epoch 348/500\n",
      "12/12 [==============================] - 0s 6ms/step - loss: 0.0402 - accuracy: 0.9889 - precision: 0.9889 - recall: 0.9889 - auc: 0.9994 - val_loss: 0.1621 - val_accuracy: 0.9333 - val_precision: 0.9333 - val_recall: 0.9333 - val_auc: 0.9978\n",
      "Epoch 349/500\n",
      "12/12 [==============================] - 0s 6ms/step - loss: 0.0391 - accuracy: 0.9889 - precision: 0.9889 - recall: 0.9889 - auc: 0.9994 - val_loss: 0.1355 - val_accuracy: 0.9333 - val_precision: 0.9333 - val_recall: 0.9333 - val_auc: 0.9978\n",
      "Epoch 350/500\n",
      "12/12 [==============================] - 0s 6ms/step - loss: 0.0701 - accuracy: 0.9778 - precision: 0.9778 - recall: 0.9778 - auc: 0.9988 - val_loss: 0.1411 - val_accuracy: 0.9333 - val_precision: 0.9333 - val_recall: 0.9333 - val_auc: 0.9978\n",
      "Epoch 351/500\n",
      "12/12 [==============================] - 0s 6ms/step - loss: 0.0543 - accuracy: 0.9778 - precision: 0.9778 - recall: 0.9778 - auc: 0.9993 - val_loss: 0.1253 - val_accuracy: 0.9333 - val_precision: 0.9333 - val_recall: 0.9333 - val_auc: 0.9978\n",
      "Epoch 352/500\n",
      "12/12 [==============================] - 0s 6ms/step - loss: 0.0680 - accuracy: 0.9667 - precision: 0.9667 - recall: 0.9667 - auc: 0.9986 - val_loss: 0.0908 - val_accuracy: 0.9333 - val_precision: 0.9333 - val_recall: 0.9333 - val_auc: 0.9978\n",
      "Epoch 353/500\n",
      "12/12 [==============================] - 0s 6ms/step - loss: 0.0549 - accuracy: 0.9889 - precision: 0.9889 - recall: 0.9889 - auc: 0.9989 - val_loss: 0.1332 - val_accuracy: 0.9333 - val_precision: 0.9333 - val_recall: 0.9333 - val_auc: 0.9978\n",
      "Epoch 354/500\n",
      "12/12 [==============================] - 0s 6ms/step - loss: 0.0627 - accuracy: 0.9667 - precision: 0.9667 - recall: 0.9667 - auc: 0.9990 - val_loss: 0.1474 - val_accuracy: 0.9333 - val_precision: 0.9333 - val_recall: 0.9333 - val_auc: 0.9978\n",
      "Epoch 355/500\n",
      "12/12 [==============================] - 0s 10ms/step - loss: 0.0395 - accuracy: 0.9889 - precision: 0.9889 - recall: 0.9889 - auc: 0.9996 - val_loss: 0.1535 - val_accuracy: 0.9333 - val_precision: 0.9333 - val_recall: 0.9333 - val_auc: 0.9978\n",
      "Epoch 356/500\n",
      "12/12 [==============================] - 0s 6ms/step - loss: 0.0361 - accuracy: 0.9889 - precision: 0.9889 - recall: 0.9889 - auc: 0.9997 - val_loss: 0.1579 - val_accuracy: 0.9333 - val_precision: 0.9333 - val_recall: 0.9333 - val_auc: 0.9978\n",
      "Epoch 357/500\n",
      "12/12 [==============================] - 0s 6ms/step - loss: 0.0413 - accuracy: 0.9889 - precision: 0.9889 - recall: 0.9889 - auc: 0.9991 - val_loss: 0.1500 - val_accuracy: 0.9333 - val_precision: 0.9333 - val_recall: 0.9333 - val_auc: 0.9978\n",
      "Epoch 358/500\n",
      "12/12 [==============================] - 0s 6ms/step - loss: 0.0592 - accuracy: 0.9889 - precision: 0.9889 - recall: 0.9889 - auc: 0.9986 - val_loss: 0.1211 - val_accuracy: 0.9333 - val_precision: 0.9333 - val_recall: 0.9333 - val_auc: 0.9978\n",
      "Epoch 359/500\n",
      "12/12 [==============================] - 0s 6ms/step - loss: 0.0540 - accuracy: 0.9889 - precision: 0.9889 - recall: 0.9889 - auc: 0.9993 - val_loss: 0.1016 - val_accuracy: 0.9333 - val_precision: 0.9333 - val_recall: 0.9333 - val_auc: 0.9978\n",
      "Epoch 360/500\n",
      "12/12 [==============================] - 0s 6ms/step - loss: 0.0408 - accuracy: 0.9889 - precision: 0.9889 - recall: 0.9889 - auc: 0.9994 - val_loss: 0.1380 - val_accuracy: 0.9333 - val_precision: 0.9333 - val_recall: 0.9333 - val_auc: 0.9978\n",
      "Epoch 361/500\n",
      "12/12 [==============================] - 0s 6ms/step - loss: 0.0236 - accuracy: 0.9889 - precision: 0.9889 - recall: 0.9889 - auc: 0.9999 - val_loss: 0.1624 - val_accuracy: 0.9333 - val_precision: 0.9333 - val_recall: 0.9333 - val_auc: 0.9978\n",
      "Epoch 362/500\n",
      "12/12 [==============================] - 0s 6ms/step - loss: 0.0481 - accuracy: 0.9778 - precision: 0.9778 - recall: 0.9778 - auc: 0.9995 - val_loss: 0.1702 - val_accuracy: 0.9333 - val_precision: 0.9333 - val_recall: 0.9333 - val_auc: 0.9978\n",
      "Epoch 363/500\n",
      "12/12 [==============================] - 0s 6ms/step - loss: 0.0574 - accuracy: 0.9889 - precision: 0.9889 - recall: 0.9889 - auc: 0.9988 - val_loss: 0.1552 - val_accuracy: 0.9333 - val_precision: 0.9333 - val_recall: 0.9333 - val_auc: 0.9978\n",
      "Epoch 364/500\n",
      "12/12 [==============================] - 0s 6ms/step - loss: 0.0405 - accuracy: 0.9889 - precision: 0.9889 - recall: 0.9889 - auc: 0.9993 - val_loss: 0.0776 - val_accuracy: 0.9333 - val_precision: 0.9333 - val_recall: 0.9333 - val_auc: 0.9978\n",
      "Epoch 365/500\n",
      "12/12 [==============================] - 0s 6ms/step - loss: 0.0456 - accuracy: 0.9778 - precision: 0.9778 - recall: 0.9778 - auc: 0.9994 - val_loss: 0.1205 - val_accuracy: 0.9333 - val_precision: 0.9333 - val_recall: 0.9333 - val_auc: 0.9978\n",
      "Epoch 366/500\n",
      "12/12 [==============================] - 0s 6ms/step - loss: 0.0498 - accuracy: 0.9889 - precision: 0.9889 - recall: 0.9889 - auc: 0.9991 - val_loss: 0.1253 - val_accuracy: 0.9333 - val_precision: 0.9333 - val_recall: 0.9333 - val_auc: 0.9978\n",
      "Epoch 367/500\n",
      "12/12 [==============================] - 0s 6ms/step - loss: 0.0448 - accuracy: 0.9778 - precision: 0.9778 - recall: 0.9778 - auc: 0.9995 - val_loss: 0.1284 - val_accuracy: 0.9333 - val_precision: 0.9333 - val_recall: 0.9333 - val_auc: 0.9978\n",
      "Epoch 368/500\n",
      "12/12 [==============================] - 0s 6ms/step - loss: 0.0330 - accuracy: 0.9889 - precision: 0.9889 - recall: 0.9889 - auc: 0.9997 - val_loss: 0.1458 - val_accuracy: 0.9333 - val_precision: 0.9333 - val_recall: 0.9333 - val_auc: 0.9978\n",
      "Epoch 369/500\n",
      "12/12 [==============================] - 0s 7ms/step - loss: 0.0386 - accuracy: 0.9889 - precision: 0.9889 - recall: 0.9889 - auc: 0.9996 - val_loss: 0.1219 - val_accuracy: 0.9333 - val_precision: 0.9333 - val_recall: 0.9333 - val_auc: 0.9978\n",
      "Epoch 370/500\n",
      "12/12 [==============================] - 0s 6ms/step - loss: 0.0321 - accuracy: 0.9889 - precision: 0.9889 - recall: 0.9889 - auc: 0.9998 - val_loss: 0.1588 - val_accuracy: 0.9333 - val_precision: 0.9333 - val_recall: 0.9333 - val_auc: 0.9978\n",
      "Epoch 371/500\n",
      "12/12 [==============================] - 0s 6ms/step - loss: 0.0481 - accuracy: 0.9778 - precision: 0.9778 - recall: 0.9778 - auc: 0.9994 - val_loss: 0.1832 - val_accuracy: 0.9333 - val_precision: 0.9333 - val_recall: 0.9333 - val_auc: 0.9978\n",
      "Epoch 372/500\n",
      "12/12 [==============================] - 0s 6ms/step - loss: 0.0437 - accuracy: 0.9889 - precision: 0.9889 - recall: 0.9889 - auc: 0.9991 - val_loss: 0.1726 - val_accuracy: 0.9333 - val_precision: 0.9333 - val_recall: 0.9333 - val_auc: 0.9978\n",
      "Epoch 373/500\n",
      "12/12 [==============================] - 0s 6ms/step - loss: 0.0757 - accuracy: 0.9889 - precision: 0.9889 - recall: 0.9889 - auc: 0.9905 - val_loss: 0.1438 - val_accuracy: 0.9333 - val_precision: 0.9333 - val_recall: 0.9333 - val_auc: 0.9978\n",
      "Epoch 374/500\n",
      "12/12 [==============================] - 0s 6ms/step - loss: 0.0553 - accuracy: 0.9778 - precision: 0.9778 - recall: 0.9778 - auc: 0.9993 - val_loss: 0.1540 - val_accuracy: 0.9333 - val_precision: 0.9333 - val_recall: 0.9333 - val_auc: 0.9978\n",
      "Epoch 375/500\n",
      "12/12 [==============================] - 0s 6ms/step - loss: 0.0770 - accuracy: 0.9889 - precision: 0.9889 - recall: 0.9889 - auc: 0.9977 - val_loss: 0.1331 - val_accuracy: 0.9333 - val_precision: 0.9333 - val_recall: 0.9333 - val_auc: 0.9978\n",
      "Epoch 376/500\n",
      "12/12 [==============================] - 0s 8ms/step - loss: 0.0324 - accuracy: 0.9889 - precision: 0.9889 - recall: 0.9889 - auc: 0.9998 - val_loss: 0.1652 - val_accuracy: 0.9333 - val_precision: 0.9333 - val_recall: 0.9333 - val_auc: 0.9967\n",
      "Epoch 377/500\n",
      "12/12 [==============================] - 0s 7ms/step - loss: 0.0374 - accuracy: 0.9889 - precision: 0.9889 - recall: 0.9889 - auc: 0.9997 - val_loss: 0.1672 - val_accuracy: 0.9333 - val_precision: 0.9333 - val_recall: 0.9333 - val_auc: 0.9972\n",
      "Epoch 378/500\n",
      "12/12 [==============================] - 0s 6ms/step - loss: 0.0460 - accuracy: 0.9889 - precision: 0.9889 - recall: 0.9889 - auc: 0.9992 - val_loss: 0.1139 - val_accuracy: 0.9333 - val_precision: 0.9333 - val_recall: 0.9333 - val_auc: 0.9978\n",
      "Epoch 379/500\n",
      "12/12 [==============================] - 0s 6ms/step - loss: 0.0337 - accuracy: 0.9889 - precision: 0.9889 - recall: 0.9889 - auc: 0.9997 - val_loss: 0.0767 - val_accuracy: 0.9333 - val_precision: 0.9333 - val_recall: 0.9333 - val_auc: 0.9978\n",
      "Epoch 380/500\n",
      "12/12 [==============================] - 0s 9ms/step - loss: 0.1081 - accuracy: 0.9556 - precision: 0.9556 - recall: 0.9556 - auc: 0.9973 - val_loss: 0.0655 - val_accuracy: 0.9667 - val_precision: 0.9667 - val_recall: 0.9667 - val_auc: 0.9983\n",
      "Epoch 381/500\n",
      "12/12 [==============================] - 0s 7ms/step - loss: 0.0369 - accuracy: 0.9889 - precision: 0.9889 - recall: 0.9889 - auc: 0.9996 - val_loss: 0.1570 - val_accuracy: 0.9333 - val_precision: 0.9333 - val_recall: 0.9333 - val_auc: 0.9978\n",
      "Epoch 382/500\n",
      "12/12 [==============================] - 0s 6ms/step - loss: 0.0363 - accuracy: 0.9889 - precision: 0.9889 - recall: 0.9889 - auc: 0.9998 - val_loss: 0.1647 - val_accuracy: 0.9333 - val_precision: 0.9333 - val_recall: 0.9333 - val_auc: 0.9972\n",
      "Epoch 383/500\n",
      "12/12 [==============================] - 0s 6ms/step - loss: 0.0450 - accuracy: 0.9778 - precision: 0.9778 - recall: 0.9778 - auc: 0.9998 - val_loss: 0.0919 - val_accuracy: 0.9333 - val_precision: 0.9333 - val_recall: 0.9333 - val_auc: 0.9978\n",
      "Epoch 384/500\n",
      "12/12 [==============================] - 0s 6ms/step - loss: 0.0957 - accuracy: 0.9778 - precision: 0.9778 - recall: 0.9778 - auc: 0.9964 - val_loss: 0.0990 - val_accuracy: 0.9333 - val_precision: 0.9333 - val_recall: 0.9333 - val_auc: 0.9978\n",
      "Epoch 385/500\n",
      "12/12 [==============================] - 0s 6ms/step - loss: 0.0546 - accuracy: 0.9778 - precision: 0.9778 - recall: 0.9778 - auc: 0.9993 - val_loss: 0.1415 - val_accuracy: 0.9333 - val_precision: 0.9333 - val_recall: 0.9333 - val_auc: 0.9978\n",
      "Epoch 386/500\n",
      "12/12 [==============================] - 0s 6ms/step - loss: 0.0369 - accuracy: 0.9889 - precision: 0.9889 - recall: 0.9889 - auc: 0.9997 - val_loss: 0.1464 - val_accuracy: 0.9333 - val_precision: 0.9333 - val_recall: 0.9333 - val_auc: 0.9978\n",
      "Epoch 387/500\n",
      "12/12 [==============================] - 0s 6ms/step - loss: 0.0338 - accuracy: 0.9889 - precision: 0.9889 - recall: 0.9889 - auc: 0.9998 - val_loss: 0.1420 - val_accuracy: 0.9333 - val_precision: 0.9333 - val_recall: 0.9333 - val_auc: 0.9978\n",
      "Epoch 388/500\n",
      "12/12 [==============================] - 0s 6ms/step - loss: 0.0421 - accuracy: 0.9889 - precision: 0.9889 - recall: 0.9889 - auc: 0.9996 - val_loss: 0.1571 - val_accuracy: 0.9333 - val_precision: 0.9333 - val_recall: 0.9333 - val_auc: 0.9978\n",
      "Epoch 389/500\n",
      "12/12 [==============================] - 0s 6ms/step - loss: 0.0360 - accuracy: 0.9889 - precision: 0.9889 - recall: 0.9889 - auc: 0.9997 - val_loss: 0.1260 - val_accuracy: 0.9333 - val_precision: 0.9333 - val_recall: 0.9333 - val_auc: 0.9978\n",
      "Epoch 390/500\n",
      "12/12 [==============================] - 0s 6ms/step - loss: 0.0509 - accuracy: 0.9778 - precision: 0.9778 - recall: 0.9778 - auc: 0.9995 - val_loss: 0.2094 - val_accuracy: 0.9333 - val_precision: 0.9333 - val_recall: 0.9333 - val_auc: 0.9972\n",
      "Epoch 391/500\n",
      "12/12 [==============================] - 0s 6ms/step - loss: 0.0480 - accuracy: 0.9889 - precision: 0.9889 - recall: 0.9889 - auc: 0.9992 - val_loss: 0.2018 - val_accuracy: 0.9333 - val_precision: 0.9333 - val_recall: 0.9333 - val_auc: 0.9978\n",
      "Epoch 392/500\n",
      "12/12 [==============================] - 0s 6ms/step - loss: 0.0811 - accuracy: 0.9889 - precision: 0.9889 - recall: 0.9889 - auc: 0.9907 - val_loss: 0.1266 - val_accuracy: 0.9333 - val_precision: 0.9333 - val_recall: 0.9333 - val_auc: 0.9978\n",
      "Epoch 393/500\n",
      "12/12 [==============================] - 0s 6ms/step - loss: 0.0477 - accuracy: 0.9889 - precision: 0.9889 - recall: 0.9889 - auc: 0.9989 - val_loss: 0.0571 - val_accuracy: 0.9667 - val_precision: 0.9667 - val_recall: 0.9667 - val_auc: 0.9983\n",
      "Epoch 394/500\n",
      "12/12 [==============================] - 0s 6ms/step - loss: 0.3133 - accuracy: 0.9667 - precision: 0.9667 - recall: 0.9667 - auc: 0.9889 - val_loss: 0.1144 - val_accuracy: 0.9333 - val_precision: 0.9333 - val_recall: 0.9333 - val_auc: 0.9978\n",
      "Epoch 395/500\n",
      "12/12 [==============================] - 0s 6ms/step - loss: 0.0708 - accuracy: 0.9889 - precision: 0.9889 - recall: 0.9889 - auc: 0.9983 - val_loss: 0.0888 - val_accuracy: 0.9333 - val_precision: 0.9333 - val_recall: 0.9333 - val_auc: 0.9978\n",
      "Epoch 396/500\n",
      "12/12 [==============================] - 0s 7ms/step - loss: 0.2208 - accuracy: 0.9556 - precision: 0.9556 - recall: 0.9556 - auc: 0.9844 - val_loss: 0.1025 - val_accuracy: 0.9333 - val_precision: 0.9333 - val_recall: 0.9333 - val_auc: 0.9978\n",
      "Epoch 397/500\n",
      "12/12 [==============================] - 0s 6ms/step - loss: 0.0552 - accuracy: 0.9889 - precision: 0.9888 - recall: 0.9778 - auc: 0.9991 - val_loss: 0.1083 - val_accuracy: 0.9333 - val_precision: 0.9333 - val_recall: 0.9333 - val_auc: 0.9978\n",
      "Epoch 398/500\n",
      "12/12 [==============================] - 0s 6ms/step - loss: 0.0485 - accuracy: 0.9778 - precision: 0.9778 - recall: 0.9778 - auc: 0.9994 - val_loss: 0.1362 - val_accuracy: 0.9333 - val_precision: 0.9333 - val_recall: 0.9333 - val_auc: 0.9978\n",
      "Epoch 399/500\n",
      "12/12 [==============================] - 0s 6ms/step - loss: 0.0670 - accuracy: 0.9667 - precision: 0.9667 - recall: 0.9667 - auc: 0.9987 - val_loss: 0.1373 - val_accuracy: 0.9333 - val_precision: 0.9333 - val_recall: 0.9333 - val_auc: 0.9978\n",
      "Epoch 400/500\n",
      "12/12 [==============================] - 0s 6ms/step - loss: 0.0512 - accuracy: 0.9889 - precision: 0.9889 - recall: 0.9889 - auc: 0.9992 - val_loss: 0.1124 - val_accuracy: 0.9333 - val_precision: 0.9333 - val_recall: 0.9333 - val_auc: 0.9978\n",
      "Epoch 401/500\n",
      "12/12 [==============================] - 0s 6ms/step - loss: 0.0493 - accuracy: 0.9778 - precision: 0.9778 - recall: 0.9778 - auc: 0.9994 - val_loss: 0.1056 - val_accuracy: 0.9333 - val_precision: 0.9333 - val_recall: 0.9333 - val_auc: 0.9978\n",
      "Epoch 402/500\n",
      "12/12 [==============================] - 0s 8ms/step - loss: 0.0486 - accuracy: 0.9778 - precision: 0.9778 - recall: 0.9778 - auc: 0.9993 - val_loss: 0.1424 - val_accuracy: 0.9333 - val_precision: 0.9333 - val_recall: 0.9333 - val_auc: 0.9978\n",
      "Epoch 403/500\n",
      "12/12 [==============================] - 0s 6ms/step - loss: 0.0596 - accuracy: 0.9667 - precision: 0.9667 - recall: 0.9667 - auc: 0.9993 - val_loss: 0.1216 - val_accuracy: 0.9333 - val_precision: 0.9333 - val_recall: 0.9333 - val_auc: 0.9978\n",
      "Epoch 404/500\n",
      "12/12 [==============================] - 0s 6ms/step - loss: 0.0496 - accuracy: 0.9889 - precision: 0.9889 - recall: 0.9889 - auc: 0.9993 - val_loss: 0.1312 - val_accuracy: 0.9333 - val_precision: 0.9333 - val_recall: 0.9333 - val_auc: 0.9978\n",
      "Epoch 405/500\n",
      "12/12 [==============================] - 0s 6ms/step - loss: 0.0523 - accuracy: 0.9778 - precision: 0.9778 - recall: 0.9778 - auc: 0.9995 - val_loss: 0.1100 - val_accuracy: 0.9333 - val_precision: 0.9333 - val_recall: 0.9333 - val_auc: 0.9978\n",
      "Epoch 406/500\n",
      "12/12 [==============================] - 0s 6ms/step - loss: 0.0310 - accuracy: 0.9889 - precision: 0.9889 - recall: 0.9889 - auc: 0.9998 - val_loss: 0.1040 - val_accuracy: 0.9333 - val_precision: 0.9333 - val_recall: 0.9333 - val_auc: 0.9978\n",
      "Epoch 407/500\n",
      "12/12 [==============================] - 0s 6ms/step - loss: 0.0482 - accuracy: 0.9778 - precision: 0.9778 - recall: 0.9778 - auc: 0.9994 - val_loss: 0.1196 - val_accuracy: 0.9333 - val_precision: 0.9333 - val_recall: 0.9333 - val_auc: 0.9978\n",
      "Epoch 408/500\n",
      "12/12 [==============================] - 0s 5ms/step - loss: 0.0803 - accuracy: 0.9778 - precision: 0.9778 - recall: 0.9778 - auc: 0.9968 - val_loss: 0.1111 - val_accuracy: 0.9333 - val_precision: 0.9333 - val_recall: 0.9333 - val_auc: 0.9978\n",
      "Epoch 409/500\n",
      "12/12 [==============================] - 0s 5ms/step - loss: 0.0477 - accuracy: 0.9889 - precision: 0.9889 - recall: 0.9889 - auc: 0.9989 - val_loss: 0.1584 - val_accuracy: 0.9333 - val_precision: 0.9333 - val_recall: 0.9333 - val_auc: 0.9978\n",
      "Epoch 410/500\n",
      "12/12 [==============================] - 0s 6ms/step - loss: 0.0520 - accuracy: 0.9778 - precision: 0.9778 - recall: 0.9778 - auc: 0.9993 - val_loss: 0.1320 - val_accuracy: 0.9333 - val_precision: 0.9333 - val_recall: 0.9333 - val_auc: 0.9978\n",
      "Epoch 411/500\n",
      "12/12 [==============================] - 0s 5ms/step - loss: 0.0331 - accuracy: 0.9889 - precision: 0.9889 - recall: 0.9889 - auc: 0.9998 - val_loss: 0.0998 - val_accuracy: 0.9333 - val_precision: 0.9333 - val_recall: 0.9333 - val_auc: 0.9978\n",
      "Epoch 412/500\n",
      "12/12 [==============================] - 0s 6ms/step - loss: 0.0978 - accuracy: 0.9778 - precision: 0.9778 - recall: 0.9778 - auc: 0.9975 - val_loss: 0.1538 - val_accuracy: 0.9333 - val_precision: 0.9333 - val_recall: 0.9333 - val_auc: 0.9978\n",
      "Epoch 413/500\n",
      "12/12 [==============================] - 0s 6ms/step - loss: 0.0874 - accuracy: 0.9667 - precision: 0.9667 - recall: 0.9667 - auc: 0.9980 - val_loss: 0.1725 - val_accuracy: 0.9333 - val_precision: 0.9333 - val_recall: 0.9333 - val_auc: 0.9944\n",
      "Epoch 414/500\n",
      "12/12 [==============================] - 0s 5ms/step - loss: 0.0555 - accuracy: 0.9778 - precision: 0.9778 - recall: 0.9778 - auc: 0.9991 - val_loss: 0.0938 - val_accuracy: 0.9333 - val_precision: 0.9333 - val_recall: 0.9333 - val_auc: 0.9978\n",
      "Epoch 415/500\n",
      "12/12 [==============================] - 0s 6ms/step - loss: 0.0402 - accuracy: 0.9889 - precision: 0.9889 - recall: 0.9889 - auc: 0.9998 - val_loss: 0.0836 - val_accuracy: 0.9333 - val_precision: 0.9333 - val_recall: 0.9333 - val_auc: 0.9978\n",
      "Epoch 416/500\n",
      "12/12 [==============================] - 0s 6ms/step - loss: 0.0410 - accuracy: 0.9889 - precision: 0.9889 - recall: 0.9889 - auc: 0.9997 - val_loss: 0.0994 - val_accuracy: 0.9333 - val_precision: 0.9333 - val_recall: 0.9333 - val_auc: 0.9978\n",
      "Epoch 417/500\n",
      "12/12 [==============================] - 0s 6ms/step - loss: 0.0206 - accuracy: 0.9889 - precision: 0.9889 - recall: 0.9889 - auc: 0.9999 - val_loss: 0.1271 - val_accuracy: 0.9333 - val_precision: 0.9333 - val_recall: 0.9333 - val_auc: 0.9978\n",
      "Epoch 418/500\n",
      "12/12 [==============================] - 0s 6ms/step - loss: 0.0323 - accuracy: 0.9889 - precision: 0.9889 - recall: 0.9889 - auc: 0.9998 - val_loss: 0.1408 - val_accuracy: 0.9333 - val_precision: 0.9333 - val_recall: 0.9333 - val_auc: 0.9978\n",
      "Epoch 419/500\n",
      "12/12 [==============================] - 0s 6ms/step - loss: 0.0527 - accuracy: 0.9889 - precision: 0.9889 - recall: 0.9889 - auc: 0.9993 - val_loss: 0.0871 - val_accuracy: 0.9333 - val_precision: 0.9333 - val_recall: 0.9333 - val_auc: 0.9978\n",
      "Epoch 420/500\n",
      "12/12 [==============================] - 0s 5ms/step - loss: 0.0411 - accuracy: 0.9889 - precision: 0.9889 - recall: 0.9889 - auc: 0.9993 - val_loss: 0.1197 - val_accuracy: 0.9333 - val_precision: 0.9333 - val_recall: 0.9333 - val_auc: 0.9978\n",
      "Epoch 421/500\n",
      "12/12 [==============================] - 0s 5ms/step - loss: 0.0459 - accuracy: 0.9889 - precision: 0.9889 - recall: 0.9889 - auc: 0.9995 - val_loss: 0.1443 - val_accuracy: 0.9333 - val_precision: 0.9333 - val_recall: 0.9333 - val_auc: 0.9978\n",
      "Epoch 422/500\n",
      "12/12 [==============================] - 0s 5ms/step - loss: 0.0751 - accuracy: 0.9778 - precision: 0.9778 - recall: 0.9778 - auc: 0.9987 - val_loss: 0.1224 - val_accuracy: 0.9333 - val_precision: 0.9333 - val_recall: 0.9333 - val_auc: 0.9978\n",
      "Epoch 423/500\n",
      "12/12 [==============================] - 0s 6ms/step - loss: 0.0557 - accuracy: 0.9889 - precision: 0.9889 - recall: 0.9889 - auc: 0.9991 - val_loss: 0.1418 - val_accuracy: 0.9333 - val_precision: 0.9333 - val_recall: 0.9333 - val_auc: 0.9978\n",
      "Epoch 424/500\n",
      "12/12 [==============================] - 0s 7ms/step - loss: 0.0442 - accuracy: 0.9889 - precision: 0.9889 - recall: 0.9889 - auc: 0.9993 - val_loss: 0.1194 - val_accuracy: 0.9333 - val_precision: 0.9333 - val_recall: 0.9333 - val_auc: 0.9978\n",
      "Epoch 425/500\n",
      "12/12 [==============================] - 0s 6ms/step - loss: 0.0317 - accuracy: 0.9778 - precision: 0.9778 - recall: 0.9778 - auc: 0.9998 - val_loss: 0.1298 - val_accuracy: 0.9333 - val_precision: 0.9333 - val_recall: 0.9333 - val_auc: 0.9978\n",
      "Epoch 426/500\n",
      "12/12 [==============================] - 0s 6ms/step - loss: 0.0336 - accuracy: 0.9889 - precision: 0.9889 - recall: 0.9889 - auc: 0.9997 - val_loss: 0.1566 - val_accuracy: 0.9333 - val_precision: 0.9333 - val_recall: 0.9333 - val_auc: 0.9978\n",
      "Epoch 427/500\n",
      "12/12 [==============================] - 0s 6ms/step - loss: 0.0592 - accuracy: 0.9778 - precision: 0.9778 - recall: 0.9778 - auc: 0.9990 - val_loss: 0.0906 - val_accuracy: 0.9333 - val_precision: 0.9333 - val_recall: 0.9333 - val_auc: 0.9978\n",
      "Epoch 428/500\n",
      "12/12 [==============================] - 0s 6ms/step - loss: 0.0630 - accuracy: 0.9556 - precision: 0.9556 - recall: 0.9556 - auc: 0.9990 - val_loss: 0.1155 - val_accuracy: 0.9333 - val_precision: 0.9333 - val_recall: 0.9333 - val_auc: 0.9978\n",
      "Epoch 429/500\n",
      "12/12 [==============================] - 0s 6ms/step - loss: 0.0573 - accuracy: 0.9889 - precision: 0.9889 - recall: 0.9889 - auc: 0.9983 - val_loss: 0.1515 - val_accuracy: 0.9333 - val_precision: 0.9333 - val_recall: 0.9333 - val_auc: 0.9978\n",
      "Epoch 430/500\n",
      "12/12 [==============================] - 0s 5ms/step - loss: 0.0413 - accuracy: 0.9889 - precision: 0.9889 - recall: 0.9889 - auc: 0.9996 - val_loss: 0.1332 - val_accuracy: 0.9333 - val_precision: 0.9333 - val_recall: 0.9333 - val_auc: 0.9978\n",
      "Epoch 431/500\n",
      "12/12 [==============================] - 0s 6ms/step - loss: 0.0383 - accuracy: 0.9889 - precision: 0.9889 - recall: 0.9889 - auc: 0.9997 - val_loss: 0.1397 - val_accuracy: 0.9333 - val_precision: 0.9333 - val_recall: 0.9333 - val_auc: 0.9978\n",
      "Epoch 432/500\n",
      "12/12 [==============================] - 0s 5ms/step - loss: 0.0251 - accuracy: 0.9889 - precision: 0.9889 - recall: 0.9889 - auc: 0.9999 - val_loss: 0.1231 - val_accuracy: 0.9333 - val_precision: 0.9333 - val_recall: 0.9333 - val_auc: 0.9978\n",
      "Epoch 433/500\n",
      "12/12 [==============================] - 0s 5ms/step - loss: 0.0362 - accuracy: 0.9889 - precision: 0.9889 - recall: 0.9889 - auc: 0.9996 - val_loss: 0.1048 - val_accuracy: 0.9333 - val_precision: 0.9333 - val_recall: 0.9333 - val_auc: 0.9978\n",
      "Epoch 434/500\n",
      "12/12 [==============================] - 0s 5ms/step - loss: 0.0398 - accuracy: 0.9889 - precision: 0.9889 - recall: 0.9889 - auc: 0.9997 - val_loss: 0.1106 - val_accuracy: 0.9333 - val_precision: 0.9333 - val_recall: 0.9333 - val_auc: 0.9978\n",
      "Epoch 435/500\n",
      "12/12 [==============================] - 0s 6ms/step - loss: 0.0810 - accuracy: 0.9778 - precision: 0.9778 - recall: 0.9778 - auc: 0.9983 - val_loss: 0.0946 - val_accuracy: 0.9333 - val_precision: 0.9333 - val_recall: 0.9333 - val_auc: 0.9978\n",
      "Epoch 436/500\n",
      "12/12 [==============================] - 0s 6ms/step - loss: 0.0457 - accuracy: 0.9889 - precision: 0.9889 - recall: 0.9889 - auc: 0.9992 - val_loss: 0.1337 - val_accuracy: 0.9333 - val_precision: 0.9333 - val_recall: 0.9333 - val_auc: 0.9978\n",
      "Epoch 437/500\n",
      "12/12 [==============================] - 0s 6ms/step - loss: 0.0464 - accuracy: 0.9889 - precision: 0.9889 - recall: 0.9889 - auc: 0.9998 - val_loss: 0.1568 - val_accuracy: 0.9333 - val_precision: 0.9333 - val_recall: 0.9333 - val_auc: 0.9978\n",
      "Epoch 438/500\n",
      "12/12 [==============================] - 0s 6ms/step - loss: 0.0329 - accuracy: 0.9889 - precision: 0.9889 - recall: 0.9889 - auc: 0.9997 - val_loss: 0.1329 - val_accuracy: 0.9333 - val_precision: 0.9333 - val_recall: 0.9333 - val_auc: 0.9978\n",
      "Epoch 439/500\n",
      "12/12 [==============================] - 0s 6ms/step - loss: 0.0388 - accuracy: 0.9778 - precision: 0.9778 - recall: 0.9778 - auc: 0.9998 - val_loss: 0.1414 - val_accuracy: 0.9333 - val_precision: 0.9333 - val_recall: 0.9333 - val_auc: 0.9978\n",
      "Epoch 440/500\n",
      "12/12 [==============================] - 0s 6ms/step - loss: 0.0573 - accuracy: 0.9889 - precision: 0.9889 - recall: 0.9889 - auc: 0.9986 - val_loss: 0.1381 - val_accuracy: 0.9333 - val_precision: 0.9333 - val_recall: 0.9333 - val_auc: 0.9978\n",
      "Epoch 441/500\n",
      "12/12 [==============================] - 0s 6ms/step - loss: 0.0228 - accuracy: 0.9889 - precision: 0.9889 - recall: 0.9889 - auc: 0.9998 - val_loss: 0.1361 - val_accuracy: 0.9333 - val_precision: 0.9333 - val_recall: 0.9333 - val_auc: 0.9978\n",
      "Epoch 442/500\n",
      "12/12 [==============================] - 0s 6ms/step - loss: 0.0335 - accuracy: 0.9889 - precision: 0.9889 - recall: 0.9889 - auc: 0.9997 - val_loss: 0.1179 - val_accuracy: 0.9333 - val_precision: 0.9333 - val_recall: 0.9333 - val_auc: 0.9978\n",
      "Epoch 443/500\n",
      "12/12 [==============================] - 0s 5ms/step - loss: 0.0633 - accuracy: 0.9778 - precision: 0.9778 - recall: 0.9778 - auc: 0.9988 - val_loss: 0.1465 - val_accuracy: 0.9333 - val_precision: 0.9333 - val_recall: 0.9333 - val_auc: 0.9978\n",
      "Epoch 444/500\n",
      "12/12 [==============================] - 0s 6ms/step - loss: 0.0278 - accuracy: 0.9889 - precision: 0.9889 - recall: 0.9889 - auc: 0.9999 - val_loss: 0.1662 - val_accuracy: 0.9333 - val_precision: 0.9333 - val_recall: 0.9333 - val_auc: 0.9978\n",
      "Epoch 445/500\n",
      "12/12 [==============================] - 0s 7ms/step - loss: 0.0652 - accuracy: 0.9889 - precision: 0.9889 - recall: 0.9889 - auc: 0.9986 - val_loss: 0.1473 - val_accuracy: 0.9333 - val_precision: 0.9333 - val_recall: 0.9333 - val_auc: 0.9978\n",
      "Epoch 446/500\n",
      "12/12 [==============================] - 0s 6ms/step - loss: 0.0369 - accuracy: 0.9889 - precision: 0.9889 - recall: 0.9889 - auc: 0.9994 - val_loss: 0.1265 - val_accuracy: 0.9333 - val_precision: 0.9333 - val_recall: 0.9333 - val_auc: 0.9978\n",
      "Epoch 447/500\n",
      "12/12 [==============================] - 0s 6ms/step - loss: 0.0512 - accuracy: 0.9889 - precision: 0.9889 - recall: 0.9889 - auc: 0.9992 - val_loss: 0.1227 - val_accuracy: 0.9333 - val_precision: 0.9333 - val_recall: 0.9333 - val_auc: 0.9978\n",
      "Epoch 448/500\n",
      "12/12 [==============================] - 0s 5ms/step - loss: 0.0511 - accuracy: 0.9889 - precision: 0.9889 - recall: 0.9889 - auc: 0.9991 - val_loss: 0.1271 - val_accuracy: 0.9333 - val_precision: 0.9333 - val_recall: 0.9333 - val_auc: 0.9978\n",
      "Epoch 449/500\n",
      "12/12 [==============================] - 0s 5ms/step - loss: 0.0364 - accuracy: 0.9889 - precision: 0.9889 - recall: 0.9889 - auc: 0.9996 - val_loss: 0.1117 - val_accuracy: 0.9333 - val_precision: 0.9333 - val_recall: 0.9333 - val_auc: 0.9978\n",
      "Epoch 450/500\n",
      "12/12 [==============================] - 0s 6ms/step - loss: 0.0517 - accuracy: 0.9889 - precision: 0.9889 - recall: 0.9889 - auc: 0.9992 - val_loss: 0.1128 - val_accuracy: 0.9333 - val_precision: 0.9333 - val_recall: 0.9333 - val_auc: 0.9978\n",
      "Epoch 451/500\n",
      "12/12 [==============================] - 0s 6ms/step - loss: 0.0479 - accuracy: 0.9889 - precision: 0.9889 - recall: 0.9889 - auc: 0.9993 - val_loss: 0.1352 - val_accuracy: 0.9333 - val_precision: 0.9333 - val_recall: 0.9333 - val_auc: 0.9978\n",
      "Epoch 452/500\n",
      "12/12 [==============================] - 0s 6ms/step - loss: 0.0233 - accuracy: 1.0000 - precision: 1.0000 - recall: 1.0000 - auc: 1.0000 - val_loss: 0.1623 - val_accuracy: 0.9333 - val_precision: 0.9333 - val_recall: 0.9333 - val_auc: 0.9978\n",
      "Epoch 453/500\n",
      "12/12 [==============================] - 0s 7ms/step - loss: 0.0775 - accuracy: 0.9889 - precision: 0.9889 - recall: 0.9889 - auc: 0.9979 - val_loss: 0.1442 - val_accuracy: 0.9333 - val_precision: 0.9333 - val_recall: 0.9333 - val_auc: 0.9978\n",
      "Epoch 454/500\n",
      "12/12 [==============================] - 0s 6ms/step - loss: 0.0232 - accuracy: 0.9889 - precision: 0.9889 - recall: 0.9889 - auc: 0.9999 - val_loss: 0.0850 - val_accuracy: 0.9333 - val_precision: 0.9333 - val_recall: 0.9333 - val_auc: 0.9978\n",
      "Epoch 455/500\n",
      "12/12 [==============================] - 0s 6ms/step - loss: 0.0870 - accuracy: 0.9667 - precision: 0.9667 - recall: 0.9667 - auc: 0.9983 - val_loss: 0.1289 - val_accuracy: 0.9333 - val_precision: 0.9333 - val_recall: 0.9333 - val_auc: 0.9978\n",
      "Epoch 456/500\n",
      "12/12 [==============================] - 0s 6ms/step - loss: 0.0498 - accuracy: 0.9889 - precision: 0.9889 - recall: 0.9889 - auc: 0.9990 - val_loss: 0.1167 - val_accuracy: 0.9333 - val_precision: 0.9333 - val_recall: 0.9333 - val_auc: 0.9978\n",
      "Epoch 457/500\n",
      "12/12 [==============================] - 0s 6ms/step - loss: 0.0459 - accuracy: 0.9889 - precision: 0.9889 - recall: 0.9889 - auc: 0.9993 - val_loss: 0.0513 - val_accuracy: 0.9667 - val_precision: 0.9667 - val_recall: 0.9667 - val_auc: 0.9994\n",
      "Epoch 458/500\n",
      "12/12 [==============================] - 0s 6ms/step - loss: 0.0516 - accuracy: 0.9889 - precision: 0.9889 - recall: 0.9889 - auc: 0.9991 - val_loss: 0.0846 - val_accuracy: 0.9333 - val_precision: 0.9333 - val_recall: 0.9333 - val_auc: 0.9978\n",
      "Epoch 459/500\n",
      "12/12 [==============================] - 0s 6ms/step - loss: 0.0297 - accuracy: 0.9889 - precision: 0.9889 - recall: 0.9889 - auc: 0.9999 - val_loss: 0.0991 - val_accuracy: 0.9333 - val_precision: 0.9333 - val_recall: 0.9333 - val_auc: 0.9978\n",
      "Epoch 460/500\n",
      "12/12 [==============================] - 0s 6ms/step - loss: 0.0336 - accuracy: 0.9889 - precision: 0.9889 - recall: 0.9889 - auc: 0.9998 - val_loss: 0.1356 - val_accuracy: 0.9333 - val_precision: 0.9333 - val_recall: 0.9333 - val_auc: 0.9978\n",
      "Epoch 461/500\n",
      "12/12 [==============================] - 0s 5ms/step - loss: 0.0296 - accuracy: 0.9889 - precision: 0.9889 - recall: 0.9889 - auc: 0.9999 - val_loss: 0.0975 - val_accuracy: 0.9333 - val_precision: 0.9333 - val_recall: 0.9333 - val_auc: 0.9978\n",
      "Epoch 462/500\n",
      "12/12 [==============================] - 0s 6ms/step - loss: 0.0421 - accuracy: 0.9778 - precision: 0.9778 - recall: 0.9778 - auc: 0.9995 - val_loss: 0.1175 - val_accuracy: 0.9333 - val_precision: 0.9333 - val_recall: 0.9333 - val_auc: 0.9978\n",
      "Epoch 463/500\n",
      "12/12 [==============================] - 0s 6ms/step - loss: 0.0450 - accuracy: 0.9889 - precision: 0.9889 - recall: 0.9889 - auc: 0.9996 - val_loss: 0.1544 - val_accuracy: 0.9333 - val_precision: 0.9333 - val_recall: 0.9333 - val_auc: 0.9978\n",
      "Epoch 464/500\n",
      "12/12 [==============================] - 0s 5ms/step - loss: 0.0513 - accuracy: 0.9889 - precision: 0.9889 - recall: 0.9889 - auc: 0.9990 - val_loss: 0.1457 - val_accuracy: 0.9333 - val_precision: 0.9333 - val_recall: 0.9333 - val_auc: 0.9978\n",
      "Epoch 465/500\n",
      "12/12 [==============================] - 0s 5ms/step - loss: 0.0654 - accuracy: 0.9889 - precision: 0.9889 - recall: 0.9889 - auc: 0.9986 - val_loss: 0.1056 - val_accuracy: 0.9333 - val_precision: 0.9333 - val_recall: 0.9333 - val_auc: 0.9978\n",
      "Epoch 466/500\n",
      "12/12 [==============================] - 0s 6ms/step - loss: 0.1258 - accuracy: 0.9667 - precision: 0.9667 - recall: 0.9667 - auc: 0.9958 - val_loss: 0.1185 - val_accuracy: 0.9333 - val_precision: 0.9333 - val_recall: 0.9333 - val_auc: 0.9978\n",
      "Epoch 467/500\n",
      "12/12 [==============================] - 0s 6ms/step - loss: 0.0625 - accuracy: 0.9889 - precision: 0.9889 - recall: 0.9889 - auc: 0.9978 - val_loss: 0.1520 - val_accuracy: 0.9333 - val_precision: 0.9333 - val_recall: 0.9333 - val_auc: 0.9978\n",
      "Epoch 468/500\n",
      "12/12 [==============================] - 0s 6ms/step - loss: 0.0494 - accuracy: 0.9778 - precision: 0.9778 - recall: 0.9778 - auc: 0.9993 - val_loss: 0.1193 - val_accuracy: 0.9333 - val_precision: 0.9333 - val_recall: 0.9333 - val_auc: 0.9978\n",
      "Epoch 469/500\n",
      "12/12 [==============================] - 0s 6ms/step - loss: 0.0310 - accuracy: 0.9889 - precision: 0.9889 - recall: 0.9889 - auc: 0.9999 - val_loss: 0.1148 - val_accuracy: 0.9333 - val_precision: 0.9333 - val_recall: 0.9333 - val_auc: 0.9978\n",
      "Epoch 470/500\n",
      "12/12 [==============================] - 0s 6ms/step - loss: 0.0404 - accuracy: 0.9778 - precision: 0.9778 - recall: 0.9778 - auc: 0.9998 - val_loss: 0.1460 - val_accuracy: 0.9333 - val_precision: 0.9333 - val_recall: 0.9333 - val_auc: 0.9978\n",
      "Epoch 471/500\n",
      "12/12 [==============================] - 0s 6ms/step - loss: 0.0881 - accuracy: 0.9778 - precision: 0.9778 - recall: 0.9778 - auc: 0.9973 - val_loss: 0.1766 - val_accuracy: 0.9333 - val_precision: 0.9333 - val_recall: 0.9333 - val_auc: 0.9978\n",
      "Epoch 472/500\n",
      "12/12 [==============================] - 0s 5ms/step - loss: 0.1257 - accuracy: 0.9667 - precision: 0.9667 - recall: 0.9667 - auc: 0.9956 - val_loss: 0.1088 - val_accuracy: 0.9333 - val_precision: 0.9333 - val_recall: 0.9333 - val_auc: 0.9978\n",
      "Epoch 473/500\n",
      "12/12 [==============================] - 0s 6ms/step - loss: 0.1362 - accuracy: 0.9667 - precision: 0.9667 - recall: 0.9667 - auc: 0.9891 - val_loss: 0.0885 - val_accuracy: 0.9333 - val_precision: 0.9333 - val_recall: 0.9333 - val_auc: 0.9978\n",
      "Epoch 474/500\n",
      "12/12 [==============================] - 0s 6ms/step - loss: 0.0864 - accuracy: 0.9667 - precision: 0.9667 - recall: 0.9667 - auc: 0.9977 - val_loss: 0.1146 - val_accuracy: 0.9333 - val_precision: 0.9333 - val_recall: 0.9333 - val_auc: 0.9978\n",
      "Epoch 475/500\n",
      "12/12 [==============================] - 0s 6ms/step - loss: 0.0666 - accuracy: 0.9778 - precision: 0.9778 - recall: 0.9778 - auc: 0.9990 - val_loss: 0.1569 - val_accuracy: 0.9333 - val_precision: 0.9333 - val_recall: 0.9333 - val_auc: 0.9944\n",
      "Epoch 476/500\n",
      "12/12 [==============================] - 0s 5ms/step - loss: 0.0779 - accuracy: 0.9889 - precision: 0.9889 - recall: 0.9889 - auc: 0.9982 - val_loss: 0.1588 - val_accuracy: 0.9333 - val_precision: 0.9333 - val_recall: 0.9333 - val_auc: 0.9978\n",
      "Epoch 477/500\n",
      "12/12 [==============================] - 0s 5ms/step - loss: 0.0378 - accuracy: 0.9889 - precision: 0.9889 - recall: 0.9889 - auc: 0.9996 - val_loss: 0.1232 - val_accuracy: 0.9333 - val_precision: 0.9333 - val_recall: 0.9333 - val_auc: 0.9978\n",
      "Epoch 478/500\n",
      "12/12 [==============================] - 0s 6ms/step - loss: 0.0496 - accuracy: 0.9889 - precision: 0.9889 - recall: 0.9889 - auc: 0.9991 - val_loss: 0.0957 - val_accuracy: 0.9333 - val_precision: 0.9333 - val_recall: 0.9333 - val_auc: 0.9978\n",
      "Epoch 479/500\n",
      "12/12 [==============================] - 0s 5ms/step - loss: 0.0577 - accuracy: 0.9778 - precision: 0.9778 - recall: 0.9778 - auc: 0.9986 - val_loss: 0.0944 - val_accuracy: 0.9333 - val_precision: 0.9333 - val_recall: 0.9333 - val_auc: 0.9978\n",
      "Epoch 480/500\n",
      "12/12 [==============================] - 0s 6ms/step - loss: 0.0506 - accuracy: 0.9778 - precision: 0.9778 - recall: 0.9778 - auc: 0.9990 - val_loss: 0.1089 - val_accuracy: 0.9333 - val_precision: 0.9333 - val_recall: 0.9333 - val_auc: 0.9978\n",
      "Epoch 481/500\n",
      "12/12 [==============================] - 0s 6ms/step - loss: 0.0926 - accuracy: 0.9778 - precision: 0.9778 - recall: 0.9778 - auc: 0.9971 - val_loss: 0.1628 - val_accuracy: 0.9333 - val_precision: 0.9333 - val_recall: 0.9333 - val_auc: 0.9978\n",
      "Epoch 482/500\n",
      "12/12 [==============================] - 0s 5ms/step - loss: 0.1450 - accuracy: 0.9667 - precision: 0.9667 - recall: 0.9667 - auc: 0.9884 - val_loss: 0.1719 - val_accuracy: 0.9333 - val_precision: 0.9333 - val_recall: 0.9333 - val_auc: 0.9978\n",
      "Epoch 483/500\n",
      "12/12 [==============================] - 0s 6ms/step - loss: 0.0592 - accuracy: 0.9889 - precision: 0.9889 - recall: 0.9889 - auc: 0.9984 - val_loss: 0.1463 - val_accuracy: 0.9333 - val_precision: 0.9333 - val_recall: 0.9333 - val_auc: 0.9956\n",
      "Epoch 484/500\n",
      "12/12 [==============================] - 0s 6ms/step - loss: 0.0520 - accuracy: 0.9889 - precision: 0.9889 - recall: 0.9889 - auc: 0.9992 - val_loss: 0.1353 - val_accuracy: 0.9333 - val_precision: 0.9333 - val_recall: 0.9333 - val_auc: 0.9978\n",
      "Epoch 485/500\n",
      "12/12 [==============================] - 0s 7ms/step - loss: 0.0603 - accuracy: 0.9889 - precision: 0.9889 - recall: 0.9889 - auc: 0.9985 - val_loss: 0.1066 - val_accuracy: 0.9333 - val_precision: 0.9333 - val_recall: 0.9333 - val_auc: 0.9978\n",
      "Epoch 486/500\n",
      "12/12 [==============================] - 0s 6ms/step - loss: 0.0631 - accuracy: 0.9778 - precision: 0.9778 - recall: 0.9778 - auc: 0.9991 - val_loss: 0.1079 - val_accuracy: 0.9333 - val_precision: 0.9333 - val_recall: 0.9333 - val_auc: 0.9978\n",
      "Epoch 487/500\n",
      "12/12 [==============================] - 0s 7ms/step - loss: 0.1205 - accuracy: 0.9333 - precision: 0.9333 - recall: 0.9333 - auc: 0.9963 - val_loss: 0.3111 - val_accuracy: 0.8333 - val_precision: 0.8333 - val_recall: 0.8333 - val_auc: 0.9817\n",
      "Epoch 488/500\n",
      "12/12 [==============================] - 0s 6ms/step - loss: 0.1020 - accuracy: 0.9333 - precision: 0.9333 - recall: 0.9333 - auc: 0.9962 - val_loss: 0.0962 - val_accuracy: 0.9333 - val_precision: 0.9333 - val_recall: 0.9333 - val_auc: 0.9978\n",
      "Epoch 489/500\n",
      "12/12 [==============================] - 0s 6ms/step - loss: 0.0993 - accuracy: 0.9556 - precision: 0.9556 - recall: 0.9556 - auc: 0.9967 - val_loss: 0.0812 - val_accuracy: 1.0000 - val_precision: 1.0000 - val_recall: 1.0000 - val_auc: 1.0000\n",
      "Epoch 490/500\n",
      "12/12 [==============================] - 0s 6ms/step - loss: 0.0716 - accuracy: 0.9778 - precision: 0.9778 - recall: 0.9778 - auc: 0.9985 - val_loss: 0.0782 - val_accuracy: 0.9333 - val_precision: 0.9333 - val_recall: 0.9333 - val_auc: 0.9978\n",
      "Epoch 491/500\n",
      "12/12 [==============================] - 0s 6ms/step - loss: 0.0749 - accuracy: 0.9778 - precision: 0.9778 - recall: 0.9778 - auc: 0.9982 - val_loss: 0.0811 - val_accuracy: 0.9333 - val_precision: 0.9333 - val_recall: 0.9333 - val_auc: 0.9978\n",
      "Epoch 492/500\n",
      "12/12 [==============================] - 0s 6ms/step - loss: 0.0356 - accuracy: 1.0000 - precision: 1.0000 - recall: 1.0000 - auc: 1.0000 - val_loss: 0.0885 - val_accuracy: 0.9333 - val_precision: 0.9333 - val_recall: 0.9333 - val_auc: 0.9978\n",
      "Epoch 493/500\n",
      "12/12 [==============================] - 0s 5ms/step - loss: 0.0460 - accuracy: 0.9778 - precision: 0.9778 - recall: 0.9778 - auc: 0.9996 - val_loss: 0.1060 - val_accuracy: 0.9333 - val_precision: 0.9333 - val_recall: 0.9333 - val_auc: 0.9978\n",
      "Epoch 494/500\n",
      "12/12 [==============================] - 0s 5ms/step - loss: 0.0594 - accuracy: 0.9778 - precision: 0.9778 - recall: 0.9778 - auc: 0.9995 - val_loss: 0.1295 - val_accuracy: 0.9333 - val_precision: 0.9333 - val_recall: 0.9333 - val_auc: 0.9978\n",
      "Epoch 495/500\n",
      "12/12 [==============================] - 0s 5ms/step - loss: 0.0384 - accuracy: 0.9889 - precision: 0.9889 - recall: 0.9889 - auc: 0.9997 - val_loss: 0.1285 - val_accuracy: 0.9333 - val_precision: 0.9333 - val_recall: 0.9333 - val_auc: 0.9978\n",
      "Epoch 496/500\n",
      "12/12 [==============================] - 0s 5ms/step - loss: 0.0393 - accuracy: 0.9778 - precision: 0.9778 - recall: 0.9778 - auc: 0.9995 - val_loss: 0.0900 - val_accuracy: 0.9333 - val_precision: 0.9333 - val_recall: 0.9333 - val_auc: 0.9978\n",
      "Epoch 497/500\n",
      "12/12 [==============================] - 0s 6ms/step - loss: 0.0647 - accuracy: 0.9778 - precision: 0.9778 - recall: 0.9778 - auc: 0.9988 - val_loss: 0.0810 - val_accuracy: 0.9333 - val_precision: 0.9333 - val_recall: 0.9333 - val_auc: 0.9978\n",
      "Epoch 498/500\n",
      "12/12 [==============================] - 0s 6ms/step - loss: 0.0611 - accuracy: 0.9778 - precision: 0.9778 - recall: 0.9778 - auc: 0.9986 - val_loss: 0.1838 - val_accuracy: 0.9333 - val_precision: 0.9333 - val_recall: 0.9333 - val_auc: 0.9944\n",
      "Epoch 499/500\n",
      "12/12 [==============================] - 0s 6ms/step - loss: 0.0691 - accuracy: 0.9778 - precision: 0.9778 - recall: 0.9778 - auc: 0.9985 - val_loss: 0.1277 - val_accuracy: 0.9333 - val_precision: 0.9333 - val_recall: 0.9333 - val_auc: 0.9978\n",
      "Epoch 500/500\n",
      "12/12 [==============================] - 0s 6ms/step - loss: 0.0831 - accuracy: 0.9556 - precision: 0.9556 - recall: 0.9556 - auc: 0.9984 - val_loss: 0.0850 - val_accuracy: 0.9333 - val_precision: 0.9333 - val_recall: 0.9333 - val_auc: 0.9978\n"
     ]
    }
   ],
   "source": [
    "model_history=model.fit(\n",
    "    x=[X_train_num, X_train_img/255], y=y_train_oh,\n",
    "    validation_data=([X_val_num, X_val_img/255], y_val_oh),\n",
    "    epochs=epochs , \n",
    "    batch_size=8,\n",
    "    #steps_per_epoch = X_train_num.shape[0]//batch_size,\n",
    "    #validation_steps = X_train_num.shape[0]//batch_size,\n",
    "    callbacks=[early_stopper]\n",
    ")"
   ]
  },
  {
   "cell_type": "code",
   "execution_count": 21,
   "metadata": {},
   "outputs": [
    {
     "name": "stdout",
     "output_type": "stream",
     "text": [
      "dict_keys(['loss', 'accuracy', 'precision', 'recall', 'auc', 'val_loss', 'val_accuracy', 'val_precision', 'val_recall', 'val_auc'])\n"
     ]
    }
   ],
   "source": [
    "print(model_history.history.keys())"
   ]
  },
  {
   "cell_type": "markdown",
   "metadata": {},
   "source": [
    "<a id=\"section6\"></a>\n",
    "# <font color=\"#004D7F\" size=6> 6. Results</font>"
   ]
  },
  {
   "cell_type": "code",
   "execution_count": 22,
   "metadata": {},
   "outputs": [
    {
     "data": {
      "image/png": "[encoded data removed]",
      "text/plain": [
       "<Figure size 640x480 with 1 Axes>"
      ]
     },
     "metadata": {},
     "output_type": "display_data"
    }
   ],
   "source": [
    "#print(model_history.history['loss'])\n",
    "plt.plot(model_history.history['loss'], color = 'red', label = 'loss')\n",
    "plt.plot(model_history.history['val_loss'], color = 'green', label = 'val loss')\n",
    "plt.legend(loc = 'upper right')\n",
    "plt.ylim(0,5)\n",
    "plt.show()"
   ]
  },
  {
   "cell_type": "code",
   "execution_count": 23,
   "metadata": {},
   "outputs": [
    {
     "data": {
      "image/png": "[encoded data removed]",
      "text/plain": [
       "<Figure size 640x480 with 1 Axes>"
      ]
     },
     "metadata": {},
     "output_type": "display_data"
    }
   ],
   "source": [
    "plt.plot(model_history.history['accuracy'], color = 'red', label = 'accuracy')\n",
    "plt.plot(model_history.history['val_accuracy'], color = 'green', label = 'val accuracy')\n",
    "plt.legend(loc = 'upper right')\n",
    "plt.show()"
   ]
  },
  {
   "cell_type": "code",
   "execution_count": 24,
   "metadata": {},
   "outputs": [
    {
     "name": "stdout",
     "output_type": "stream",
     "text": [
      "1/1 [==============================] - 0s 120ms/step\n",
      "[[0, 0.0], [0, 0.0], [1, 1.0], [0, 0.0], [1, 1.0], [2, 2.0], [0, 0.0], [0, 0.0], [1, 1.0], [1, 1.0], [1, 1.0], [2, 1.0], [1, 1.0], [2, 2.0], [1, 1.0], [2, 2.0], [2, 2.0], [0, 0.0], [2, 2.0], [2, 2.0], [2, 2.0], [0, 0.0], [0, 0.0], [0, 0.0], [2, 2.0], [1, 1.0], [2, 2.0], [0, 0.0], [2, 2.0], [2, 1.0]]\n"
     ]
    }
   ],
   "source": [
    "prediction = model.predict([X_test_num,X_test_img/255],)\n",
    "real_values= y_test.values-1\n",
    "predicted_classes = np.argmax(prediction, axis = 1)\n",
    "\n",
    "result = [list(t) for t in zip(predicted_classes, real_values)]\n",
    "#print(np.round(prediction))\n",
    "print(result)"
   ]
  },
  {
   "cell_type": "code",
   "execution_count": 25,
   "metadata": {},
   "outputs": [
    {
     "data": {
      "text/plain": [
       "<sklearn.metrics._plot.confusion_matrix.ConfusionMatrixDisplay at 0x1895def01d0>"
      ]
     },
     "execution_count": 25,
     "metadata": {},
     "output_type": "execute_result"
    },
    {
     "data": {
      "image/png": "[encoded data removed]",
      "text/plain": [
       "<Figure size 640x480 with 2 Axes>"
      ]
     },
     "metadata": {},
     "output_type": "display_data"
    }
   ],
   "source": [
    "from sklearn.metrics import confusion_matrix\n",
    "true_classes = real_values\n",
    "\n",
    "cm = confusion_matrix(true_classes, predicted_classes)\n",
    "disp = sklearn.metrics.ConfusionMatrixDisplay(confusion_matrix = cm)\n",
    "disp.plot()\n",
    "\n",
    "\n"
   ]
  },
  {
   "cell_type": "code",
   "execution_count": 26,
   "metadata": {},
   "outputs": [
    {
     "name": "stdout",
     "output_type": "stream",
     "text": [
      "              precision    recall  f1-score   support\n",
      "\n",
      "         0.0       1.00      1.00      1.00        10\n",
      "         1.0       1.00      0.80      0.89        10\n",
      "         2.0       0.83      1.00      0.91        10\n",
      "\n",
      "    accuracy                           0.93        30\n",
      "   macro avg       0.94      0.93      0.93        30\n",
      "weighted avg       0.94      0.93      0.93        30\n",
      "\n"
     ]
    }
   ],
   "source": [
    "report = sklearn.metrics.classification_report(true_classes, \n",
    "                                               predicted_classes)\n",
    "print(report) "
   ]
  },
  {
   "cell_type": "code",
   "execution_count": 27,
   "metadata": {},
   "outputs": [
    {
     "name": "stdout",
     "output_type": "stream",
     "text": [
      "Test accuracy: 0.9333333333333333\n"
     ]
    }
   ],
   "source": [
    "from sklearn.metrics import roc_auc_score,accuracy_score,precision_score, recall_score\n",
    "\n",
    "test_accuracy = accuracy_score(true_classes, predicted_classes)\n",
    "#test_auc = roc_auc_score(true_classes, predicted_classes)\n",
    "#test_precision = precision_score(true_classes, predicted_classes)\n",
    "#test_recall = recall_score(true_classes, predicted_classes)\n",
    "\n",
    "print(\"Test accuracy:\",test_accuracy)\n",
    "#print(\"Test AUC:\",test_auc)\n",
    "#print(\"Test precision:\",test_precision)\n",
    "#print(\"Test recall:\",test_recall)"
   ]
  },
  {
   "cell_type": "code",
   "execution_count": 28,
   "metadata": {},
   "outputs": [
    {
     "name": "stdout",
     "output_type": "stream",
     "text": [
      "Train accuracy: 0.9555555582046509\n",
      "Train AUC: 0.9983949661254883\n",
      "Train precision: 0.9555555582046509\n",
      "Train recall: 0.9555555582046509\n",
      "Train loss: 0.08314789831638336\n"
     ]
    }
   ],
   "source": [
    "train_accuracy = model_history.history[\"accuracy\"][-1]\n",
    "train_auc = model_history.history[\"auc\"][-1]\n",
    "train_precision = model_history.history[\"precision\"][-1]\n",
    "train_recall = model_history.history[\"recall\"][-1]\n",
    "train_loss = model_history.history[\"loss\"][-1]\n",
    "\n",
    "print(\"Train accuracy:\",train_accuracy)\n",
    "print(\"Train AUC:\",train_auc)\n",
    "print(\"Train precision:\",train_precision)\n",
    "print(\"Train recall:\",train_recall)\n",
    "print(\"Train loss:\",train_loss)"
   ]
  },
  {
   "cell_type": "code",
   "execution_count": 29,
   "metadata": {},
   "outputs": [
    {
     "name": "stdout",
     "output_type": "stream",
     "text": [
      "Validation accuracy: 0.9333333373069763\n",
      "Validation AUC: 0.9977778196334839\n",
      "Validation precision: 0.9333333373069763\n",
      "Validation recall: 0.9333333373069763\n",
      "Validation loss: 0.08502285182476044\n"
     ]
    }
   ],
   "source": [
    "validation_accuracy = model_history.history[\"val_accuracy\"][-1]\n",
    "validation_auc = model_history.history[\"val_auc\"][-1]\n",
    "validation_precision = model_history.history[\"val_precision\"][-1]\n",
    "validation_recall = model_history.history[\"val_recall\"][-1]\n",
    "validation_loss = model_history.history[\"val_loss\"][-1]\n",
    "\n",
    "print(\"Validation accuracy:\",validation_accuracy)\n",
    "print(\"Validation AUC:\",validation_auc)\n",
    "print(\"Validation precision:\",validation_precision)\n",
    "print(\"Validation recall:\",validation_recall)\n",
    "print(\"Validation loss:\",validation_loss)"
   ]
  },
  {
   "cell_type": "code",
   "execution_count": 30,
   "metadata": {},
   "outputs": [
    {
     "ename": "NameError",
     "evalue": "name 'test_auc' is not defined",
     "output_type": "error",
     "traceback": [
      "\u001b[1;31m---------------------------------------------------------------------------\u001b[0m",
      "\u001b[1;31mNameError\u001b[0m                                 Traceback (most recent call last)",
      "Cell \u001b[1;32mIn[30], line 12\u001b[0m\n\u001b[0;32m     10\u001b[0m BIAS \u001b[38;5;241m=\u001b[39m (\u001b[38;5;241m1\u001b[39m\u001b[38;5;241m-\u001b[39mtrain_accuracy\u001b[38;5;241m-\u001b[39m\u001b[38;5;241m0.05\u001b[39m)\n\u001b[0;32m     11\u001b[0m VARIANCE \u001b[38;5;241m=\u001b[39m (\u001b[38;5;241m1\u001b[39m\u001b[38;5;241m-\u001b[39mtrain_accuracy)\u001b[38;5;241m-\u001b[39m(\u001b[38;5;241m1\u001b[39m\u001b[38;5;241m-\u001b[39mvalidation_accuracy)\n\u001b[1;32m---> 12\u001b[0m metrics \u001b[38;5;241m=\u001b[39m [model_name,preprocess,epochs,FFNN,CNN,test_accuracy,\u001b[43mtest_auc\u001b[49m,test_precision,test_recall,BIAS,VARIANCE,\n\u001b[0;32m     13\u001b[0m            train_accuracy,train_auc,train_precision,train_recall,train_loss,\n\u001b[0;32m     14\u001b[0m            validation_accuracy,validation_auc,validation_precision,validation_recall,validation_loss]\n\u001b[0;32m     15\u001b[0m \u001b[38;5;28mprint\u001b[39m(metrics)\n",
      "\u001b[1;31mNameError\u001b[0m: name 'test_auc' is not defined"
     ]
    }
   ],
   "source": [
    "################ ????? ################\n",
    "import csv\n",
    "\n",
    "experiments_csv = \"C:\\\\Users\\\\Borja\\\\EXP_TINTOLIB\\\\Classification\\\\Classification_Cancer.csv\"\n",
    "model_name = \"TINTO1000\"\n",
    "preprocess = \"TINTO\"\n",
    "\n",
    "FFNN = str(filters_ffnn)\n",
    "CNN = str(filters_cnn)\n",
    "BIAS = (1-train_accuracy-0.05)\n",
    "VARIANCE = (1-train_accuracy)-(1-validation_accuracy)\n",
    "metrics = [model_name,preprocess,epochs,FFNN,CNN,test_accuracy,test_auc,test_precision,test_recall,BIAS,VARIANCE,\n",
    "           train_accuracy,train_auc,train_precision,train_recall,train_loss,\n",
    "           validation_accuracy,validation_auc,validation_precision,validation_recall,validation_loss]\n",
    "print(metrics)\n"
   ]
  }
 ],
 "metadata": {
  "colab": {
   "provenance": [
    {
     "file_id": "1plFq1CpEXIdc9LankaLPiOObRg0_y5l2",
     "timestamp": 1684250343977
    }
   ]
  },
  "kernelspec": {
   "display_name": "Python 3 (ipykernel)",
   "language": "python",
   "name": "python3"
  },
  "language_info": {
   "codemirror_mode": {
    "name": "ipython",
    "version": 3
   },
   "file_extension": ".py",
   "mimetype": "text/x-python",
   "name": "python",
   "nbconvert_exporter": "python",
   "pygments_lexer": "ipython3",
   "version": "3.9.6"
  }
 },
 "nbformat": 4,
 "nbformat_minor": 1
}
