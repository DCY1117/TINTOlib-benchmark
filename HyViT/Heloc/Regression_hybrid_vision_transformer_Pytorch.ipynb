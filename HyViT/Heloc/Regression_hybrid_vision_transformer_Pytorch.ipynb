{
  "cells": [
    {
      "cell_type": "markdown",
      "metadata": {
        "id": "EybOZ6hSjpCF"
      },
      "source": [
        "<h1><font color=\"#113D68\" size=6>TINTOlib: Converting Tidy Data into Image for Hybrid Neural Networks (HyNN)</font></h1>\n",
        "\n",
        "<h1><font color=\"#113D68\" size=5>Template Regression Machine Learning problem with a Hybrid Vision Transformer (ViT+MLP)</font></h1>\n",
        "\n",
        "<br><br>\n",
        "<div style=\"text-align: right\">\n",
        "<font color=\"#113D68\" size=3>Edmundo Mori</font><br>\n",
        "\n",
        "</div>\n",
        "\n",
        "---"
      ]
    },
    {
      "cell_type": "markdown",
      "metadata": {
        "id": "2l5nFzsdjpCW"
      },
      "source": [
        "---\n",
        "\n",
        "<a id=\"indice\"></a>\n",
        "<h2><font color=\"#004D7F\" size=5>Index</font></h2>\n",
        "\n",
        "* [0. Context](#section0)\n",
        "* [1. Description](#section1)\n",
        "    * [1.1. Main Features](#section11)\n",
        "    * [1.2. Citation](#section12)\n",
        "    * [1.3. Documentation and License](#section13)\n",
        "* [2. Libraries](#section2)\n",
        "    * [2.1. System setup](#section21)\n",
        "    * [2.2. Invoke the libraries](#section22)\n",
        "* [3. Data processing](#section3)\n",
        "    * [3.1. TINTOlib methods](#section31)\n",
        "    * [3.2. Read the dataset](#section32)\n",
        "    * [3.3. Generate images](#section33)\n",
        "    * [3.4. Read images](#section34)\n",
        "    * [3.5. Mix images and tidy data](#section35)\n",
        "* [4. Pre-modelling phase](#section4)\n",
        "    * [4.1. Data curation](#section41)\n",
        "* [5. Modelling hybrid network VIT + MLP with Pytorch](#section5)\n",
        "    * [5.1. Transform inputs into tensors](#section51)\n",
        "    * [5.2. Replicate the ViT architecture (PyTorch transformer layers)](#section52)\n",
        "    * [5.3. FNN for tabular data](#section53)\n",
        "    * [5.4. Concatenate VIT and FNN](#section54)\n",
        "    * [5.5. Hybrid Network Compile and fit](#section55)\n",
        "* [6. Results](#section6)\n",
        "    * [6.1. Train/Validation representation](#section61)\n",
        "    * [6.2. Validation/Test evaluation](#section62)"
      ]
    },
    {
      "cell_type": "markdown",
      "metadata": {
        "id": "SxTpMExHjpCa"
      },
      "source": [
        "---\n",
        "<a id=\"section0\"></a>\n",
        "# <font color=\"#004D7F\" size=6> 0. Context</font>"
      ]
    },
    {
      "cell_type": "markdown",
      "metadata": {
        "id": "JlVYt3MRrl_V"
      },
      "source": [
        "This is a tutorial on how to read the images created by TINTOlib and pass them to a Vision Transformer (ViT). The images must already be created by the TINTOlib software. See the documentation in GITHUB for how to create the images from tabular data."
      ]
    },
    {
      "cell_type": "markdown",
      "metadata": {
        "id": "i3tgsO0BjpCj"
      },
      "source": [
        "<div class=\"alert alert-block alert-info\">\n",
        "    \n",
        "<i class=\"fa fa-info-circle\" aria-hidden=\"true\"></i>\n",
        "You can see all information about TINTOlib in [GitHub](https://github.com/oeg-upm/TINTOlib)"
      ]
    },
    {
      "cell_type": "markdown",
      "metadata": {
        "id": "mVaN8IWPirwr"
      },
      "source": [
        "<div class=\"alert alert-block alert-info\">\n",
        "\n",
        "<i class=\"fa fa-info-circle\" aria-hidden=\"true\"></i>\n",
        "You can see all information about TINTOlib documentation in [PyPI](https://tintolib.readthedocs.io/en/latest/installation.html)"
      ]
    },
    {
      "cell_type": "markdown",
      "metadata": {
        "id": "4RKBgDwzjpCl"
      },
      "source": [
        "---\n",
        "<div style=\"text-align: right\"> <font size=5> <a href=\"#indice\"><i class=\"fa fa-arrow-circle-up\" aria-hidden=\"true\" style=\"color:#004D7F\"></i></a></font></div>\n",
        "\n",
        "---"
      ]
    },
    {
      "cell_type": "markdown",
      "metadata": {
        "id": "kpU7pi6yjpCn"
      },
      "source": [
        "<a id=\"section1\"></a>\n",
        "# <font color=\"#004D7F\" size=6> 1. Description</font>"
      ]
    },
    {
      "cell_type": "markdown",
      "metadata": {
        "id": "NL9RoFkEjpCq"
      },
      "source": [
        "The growing interest in the use of algorithms-based machine learning for predictive tasks has generated a large and diverse development of algorithms. However, it is widely known that not all of these algorithms are adapted to efficient solutions in certain tidy data format datasets. For this reason, novel techniques are currently being developed to convert tidy data into images with the aim of using Convolutional Neural Networks (CNNs) or Vision Transformer (ViT). TINTOlib offers the opportunity to convert tidy data into images through several techniques: TINTO, IGTD, REFINED, SuperTML, BarGraph, DistanceMatrix and Combination."
      ]
    },
    {
      "cell_type": "markdown",
      "metadata": {
        "id": "HFrF4C89jpCt"
      },
      "source": [
        "---\n",
        "<a id=\"section11\"></a>\n",
        "# <font color=\"#004D7F\" size=5> 1.1. Main Features</font>"
      ]
    },
    {
      "cell_type": "markdown",
      "metadata": {
        "id": "1gruE0_sjpCu"
      },
      "source": [
        "- Supports all CSV data in **[Tidy Data](https://www.jstatsoft.org/article/view/v059i10)** format.\n",
        "- For now, the algorithm converts tabular data for binary and multi-class classification problems into machine learning.\n",
        "- Input data formats:\n",
        "    - **Tabular files**: The input data could be in **[CSV](https://en.wikipedia.org/wiki/Comma-separated_values)**, taking into account the **[Tidy Data](https://www.jstatsoft.org/article/view/v059i10)** format.\n",
        "    - **Dataframe***: The input data could be in **[Pandas Dataframe](https://pandas.pydata.org/docs/reference/api/pandas.DataFrame.html)**, taking into account the **[Tidy Data](https://www.jstatsoft.org/article/view/v059i10)** format.\n",
        "    - **Tidy Data**: The **target** (variable to be predicted) should be set as the last column of the dataset. Therefore, the first columns will be the features.\n",
        "    - All data must be in numerical form. TINTOlib does not accept data in string or any other non-numeric format.\n",
        "- Runs on **Linux**, **Windows** and **macOS** systems.\n",
        "- Compatible with **[Python](https://www.python.org/)** 3.7 or higher."
      ]
    },
    {
      "cell_type": "markdown",
      "metadata": {
        "id": "At5cvb9Lirw6"
      },
      "source": [
        "---\n",
        "<a id=\"section12\"></a>\n",
        "# <font color=\"#004D7F\" size=5> 1.2. Citation</font>"
      ]
    },
    {
      "cell_type": "markdown",
      "metadata": {
        "id": "WAcloCKZirw7"
      },
      "source": [
        "**TINTOlib** is an python library that makes **Synthetic Images** from [Tidy Data](https://www.jstatsoft.org/article/view/v059i10) (also knows as **Tabular Data**).\n",
        "\n",
        "**Citing TINTO**: If you used TINTO in your work, please cite the **[SoftwareX](https://doi.org/10.1016/j.softx.2023.101391)**:\n",
        "\n",
        "```bib\n",
        "@article{softwarex_TINTO,\n",
        "    title = {TINTO: Converting Tidy Data into Image for Classification\n",
        "            with 2-Dimensional Convolutional Neural Networks},\n",
        "    journal = {SoftwareX},\n",
        "    author = {Manuel Castillo-Cara and Reewos Talla-Chumpitaz and\n",
        "              Raúl García-Castro and Luis Orozco-Barbosa},\n",
        "    year = {2023},\n",
        "    pages = {101391},\n",
        "    issn = {2352-7110},\n",
        "    doi = {https://doi.org/10.1016/j.softx.2023.101391}\n",
        "}\n",
        "```\n",
        "\n",
        "And use-case developed in **[INFFUS Paper](https://doi.org/10.1016/j.inffus.2022.10.011)**\n",
        "\n",
        "```bib\n",
        "@article{inffus_TINTO,\n",
        "    title = {A novel deep learning approach using blurring image\n",
        "            techniques for Bluetooth-based indoor localisation},\n",
        "    journal = {Information Fusion},\n",
        "    author = {Reewos Talla-Chumpitaz and Manuel Castillo-Cara and\n",
        "              Luis Orozco-Barbosa and Raúl García-Castro},\n",
        "    volume = {91},\n",
        "    pages = {173-186},\n",
        "    year = {2023},\n",
        "    issn = {1566-2535},\n",
        "    doi = {https://doi.org/10.1016/j.inffus.2022.10.011}\n",
        "}\n",
        "```"
      ]
    },
    {
      "cell_type": "markdown",
      "metadata": {
        "id": "Tgi8NNWHirw8"
      },
      "source": [
        "---\n",
        "<a id=\"section13\"></a>\n",
        "# <font color=\"#004D7F\" size=5> 1.3. Documentation and License</font>"
      ]
    },
    {
      "cell_type": "markdown",
      "metadata": {
        "id": "An9470Tqirw9"
      },
      "source": [
        "TINTOlib has a wide range of documentation on both GitHub and PiPY.\n",
        "\n",
        "Moreover, TINTOlib is free and open software with Apache 2.0 license."
      ]
    },
    {
      "cell_type": "markdown",
      "metadata": {
        "id": "n2SJRrucirw-"
      },
      "source": [
        "<div class=\"alert alert-block alert-info\">\n",
        "    \n",
        "<i class=\"fa fa-info-circle\" aria-hidden=\"true\"></i>\n",
        "You can see all information about TINTOlib in [GitHub](https://github.com/oeg-upm/TINTOlib)"
      ]
    },
    {
      "cell_type": "markdown",
      "metadata": {
        "id": "upfq7gH3irw_"
      },
      "source": [
        "<div class=\"alert alert-block alert-info\">\n",
        "\n",
        "<i class=\"fa fa-info-circle\" aria-hidden=\"true\"></i>\n",
        "You can see all information about TINTOlib documentation in [PyPI](https://tintolib.readthedocs.io/en/latest/installation.html)"
      ]
    },
    {
      "cell_type": "markdown",
      "metadata": {
        "id": "Z3EzYcjJjpC6"
      },
      "source": [
        "---\n",
        "<div style=\"text-align: right\"> <font size=5> <a href=\"#indice\"><i class=\"fa fa-arrow-circle-up\" aria-hidden=\"true\" style=\"color:#004D7F\"></i></a></font></div>\n",
        "\n",
        "---"
      ]
    },
    {
      "cell_type": "markdown",
      "metadata": {
        "id": "qwYF5A2njpC8"
      },
      "source": [
        "<a id=\"section2\"></a>\n",
        "# <font color=\"#004D7F\" size=6> 2. Libraries</font>"
      ]
    },
    {
      "cell_type": "markdown",
      "metadata": {
        "id": "Hn-_Qzf7irxB"
      },
      "source": [
        "---\n",
        "<a id=\"section21\"></a>\n",
        "# <font color=\"#004D7F\" size=5> 2.1. System setup</font>"
      ]
    },
    {
      "cell_type": "markdown",
      "metadata": {
        "id": "2YGCnZifirxC"
      },
      "source": [
        "Before installing the libraries you must have the `mpi4py` package installed on the native (Linux) system. This link shows how to install it:\n",
        "- Link: [`mpi4py` in Linux](https://www.geeksforgeeks.org/how-to-install-python3-mpi4py-package-on-linux/)\n",
        "\n",
        "For example, in Linux:\n",
        "\n",
        "```\n",
        "    sudo apt-get install python3\n",
        "    sudo apt install python3-pip\n",
        "    sudo apt install python3-mpi4py\n",
        "```\n",
        "\n",
        "If you are in Windows, Mac or, also, Linux, you can install from PyPI if you want:\n",
        "```\n",
        "    sudo pip3 install mpi4py\n",
        "```"
      ]
    },
    {
      "cell_type": "markdown",
      "metadata": {
        "id": "p1Oro1QfirxD"
      },
      "source": [
        "<div class=\"alert alert-block alert-info\">\n",
        "    \n",
        "<i class=\"fa fa-info-circle\" aria-hidden=\"true\"></i>\n",
        "Note that you must **restart the kernel or the system** so that it can load the libraries."
      ]
    },
    {
      "cell_type": "markdown",
      "metadata": {
        "id": "VsMELXdZirxE"
      },
      "source": [
        "Now, once you have installed `mpi4py` you can install the PyPI libraries and dependences."
      ]
    },
    {
      "cell_type": "code",
      "execution_count": 1,
      "metadata": {
        "colab": {
          "base_uri": "https://localhost:8080/"
        },
        "id": "tM2K4vorirxF",
        "outputId": "031fcf42-9b9f-4ccf-9020-6761e6e7e7a1"
      },
      "outputs": [
        {
          "name": "stdout",
          "output_type": "stream",
          "text": [
            "Requirement already satisfied: torchmetrics in c:\\users\\jiayu\\anaconda3\\envs\\tinto-hnn\\lib\\site-packages (1.3.0.post0)\n",
            "Requirement already satisfied: pytorch_lightning in c:\\users\\jiayu\\anaconda3\\envs\\tinto-hnn\\lib\\site-packages (2.1.3)\n",
            "Requirement already satisfied: TINTOlib in c:\\users\\jiayu\\anaconda3\\envs\\tinto-hnn\\lib\\site-packages (0.0.20)\n",
            "Requirement already satisfied: imblearn in c:\\users\\jiayu\\anaconda3\\envs\\tinto-hnn\\lib\\site-packages (0.0)\n",
            "Requirement already satisfied: keras_preprocessing in c:\\users\\jiayu\\anaconda3\\envs\\tinto-hnn\\lib\\site-packages (1.1.2)\n",
            "Requirement already satisfied: mpi4py in c:\\users\\jiayu\\anaconda3\\envs\\tinto-hnn\\lib\\site-packages (3.1.5)\n",
            "Requirement already satisfied: numpy>1.20.0 in c:\\users\\jiayu\\anaconda3\\envs\\tinto-hnn\\lib\\site-packages (from torchmetrics) (1.24.3)\n",
            "Requirement already satisfied: packaging>17.1 in c:\\users\\jiayu\\anaconda3\\envs\\tinto-hnn\\lib\\site-packages (from torchmetrics) (23.2)\n",
            "Requirement already satisfied: torch>=1.10.0 in c:\\users\\jiayu\\anaconda3\\envs\\tinto-hnn\\lib\\site-packages (from torchmetrics) (2.2.0+cu118)\n",
            "Requirement already satisfied: lightning-utilities>=0.8.0 in c:\\users\\jiayu\\anaconda3\\envs\\tinto-hnn\\lib\\site-packages (from torchmetrics) (0.10.1)\n",
            "Requirement already satisfied: tqdm>=4.57.0 in c:\\users\\jiayu\\appdata\\roaming\\python\\python311\\site-packages (from pytorch_lightning) (4.66.1)\n",
            "Requirement already satisfied: PyYAML>=5.4 in c:\\users\\jiayu\\anaconda3\\envs\\tinto-hnn\\lib\\site-packages (from pytorch_lightning) (6.0.1)\n",
            "Requirement already satisfied: fsspec>=2022.5.0 in c:\\users\\jiayu\\anaconda3\\envs\\tinto-hnn\\lib\\site-packages (from fsspec[http]>=2022.5.0->pytorch_lightning) (2023.12.2)\n",
            "Requirement already satisfied: typing-extensions>=4.0.0 in c:\\users\\jiayu\\anaconda3\\envs\\tinto-hnn\\lib\\site-packages (from pytorch_lightning) (4.8.0)\n",
            "Requirement already satisfied: imbalanced-learn in c:\\users\\jiayu\\anaconda3\\envs\\tinto-hnn\\lib\\site-packages (from imblearn) (0.12.0)\n",
            "Requirement already satisfied: six>=1.9.0 in c:\\users\\jiayu\\anaconda3\\envs\\tinto-hnn\\lib\\site-packages (from keras_preprocessing) (1.16.0)\n",
            "Requirement already satisfied: requests in c:\\users\\jiayu\\appdata\\roaming\\python\\python311\\site-packages (from fsspec[http]>=2022.5.0->pytorch_lightning) (2.31.0)\n",
            "Requirement already satisfied: aiohttp!=4.0.0a0,!=4.0.0a1 in c:\\users\\jiayu\\anaconda3\\envs\\tinto-hnn\\lib\\site-packages (from fsspec[http]>=2022.5.0->pytorch_lightning) (3.9.3)\n",
            "Requirement already satisfied: setuptools in c:\\users\\jiayu\\anaconda3\\envs\\tinto-hnn\\lib\\site-packages (from lightning-utilities>=0.8.0->torchmetrics) (68.2.2)\n",
            "Requirement already satisfied: filelock in c:\\users\\jiayu\\anaconda3\\envs\\tinto-hnn\\lib\\site-packages (from torch>=1.10.0->torchmetrics) (3.13.1)\n",
            "Requirement already satisfied: sympy in c:\\users\\jiayu\\anaconda3\\envs\\tinto-hnn\\lib\\site-packages (from torch>=1.10.0->torchmetrics) (1.12)\n",
            "Requirement already satisfied: networkx in c:\\users\\jiayu\\anaconda3\\envs\\tinto-hnn\\lib\\site-packages (from torch>=1.10.0->torchmetrics) (3.3)\n",
            "Requirement already satisfied: jinja2 in c:\\users\\jiayu\\anaconda3\\envs\\tinto-hnn\\lib\\site-packages (from torch>=1.10.0->torchmetrics) (3.1.3)\n",
            "Requirement already satisfied: colorama in c:\\users\\jiayu\\appdata\\roaming\\python\\python311\\site-packages (from tqdm>=4.57.0->pytorch_lightning) (0.4.6)\n",
            "Requirement already satisfied: scipy>=1.5.0 in c:\\users\\jiayu\\appdata\\roaming\\python\\python311\\site-packages (from imbalanced-learn->imblearn) (1.11.2)\n",
            "Requirement already satisfied: scikit-learn>=1.0.2 in c:\\users\\jiayu\\anaconda3\\envs\\tinto-hnn\\lib\\site-packages (from imbalanced-learn->imblearn) (1.4.0)\n",
            "Requirement already satisfied: joblib>=1.1.1 in c:\\users\\jiayu\\anaconda3\\envs\\tinto-hnn\\lib\\site-packages (from imbalanced-learn->imblearn) (1.3.2)\n",
            "Requirement already satisfied: threadpoolctl>=2.0.0 in c:\\users\\jiayu\\anaconda3\\envs\\tinto-hnn\\lib\\site-packages (from imbalanced-learn->imblearn) (3.2.0)\n",
            "Requirement already satisfied: aiosignal>=1.1.2 in c:\\users\\jiayu\\anaconda3\\envs\\tinto-hnn\\lib\\site-packages (from aiohttp!=4.0.0a0,!=4.0.0a1->fsspec[http]>=2022.5.0->pytorch_lightning) (1.3.1)\n",
            "Requirement already satisfied: attrs>=17.3.0 in c:\\users\\jiayu\\anaconda3\\envs\\tinto-hnn\\lib\\site-packages (from aiohttp!=4.0.0a0,!=4.0.0a1->fsspec[http]>=2022.5.0->pytorch_lightning) (23.2.0)\n",
            "Requirement already satisfied: frozenlist>=1.1.1 in c:\\users\\jiayu\\anaconda3\\envs\\tinto-hnn\\lib\\site-packages (from aiohttp!=4.0.0a0,!=4.0.0a1->fsspec[http]>=2022.5.0->pytorch_lightning) (1.4.1)\n",
            "Requirement already satisfied: multidict<7.0,>=4.5 in c:\\users\\jiayu\\anaconda3\\envs\\tinto-hnn\\lib\\site-packages (from aiohttp!=4.0.0a0,!=4.0.0a1->fsspec[http]>=2022.5.0->pytorch_lightning) (6.0.4)\n",
            "Requirement already satisfied: yarl<2.0,>=1.0 in c:\\users\\jiayu\\anaconda3\\envs\\tinto-hnn\\lib\\site-packages (from aiohttp!=4.0.0a0,!=4.0.0a1->fsspec[http]>=2022.5.0->pytorch_lightning) (1.9.4)\n",
            "Requirement already satisfied: MarkupSafe>=2.0 in c:\\users\\jiayu\\appdata\\roaming\\python\\python311\\site-packages (from jinja2->torch>=1.10.0->torchmetrics) (2.1.3)\n",
            "Requirement already satisfied: charset-normalizer<4,>=2 in c:\\users\\jiayu\\anaconda3\\envs\\tinto-hnn\\lib\\site-packages (from requests->fsspec[http]>=2022.5.0->pytorch_lightning) (3.3.2)\n",
            "Requirement already satisfied: idna<4,>=2.5 in c:\\users\\jiayu\\appdata\\roaming\\python\\python311\\site-packages (from requests->fsspec[http]>=2022.5.0->pytorch_lightning) (3.4)\n",
            "Requirement already satisfied: urllib3<3,>=1.21.1 in c:\\users\\jiayu\\anaconda3\\envs\\tinto-hnn\\lib\\site-packages (from requests->fsspec[http]>=2022.5.0->pytorch_lightning) (2.2.1)\n",
            "Requirement already satisfied: certifi>=2017.4.17 in c:\\users\\jiayu\\appdata\\roaming\\python\\python311\\site-packages (from requests->fsspec[http]>=2022.5.0->pytorch_lightning) (2023.7.22)\n",
            "Requirement already satisfied: mpmath>=0.19 in c:\\users\\jiayu\\anaconda3\\envs\\tinto-hnn\\lib\\site-packages (from sympy->torch>=1.10.0->torchmetrics) (1.3.0)\n"
          ]
        }
      ],
      "source": [
        "!pip install torchmetrics pytorch_lightning TINTOlib imblearn keras_preprocessing mpi4py\n",
        "!pip install -q torchinfo"
      ]
    },
    {
      "cell_type": "markdown",
      "metadata": {
        "id": "-OV3PYZxirxK"
      },
      "source": [
        "<div class=\"alert alert-block alert-info\">\n",
        "    \n",
        "<i class=\"fa fa-info-circle\" aria-hidden=\"true\"></i>\n",
        "Note that you must **restart the kernel** so that it can load the libraries."
      ]
    },
    {
      "cell_type": "markdown",
      "metadata": {
        "id": "nKMOKiJXirxL"
      },
      "source": [
        "---\n",
        "<a id=\"section22\"></a>\n",
        "# <font color=\"#004D7F\" size=5> 2.2. Invoke the libraries</font>"
      ]
    },
    {
      "cell_type": "markdown",
      "metadata": {},
      "source": [
        "Adding parent directory to import module residing outside this notebook folder"
      ]
    },
    {
      "cell_type": "code",
      "execution_count": 2,
      "metadata": {},
      "outputs": [],
      "source": [
        "import sys\n",
        "sys.path.append('../')"
      ]
    },
    {
      "cell_type": "markdown",
      "metadata": {
        "id": "5AdHKnWYsEq_"
      },
      "source": [
        "The first thing we need to do is to declare the libraries"
      ]
    },
    {
      "cell_type": "code",
      "execution_count": 1,
      "metadata": {
        "id": "PeeBbGxlpjFp",
        "scrolled": true,
        "tags": []
      },
      "outputs": [
        {
          "name": "stderr",
          "output_type": "stream",
          "text": [
            "C:\\Users\\jiayu\\AppData\\Local\\Temp\\ipykernel_19552\\781323325.py:2: DeprecationWarning: \n",
            "Pyarrow will become a required dependency of pandas in the next major release of pandas (pandas 3.0),\n",
            "(to allow more performant data types, such as the Arrow string type, and better interoperability with other libraries)\n",
            "but was not found to be installed on your system.\n",
            "If this would cause problems for you,\n",
            "please provide us feedback at https://github.com/pandas-dev/pandas/issues/54466\n",
            "        \n",
            "  import pandas as pd\n"
          ]
        },
        {
          "name": "stdout",
          "output_type": "stream",
          "text": [
            "OK\n"
          ]
        }
      ],
      "source": [
        "import os\n",
        "import pandas as pd\n",
        "import numpy as np\n",
        "from tqdm import tqdm\n",
        "#import cv2\n",
        "import gc\n",
        "import matplotlib.pyplot as plt\n",
        "#import openslide\n",
        "#from openslide.deepzoom import DeepZoomGenerator\n",
        "import tifffile as tifi\n",
        "import sklearn\n",
        "import tensorflow as tf\n",
        "import seaborn as sns\n",
        "from PIL import Image\n",
        "import random\n",
        "\n",
        "\n",
        "from sklearn.metrics import mean_absolute_error, mean_squared_error, r2_score,mean_absolute_percentage_error\n",
        "from keras_preprocessing.image import ImageDataGenerator\n",
        "from sklearn.model_selection import train_test_split\n",
        "\n",
        "#libreries Pytorch\n",
        "import torch\n",
        "from torch import nn\n",
        "import torch.optim as optim\n",
        "\n",
        "\n",
        "#Models of TINTOlib\n",
        "from TINTOlib.tinto import TINTO\n",
        "from TINTOlib.supertml import SuperTML\n",
        "from TINTOlib.igtd import IGTD\n",
        "from TINTOlib.refined import REFINED\n",
        "from TINTOlib.barGraph import BarGraph\n",
        "from TINTOlib.distanceMatrix import DistanceMatrix\n",
        "from TINTOlib.combination import Combination\n",
        "import warnings\n",
        "warnings.filterwarnings(\"ignore\")"
      ]
    },
    {
      "cell_type": "markdown",
      "metadata": {
        "id": "NwS-cKUxjpDQ"
      },
      "source": [
        "---\n",
        "<div style=\"text-align: right\"> <font size=5> <a href=\"#indice\"><i class=\"fa fa-arrow-circle-up\" aria-hidden=\"true\" style=\"color:#004D7F\"></i></a></font></div>\n",
        "\n",
        "---"
      ]
    },
    {
      "cell_type": "markdown",
      "metadata": {
        "id": "aDL4LARWjpDT"
      },
      "source": [
        "<a id=\"section3\"></a>\n",
        "# <font color=\"#004D7F\" size=6> 3. Data processing</font>"
      ]
    },
    {
      "cell_type": "markdown",
      "metadata": {
        "id": "jXcRw78ljpDU"
      },
      "source": [
        "The first thing to do is to read all the images created by TINTO. TINTO creates a folder which contains subfolders corresponding to each target that has the problem. Each image corresponds to a sample of the original dataset."
      ]
    },
    {
      "cell_type": "markdown",
      "metadata": {
        "id": "-3tyEAN5irxT"
      },
      "source": [
        "---\n",
        "<a id=\"section31\"></a>\n",
        "# <font color=\"#004D7F\" size=5> 3.1. TINTOlib methods</font>\n",
        "\n",
        "We prepare the declaration of the classes with the TINTOlib method we want to transform. Note that TINTOlib has several methods and we will have to choose one of them since each method generates different images.\n",
        "\n",
        "In addition, we establish the paths where the dataset is located and also the folder where the images will be created."
      ]
    },
    {
      "cell_type": "code",
      "execution_count": 2,
      "metadata": {},
      "outputs": [],
      "source": [
        "SEED = 64\n",
        "\n",
        "# SET RANDOM SEED FOR REPRODUCIBILITY\n",
        "#torch.manual_seed(SEED)\n",
        "#torch.cuda.manual_seed(SEED)\n",
        "#torch.cuda.manual_seed_all(SEED)\n",
        "#torch.backends.cudnn.deterministic = True\n",
        "#torch.backends.cudnn.benchmark = False\n",
        "os.environ['PYTHONHASHSEED']=str(SEED)\n",
        "random.seed(SEED)\n",
        "np.random.seed(SEED)\n",
        "tf.random.set_seed(SEED)"
      ]
    },
    {
      "cell_type": "markdown",
      "metadata": {
        "id": "Q_fROCY5C__S"
      },
      "source": [
        "<a id=\"section31\"></a>\n",
        "# <font color=\"#004D7F\" size=5> 3.1. Create images with TINTOlib</font>"
      ]
    },
    {
      "cell_type": "code",
      "execution_count": 15,
      "metadata": {
        "id": "oXYAlWzQC__T"
      },
      "outputs": [],
      "source": [
        "#Select the model and the parameters\n",
        "problem_type = \"supervised\"\n",
        "pixel = 20\n",
        "#image_model = REFINED(problem= problem_type,hcIterations=5)\n",
        "#image_model = TINTO(problem= problem_type, blur=True)\n",
        "#image_model = IGTD(problem= problem_type)\n",
        "#image_model = BarGraph(problem= problem_type)\n",
        "#image_model = DistanceMatrix(problem= problem_type)\n",
        "#image_model = Combination(problem= problem_type)\n",
        "image_model = SuperTML(problem= problem_type, variable_font_size=True, )\n",
        "\n",
        "#Define the dataset path and the folder where the images will be saved\n",
        "results_folder = \"./results_heloc_ViT_TINTO_Pytorch\"\n",
        "dataset_path = \"../../Datasets/preprocessed_heloc.csv\"\n",
        "images_folder = \"../HyNNImages/Classification/heloc_SuperTML\""
      ]
    },
    {
      "cell_type": "markdown",
      "metadata": {
        "id": "Z7PMiFESirxW"
      },
      "source": [
        "<div class=\"alert alert-block alert-info\">\n",
        "\n",
        "<i class=\"fa fa-info-circle\" aria-hidden=\"true\"></i>\n",
        "You can see all information about TINTOlib documentation in [PyPI](https://tintolib.readthedocs.io/en/latest/installation.html)"
      ]
    },
    {
      "cell_type": "markdown",
      "metadata": {
        "id": "QYMxqcb-irxW"
      },
      "source": [
        "---\n",
        "<a id=\"section32\"></a>\n",
        "# <font color=\"#004D7F\" size=5> 3.2. Read the dataset</font>\n",
        "\n",
        "In this part, we proceed to read the dataset according to the path specified above and also standardize the name that the target will have."
      ]
    },
    {
      "cell_type": "code",
      "execution_count": 16,
      "metadata": {
        "colab": {
          "base_uri": "https://localhost:8080/",
          "height": 112
        },
        "id": "Wwz5UevnirxX",
        "outputId": "28187f89-57f2-4dcc-9a34-f3925e0fa765"
      },
      "outputs": [
        {
          "data": {
            "text/html": [
              "<div>\n",
              "<style scoped>\n",
              "    .dataframe tbody tr th:only-of-type {\n",
              "        vertical-align: middle;\n",
              "    }\n",
              "\n",
              "    .dataframe tbody tr th {\n",
              "        vertical-align: top;\n",
              "    }\n",
              "\n",
              "    .dataframe thead th {\n",
              "        text-align: right;\n",
              "    }\n",
              "</style>\n",
              "<table border=\"1\" class=\"dataframe\">\n",
              "  <thead>\n",
              "    <tr style=\"text-align: right;\">\n",
              "      <th></th>\n",
              "      <th>RiskPerformance</th>\n",
              "      <th>ExternalRiskEstimate</th>\n",
              "      <th>MSinceOldestTradeOpen</th>\n",
              "      <th>MSinceMostRecentTradeOpen</th>\n",
              "      <th>AverageMInFile</th>\n",
              "      <th>NumSatisfactoryTrades</th>\n",
              "      <th>NumTrades60Ever2DerogPubRec</th>\n",
              "      <th>NumTrades90Ever2DerogPubRec</th>\n",
              "      <th>PercentTradesNeverDelq</th>\n",
              "      <th>MSinceMostRecentDelq</th>\n",
              "      <th>...</th>\n",
              "      <th>PercentInstallTrades</th>\n",
              "      <th>MSinceMostRecentInqexcl7days</th>\n",
              "      <th>NumInqLast6M</th>\n",
              "      <th>NumInqLast6Mexcl7days</th>\n",
              "      <th>NetFractionRevolvingBurden</th>\n",
              "      <th>NetFractionInstallBurden</th>\n",
              "      <th>NumRevolvingTradesWBalance</th>\n",
              "      <th>NumInstallTradesWBalance</th>\n",
              "      <th>NumBank2NatlTradesWHighUtilization</th>\n",
              "      <th>PercentTradesWBalance</th>\n",
              "    </tr>\n",
              "  </thead>\n",
              "  <tbody>\n",
              "    <tr>\n",
              "      <th>0</th>\n",
              "      <td>Bad</td>\n",
              "      <td>55</td>\n",
              "      <td>144</td>\n",
              "      <td>4</td>\n",
              "      <td>84</td>\n",
              "      <td>20</td>\n",
              "      <td>3</td>\n",
              "      <td>0</td>\n",
              "      <td>83</td>\n",
              "      <td>2</td>\n",
              "      <td>...</td>\n",
              "      <td>43</td>\n",
              "      <td>0</td>\n",
              "      <td>0</td>\n",
              "      <td>0</td>\n",
              "      <td>33</td>\n",
              "      <td>-8</td>\n",
              "      <td>8</td>\n",
              "      <td>1</td>\n",
              "      <td>1</td>\n",
              "      <td>69</td>\n",
              "    </tr>\n",
              "    <tr>\n",
              "      <th>1</th>\n",
              "      <td>Bad</td>\n",
              "      <td>61</td>\n",
              "      <td>58</td>\n",
              "      <td>15</td>\n",
              "      <td>41</td>\n",
              "      <td>2</td>\n",
              "      <td>4</td>\n",
              "      <td>4</td>\n",
              "      <td>100</td>\n",
              "      <td>-7</td>\n",
              "      <td>...</td>\n",
              "      <td>67</td>\n",
              "      <td>0</td>\n",
              "      <td>0</td>\n",
              "      <td>0</td>\n",
              "      <td>0</td>\n",
              "      <td>-8</td>\n",
              "      <td>0</td>\n",
              "      <td>-8</td>\n",
              "      <td>-8</td>\n",
              "      <td>0</td>\n",
              "    </tr>\n",
              "  </tbody>\n",
              "</table>\n",
              "<p>2 rows × 24 columns</p>\n",
              "</div>"
            ],
            "text/plain": [
              "  RiskPerformance  ExternalRiskEstimate  MSinceOldestTradeOpen  \\\n",
              "0             Bad                    55                    144   \n",
              "1             Bad                    61                     58   \n",
              "\n",
              "   MSinceMostRecentTradeOpen  AverageMInFile  NumSatisfactoryTrades  \\\n",
              "0                          4              84                     20   \n",
              "1                         15              41                      2   \n",
              "\n",
              "   NumTrades60Ever2DerogPubRec  NumTrades90Ever2DerogPubRec  \\\n",
              "0                            3                            0   \n",
              "1                            4                            4   \n",
              "\n",
              "   PercentTradesNeverDelq  MSinceMostRecentDelq  ...  PercentInstallTrades  \\\n",
              "0                      83                     2  ...                    43   \n",
              "1                     100                    -7  ...                    67   \n",
              "\n",
              "   MSinceMostRecentInqexcl7days  NumInqLast6M  NumInqLast6Mexcl7days  \\\n",
              "0                             0             0                      0   \n",
              "1                             0             0                      0   \n",
              "\n",
              "   NetFractionRevolvingBurden  NetFractionInstallBurden  \\\n",
              "0                          33                        -8   \n",
              "1                           0                        -8   \n",
              "\n",
              "   NumRevolvingTradesWBalance  NumInstallTradesWBalance  \\\n",
              "0                           8                         1   \n",
              "1                           0                        -8   \n",
              "\n",
              "   NumBank2NatlTradesWHighUtilization  PercentTradesWBalance  \n",
              "0                                   1                     69  \n",
              "1                                  -8                      0  \n",
              "\n",
              "[2 rows x 24 columns]"
            ]
          },
          "execution_count": 16,
          "metadata": {},
          "output_type": "execute_result"
        }
      ],
      "source": [
        "#Read CSV\n",
        "df = pd.read_csv(dataset_path)\n",
        "df.head(2)"
      ]
    },
    {
      "cell_type": "code",
      "execution_count": 17,
      "metadata": {},
      "outputs": [
        {
          "data": {
            "text/plain": [
              "(9871, 24)"
            ]
          },
          "execution_count": 17,
          "metadata": {},
          "output_type": "execute_result"
        }
      ],
      "source": [
        "df.shape"
      ]
    },
    {
      "cell_type": "code",
      "execution_count": 18,
      "metadata": {},
      "outputs": [
        {
          "name": "stdout",
          "output_type": "stream",
          "text": [
            "Categorical columns: Index(['RiskPerformance'], dtype='object')\n"
          ]
        }
      ],
      "source": [
        "categorical_columns = df.select_dtypes(include=['object', 'category']).columns\n",
        "print(\"Categorical columns:\", categorical_columns)"
      ]
    },
    {
      "cell_type": "code",
      "execution_count": 19,
      "metadata": {},
      "outputs": [],
      "source": [
        "# Tintolib needs the target column to be the last column\n",
        "# Step 1: Select the first column\n",
        "first_column = df.iloc[:, 0]\n",
        "\n",
        "# Step 2: Drop the first column from the dataframe\n",
        "df = df.iloc[:, 1:]\n",
        "\n",
        "# Step 3: Append the first column to the end of the dataframe\n",
        "df[first_column.name] = first_column"
      ]
    },
    {
      "cell_type": "code",
      "execution_count": 20,
      "metadata": {},
      "outputs": [
        {
          "data": {
            "text/plain": [
              "Index(['ExternalRiskEstimate', 'MSinceOldestTradeOpen',\n",
              "       'MSinceMostRecentTradeOpen', 'AverageMInFile', 'NumSatisfactoryTrades',\n",
              "       'NumTrades60Ever2DerogPubRec', 'NumTrades90Ever2DerogPubRec',\n",
              "       'PercentTradesNeverDelq', 'MSinceMostRecentDelq',\n",
              "       'MaxDelq2PublicRecLast12M', 'MaxDelqEver', 'NumTotalTrades',\n",
              "       'NumTradesOpeninLast12M', 'PercentInstallTrades',\n",
              "       'MSinceMostRecentInqexcl7days', 'NumInqLast6M', 'NumInqLast6Mexcl7days',\n",
              "       'NetFractionRevolvingBurden', 'NetFractionInstallBurden',\n",
              "       'NumRevolvingTradesWBalance', 'NumInstallTradesWBalance',\n",
              "       'NumBank2NatlTradesWHighUtilization', 'PercentTradesWBalance',\n",
              "       'RiskPerformance'],\n",
              "      dtype='object')"
            ]
          },
          "execution_count": 20,
          "metadata": {},
          "output_type": "execute_result"
        }
      ],
      "source": [
        "df.columns"
      ]
    },
    {
      "cell_type": "code",
      "execution_count": 21,
      "metadata": {},
      "outputs": [
        {
          "data": {
            "text/html": [
              "<div>\n",
              "<style scoped>\n",
              "    .dataframe tbody tr th:only-of-type {\n",
              "        vertical-align: middle;\n",
              "    }\n",
              "\n",
              "    .dataframe tbody tr th {\n",
              "        vertical-align: top;\n",
              "    }\n",
              "\n",
              "    .dataframe thead th {\n",
              "        text-align: right;\n",
              "    }\n",
              "</style>\n",
              "<table border=\"1\" class=\"dataframe\">\n",
              "  <thead>\n",
              "    <tr style=\"text-align: right;\">\n",
              "      <th></th>\n",
              "      <th>ExternalRiskEstimate</th>\n",
              "      <th>MSinceOldestTradeOpen</th>\n",
              "      <th>MSinceMostRecentTradeOpen</th>\n",
              "      <th>AverageMInFile</th>\n",
              "      <th>NumSatisfactoryTrades</th>\n",
              "      <th>NumTrades60Ever2DerogPubRec</th>\n",
              "      <th>NumTrades90Ever2DerogPubRec</th>\n",
              "      <th>PercentTradesNeverDelq</th>\n",
              "      <th>MSinceMostRecentDelq</th>\n",
              "      <th>MaxDelq2PublicRecLast12M</th>\n",
              "      <th>...</th>\n",
              "      <th>MSinceMostRecentInqexcl7days</th>\n",
              "      <th>NumInqLast6M</th>\n",
              "      <th>NumInqLast6Mexcl7days</th>\n",
              "      <th>NetFractionRevolvingBurden</th>\n",
              "      <th>NetFractionInstallBurden</th>\n",
              "      <th>NumRevolvingTradesWBalance</th>\n",
              "      <th>NumInstallTradesWBalance</th>\n",
              "      <th>NumBank2NatlTradesWHighUtilization</th>\n",
              "      <th>PercentTradesWBalance</th>\n",
              "      <th>RiskPerformance</th>\n",
              "    </tr>\n",
              "  </thead>\n",
              "  <tbody>\n",
              "    <tr>\n",
              "      <th>0</th>\n",
              "      <td>0.621359</td>\n",
              "      <td>0.187423</td>\n",
              "      <td>0.010444</td>\n",
              "      <td>0.211082</td>\n",
              "      <td>0.253165</td>\n",
              "      <td>0.157895</td>\n",
              "      <td>0.000000</td>\n",
              "      <td>0.83</td>\n",
              "      <td>0.109890</td>\n",
              "      <td>0.333333</td>\n",
              "      <td>...</td>\n",
              "      <td>0.25</td>\n",
              "      <td>0.0</td>\n",
              "      <td>0.0</td>\n",
              "      <td>0.170833</td>\n",
              "      <td>0.0</td>\n",
              "      <td>0.4</td>\n",
              "      <td>0.290323</td>\n",
              "      <td>0.346154</td>\n",
              "      <td>0.712963</td>\n",
              "      <td>Bad</td>\n",
              "    </tr>\n",
              "    <tr>\n",
              "      <th>1</th>\n",
              "      <td>0.679612</td>\n",
              "      <td>0.081381</td>\n",
              "      <td>0.039164</td>\n",
              "      <td>0.097625</td>\n",
              "      <td>0.025316</td>\n",
              "      <td>0.210526</td>\n",
              "      <td>0.210526</td>\n",
              "      <td>1.00</td>\n",
              "      <td>0.010989</td>\n",
              "      <td>0.000000</td>\n",
              "      <td>...</td>\n",
              "      <td>0.25</td>\n",
              "      <td>0.0</td>\n",
              "      <td>0.0</td>\n",
              "      <td>0.033333</td>\n",
              "      <td>0.0</td>\n",
              "      <td>0.2</td>\n",
              "      <td>0.000000</td>\n",
              "      <td>0.000000</td>\n",
              "      <td>0.074074</td>\n",
              "      <td>Bad</td>\n",
              "    </tr>\n",
              "  </tbody>\n",
              "</table>\n",
              "<p>2 rows × 24 columns</p>\n",
              "</div>"
            ],
            "text/plain": [
              "   ExternalRiskEstimate  MSinceOldestTradeOpen  MSinceMostRecentTradeOpen  \\\n",
              "0              0.621359               0.187423                   0.010444   \n",
              "1              0.679612               0.081381                   0.039164   \n",
              "\n",
              "   AverageMInFile  NumSatisfactoryTrades  NumTrades60Ever2DerogPubRec  \\\n",
              "0        0.211082               0.253165                     0.157895   \n",
              "1        0.097625               0.025316                     0.210526   \n",
              "\n",
              "   NumTrades90Ever2DerogPubRec  PercentTradesNeverDelq  MSinceMostRecentDelq  \\\n",
              "0                     0.000000                    0.83              0.109890   \n",
              "1                     0.210526                    1.00              0.010989   \n",
              "\n",
              "   MaxDelq2PublicRecLast12M  ...  MSinceMostRecentInqexcl7days  NumInqLast6M  \\\n",
              "0                  0.333333  ...                          0.25           0.0   \n",
              "1                  0.000000  ...                          0.25           0.0   \n",
              "\n",
              "   NumInqLast6Mexcl7days  NetFractionRevolvingBurden  \\\n",
              "0                    0.0                    0.170833   \n",
              "1                    0.0                    0.033333   \n",
              "\n",
              "   NetFractionInstallBurden  NumRevolvingTradesWBalance  \\\n",
              "0                       0.0                         0.4   \n",
              "1                       0.0                         0.2   \n",
              "\n",
              "   NumInstallTradesWBalance  NumBank2NatlTradesWHighUtilization  \\\n",
              "0                  0.290323                            0.346154   \n",
              "1                  0.000000                            0.000000   \n",
              "\n",
              "   PercentTradesWBalance  RiskPerformance  \n",
              "0               0.712963              Bad  \n",
              "1               0.074074              Bad  \n",
              "\n",
              "[2 rows x 24 columns]"
            ]
          },
          "execution_count": 21,
          "metadata": {},
          "output_type": "execute_result"
        }
      ],
      "source": [
        "# Select all the attributes to normalize\n",
        "columns_to_normalize = df.columns[:-1]\n",
        "\n",
        "# Normalize between 0 and 1\n",
        "df_normalized = (df[columns_to_normalize] - df[columns_to_normalize].min()) / (df[columns_to_normalize].max() - df[columns_to_normalize].min())\n",
        "\n",
        "# Combine the attributes and the label\n",
        "df_normalized = pd.concat([df_normalized, df[df.columns[-1]]], axis=1)\n",
        "\n",
        "df_normalized.head(2)"
      ]
    },
    {
      "cell_type": "markdown",
      "metadata": {},
      "source": [
        "---\n",
        "<a id=\"section33\"></a>\n",
        "# <font color=\"#004D7F\" size=5> 3.3. Label encoding</font>"
      ]
    },
    {
      "cell_type": "markdown",
      "metadata": {},
      "source": [
        "In this section, we delve into label encoding, a crucial preprocessing step for preparing categorical labels for use in machine learning models. Specifically for binary classification tasks, label encoding involves transforming categorical labels into a binary format, represented by the integers 0 and 1."
      ]
    },
    {
      "cell_type": "code",
      "execution_count": 22,
      "metadata": {},
      "outputs": [],
      "source": [
        "from sklearn.preprocessing import LabelEncoder\n",
        "\n",
        "encoder = LabelEncoder()\n",
        "df['RiskPerformance']= encoder.fit_transform(df['RiskPerformance'])"
      ]
    },
    {
      "cell_type": "code",
      "execution_count": 23,
      "metadata": {},
      "outputs": [],
      "source": [
        "df_y = df['RiskPerformance']"
      ]
    },
    {
      "cell_type": "code",
      "execution_count": 24,
      "metadata": {},
      "outputs": [
        {
          "data": {
            "text/plain": [
              "0       0\n",
              "1       0\n",
              "2       0\n",
              "3       0\n",
              "4       0\n",
              "       ..\n",
              "9866    1\n",
              "9867    0\n",
              "9868    0\n",
              "9869    0\n",
              "9870    0\n",
              "Name: RiskPerformance, Length: 9871, dtype: int32"
            ]
          },
          "execution_count": 24,
          "metadata": {},
          "output_type": "execute_result"
        }
      ],
      "source": [
        "df_y"
      ]
    },
    {
      "cell_type": "markdown",
      "metadata": {},
      "source": [
        "---\n",
        "<a id=\"section34\"></a>\n",
        "# <font color=\"#004D7F\" size=5> 3.4. Generate images</font>"
      ]
    },
    {
      "cell_type": "markdown",
      "metadata": {
        "id": "acC4jCxeirxZ"
      },
      "source": [
        "Now we can generate the images with the `generateImages()` generic function. Likewise, we create a dataset that will have the path of each of the samples with the corresponding image created for it.\n",
        "\n",
        "Note that each image is created based on a row, therefore, each numerical sample of the dataset will correspond to a particular image. In other words, we will have the same number of images as samples/rows."
      ]
    },
    {
      "cell_type": "code",
      "execution_count": 25,
      "metadata": {
        "colab": {
          "base_uri": "https://localhost:8080/"
        },
        "id": "cerdfl_1irxZ",
        "outputId": "d633785a-97ff-4071-a71b-bc0207de1957"
      },
      "outputs": [
        {
          "ename": "KeyboardInterrupt",
          "evalue": "",
          "output_type": "error",
          "traceback": [
            "\u001b[1;31m---------------------------------------------------------------------------\u001b[0m",
            "\u001b[1;31mOSError\u001b[0m                                   Traceback (most recent call last)",
            "File \u001b[1;32mc:\\Users\\jiayu\\anaconda3\\envs\\Tinto-HNN\\Lib\\site-packages\\PIL\\ImageFont.py:819\u001b[0m, in \u001b[0;36mtruetype\u001b[1;34m(font, size, index, encoding, layout_engine)\u001b[0m\n\u001b[0;32m    818\u001b[0m \u001b[38;5;28;01mtry\u001b[39;00m:\n\u001b[1;32m--> 819\u001b[0m     \u001b[38;5;28;01mreturn\u001b[39;00m \u001b[43mfreetype\u001b[49m\u001b[43m(\u001b[49m\u001b[43mfont\u001b[49m\u001b[43m)\u001b[49m\n\u001b[0;32m    820\u001b[0m \u001b[38;5;28;01mexcept\u001b[39;00m \u001b[38;5;167;01mOSError\u001b[39;00m:\n",
            "File \u001b[1;32mc:\\Users\\jiayu\\anaconda3\\envs\\Tinto-HNN\\Lib\\site-packages\\PIL\\ImageFont.py:816\u001b[0m, in \u001b[0;36mtruetype.<locals>.freetype\u001b[1;34m(font)\u001b[0m\n\u001b[0;32m    815\u001b[0m \u001b[38;5;28;01mdef\u001b[39;00m \u001b[38;5;21mfreetype\u001b[39m(font):\n\u001b[1;32m--> 816\u001b[0m     \u001b[38;5;28;01mreturn\u001b[39;00m \u001b[43mFreeTypeFont\u001b[49m\u001b[43m(\u001b[49m\u001b[43mfont\u001b[49m\u001b[43m,\u001b[49m\u001b[43m \u001b[49m\u001b[43msize\u001b[49m\u001b[43m,\u001b[49m\u001b[43m \u001b[49m\u001b[43mindex\u001b[49m\u001b[43m,\u001b[49m\u001b[43m \u001b[49m\u001b[43mencoding\u001b[49m\u001b[43m,\u001b[49m\u001b[43m \u001b[49m\u001b[43mlayout_engine\u001b[49m\u001b[43m)\u001b[49m\n",
            "File \u001b[1;32mc:\\Users\\jiayu\\anaconda3\\envs\\Tinto-HNN\\Lib\\site-packages\\PIL\\ImageFont.py:245\u001b[0m, in \u001b[0;36mFreeTypeFont.__init__\u001b[1;34m(self, font, size, index, encoding, layout_engine)\u001b[0m\n\u001b[0;32m    244\u001b[0m             \u001b[38;5;28;01mreturn\u001b[39;00m\n\u001b[1;32m--> 245\u001b[0m     \u001b[38;5;28mself\u001b[39m\u001b[38;5;241m.\u001b[39mfont \u001b[38;5;241m=\u001b[39m \u001b[43mcore\u001b[49m\u001b[38;5;241;43m.\u001b[39;49m\u001b[43mgetfont\u001b[49m\u001b[43m(\u001b[49m\n\u001b[0;32m    246\u001b[0m \u001b[43m        \u001b[49m\u001b[43mfont\u001b[49m\u001b[43m,\u001b[49m\u001b[43m \u001b[49m\u001b[43msize\u001b[49m\u001b[43m,\u001b[49m\u001b[43m \u001b[49m\u001b[43mindex\u001b[49m\u001b[43m,\u001b[49m\u001b[43m \u001b[49m\u001b[43mencoding\u001b[49m\u001b[43m,\u001b[49m\u001b[43m \u001b[49m\u001b[43mlayout_engine\u001b[49m\u001b[38;5;241;43m=\u001b[39;49m\u001b[43mlayout_engine\u001b[49m\n\u001b[0;32m    247\u001b[0m \u001b[43m    \u001b[49m\u001b[43m)\u001b[49m\n\u001b[0;32m    248\u001b[0m \u001b[38;5;28;01melse\u001b[39;00m:\n",
            "\u001b[1;31mOSError\u001b[0m: cannot open resource",
            "\nDuring handling of the above exception, another exception occurred:\n",
            "\u001b[1;31mKeyboardInterrupt\u001b[0m                         Traceback (most recent call last)",
            "Cell \u001b[1;32mIn[25], line 6\u001b[0m\n\u001b[0;32m      3\u001b[0m \u001b[38;5;66;03m# Generate the images if the folder does not exist\u001b[39;00m\n\u001b[0;32m      4\u001b[0m \u001b[38;5;28;01mif\u001b[39;00m \u001b[38;5;129;01mnot\u001b[39;00m os\u001b[38;5;241m.\u001b[39mpath\u001b[38;5;241m.\u001b[39mexists(images_folder):\n\u001b[0;32m      5\u001b[0m     \u001b[38;5;66;03m#Generate thet images\u001b[39;00m\n\u001b[1;32m----> 6\u001b[0m     \u001b[43mimage_model\u001b[49m\u001b[38;5;241;43m.\u001b[39;49m\u001b[43mgenerateImages\u001b[49m\u001b[43m(\u001b[49m\u001b[43mdf\u001b[49m\u001b[43m,\u001b[49m\u001b[43m \u001b[49m\u001b[43mimages_folder\u001b[49m\u001b[43m)\u001b[49m\n\u001b[0;32m      7\u001b[0m \u001b[38;5;28;01melse\u001b[39;00m:\n\u001b[0;32m      8\u001b[0m     \u001b[38;5;28mprint\u001b[39m(\u001b[38;5;124m\"\u001b[39m\u001b[38;5;124mThe images are already generated\u001b[39m\u001b[38;5;124m\"\u001b[39m)\n",
            "File \u001b[1;32mc:\\Users\\jiayu\\anaconda3\\envs\\Tinto-HNN\\Lib\\site-packages\\TINTOlib\\supertml.py:271\u001b[0m, in \u001b[0;36mSuperTML.generateImages\u001b[1;34m(self, data, folder)\u001b[0m\n\u001b[0;32m    268\u001b[0m Y \u001b[38;5;241m=\u001b[39m array[:, \u001b[38;5;241m-\u001b[39m\u001b[38;5;241m1\u001b[39m]\n\u001b[0;32m    270\u001b[0m \u001b[38;5;66;03m# Training\u001b[39;00m\n\u001b[1;32m--> 271\u001b[0m \u001b[38;5;28;43mself\u001b[39;49m\u001b[38;5;241;43m.\u001b[39;49m\u001b[43m__trainingAlg\u001b[49m\u001b[43m(\u001b[49m\u001b[43mX\u001b[49m\u001b[43m,\u001b[49m\u001b[43m \u001b[49m\u001b[43mY\u001b[49m\u001b[43m)\u001b[49m\n\u001b[0;32m    272\u001b[0m \u001b[38;5;28;01mif\u001b[39;00m \u001b[38;5;28mself\u001b[39m\u001b[38;5;241m.\u001b[39mverbose:\n\u001b[0;32m    273\u001b[0m     \u001b[38;5;28mprint\u001b[39m(\u001b[38;5;124m\"\u001b[39m\u001b[38;5;124mEnd\u001b[39m\u001b[38;5;124m\"\u001b[39m)\n",
            "File \u001b[1;32mc:\\Users\\jiayu\\anaconda3\\envs\\Tinto-HNN\\Lib\\site-packages\\TINTOlib\\supertml.py:241\u001b[0m, in \u001b[0;36mSuperTML.__trainingAlg\u001b[1;34m(self, X, Y)\u001b[0m\n\u001b[0;32m    238\u001b[0m         \u001b[38;5;28mprint\u001b[39m(\u001b[38;5;124m\"\u001b[39m\u001b[38;5;124mThe folder \u001b[39m\u001b[38;5;124m\"\u001b[39m \u001b[38;5;241m+\u001b[39m \u001b[38;5;28mself\u001b[39m\u001b[38;5;241m.\u001b[39mfolder \u001b[38;5;241m+\u001b[39m \u001b[38;5;124m\"\u001b[39m\u001b[38;5;124m is already created...\u001b[39m\u001b[38;5;124m\"\u001b[39m)\n\u001b[0;32m    239\u001b[0m \u001b[38;5;28;01mfor\u001b[39;00m i \u001b[38;5;129;01min\u001b[39;00m \u001b[38;5;28mrange\u001b[39m(X\u001b[38;5;241m.\u001b[39mshape[\u001b[38;5;241m0\u001b[39m]):\n\u001b[1;32m--> 241\u001b[0m     image \u001b[38;5;241m=\u001b[39m \u001b[38;5;28;43mself\u001b[39;49m\u001b[38;5;241;43m.\u001b[39;49m\u001b[43m__event2img\u001b[49m\u001b[43m(\u001b[49m\u001b[43mX\u001b[49m\u001b[43m[\u001b[49m\u001b[43mi\u001b[49m\u001b[43m]\u001b[49m\u001b[43m)\u001b[49m\n\u001b[0;32m    243\u001b[0m     \u001b[38;5;28;01mif\u001b[39;00m \u001b[38;5;28mself\u001b[39m\u001b[38;5;241m.\u001b[39mproblem \u001b[38;5;241m==\u001b[39m \u001b[38;5;124m\"\u001b[39m\u001b[38;5;124msupervised\u001b[39m\u001b[38;5;124m\"\u001b[39m:\n\u001b[0;32m    244\u001b[0m         route \u001b[38;5;241m=\u001b[39m \u001b[38;5;28mself\u001b[39m\u001b[38;5;241m.\u001b[39m__saveSupervised(Y[i], i, image)\n",
            "File \u001b[1;32mc:\\Users\\jiayu\\anaconda3\\envs\\Tinto-HNN\\Lib\\site-packages\\TINTOlib\\supertml.py:133\u001b[0m, in \u001b[0;36mSuperTML.__event2img\u001b[1;34m(self, event)\u001b[0m\n\u001b[0;32m    131\u001b[0m \u001b[38;5;28;01mfor\u001b[39;00m i,(feature,importance) \u001b[38;5;129;01min\u001b[39;00m \u001b[38;5;28menumerate\u001b[39m(sorted_features):\n\u001b[0;32m    132\u001b[0m     font_size \u001b[38;5;241m=\u001b[39m \u001b[38;5;28mmax\u001b[39m(\u001b[38;5;28mint\u001b[39m(\u001b[38;5;28mself\u001b[39m\u001b[38;5;241m.\u001b[39mfont_size \u001b[38;5;241m*\u001b[39m (importance \u001b[38;5;241m/\u001b[39m max_feature_importances)), \u001b[38;5;241m1\u001b[39m)\n\u001b[1;32m--> 133\u001b[0m     font \u001b[38;5;241m=\u001b[39m \u001b[43mImageFont\u001b[49m\u001b[38;5;241;43m.\u001b[39;49m\u001b[43mtruetype\u001b[49m\u001b[43m(\u001b[49m\u001b[38;5;124;43m\"\u001b[39;49m\u001b[38;5;124;43marial.ttf\u001b[39;49m\u001b[38;5;124;43m\"\u001b[39;49m\u001b[43m,\u001b[49m\u001b[43m \u001b[49m\u001b[43mfont_size\u001b[49m\u001b[43m)\u001b[49m\n\u001b[0;32m    135\u001b[0m     text \u001b[38;5;241m=\u001b[39m \u001b[38;5;124mf\u001b[39m\u001b[38;5;124m'\u001b[39m\u001b[38;5;132;01m{\u001b[39;00mfeature\u001b[38;5;132;01m:\u001b[39;00m\u001b[38;5;124m.3f\u001b[39m\u001b[38;5;132;01m}\u001b[39;00m\u001b[38;5;124m'\u001b[39m\n\u001b[0;32m    137\u001b[0m     bbox \u001b[38;5;241m=\u001b[39m draw\u001b[38;5;241m.\u001b[39mtextbbox((\u001b[38;5;241m0\u001b[39m, \u001b[38;5;241m0\u001b[39m), text, font\u001b[38;5;241m=\u001b[39mfont)\n",
            "File \u001b[1;32mc:\\Users\\jiayu\\anaconda3\\envs\\Tinto-HNN\\Lib\\site-packages\\PIL\\ImageFont.py:850\u001b[0m, in \u001b[0;36mtruetype\u001b[1;34m(font, size, index, encoding, layout_engine)\u001b[0m\n\u001b[0;32m    848\u001b[0m first_font_with_a_different_extension \u001b[38;5;241m=\u001b[39m \u001b[38;5;28;01mNone\u001b[39;00m\n\u001b[0;32m    849\u001b[0m \u001b[38;5;28;01mfor\u001b[39;00m directory \u001b[38;5;129;01min\u001b[39;00m dirs:\n\u001b[1;32m--> 850\u001b[0m \u001b[43m    \u001b[49m\u001b[38;5;28;43;01mfor\u001b[39;49;00m\u001b[43m \u001b[49m\u001b[43mwalkroot\u001b[49m\u001b[43m,\u001b[49m\u001b[43m \u001b[49m\u001b[43mwalkdir\u001b[49m\u001b[43m,\u001b[49m\u001b[43m \u001b[49m\u001b[43mwalkfilenames\u001b[49m\u001b[43m \u001b[49m\u001b[38;5;129;43;01min\u001b[39;49;00m\u001b[43m \u001b[49m\u001b[43mos\u001b[49m\u001b[38;5;241;43m.\u001b[39;49m\u001b[43mwalk\u001b[49m\u001b[43m(\u001b[49m\u001b[43mdirectory\u001b[49m\u001b[43m)\u001b[49m\u001b[43m:\u001b[49m\n\u001b[0;32m    851\u001b[0m \u001b[43m        \u001b[49m\u001b[38;5;28;43;01mfor\u001b[39;49;00m\u001b[43m \u001b[49m\u001b[43mwalkfilename\u001b[49m\u001b[43m \u001b[49m\u001b[38;5;129;43;01min\u001b[39;49;00m\u001b[43m \u001b[49m\u001b[43mwalkfilenames\u001b[49m\u001b[43m:\u001b[49m\n\u001b[0;32m    852\u001b[0m \u001b[43m            \u001b[49m\u001b[38;5;28;43;01mif\u001b[39;49;00m\u001b[43m \u001b[49m\u001b[43mext\u001b[49m\u001b[43m \u001b[49m\u001b[38;5;129;43;01mand\u001b[39;49;00m\u001b[43m \u001b[49m\u001b[43mwalkfilename\u001b[49m\u001b[43m \u001b[49m\u001b[38;5;241;43m==\u001b[39;49m\u001b[43m \u001b[49m\u001b[43mttf_filename\u001b[49m\u001b[43m:\u001b[49m\n",
            "File \u001b[1;32m<frozen os>:368\u001b[0m, in \u001b[0;36m_walk\u001b[1;34m(top, topdown, onerror, followlinks)\u001b[0m\n",
            "\u001b[1;31mKeyboardInterrupt\u001b[0m: "
          ]
        }
      ],
      "source": [
        "import os\n",
        "\n",
        "# Generate the images if the folder does not exist\n",
        "if not os.path.exists(images_folder):\n",
        "    #Generate thet images\n",
        "    image_model.generateImages(df, images_folder)\n",
        "else:\n",
        "    print(\"The images are already generated\")\n",
        "\n",
        "img_paths = os.path.join(images_folder,problem_type+\".csv\")\n",
        "\n",
        "print(img_paths)"
      ]
    },
    {
      "cell_type": "markdown",
      "metadata": {
        "id": "klS9PZsUjpDV"
      },
      "source": [
        "---\n",
        "<a id=\"section34\"></a>\n",
        "# <font color=\"#004D7F\" size=5> 3.4. Read Images</font>\n",
        "\n",
        "Now, we read the created images"
      ]
    },
    {
      "cell_type": "markdown",
      "metadata": {},
      "source": [
        "---\n",
        "<a id=\"section35\"></a>\n",
        "# <font color=\"#004D7F\" size=5> 3.5. Read Images</font>"
      ]
    },
    {
      "cell_type": "markdown",
      "metadata": {},
      "source": [
        "Now, we read the created images"
      ]
    },
    {
      "cell_type": "code",
      "execution_count": 16,
      "metadata": {
        "id": "rvHDCZ-Iirx1"
      },
      "outputs": [],
      "source": [
        "imgs = pd.read_csv(img_paths)\n",
        "\n",
        "#imgs[\"images\"]= images_folder + \"\\\\\" + imgs[\"images\"]\n",
        "imgs[\"images\"]= images_folder + \"/\" + imgs[\"images\"]"
      ]
    },
    {
      "cell_type": "markdown",
      "metadata": {},
      "source": [
        "---\n",
        "<a id=\"section36\"></a>\n",
        "# <font color=\"#004D7F\" size=5> 3.6. Mix images and tidy data</font>"
      ]
    },
    {
      "cell_type": "markdown",
      "metadata": {},
      "source": [
        "Since we are going to use hybrid networks, i.e. create a model in which we join a ViT for the images and a MLP for the tabular data, we are going to join it in order to integrate all the data in our hybrid model."
      ]
    },
    {
      "cell_type": "markdown",
      "metadata": {},
      "source": [
        "Combine the images and tidy data in the same dataframe, split attributes and objective value"
      ]
    },
    {
      "cell_type": "code",
      "execution_count": 17,
      "metadata": {
        "colab": {
          "base_uri": "https://localhost:8080/",
          "height": 132
        },
        "id": "_xhAV2O_irx9",
        "outputId": "973286c2-34ef-46b8-ca77-c00d3318d0d3"
      },
      "outputs": [
        {
          "name": "stdout",
          "output_type": "stream",
          "text": [
            "0       0\n",
            "1       0\n",
            "2       0\n",
            "3       0\n",
            "4       0\n",
            "       ..\n",
            "9866    1\n",
            "9867    0\n",
            "9868    0\n",
            "9869    0\n",
            "9870    0\n",
            "Name: class, Length: 9871, dtype: int64\n"
          ]
        }
      ],
      "source": [
        "combined_dataset = pd.concat([imgs,df_normalized[columns_to_normalize]],axis=1)\n",
        "\n",
        "df_x = combined_dataset.drop(\"class\",axis=1)\n",
        "df_y = combined_dataset[\"class\"]\n",
        "\n",
        "print(df_y)"
      ]
    },
    {
      "cell_type": "markdown",
      "metadata": {
        "id": "_haEKIo7jpD1"
      },
      "source": [
        "---\n",
        "<div style=\"text-align: right\"> <font size=5> <a href=\"#indice\"><i class=\"fa fa-arrow-circle-up\" aria-hidden=\"true\" style=\"color:#004D7F\"></i></a></font></div>\n",
        "\n",
        "---"
      ]
    },
    {
      "cell_type": "markdown",
      "metadata": {
        "id": "uF1lJWbojpD3"
      },
      "source": [
        "<a id=\"section4\"></a>\n",
        "# <font color=\"#004D7F\" size=6> 4. Pre-modelling phase</font>"
      ]
    },
    {
      "cell_type": "markdown",
      "metadata": {
        "id": "zg_Ef8MxiryD"
      },
      "source": [
        "Once the data is ready, we load it into memory with an iterator in order to pass it to the ViT."
      ]
    },
    {
      "cell_type": "markdown",
      "metadata": {
        "id": "UwtEi_pkiryE"
      },
      "source": [
        "---\n",
        "<a id=\"section41\"></a>\n",
        "# <font color=\"#004D7F\" size=5> 4.1. Data curation</font>\n",
        "\n",
        "Note that each method generates images of **different pixel size**. For example:\n",
        "- `TINTO` method has a parameter that you can specify the size in pixels which by default is 20.\n",
        "- Other parameters such as `Combined` generates the size automatically and you must obtain them from the _shape_ of the images."
      ]
    },
    {
      "cell_type": "markdown",
      "metadata": {
        "id": "5F_w0k0QiryF"
      },
      "source": [
        "<div class=\"alert alert-block alert-info\">\n",
        "\n",
        "<i class=\"fa fa-info-circle\" aria-hidden=\"true\"></i>\n",
        "You can see all information about TINTOlib documentation in [PyPI](https://tintolib.readthedocs.io/en/latest/installation.html)"
      ]
    },
    {
      "cell_type": "code",
      "execution_count": 18,
      "metadata": {
        "id": "Lunw0fs0iryG"
      },
      "outputs": [],
      "source": [
        "pixels = 20"
      ]
    },
    {
      "cell_type": "markdown",
      "metadata": {
        "id": "1xOw2lzRiryI"
      },
      "source": [
        "Split in train/test/validation.\n",
        "\n",
        "Note that the partitioning of the images is also performed, in addition to the tabular data."
      ]
    },
    {
      "cell_type": "code",
      "execution_count": 19,
      "metadata": {
        "colab": {
          "base_uri": "https://localhost:8080/"
        },
        "id": "veReOdAyiryJ",
        "outputId": "a27cbcc7-5ae7-4e5f-c3b8-2ee3d26ac01f"
      },
      "outputs": [
        {
          "name": "stdout",
          "output_type": "stream",
          "text": [
            "Images shape:  (20, 20, 3)\n",
            "Attributres:  23\n",
            "Image size (pixels): 20\n"
          ]
        }
      ],
      "source": [
        "import cv2\n",
        "X_train, X_val, y_train, y_val = train_test_split(df_x, df_y, test_size = 0.40, random_state = 123)\n",
        "X_val, X_test, y_val, y_test = train_test_split(X_val, y_val, test_size = 0.50, random_state = 123)\n",
        "\n",
        "#TIDY DATA SPLITTED\n",
        "X_train_num = X_train.drop(\"images\",axis=1)\n",
        "X_val_num = X_val.drop(\"images\",axis=1)\n",
        "X_test_num = X_test.drop(\"images\",axis=1)\n",
        "\n",
        "#IMAGES\n",
        "# For 3 canal (RGB)\n",
        "X_train_img = np.array([cv2.resize(cv2.imread(img),(pixels,pixels)) for img in X_train[\"images\"]])\n",
        "X_val_img = np.array([cv2.resize(cv2.imread(img),(pixels,pixels)) for img in X_val[\"images\"]])\n",
        "X_test_img = np.array([cv2.resize(cv2.imread(img),(pixels,pixels)) for img in X_test[\"images\"]])\n",
        "\n",
        "# For 1 canal (GRAY SCALE)\n",
        "\"\"\"X_train_img = np.array([cv2.imread(img,cv2.IMREAD_GRAYSCALE) for img in X_train[\"images\"]])\n",
        "X_val_img = np.array([cv2.imread(img,cv2.IMREAD_GRAYSCALE) for img in X_val[\"images\"]])\n",
        "X_test_img = np.array([cv2.imread(img,cv2.IMREAD_GRAYSCALE) for img in X_test[\"images\"]])\"\"\"\n",
        "\n",
        "# Convert the Numpy arrays to TensorFlow tensors and normalize the pixel values to [0, 1]\n",
        "X_train_img = tf.convert_to_tensor(X_train_img, dtype=tf.float32) / 255.0\n",
        "X_val_img = tf.convert_to_tensor(X_val_img, dtype=tf.float32) / 255.0\n",
        "X_test_img = tf.convert_to_tensor(X_test_img, dtype=tf.float32) / 255.0\n",
        "\n",
        "attributes = len(X_train_num.columns)\n",
        "input_shape = X_train_img[0].shape\n",
        "\n",
        "print(\"Images shape: \",input_shape)\n",
        "print(\"Attributres: \",attributes)\n",
        "pixels=X_train_img[0].shape[0]\n",
        "print(\"Image size (pixels):\", pixels)"
      ]
    },
    {
      "cell_type": "markdown",
      "metadata": {
        "id": "uCaw3NAOC2o0"
      },
      "source": [
        "<a id=\"section5\"></a>\n",
        "# <font color=\"#004D7F\" size=6> 5. Modeling hybrid network VIT + MLP with Pytorch</font>"
      ]
    },
    {
      "cell_type": "markdown",
      "metadata": {
        "id": "zx7OoJo9DT26"
      },
      "source": [
        "---\n",
        "<a id=\"section51\"></a>\n",
        "# <font color=\"#004D7F\" size=5> 5.1. Transform inputs into tensors</font>"
      ]
    },
    {
      "cell_type": "code",
      "execution_count": 20,
      "metadata": {
        "id": "QVzWWZt_4Uko"
      },
      "outputs": [],
      "source": [
        "batch_size_tensor = 8"
      ]
    },
    {
      "cell_type": "code",
      "execution_count": 21,
      "metadata": {
        "id": "7ZpKQPDo4ZvP"
      },
      "outputs": [],
      "source": [
        "trainloader_X_Num = torch.utils.data.DataLoader(np.asarray(X_train_num).astype(np.float32), batch_size=batch_size_tensor, shuffle=False)\n",
        "trainloader_X_img = torch.utils.data.DataLoader(np.asarray(X_train_img).astype(np.float32), batch_size=batch_size_tensor, shuffle=False)\n",
        "trainloader_y = torch.utils.data.DataLoader(np.asarray(y_train).astype(np.float32), batch_size=batch_size_tensor, shuffle=False)\n",
        "\n",
        "trainloader_X_Num_tensors = []\n",
        "trainloader_X_img_tensors = []\n",
        "trainloader_y_tensors = []\n",
        "for input in trainloader_X_Num:\n",
        "  trainloader_X_Num_tensors.append(input)\n",
        "for input in trainloader_X_img:\n",
        "  trainloader_X_img_tensors.append(input)\n",
        "for input in trainloader_y:\n",
        "  trainloader_y_tensors.append(input)"
      ]
    },
    {
      "cell_type": "code",
      "execution_count": 22,
      "metadata": {
        "id": "03IOTmGQ4r5C"
      },
      "outputs": [],
      "source": [
        "testloader_X_Num = torch.utils.data.DataLoader(np.asarray(X_test_num).astype(np.float32), batch_size=batch_size_tensor, shuffle=False)\n",
        "testloader_X_img = torch.utils.data.DataLoader(np.asarray(X_test_img).astype(np.float32), batch_size=batch_size_tensor, shuffle=False)\n",
        "testloader_y = torch.utils.data.DataLoader(np.asarray(y_test).astype(np.float32), batch_size=batch_size_tensor, shuffle=False)\n",
        "\n",
        "testloader_X_Num_tensors = []\n",
        "testloader_X_img_tensors = []\n",
        "testloader_y_tensors = []\n",
        "for input in testloader_X_Num:\n",
        "  testloader_X_Num_tensors.append(input)\n",
        "for input in testloader_X_img:\n",
        "  testloader_X_img_tensors.append(input)\n",
        "for input in testloader_y:\n",
        "  testloader_y_tensors.append(input)"
      ]
    },
    {
      "cell_type": "code",
      "execution_count": 23,
      "metadata": {
        "id": "cKF8Zi9948Qp"
      },
      "outputs": [],
      "source": [
        "validloader_X_Num = torch.utils.data.DataLoader(np.asarray(X_val_num).astype(np.float32), batch_size=batch_size_tensor, shuffle=False)\n",
        "validloader_X_img = torch.utils.data.DataLoader(np.asarray(X_val_img).astype(np.float32), batch_size=batch_size_tensor, shuffle=False)\n",
        "validloader_y = torch.utils.data.DataLoader(np.asarray(y_val).astype(np.float32), batch_size=batch_size_tensor, shuffle=False)\n",
        "\n",
        "validloader_X_Num_tensors = []\n",
        "validloader_X_img_tensors = []\n",
        "validloader_y_tensors = []\n",
        "for input in validloader_X_Num:\n",
        "  validloader_X_Num_tensors.append(input)\n",
        "for input in validloader_X_img:\n",
        "  validloader_X_img_tensors.append(input)\n",
        "for input in validloader_y:\n",
        "  validloader_y_tensors.append(input)"
      ]
    },
    {
      "cell_type": "markdown",
      "metadata": {
        "id": "rQPgeijcDZvI"
      },
      "source": [
        "---\n",
        "<a id=\"section52\"></a>\n",
        "# <font color=\"#004D7F\" size=5> 5.2. Replicate the ViT architecture [PyTorch transformer layers]</font>"
      ]
    },
    {
      "cell_type": "code",
      "execution_count": 24,
      "metadata": {
        "id": "FQVfx5kcBqYp"
      },
      "outputs": [],
      "source": [
        "# Paramaters of the models\n",
        "num_channels_vit = 3\n",
        "patch_size_vit=5\n",
        "num_heads_vit=4\n",
        "num_layers_vit=8\n",
        "embedding_dim_vit=64\n",
        "dropout=0.1"
      ]
    },
    {
      "cell_type": "code",
      "execution_count": 25,
      "metadata": {
        "id": "jlHxhR-570C1"
      },
      "outputs": [],
      "source": [
        "# Make PatchEmbedding layer\n",
        "class Patch_Embedding(nn.Module):\n",
        "    \"\"\"Turns a 2D input image into a 1D sequence learnable embedding vector.\n",
        "\n",
        "    Args:\n",
        "        in_channels (int): Number of color channels for the input images.\n",
        "        patch_size (int): Size of patches to convert input image into.\n",
        "        embedding_dim (int): Size of embedding to turn image into.\n",
        "    \"\"\"\n",
        "    # 1. Initialize the variables\n",
        "    def __init__(self,\n",
        "                 in_channels:int=num_channels_vit,\n",
        "                 patch_size:int=patch_size_vit,\n",
        "                 embedding_dim:int=embedding_dim_vit):\n",
        "        super().__init__()\n",
        "\n",
        "        self.in_channels = in_channels\n",
        "        self.patch_size = patch_size\n",
        "        self.embedding_dim = embedding_dim_vit\n",
        "\n",
        "        # 2. Layer that turn an image into patches\n",
        "        self.patcher = nn.Conv2d(in_channels=in_channels,\n",
        "                                 out_channels=embedding_dim,\n",
        "                                 kernel_size=patch_size,\n",
        "                                 stride=patch_size,\n",
        "                                 padding=0)\n",
        "\n",
        "        # 3. Layer that flatten the patch feature maps into a single dimension\n",
        "        self.flatten = nn.Flatten(start_dim=2, # only flatten the feature map dimensions into a single vector\n",
        "                                  end_dim=3)\n",
        "\n",
        "    # 4. Define the forward method\n",
        "    def forward(self, x):\n",
        "        # Create assertion to check that inputs are the correct shape\n",
        "        image_size = x.shape[-1]\n",
        "        assert image_size % self.patch_size == 0, \"Image dimensions must be divisible by the patch size.\"\n",
        "\n",
        "        # Perform the forward pass\n",
        "        x_patch = self.patcher(x)\n",
        "        x_flatten = self.flatten(x_patch)\n",
        "        # 5. Make sure the output shape has the right order\n",
        "        return x_flatten.permute(0, 2, 1) # adjust so the embedding is on the final dimension [batch_size, P^2•C, N] -> [batch_size, N, P^2•C]"
      ]
    },
    {
      "cell_type": "code",
      "execution_count": 26,
      "metadata": {
        "colab": {
          "base_uri": "https://localhost:8080/"
        },
        "id": "eUMIhhRy765e",
        "outputId": "82857d8e-b580-4b88-d216-dc9687f48bfb"
      },
      "outputs": [
        {
          "name": "stdout",
          "output_type": "stream",
          "text": [
            "Input shape: torch.Size([8, 3, 20, 20])\n",
            "Output shape: torch.Size([8, 16, 64]) -> (batch_size, num_patches, embedding_dim)\n"
          ]
        }
      ],
      "source": [
        "tensor_image_example = trainloader_X_img_tensors[0].reshape([batch_size_tensor, num_channels_vit, pixels, pixels])\n",
        "patch_embedding = Patch_Embedding(num_channels_vit,patch_size_vit,embedding_dim_vit)\n",
        "patch_embedding_output = patch_embedding(tensor_image_example)\n",
        "print(f\"Input shape: {tensor_image_example.shape}\")\n",
        "print(f\"Output shape: {patch_embedding_output.shape} -> (batch_size, num_patches, embedding_dim)\")"
      ]
    },
    {
      "cell_type": "code",
      "execution_count": 27,
      "metadata": {
        "id": "ygiPmqd3ON5A"
      },
      "outputs": [],
      "source": [
        "class ViT(nn.Module):\n",
        "  def __init__(self,\n",
        "               img_size=pixels,\n",
        "               num_channels=num_channels_vit,\n",
        "               patch_size=patch_size_vit,\n",
        "               embedding_dim=embedding_dim_vit,\n",
        "               dropout=dropout,\n",
        "               mlp_size=3072,\n",
        "               num_transformer_layers=num_layers_vit,\n",
        "               num_heads=num_heads_vit,\n",
        "               output_size=1): # generic number of classes (this can be adjusted)\n",
        "    super().__init__()\n",
        "\n",
        "\n",
        "\n",
        "    # Assert image size is divisible by patch size\n",
        "    assert img_size % patch_size == 0, \"Image size must be divisble by patch size.\"\n",
        "\n",
        "    # 1. Create patch embedding\n",
        "    self.patch_embedding = Patch_Embedding(in_channels=num_channels,\n",
        "                                          patch_size=patch_size,\n",
        "                                          embedding_dim=embedding_dim)\n",
        "\n",
        "    # 2. Create class token\n",
        "    self.cls_token = nn.Parameter(torch.randn(1, 1, embedding_dim),requires_grad=True)\n",
        "\n",
        "    # 3. Create positional embedding\n",
        "    num_patches = (img_size * img_size) // patch_size**2 # N = HW/P^2\n",
        "    self.position_embeddings = nn.Parameter(torch.randn(size=(1, num_patches+1, embedding_dim)), requires_grad=True)\n",
        "\n",
        "    # 4. Create patch + position embedding dropout\n",
        "    self.embedding_dropout = nn.Dropout(p=dropout)\n",
        "\n",
        "    # 5. Create stack Transformer Encoder layers (stacked single layers)\n",
        "    self.transformer_encoder = nn.TransformerEncoder(encoder_layer=nn.TransformerEncoderLayer(d_model=embedding_dim,\n",
        "                                                                                              nhead=num_heads,\n",
        "                                                                                              dim_feedforward=mlp_size,\n",
        "                                                                                              activation=\"gelu\",\n",
        "                                                                                              batch_first=True,\n",
        "                                                                                              bias=True,\n",
        "                                                                                              norm_first=True), # Create a single Transformer Encoder Layer\n",
        "                                                     num_layers=num_transformer_layers) # Stack it N times\n",
        "\n",
        "    # 7. Create MLP head\n",
        "    self.mlp_head = nn.Sequential(\n",
        "        nn.LayerNorm(normalized_shape=embedding_dim),\n",
        "        nn.Linear(in_features=embedding_dim,\n",
        "                  out_features=int(embedding_dim/2)),\n",
        "        nn.GELU(),\n",
        "        nn.Dropout(0.1),\n",
        "        nn.Linear(in_features=int(embedding_dim/2),\n",
        "                  out_features=16)\n",
        "    )\n",
        "\n",
        "  def forward(self, x):\n",
        "    # Get some dimensions from x\n",
        "    batch_size = x.shape[0]\n",
        "\n",
        "    # Create the patch embedding\n",
        "    x = self.patch_embedding(x)\n",
        "\n",
        "    # First, expand the class token across the batch size\n",
        "    cls_token = self.cls_token.expand(batch_size, -1, -1) # \"-1\" means infer the dimension\n",
        "\n",
        "    # Prepend the class token to the patch embedding\n",
        "    x = torch.cat((cls_token, x), dim=1)\n",
        "\n",
        "    # Add the positional embedding to patch embedding with class token\n",
        "    x = self.position_embeddings + x\n",
        "\n",
        "    # Dropout on patch + positional embedding\n",
        "    x = self.embedding_dropout(x)\n",
        "\n",
        "    # Pass embedding through Transformer Encoder stack\n",
        "    x = self.transformer_encoder(x)\n",
        "\n",
        "    # Pass 0th index of x through MLP head\n",
        "    x = self.mlp_head(x[:, 0])\n",
        "\n",
        "    return x"
      ]
    },
    {
      "cell_type": "code",
      "execution_count": 28,
      "metadata": {
        "colab": {
          "base_uri": "https://localhost:8080/"
        },
        "id": "cwDAe_wGUxJR",
        "outputId": "9fd04e60-0e0d-4e21-de0d-1d1cd0422b0d"
      },
      "outputs": [
        {
          "data": {
            "text/plain": [
              "torch.Size([8, 16])"
            ]
          },
          "execution_count": 28,
          "metadata": {},
          "output_type": "execute_result"
        }
      ],
      "source": [
        "# Create ViT\n",
        "vit = ViT()\n",
        "vit(tensor_image_example).shape"
      ]
    },
    {
      "cell_type": "markdown",
      "metadata": {
        "id": "7mwJrMmNFhvY"
      },
      "source": [
        "---\n",
        "<a id=\"section53\"></a>\n",
        "# <font color=\"#004D7F\" size=5> 5.3. FNN for tabular data</font>\n",
        "\n",
        "This is an example of a simple FNN for tabular data."
      ]
    },
    {
      "cell_type": "code",
      "execution_count": 29,
      "metadata": {
        "id": "4ANrhA0sWRzf"
      },
      "outputs": [],
      "source": [
        "class ModeloMLP(nn.Module):\n",
        "  def __init__(self):\n",
        "    super(ModeloMLP, self).__init__()\n",
        "    self.fc1 = nn.Linear(attributes, 64)\n",
        "    self.act1 = nn.ReLU()\n",
        "    self.Drop1 = nn.Dropout(dropout)\n",
        "\n",
        "    self.fc2 = nn.Linear(64, 32)\n",
        "    self.act2 = nn.ReLU()\n",
        "    self.Drop2 = nn.Dropout(dropout)\n",
        "\n",
        "    self.fc3 = nn.Linear(32, 16)\n",
        "    self.act3 = nn.ReLU()\n",
        "    self.Drop3 = nn.Dropout(dropout)\n",
        "\n",
        "  def forward(self, x):\n",
        "    x = self.fc1(x)\n",
        "    x = self.act1(x)\n",
        "    x = self.Drop1(x)\n",
        "    x = self.fc2(x)\n",
        "    x = self.act2(x)\n",
        "    x = self.Drop2(x)\n",
        "    x = self.fc3(x)\n",
        "    return x"
      ]
    },
    {
      "cell_type": "markdown",
      "metadata": {
        "id": "UMlFbP6EF83d"
      },
      "source": [
        "---\n",
        "<a id=\"section54\"></a>\n",
        "# <font color=\"#004D7F\" size=5> 5.4. Concatenate VIT Model and FNN</font>\n",
        "\n",
        "Finally, we must concatenate the output of the ViT branch with the output of the FFNN branch in a final FFNN that will give the predictions."
      ]
    },
    {
      "cell_type": "code",
      "execution_count": 30,
      "metadata": {
        "id": "KIXUh5eA8kzU"
      },
      "outputs": [],
      "source": [
        "class Combined_model_final(nn.Module):\n",
        "  def __init__(self, ViT, ModeloMLP):\n",
        "    super(Combined_model_final, self).__init__()\n",
        "    self.ViT = ViT\n",
        "    self.ModeloMLP = ModeloMLP\n",
        "    self.fc1 = nn.Linear(32, 16)\n",
        "    self.act1 = nn.ReLU()\n",
        "    self.fc2 = nn.Linear(16,1)\n",
        "    self.sigmoid = nn.Sigmoid()\n",
        "\n",
        "  def forward(self, x1, x2):\n",
        "    x1 = self.ViT(x1)\n",
        "    x2 = self.ModeloMLP(x2)\n",
        "    x = torch.cat([x1, x2], dim=1)\n",
        "    x = self.fc1(x)\n",
        "    x = self.fc2(x)\n",
        "    return x"
      ]
    },
    {
      "cell_type": "code",
      "execution_count": 31,
      "metadata": {
        "colab": {
          "base_uri": "https://localhost:8080/"
        },
        "id": "h7FNJ5P9S0F-",
        "outputId": "3e320717-4a9f-4b23-ba20-9ac99cf71c6a"
      },
      "outputs": [
        {
          "data": {
            "text/plain": [
              "=================================================================\n",
              "Layer (type:depth-idx)                   Param #\n",
              "=================================================================\n",
              "ModeloMLP                                --\n",
              "├─Linear: 1-1                            1,536\n",
              "├─ReLU: 1-2                              --\n",
              "├─Dropout: 1-3                           --\n",
              "├─Linear: 1-4                            2,080\n",
              "├─ReLU: 1-5                              --\n",
              "├─Dropout: 1-6                           --\n",
              "├─Linear: 1-7                            528\n",
              "├─ReLU: 1-8                              --\n",
              "├─Dropout: 1-9                           --\n",
              "=================================================================\n",
              "Total params: 4,144\n",
              "Trainable params: 4,144\n",
              "Non-trainable params: 0\n",
              "================================================================="
            ]
          },
          "execution_count": 31,
          "metadata": {},
          "output_type": "execute_result"
        }
      ],
      "source": [
        "from torchinfo import summary\n",
        "summary(model=ModeloMLP())"
      ]
    },
    {
      "cell_type": "code",
      "execution_count": 32,
      "metadata": {
        "colab": {
          "base_uri": "https://localhost:8080/"
        },
        "id": "zJ8UIqTmGT6k",
        "outputId": "09151813-0e37-4aa4-bbef-bde1aae69e72"
      },
      "outputs": [
        {
          "data": {
            "text/plain": [
              "==========================================================================================\n",
              "Layer (type:depth-idx)                                            Param #\n",
              "==========================================================================================\n",
              "ViT                                                               1,152\n",
              "├─Patch_Embedding: 1-1                                            --\n",
              "│    └─Conv2d: 2-1                                                4,864\n",
              "│    └─Flatten: 2-2                                               --\n",
              "├─Dropout: 1-2                                                    --\n",
              "├─TransformerEncoder: 1-3                                         --\n",
              "│    └─ModuleList: 2-3                                            --\n",
              "│    │    └─TransformerEncoderLayer: 3-1                          413,248\n",
              "│    │    └─TransformerEncoderLayer: 3-2                          413,248\n",
              "│    │    └─TransformerEncoderLayer: 3-3                          413,248\n",
              "│    │    └─TransformerEncoderLayer: 3-4                          413,248\n",
              "│    │    └─TransformerEncoderLayer: 3-5                          413,248\n",
              "│    │    └─TransformerEncoderLayer: 3-6                          413,248\n",
              "│    │    └─TransformerEncoderLayer: 3-7                          413,248\n",
              "│    │    └─TransformerEncoderLayer: 3-8                          413,248\n",
              "├─Sequential: 1-4                                                 --\n",
              "│    └─LayerNorm: 2-4                                             128\n",
              "│    └─Linear: 2-5                                                2,080\n",
              "│    └─GELU: 2-6                                                  --\n",
              "│    └─Dropout: 2-7                                               --\n",
              "│    └─Linear: 2-8                                                528\n",
              "==========================================================================================\n",
              "Total params: 3,314,736\n",
              "Trainable params: 3,314,736\n",
              "Non-trainable params: 0\n",
              "=========================================================================================="
            ]
          },
          "execution_count": 32,
          "metadata": {},
          "output_type": "execute_result"
        }
      ],
      "source": [
        "summary(model=ViT())"
      ]
    },
    {
      "cell_type": "markdown",
      "metadata": {
        "id": "xs8T9mjcGyF6"
      },
      "source": [
        "---\n",
        "<a id=\"section55\"></a>\n",
        "# <font color=\"#004D7F\" size=5> 5.5. Hybrid Network Compile and fit</font>"
      ]
    },
    {
      "cell_type": "code",
      "execution_count": 33,
      "metadata": {
        "id": "NN3OCLlmABdc"
      },
      "outputs": [],
      "source": [
        "epochs = 50\n",
        "learning_rate = 1e-3"
      ]
    },
    {
      "cell_type": "code",
      "execution_count": 34,
      "metadata": {},
      "outputs": [
        {
          "ename": "NameError",
          "evalue": "name 'label_train_tensor' is not defined",
          "output_type": "error",
          "traceback": [
            "\u001b[1;31m---------------------------------------------------------------------------\u001b[0m",
            "\u001b[1;31mNameError\u001b[0m                                 Traceback (most recent call last)",
            "Cell \u001b[1;32mIn[34], line 1\u001b[0m\n\u001b[1;32m----> 1\u001b[0m \u001b[43mlabel_train_tensor\u001b[49m\u001b[38;5;241m.\u001b[39munsqueeze(\u001b[38;5;241m1\u001b[39m)\u001b[38;5;241m.\u001b[39mfloat()\u001b[38;5;241m.\u001b[39mshape\n",
            "\u001b[1;31mNameError\u001b[0m: name 'label_train_tensor' is not defined"
          ]
        }
      ],
      "source": [
        "label_train_tensor.unsqueeze(1).float().shape"
      ]
    },
    {
      "cell_type": "code",
      "execution_count": null,
      "metadata": {
        "colab": {
          "base_uri": "https://localhost:8080/"
        },
        "id": "BAzrgHLfXCzH",
        "outputId": "47c9c2fb-5285-4901-d088-520f0ea6f503"
      },
      "outputs": [
        {
          "name": "stdout",
          "output_type": "stream",
          "text": [
            "Epoch [1/50]\n",
            "Train Loss: 0.6019, Train Acc: 0.6675\n",
            "Val Loss: 0.5681, Val Acc: 0.7114\n",
            "\n",
            "Epoch [3/50]\n",
            "Train Loss: 0.5537, Train Acc: 0.7222\n",
            "Val Loss: 0.5614, Val Acc: 0.7185\n",
            "\n",
            "Epoch [5/50]\n",
            "Train Loss: 0.5483, Train Acc: 0.7281\n",
            "Val Loss: 0.5573, Val Acc: 0.7190\n",
            "\n",
            "Epoch [7/50]\n",
            "Train Loss: 0.5427, Train Acc: 0.7271\n",
            "Val Loss: 0.5565, Val Acc: 0.7195\n",
            "\n"
          ]
        },
        {
          "ename": "KeyboardInterrupt",
          "evalue": "",
          "output_type": "error",
          "traceback": [
            "\u001b[1;31m---------------------------------------------------------------------------\u001b[0m",
            "\u001b[1;31mKeyboardInterrupt\u001b[0m                         Traceback (most recent call last)",
            "Cell \u001b[1;32mIn[195], line 38\u001b[0m\n\u001b[0;32m     36\u001b[0m loss \u001b[38;5;241m=\u001b[39m loss_fn(y_pred, label_train_tensor)\n\u001b[0;32m     37\u001b[0m loss\u001b[38;5;241m.\u001b[39mbackward()\n\u001b[1;32m---> 38\u001b[0m \u001b[43moptimizer\u001b[49m\u001b[38;5;241;43m.\u001b[39;49m\u001b[43mstep\u001b[49m\u001b[43m(\u001b[49m\u001b[43m)\u001b[49m\n\u001b[0;32m     40\u001b[0m total_loss_train \u001b[38;5;241m+\u001b[39m\u001b[38;5;241m=\u001b[39m loss\u001b[38;5;241m.\u001b[39mitem() \u001b[38;5;241m*\u001b[39m input_X_img_train\u001b[38;5;241m.\u001b[39msize(\u001b[38;5;241m0\u001b[39m)\n\u001b[0;32m     41\u001b[0m predicted_labels \u001b[38;5;241m=\u001b[39m (torch\u001b[38;5;241m.\u001b[39msigmoid(y_pred) \u001b[38;5;241m>\u001b[39m \u001b[38;5;241m0.5\u001b[39m)\u001b[38;5;241m.\u001b[39mfloat()\n",
            "File \u001b[1;32mc:\\Users\\jiayu\\anaconda3\\envs\\Tinto-HNN\\Lib\\site-packages\\torch\\optim\\optimizer.py:385\u001b[0m, in \u001b[0;36mOptimizer.profile_hook_step.<locals>.wrapper\u001b[1;34m(*args, **kwargs)\u001b[0m\n\u001b[0;32m    380\u001b[0m         \u001b[38;5;28;01melse\u001b[39;00m:\n\u001b[0;32m    381\u001b[0m             \u001b[38;5;28;01mraise\u001b[39;00m \u001b[38;5;167;01mRuntimeError\u001b[39;00m(\n\u001b[0;32m    382\u001b[0m                 \u001b[38;5;124mf\u001b[39m\u001b[38;5;124m\"\u001b[39m\u001b[38;5;132;01m{\u001b[39;00mfunc\u001b[38;5;132;01m}\u001b[39;00m\u001b[38;5;124m must return None or a tuple of (new_args, new_kwargs), but got \u001b[39m\u001b[38;5;132;01m{\u001b[39;00mresult\u001b[38;5;132;01m}\u001b[39;00m\u001b[38;5;124m.\u001b[39m\u001b[38;5;124m\"\u001b[39m\n\u001b[0;32m    383\u001b[0m             )\n\u001b[1;32m--> 385\u001b[0m out \u001b[38;5;241m=\u001b[39m \u001b[43mfunc\u001b[49m\u001b[43m(\u001b[49m\u001b[38;5;241;43m*\u001b[39;49m\u001b[43margs\u001b[49m\u001b[43m,\u001b[49m\u001b[43m \u001b[49m\u001b[38;5;241;43m*\u001b[39;49m\u001b[38;5;241;43m*\u001b[39;49m\u001b[43mkwargs\u001b[49m\u001b[43m)\u001b[49m\n\u001b[0;32m    386\u001b[0m \u001b[38;5;28mself\u001b[39m\u001b[38;5;241m.\u001b[39m_optimizer_step_code()\n\u001b[0;32m    388\u001b[0m \u001b[38;5;66;03m# call optimizer step post hooks\u001b[39;00m\n",
            "File \u001b[1;32mc:\\Users\\jiayu\\anaconda3\\envs\\Tinto-HNN\\Lib\\site-packages\\torch\\optim\\optimizer.py:76\u001b[0m, in \u001b[0;36m_use_grad_for_differentiable.<locals>._use_grad\u001b[1;34m(self, *args, **kwargs)\u001b[0m\n\u001b[0;32m     74\u001b[0m     torch\u001b[38;5;241m.\u001b[39mset_grad_enabled(\u001b[38;5;28mself\u001b[39m\u001b[38;5;241m.\u001b[39mdefaults[\u001b[38;5;124m'\u001b[39m\u001b[38;5;124mdifferentiable\u001b[39m\u001b[38;5;124m'\u001b[39m])\n\u001b[0;32m     75\u001b[0m     torch\u001b[38;5;241m.\u001b[39m_dynamo\u001b[38;5;241m.\u001b[39mgraph_break()\n\u001b[1;32m---> 76\u001b[0m     ret \u001b[38;5;241m=\u001b[39m \u001b[43mfunc\u001b[49m\u001b[43m(\u001b[49m\u001b[38;5;28;43mself\u001b[39;49m\u001b[43m,\u001b[49m\u001b[43m \u001b[49m\u001b[38;5;241;43m*\u001b[39;49m\u001b[43margs\u001b[49m\u001b[43m,\u001b[49m\u001b[43m \u001b[49m\u001b[38;5;241;43m*\u001b[39;49m\u001b[38;5;241;43m*\u001b[39;49m\u001b[43mkwargs\u001b[49m\u001b[43m)\u001b[49m\n\u001b[0;32m     77\u001b[0m \u001b[38;5;28;01mfinally\u001b[39;00m:\n\u001b[0;32m     78\u001b[0m     torch\u001b[38;5;241m.\u001b[39m_dynamo\u001b[38;5;241m.\u001b[39mgraph_break()\n",
            "File \u001b[1;32mc:\\Users\\jiayu\\anaconda3\\envs\\Tinto-HNN\\Lib\\site-packages\\torch\\optim\\adam.py:166\u001b[0m, in \u001b[0;36mAdam.step\u001b[1;34m(self, closure)\u001b[0m\n\u001b[0;32m    155\u001b[0m     beta1, beta2 \u001b[38;5;241m=\u001b[39m group[\u001b[38;5;124m'\u001b[39m\u001b[38;5;124mbetas\u001b[39m\u001b[38;5;124m'\u001b[39m]\n\u001b[0;32m    157\u001b[0m     has_complex \u001b[38;5;241m=\u001b[39m \u001b[38;5;28mself\u001b[39m\u001b[38;5;241m.\u001b[39m_init_group(\n\u001b[0;32m    158\u001b[0m         group,\n\u001b[0;32m    159\u001b[0m         params_with_grad,\n\u001b[1;32m   (...)\u001b[0m\n\u001b[0;32m    163\u001b[0m         max_exp_avg_sqs,\n\u001b[0;32m    164\u001b[0m         state_steps)\n\u001b[1;32m--> 166\u001b[0m     \u001b[43madam\u001b[49m\u001b[43m(\u001b[49m\n\u001b[0;32m    167\u001b[0m \u001b[43m        \u001b[49m\u001b[43mparams_with_grad\u001b[49m\u001b[43m,\u001b[49m\n\u001b[0;32m    168\u001b[0m \u001b[43m        \u001b[49m\u001b[43mgrads\u001b[49m\u001b[43m,\u001b[49m\n\u001b[0;32m    169\u001b[0m \u001b[43m        \u001b[49m\u001b[43mexp_avgs\u001b[49m\u001b[43m,\u001b[49m\n\u001b[0;32m    170\u001b[0m \u001b[43m        \u001b[49m\u001b[43mexp_avg_sqs\u001b[49m\u001b[43m,\u001b[49m\n\u001b[0;32m    171\u001b[0m \u001b[43m        \u001b[49m\u001b[43mmax_exp_avg_sqs\u001b[49m\u001b[43m,\u001b[49m\n\u001b[0;32m    172\u001b[0m \u001b[43m        \u001b[49m\u001b[43mstate_steps\u001b[49m\u001b[43m,\u001b[49m\n\u001b[0;32m    173\u001b[0m \u001b[43m        \u001b[49m\u001b[43mamsgrad\u001b[49m\u001b[38;5;241;43m=\u001b[39;49m\u001b[43mgroup\u001b[49m\u001b[43m[\u001b[49m\u001b[38;5;124;43m'\u001b[39;49m\u001b[38;5;124;43mamsgrad\u001b[39;49m\u001b[38;5;124;43m'\u001b[39;49m\u001b[43m]\u001b[49m\u001b[43m,\u001b[49m\n\u001b[0;32m    174\u001b[0m \u001b[43m        \u001b[49m\u001b[43mhas_complex\u001b[49m\u001b[38;5;241;43m=\u001b[39;49m\u001b[43mhas_complex\u001b[49m\u001b[43m,\u001b[49m\n\u001b[0;32m    175\u001b[0m \u001b[43m        \u001b[49m\u001b[43mbeta1\u001b[49m\u001b[38;5;241;43m=\u001b[39;49m\u001b[43mbeta1\u001b[49m\u001b[43m,\u001b[49m\n\u001b[0;32m    176\u001b[0m \u001b[43m        \u001b[49m\u001b[43mbeta2\u001b[49m\u001b[38;5;241;43m=\u001b[39;49m\u001b[43mbeta2\u001b[49m\u001b[43m,\u001b[49m\n\u001b[0;32m    177\u001b[0m \u001b[43m        \u001b[49m\u001b[43mlr\u001b[49m\u001b[38;5;241;43m=\u001b[39;49m\u001b[43mgroup\u001b[49m\u001b[43m[\u001b[49m\u001b[38;5;124;43m'\u001b[39;49m\u001b[38;5;124;43mlr\u001b[39;49m\u001b[38;5;124;43m'\u001b[39;49m\u001b[43m]\u001b[49m\u001b[43m,\u001b[49m\n\u001b[0;32m    178\u001b[0m \u001b[43m        \u001b[49m\u001b[43mweight_decay\u001b[49m\u001b[38;5;241;43m=\u001b[39;49m\u001b[43mgroup\u001b[49m\u001b[43m[\u001b[49m\u001b[38;5;124;43m'\u001b[39;49m\u001b[38;5;124;43mweight_decay\u001b[39;49m\u001b[38;5;124;43m'\u001b[39;49m\u001b[43m]\u001b[49m\u001b[43m,\u001b[49m\n\u001b[0;32m    179\u001b[0m \u001b[43m        \u001b[49m\u001b[43meps\u001b[49m\u001b[38;5;241;43m=\u001b[39;49m\u001b[43mgroup\u001b[49m\u001b[43m[\u001b[49m\u001b[38;5;124;43m'\u001b[39;49m\u001b[38;5;124;43meps\u001b[39;49m\u001b[38;5;124;43m'\u001b[39;49m\u001b[43m]\u001b[49m\u001b[43m,\u001b[49m\n\u001b[0;32m    180\u001b[0m \u001b[43m        \u001b[49m\u001b[43mmaximize\u001b[49m\u001b[38;5;241;43m=\u001b[39;49m\u001b[43mgroup\u001b[49m\u001b[43m[\u001b[49m\u001b[38;5;124;43m'\u001b[39;49m\u001b[38;5;124;43mmaximize\u001b[39;49m\u001b[38;5;124;43m'\u001b[39;49m\u001b[43m]\u001b[49m\u001b[43m,\u001b[49m\n\u001b[0;32m    181\u001b[0m \u001b[43m        \u001b[49m\u001b[43mforeach\u001b[49m\u001b[38;5;241;43m=\u001b[39;49m\u001b[43mgroup\u001b[49m\u001b[43m[\u001b[49m\u001b[38;5;124;43m'\u001b[39;49m\u001b[38;5;124;43mforeach\u001b[39;49m\u001b[38;5;124;43m'\u001b[39;49m\u001b[43m]\u001b[49m\u001b[43m,\u001b[49m\n\u001b[0;32m    182\u001b[0m \u001b[43m        \u001b[49m\u001b[43mcapturable\u001b[49m\u001b[38;5;241;43m=\u001b[39;49m\u001b[43mgroup\u001b[49m\u001b[43m[\u001b[49m\u001b[38;5;124;43m'\u001b[39;49m\u001b[38;5;124;43mcapturable\u001b[39;49m\u001b[38;5;124;43m'\u001b[39;49m\u001b[43m]\u001b[49m\u001b[43m,\u001b[49m\n\u001b[0;32m    183\u001b[0m \u001b[43m        \u001b[49m\u001b[43mdifferentiable\u001b[49m\u001b[38;5;241;43m=\u001b[39;49m\u001b[43mgroup\u001b[49m\u001b[43m[\u001b[49m\u001b[38;5;124;43m'\u001b[39;49m\u001b[38;5;124;43mdifferentiable\u001b[39;49m\u001b[38;5;124;43m'\u001b[39;49m\u001b[43m]\u001b[49m\u001b[43m,\u001b[49m\n\u001b[0;32m    184\u001b[0m \u001b[43m        \u001b[49m\u001b[43mfused\u001b[49m\u001b[38;5;241;43m=\u001b[39;49m\u001b[43mgroup\u001b[49m\u001b[43m[\u001b[49m\u001b[38;5;124;43m'\u001b[39;49m\u001b[38;5;124;43mfused\u001b[39;49m\u001b[38;5;124;43m'\u001b[39;49m\u001b[43m]\u001b[49m\u001b[43m,\u001b[49m\n\u001b[0;32m    185\u001b[0m \u001b[43m        \u001b[49m\u001b[43mgrad_scale\u001b[49m\u001b[38;5;241;43m=\u001b[39;49m\u001b[38;5;28;43mgetattr\u001b[39;49m\u001b[43m(\u001b[49m\u001b[38;5;28;43mself\u001b[39;49m\u001b[43m,\u001b[49m\u001b[43m \u001b[49m\u001b[38;5;124;43m\"\u001b[39;49m\u001b[38;5;124;43mgrad_scale\u001b[39;49m\u001b[38;5;124;43m\"\u001b[39;49m\u001b[43m,\u001b[49m\u001b[43m \u001b[49m\u001b[38;5;28;43;01mNone\u001b[39;49;00m\u001b[43m)\u001b[49m\u001b[43m,\u001b[49m\n\u001b[0;32m    186\u001b[0m \u001b[43m        \u001b[49m\u001b[43mfound_inf\u001b[49m\u001b[38;5;241;43m=\u001b[39;49m\u001b[38;5;28;43mgetattr\u001b[39;49m\u001b[43m(\u001b[49m\u001b[38;5;28;43mself\u001b[39;49m\u001b[43m,\u001b[49m\u001b[43m \u001b[49m\u001b[38;5;124;43m\"\u001b[39;49m\u001b[38;5;124;43mfound_inf\u001b[39;49m\u001b[38;5;124;43m\"\u001b[39;49m\u001b[43m,\u001b[49m\u001b[43m \u001b[49m\u001b[38;5;28;43;01mNone\u001b[39;49;00m\u001b[43m)\u001b[49m\u001b[43m,\u001b[49m\n\u001b[0;32m    187\u001b[0m \u001b[43m    \u001b[49m\u001b[43m)\u001b[49m\n\u001b[0;32m    189\u001b[0m \u001b[38;5;28;01mreturn\u001b[39;00m loss\n",
            "File \u001b[1;32mc:\\Users\\jiayu\\anaconda3\\envs\\Tinto-HNN\\Lib\\site-packages\\torch\\optim\\adam.py:316\u001b[0m, in \u001b[0;36madam\u001b[1;34m(params, grads, exp_avgs, exp_avg_sqs, max_exp_avg_sqs, state_steps, foreach, capturable, differentiable, fused, grad_scale, found_inf, has_complex, amsgrad, beta1, beta2, lr, weight_decay, eps, maximize)\u001b[0m\n\u001b[0;32m    313\u001b[0m \u001b[38;5;28;01melse\u001b[39;00m:\n\u001b[0;32m    314\u001b[0m     func \u001b[38;5;241m=\u001b[39m _single_tensor_adam\n\u001b[1;32m--> 316\u001b[0m \u001b[43mfunc\u001b[49m\u001b[43m(\u001b[49m\u001b[43mparams\u001b[49m\u001b[43m,\u001b[49m\n\u001b[0;32m    317\u001b[0m \u001b[43m     \u001b[49m\u001b[43mgrads\u001b[49m\u001b[43m,\u001b[49m\n\u001b[0;32m    318\u001b[0m \u001b[43m     \u001b[49m\u001b[43mexp_avgs\u001b[49m\u001b[43m,\u001b[49m\n\u001b[0;32m    319\u001b[0m \u001b[43m     \u001b[49m\u001b[43mexp_avg_sqs\u001b[49m\u001b[43m,\u001b[49m\n\u001b[0;32m    320\u001b[0m \u001b[43m     \u001b[49m\u001b[43mmax_exp_avg_sqs\u001b[49m\u001b[43m,\u001b[49m\n\u001b[0;32m    321\u001b[0m \u001b[43m     \u001b[49m\u001b[43mstate_steps\u001b[49m\u001b[43m,\u001b[49m\n\u001b[0;32m    322\u001b[0m \u001b[43m     \u001b[49m\u001b[43mamsgrad\u001b[49m\u001b[38;5;241;43m=\u001b[39;49m\u001b[43mamsgrad\u001b[49m\u001b[43m,\u001b[49m\n\u001b[0;32m    323\u001b[0m \u001b[43m     \u001b[49m\u001b[43mhas_complex\u001b[49m\u001b[38;5;241;43m=\u001b[39;49m\u001b[43mhas_complex\u001b[49m\u001b[43m,\u001b[49m\n\u001b[0;32m    324\u001b[0m \u001b[43m     \u001b[49m\u001b[43mbeta1\u001b[49m\u001b[38;5;241;43m=\u001b[39;49m\u001b[43mbeta1\u001b[49m\u001b[43m,\u001b[49m\n\u001b[0;32m    325\u001b[0m \u001b[43m     \u001b[49m\u001b[43mbeta2\u001b[49m\u001b[38;5;241;43m=\u001b[39;49m\u001b[43mbeta2\u001b[49m\u001b[43m,\u001b[49m\n\u001b[0;32m    326\u001b[0m \u001b[43m     \u001b[49m\u001b[43mlr\u001b[49m\u001b[38;5;241;43m=\u001b[39;49m\u001b[43mlr\u001b[49m\u001b[43m,\u001b[49m\n\u001b[0;32m    327\u001b[0m \u001b[43m     \u001b[49m\u001b[43mweight_decay\u001b[49m\u001b[38;5;241;43m=\u001b[39;49m\u001b[43mweight_decay\u001b[49m\u001b[43m,\u001b[49m\n\u001b[0;32m    328\u001b[0m \u001b[43m     \u001b[49m\u001b[43meps\u001b[49m\u001b[38;5;241;43m=\u001b[39;49m\u001b[43meps\u001b[49m\u001b[43m,\u001b[49m\n\u001b[0;32m    329\u001b[0m \u001b[43m     \u001b[49m\u001b[43mmaximize\u001b[49m\u001b[38;5;241;43m=\u001b[39;49m\u001b[43mmaximize\u001b[49m\u001b[43m,\u001b[49m\n\u001b[0;32m    330\u001b[0m \u001b[43m     \u001b[49m\u001b[43mcapturable\u001b[49m\u001b[38;5;241;43m=\u001b[39;49m\u001b[43mcapturable\u001b[49m\u001b[43m,\u001b[49m\n\u001b[0;32m    331\u001b[0m \u001b[43m     \u001b[49m\u001b[43mdifferentiable\u001b[49m\u001b[38;5;241;43m=\u001b[39;49m\u001b[43mdifferentiable\u001b[49m\u001b[43m,\u001b[49m\n\u001b[0;32m    332\u001b[0m \u001b[43m     \u001b[49m\u001b[43mgrad_scale\u001b[49m\u001b[38;5;241;43m=\u001b[39;49m\u001b[43mgrad_scale\u001b[49m\u001b[43m,\u001b[49m\n\u001b[0;32m    333\u001b[0m \u001b[43m     \u001b[49m\u001b[43mfound_inf\u001b[49m\u001b[38;5;241;43m=\u001b[39;49m\u001b[43mfound_inf\u001b[49m\u001b[43m)\u001b[49m\n",
            "File \u001b[1;32mc:\\Users\\jiayu\\anaconda3\\envs\\Tinto-HNN\\Lib\\site-packages\\torch\\optim\\adam.py:391\u001b[0m, in \u001b[0;36m_single_tensor_adam\u001b[1;34m(params, grads, exp_avgs, exp_avg_sqs, max_exp_avg_sqs, state_steps, grad_scale, found_inf, amsgrad, has_complex, beta1, beta2, lr, weight_decay, eps, maximize, capturable, differentiable)\u001b[0m\n\u001b[0;32m    388\u001b[0m     param \u001b[38;5;241m=\u001b[39m torch\u001b[38;5;241m.\u001b[39mview_as_real(param)\n\u001b[0;32m    390\u001b[0m \u001b[38;5;66;03m# Decay the first and second moment running average coefficient\u001b[39;00m\n\u001b[1;32m--> 391\u001b[0m \u001b[43mexp_avg\u001b[49m\u001b[38;5;241;43m.\u001b[39;49m\u001b[43mlerp_\u001b[49m\u001b[43m(\u001b[49m\u001b[43mgrad\u001b[49m\u001b[43m,\u001b[49m\u001b[43m \u001b[49m\u001b[38;5;241;43m1\u001b[39;49m\u001b[43m \u001b[49m\u001b[38;5;241;43m-\u001b[39;49m\u001b[43m \u001b[49m\u001b[43mbeta1\u001b[49m\u001b[43m)\u001b[49m\n\u001b[0;32m    392\u001b[0m exp_avg_sq\u001b[38;5;241m.\u001b[39mmul_(beta2)\u001b[38;5;241m.\u001b[39maddcmul_(grad, grad\u001b[38;5;241m.\u001b[39mconj(), value\u001b[38;5;241m=\u001b[39m\u001b[38;5;241m1\u001b[39m \u001b[38;5;241m-\u001b[39m beta2)\n\u001b[0;32m    394\u001b[0m \u001b[38;5;28;01mif\u001b[39;00m capturable \u001b[38;5;129;01mor\u001b[39;00m differentiable:\n",
            "\u001b[1;31mKeyboardInterrupt\u001b[0m: "
          ]
        }
      ],
      "source": [
        "vit = ViT()\n",
        "model_MLP = ModeloMLP()\n",
        "model_vit_hybrid = Combined_model_final(vit, model_MLP)\n",
        "\n",
        "loss_fn = nn.BCEWithLogitsLoss()\n",
        "params = list(model_vit_hybrid.parameters())\n",
        "optimizer = optim.Adam(params, lr=learning_rate)\n",
        "\n",
        "# initialize a dictionary to store training history\n",
        "H = {\n",
        "    \"train_loss\": [],\n",
        "    \"train_acc\": [],\n",
        "    \"val_loss\": [],\n",
        "    \"val_acc\": [],\n",
        "}\n",
        "\n",
        "best_val_loss = float('inf')\n",
        "patience = 5  # Number of epochs to wait for improvement\n",
        "counter = 0  # Counter for tracking the number of epochs without improvement\n",
        "\n",
        "for epoch in range(epochs):\n",
        "    gc.collect()\n",
        "    total_loss_train = 0\n",
        "    total_correct_train = 0\n",
        "    total_samples_train = 0\n",
        "    \n",
        "    model_vit_hybrid.train()\n",
        "    \n",
        "    index_batch = 0\n",
        "    while index_batch < len(trainloader_X_Num_tensors):\n",
        "        input_X_Num_train = trainloader_X_Num_tensors[index_batch]\n",
        "        input_X_img_train = trainloader_X_img_tensors[index_batch]\n",
        "        input_X_img_train = input_X_img_train.reshape([input_X_img_train.shape[0], num_channels_vit, pixels, pixels])\n",
        "        label_train_tensor = trainloader_y_tensors[index_batch]\n",
        "        label_train_tensor = label_train_tensor.unsqueeze(1).float()\n",
        "        \n",
        "        y_pred = model_vit_hybrid(input_X_img_train, input_X_Num_train)\n",
        "        \n",
        "        optimizer.zero_grad()\n",
        "        loss = loss_fn(y_pred, label_train_tensor)\n",
        "        loss.backward()\n",
        "        optimizer.step()\n",
        "        \n",
        "        total_loss_train += loss.item() * input_X_img_train.size(0)\n",
        "        predicted_labels = (torch.sigmoid(y_pred) > 0.5).float()\n",
        "        total_correct_train += (predicted_labels == label_train_tensor).sum().item()\n",
        "        total_samples_train += input_X_img_train.size(0)\n",
        "        \n",
        "        index_batch += 1\n",
        "    \n",
        "    avg_loss_train = total_loss_train / total_samples_train\n",
        "    acc_train = total_correct_train / total_samples_train\n",
        "    \n",
        "    H[\"train_loss\"].append(avg_loss_train)\n",
        "    H[\"train_acc\"].append(acc_train)\n",
        "    \n",
        "    total_loss_val = 0\n",
        "    total_correct_val = 0\n",
        "    total_samples_val = 0\n",
        "    \n",
        "    model_vit_hybrid.eval()\n",
        "    \n",
        "    with torch.no_grad():\n",
        "        index_batch = 0\n",
        "        while index_batch < len(testloader_X_Num_tensors):\n",
        "            input_X_Num_test = testloader_X_Num_tensors[index_batch]\n",
        "            input_X_img_test = testloader_X_img_tensors[index_batch]\n",
        "            input_X_img_test = input_X_img_test.reshape([input_X_img_test.shape[0], num_channels_vit, pixels, pixels])\n",
        "            label_test_tensor = testloader_y_tensors[index_batch]\n",
        "            label_test_tensor = label_test_tensor.unsqueeze(1).float()\n",
        "            \n",
        "            y_pred = model_vit_hybrid(input_X_img_test, input_X_Num_test)\n",
        "            \n",
        "            loss = loss_fn(y_pred, label_test_tensor)\n",
        "            total_loss_val += loss.item() * input_X_img_test.size(0)\n",
        "            \n",
        "            predicted_labels = (torch.sigmoid(y_pred) > 0.5).float()\n",
        "            total_correct_val += (predicted_labels == label_test_tensor).sum().item()\n",
        "            total_samples_val += input_X_img_test.size(0)\n",
        "            \n",
        "            index_batch += 1\n",
        "    \n",
        "    avg_loss_val = total_loss_val / total_samples_val\n",
        "    acc_val = total_correct_val / total_samples_val\n",
        "    \n",
        "    H[\"val_loss\"].append(avg_loss_val)\n",
        "    H[\"val_acc\"].append(acc_val)\n",
        "\n",
        "    # Early stopping condition\n",
        "    if avg_loss_val < best_val_loss:\n",
        "        best_val_loss = avg_loss_val\n",
        "        counter = 0\n",
        "        torch.save(model_vit_hybrid.state_dict(), \"modelo_.pth\")\n",
        "    else:\n",
        "        counter += 1\n",
        "        if counter >= patience:\n",
        "            print(f\"Early stopping at epoch {epoch+1}\")\n",
        "            break\n",
        "    \n",
        "    if epoch % 2 == 0:\n",
        "        print(f\"Epoch [{epoch+1}/{epochs}]\")\n",
        "        print(f\"Train Loss: {avg_loss_train:.4f}, Train Acc: {acc_train:.4f}\")\n",
        "        print(f\"Val Loss: {avg_loss_val:.4f}, Val Acc: {acc_val:.4f}\\n\")\n",
        "\n",
        "torch.save(model_vit_hybrid.state_dict(), \"modelo_.pth\")"
      ]
    },
    {
      "cell_type": "markdown",
      "metadata": {
        "id": "N69co1TAG9Iu"
      },
      "source": [
        "---\n",
        "<a id=\"section6\"></a>\n",
        "# <font color=\"#004D7F\" size=6> 6. Results and Validation</font>"
      ]
    },
    {
      "cell_type": "markdown",
      "metadata": {
        "id": "qVZdV2diHqUj"
      },
      "source": [
        "---\n",
        "<a id=\"section61\"></a>\n",
        "# <font color=\"#004D7F\" size=5> 6.1. Train/Validation representation</font>"
      ]
    },
    {
      "cell_type": "code",
      "execution_count": null,
      "metadata": {
        "colab": {
          "base_uri": "https://localhost:8080/",
          "height": 430
        },
        "id": "FU0Vc4GvjQo0",
        "outputId": "12710e77-945b-449f-88c5-388f691e982d"
      },
      "outputs": [
        {
          "data": {
            "image/png": "[encoded data removed]",
            "text/plain": [
              "<Figure size 640x480 with 1 Axes>"
            ]
          },
          "metadata": {},
          "output_type": "display_data"
        }
      ],
      "source": [
        "plt.plot(H[\"train_MSE\"], color = 'red', label = 'MSE')\n",
        "plt.plot(H[\"val_MSE\"], color = 'green', label = 'val MSE')\n",
        "plt.legend(loc = 'upper right')\n",
        "plt.show()"
      ]
    },
    {
      "cell_type": "code",
      "execution_count": null,
      "metadata": {
        "colab": {
          "base_uri": "https://localhost:8080/",
          "height": 430
        },
        "id": "_373Eupcjix2",
        "outputId": "46caf2ad-42fb-4ef7-dbf9-ab16169303e8"
      },
      "outputs": [
        {
          "data": {
            "image/png": "[encoded data removed]",
            "text/plain": [
              "<Figure size 640x480 with 1 Axes>"
            ]
          },
          "metadata": {},
          "output_type": "display_data"
        }
      ],
      "source": [
        "plt.plot(H[\"train_MAE\"], color = 'red', label = 'MAE')\n",
        "plt.plot(H[\"val_MAE\"], color = 'green', label = 'val MAE')\n",
        "plt.legend(loc = 'upper right')\n",
        "plt.show()"
      ]
    },
    {
      "cell_type": "code",
      "execution_count": null,
      "metadata": {
        "colab": {
          "base_uri": "https://localhost:8080/",
          "height": 430
        },
        "id": "S7YvN--3kMoQ",
        "outputId": "9fdec148-d7c2-4bf1-9e77-f463b2d7da77"
      },
      "outputs": [
        {
          "data": {
            "image/png": "[encoded data removed]",
            "text/plain": [
              "<Figure size 640x480 with 1 Axes>"
            ]
          },
          "metadata": {},
          "output_type": "display_data"
        }
      ],
      "source": [
        "plt.plot(H[\"train_R2\"], color = 'red', label = 'R2')\n",
        "plt.plot(H[\"val_R2\"], color = 'green', label = 'val R2')\n",
        "plt.legend(loc = 'upper right')\n",
        "plt.show()"
      ]
    },
    {
      "cell_type": "markdown",
      "metadata": {
        "id": "4-ZpUFzxH5Th"
      },
      "source": [
        "---\n",
        "<a id=\"section62\"></a>\n",
        "# <font color=\"#004D7F\" size=5> 6.2. Validation/Test evaluation</font>"
      ]
    },
    {
      "cell_type": "code",
      "execution_count": null,
      "metadata": {
        "id": "VM48Tie55g2E"
      },
      "outputs": [],
      "source": [
        "def Calulate_Metricas_Validacion(modelo, tensores_img, tensores_num, tensores_y_real):\n",
        "  valores_predichos = []\n",
        "  valores_reales = []\n",
        "  ContadorLoss = 0\n",
        "  while(ContadorLoss < len(tensores_img)):\n",
        "    input_img = tensores_img[ContadorLoss]\n",
        "    input_img = input_img.reshape([input_img.shape[0],num_channels_vit, pixels, pixels])\n",
        "    input_num = tensores_num[ContadorLoss]\n",
        "    label_real = tensores_y_real[ContadorLoss]\n",
        "    label_real = label_real.unsqueeze(1)\n",
        "    y_pred = modelo(input_img, input_num)\n",
        "    i = 0\n",
        "    while(i < len(y_pred)):\n",
        "      valor_real = float(label_real[i].cpu().detach().numpy())\n",
        "      valor_pred = float(y_pred[i].cpu().detach().numpy())\n",
        "      valores_reales.append(valor_real)\n",
        "      valores_predichos.append(valor_pred)\n",
        "      i +=1\n",
        "    ContadorLoss +=1\n",
        "\n",
        "  MAE_val = mean_absolute_error(valores_reales,valores_predichos).round(3)\n",
        "  MSE_val = mean_squared_error(valores_reales,valores_predichos).round(3)\n",
        "  R2_val = r2_score(valores_reales,valores_predichos).round(3)\n",
        "\n",
        "  return valores_predichos, MAE_val, MSE_val,  R2_val"
      ]
    },
    {
      "cell_type": "code",
      "execution_count": null,
      "metadata": {
        "id": "Kcp-L1VM6gmo"
      },
      "outputs": [],
      "source": [
        "# Validation model\n",
        "vit = ViT()\n",
        "model_MLP = ModeloMLP()\n",
        "model_vit_hybrid = Combined_model_final(vit, model_MLP)\n",
        "model_vit_hybrid.load_state_dict(torch.load(\"modelo_.pth\"))\n",
        "model_vit_hybrid.eval()\n",
        "valores_predichos_train, MAE_train, MSE_train,  R2_train = Calulate_Metricas_Validacion(model_vit_hybrid, trainloader_X_img_tensors,trainloader_X_Num_tensors, trainloader_y_tensors)\n",
        "valores_predichos_test, MAE_test, MSE_test,  R2_test = Calulate_Metricas_Validacion(model_vit_hybrid, testloader_X_img_tensors,testloader_X_Num_tensors, testloader_y_tensors)\n",
        "valores_predichos_valid, MAE_valid, MSE_valid,  R2_valid = Calulate_Metricas_Validacion(model_vit_hybrid, validloader_X_img_tensors,validloader_X_Num_tensors, validloader_y_tensors)"
      ]
    },
    {
      "cell_type": "code",
      "execution_count": null,
      "metadata": {
        "colab": {
          "base_uri": "https://localhost:8080/"
        },
        "id": "opL1B4aa75jU",
        "outputId": "345302b4-1f6e-4091-dc85-7c6905a9bff5"
      },
      "outputs": [
        {
          "name": "stdout",
          "output_type": "stream",
          "text": [
            "Train MAE: 3.545\n",
            "Train MSE: 23.557\n",
            "Train R2: 0.719\n",
            "===================================\n",
            "Test MAE: 3.717\n",
            "Test MSE: 26.078\n",
            "Test R2: 0.667\n",
            "===================================\n",
            "Valid MAE: 3.947\n",
            "Valid MSE: 30.949\n",
            "Valid R2: 0.663\n"
          ]
        }
      ],
      "source": [
        "print(\"Train MAE:\",MAE_train)\n",
        "print(\"Train MSE:\",MSE_train)\n",
        "print(\"Train R2:\",R2_train)\n",
        "print(\"===================================\")\n",
        "print(\"Test MAE:\",MAE_test)\n",
        "print(\"Test MSE:\",MSE_test)\n",
        "print(\"Test R2:\",R2_test)\n",
        "print(\"===================================\")\n",
        "print(\"Valid MAE:\",MAE_valid)\n",
        "print(\"Valid MSE:\",MSE_valid)\n",
        "print(\"Valid R2:\",R2_valid)"
      ]
    },
    {
      "cell_type": "markdown",
      "metadata": {
        "id": "0ciBS76mpjGU"
      },
      "source": [
        "<div style=\"text-align: right\"> <font size=5> <a href=\"#indice\"><i class=\"fa fa-arrow-circle-up\" aria-hidden=\"true\" style=\"color:#004D7F\"></i></a></font></div>\n",
        "\n",
        "---\n",
        "\n",
        "<div style=\"text-align: right\"> <font size=6><i class=\"fa fa-coffee\" aria-hidden=\"true\" style=\"color:#004D7F\"></i> </font></div>"
      ]
    }
  ],
  "metadata": {
    "colab": {
      "provenance": []
    },
    "kernelspec": {
      "display_name": "Python 3",
      "name": "python3"
    },
    "language_info": {
      "codemirror_mode": {
        "name": "ipython",
        "version": 3
      },
      "file_extension": ".py",
      "mimetype": "text/x-python",
      "name": "python",
      "nbconvert_exporter": "python",
      "pygments_lexer": "ipython3",
      "version": "3.11.7"
    }
  },
  "nbformat": 4,
  "nbformat_minor": 0
}
