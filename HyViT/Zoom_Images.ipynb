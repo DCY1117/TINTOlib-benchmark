{
 "cells": [
  {
   "cell_type": "markdown",
   "metadata": {},
   "source": [
    "Instead of regenerating the images using the Zoom function, we can directly apply zooming to the already generated images using Image.NEAREST (nearest neighbor interpolation), which is the method used during transformation for zooming."
   ]
  },
  {
   "cell_type": "code",
   "execution_count": null,
   "metadata": {},
   "outputs": [],
   "source": [
    "import os\n",
    "from PIL import Image\n",
    "def zoom_image_nearest_neighbor(input_path, output_path, zoom_factor):\n",
    "    # Open the image\n",
    "    with Image.open(input_path) as img:\n",
    "        # Get the original size\n",
    "        width, height = img.size\n",
    "        \n",
    "        # Calculate the new size\n",
    "        new_width = int(width * zoom_factor)\n",
    "        new_height = int(height * zoom_factor)\n",
    "        \n",
    "        # Resize the image using nearest neighbor interpolation\n",
    "        resized_img = img.resize((new_width, new_height), Image.NEAREST)\n",
    "        \n",
    "        # Save the resized image\n",
    "        resized_img.save(output_path)\n",
    "\n",
    "def process_directory(input_dir, output_dir, zoom_factor):\n",
    "    # Create the output directory if it doesn't exist\n",
    "    os.makedirs(output_dir, exist_ok=True)\n",
    "    \n",
    "    # Iterate through all files in the input directory\n",
    "    for filename in os.listdir(input_dir):\n",
    "        if filename.lower().endswith(('.png', '.jpg', '.jpeg', '.gif', '.bmp')):\n",
    "            input_path = os.path.join(input_dir, filename)\n",
    "            output_path = os.path.join(output_dir, f\"{filename}\")\n",
    "            \n",
    "            zoom_image_nearest_neighbor(input_path, output_path, zoom_factor)\n",
    "            print(f\"Processed: {filename}\")"
   ]
  },
  {
   "cell_type": "markdown",
   "metadata": {},
   "source": [
    "# Example"
   ]
  },
  {
   "cell_type": "code",
   "execution_count": null,
   "metadata": {},
   "outputs": [],
   "source": [
    "input_directory = \"../HyNNImages/Multiclass/gas/images_gas_REFINED_norm/01\"\n",
    "output_directory = \"../HyNNImages/Multiclass/gas/images_gas_REFINED_norm_zoom4/01\"\n",
    "zoom_factor = 4  # Increase this value to zoom in more\n",
    "\n",
    "process_directory(input_directory, output_directory, zoom_factor)"
   ]
  }
 ],
 "metadata": {
  "kernelspec": {
   "display_name": "HNNTinto",
   "language": "python",
   "name": "python3"
  },
  "language_info": {
   "name": "python",
   "version": "3.11.7"
  }
 },
 "nbformat": 4,
 "nbformat_minor": 2
}
